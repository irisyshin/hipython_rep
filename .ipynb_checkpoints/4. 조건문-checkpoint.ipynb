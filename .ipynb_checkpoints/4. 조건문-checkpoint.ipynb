{
 "cells": [
  {
   "cell_type": "code",
   "execution_count": 1,
   "id": "a59eb770-ac5b-4bf9-91f0-8f1aba5f317d",
   "metadata": {},
   "outputs": [
    {
     "data": {
      "text/plain": [
       "False"
      ]
     },
     "execution_count": 1,
     "metadata": {},
     "output_type": "execute_result"
    }
   ],
   "source": [
    "# 연산자\n",
    "2+3 #산술연산자\n",
    "a=2 #대입연산자\n",
    "a>2 #비교연산자"
   ]
  },
  {
   "cell_type": "code",
   "execution_count": 2,
   "id": "830c3083-b291-4326-9432-013117770d6c",
   "metadata": {},
   "outputs": [
    {
     "data": {
      "text/plain": [
       "(2, 2, 2, 2)"
      ]
     },
     "execution_count": 2,
     "metadata": {},
     "output_type": "execute_result"
    }
   ],
   "source": [
    "b=c=d=a\n",
    "\n",
    "b,c,d,a"
   ]
  },
  {
   "cell_type": "code",
   "execution_count": 4,
   "id": "6f85b155-6bbb-492c-a961-365033990b2d",
   "metadata": {},
   "outputs": [
    {
     "data": {
      "text/plain": [
       "True"
      ]
     },
     "execution_count": 4,
     "metadata": {},
     "output_type": "execute_result"
    }
   ],
   "source": [
    "id(b) == id(c) #비교연산자"
   ]
  },
  {
   "cell_type": "markdown",
   "id": "eba9f55e-c085-43b5-abd2-3a2e9c6c6033",
   "metadata": {},
   "source": [
    "# 조건문 :  \n",
    "\n",
    "- 비교연산자를 이용한 부울값이 출력되어야 한다.\n",
    "- 이후 영역 표시는 들여쓰기로 맞추어야 한다"
   ]
  },
  {
   "cell_type": "code",
   "execution_count": 7,
   "id": "184686fd-c3c3-45ff-bc79-698a6aaffa46",
   "metadata": {},
   "outputs": [
    {
     "name": "stdout",
     "output_type": "stream",
     "text": [
      "fail\n"
     ]
    }
   ],
   "source": [
    "kor_score = 80\n",
    "\n",
    "if kor_score>90:     #if kor_score>90: print(\"pass\")\n",
    "    print('pass')\n",
    "else:\n",
    "    print('fail')"
   ]
  },
  {
   "cell_type": "code",
   "execution_count": 8,
   "id": "41e9e0f8-0cfd-4b57-bee5-b9d4a1a04d19",
   "metadata": {},
   "outputs": [
    {
     "name": "stdout",
     "output_type": "stream",
     "text": [
      "fail\n"
     ]
    }
   ],
   "source": [
    "# 힌줄로 작성 \n",
    "# 'True일때 실행문' if 조건식 else 'False일때 실행문'\n",
    "print('pass') if kor_score>90 else print('fail')"
   ]
  },
  {
   "cell_type": "code",
   "execution_count": 9,
   "id": "1b6e18ae-7806-4575-a1e5-c0e505f7a925",
   "metadata": {},
   "outputs": [
    {
     "ename": "SyntaxError",
     "evalue": "invalid syntax (1525010446.py, line 2)",
     "output_type": "error",
     "traceback": [
      "  \u001b[36mCell\u001b[39m\u001b[36m \u001b[39m\u001b[32mIn[9]\u001b[39m\u001b[32m, line 2\u001b[39m\n\u001b[31m    \u001b[39m\u001b[31m>= 90\u001b[39m\n    ^\n\u001b[31mSyntaxError\u001b[39m\u001b[31m:\u001b[39m invalid syntax\n"
     ]
    }
   ],
   "source": [
    "#수우미양가\n",
    ">= 90\n"
   ]
  },
  {
   "cell_type": "code",
   "execution_count": 11,
   "id": "579eb11d-a6ab-4330-8a8c-16cb0f4e1964",
   "metadata": {},
   "outputs": [
    {
     "name": "stdin",
     "output_type": "stream",
     "text": [
      "점수를 입력하세요. 숫자로요..  50\n"
     ]
    },
    {
     "name": "stdout",
     "output_type": "stream",
     "text": [
      "가\n"
     ]
    }
   ],
   "source": [
    "score = int(input(\"점수를 입력하세요. 숫자로요.. \"))\n",
    "\n",
    "#중첩 if문 or nested if\n",
    "if score>= 90:\n",
    "    print('수')\n",
    "else: #89~\n",
    "    if score >= 80:\n",
    "        print(\"우\")\n",
    "    else:\n",
    "        if score >= 70:\n",
    "            print(\"미\")\n",
    "        else: \n",
    "            if score >= 80:\n",
    "                print(\"양\")\n",
    "            else:\n",
    "                print(\"가\")\n",
    "        \n",
    "        "
   ]
  },
  {
   "cell_type": "code",
   "execution_count": 13,
   "id": "04a2beb9-9b2a-40d7-816d-5bb9714864d6",
   "metadata": {},
   "outputs": [
    {
     "name": "stdin",
     "output_type": "stream",
     "text": [
      "점수를 입력하세요:  50\n"
     ]
    },
    {
     "name": "stdout",
     "output_type": "stream",
     "text": [
      "가\n"
     ]
    }
   ],
   "source": [
    "score = int(input(\"점수를 입력하세요: \"))\n",
    "\n",
    "if score >=90:\n",
    "    print(\"수\")\n",
    "elif score >= 80:\n",
    "    print(\"우\")\n",
    "elif score >= 70:\n",
    "    print(\"미\")\n",
    "else:\n",
    "    print(\"가\")"
   ]
  },
  {
   "cell_type": "code",
   "execution_count": 16,
   "id": "b5fc1af1-fa8f-46bd-b04a-e928ce1bdf41",
   "metadata": {},
   "outputs": [
    {
     "name": "stdin",
     "output_type": "stream",
     "text": [
      "수식을 입력하세요: e.g) 2 * 50 2+50\n"
     ]
    },
    {
     "ename": "ValueError",
     "evalue": "not enough values to unpack (expected 3, got 1)",
     "output_type": "error",
     "traceback": [
      "\u001b[31m---------------------------------------------------------------------------\u001b[39m",
      "\u001b[31mValueError\u001b[39m                                Traceback (most recent call last)",
      "\u001b[36mCell\u001b[39m\u001b[36m \u001b[39m\u001b[32mIn[16]\u001b[39m\u001b[32m, line 2\u001b[39m\n\u001b[32m      1\u001b[39m formula = \u001b[38;5;28minput\u001b[39m(\u001b[33m\"\u001b[39m\u001b[33m수식을 입력하세요: e.g) 2 * 50\u001b[39m\u001b[33m\"\u001b[39m)\n\u001b[32m----> \u001b[39m\u001b[32m2\u001b[39m num1, opr, num2 = formula.split()\n\u001b[32m      4\u001b[39m num1, opr, num\n",
      "\u001b[31mValueError\u001b[39m: not enough values to unpack (expected 3, got 1)"
     ]
    }
   ],
   "source": [
    "formula = input(\"수식을 입력하세요: e.g) 2 * 50\")\n",
    "num1, opr, num2 = formula.split()\n"
   ]
  },
  {
   "cell_type": "code",
   "execution_count": 27,
   "id": "39379fb6-812a-43d1-9dcb-cb26bc673adc",
   "metadata": {},
   "outputs": [
    {
     "name": "stdin",
     "output_type": "stream",
     "text": [
      "수식을 입력하세요: e.g) 2 * 50 5 d 5\n"
     ]
    },
    {
     "name": "stdout",
     "output_type": "stream",
     "text": [
      "지원하지 않는 연산자입니다.\n"
     ]
    }
   ],
   "source": [
    "formula = input(\"수식을 입력하세요: e.g) 2 * 50\")\n",
    "num1, opr, num2 = formula.split()\n",
    "\n",
    "num1 = float(num1)\n",
    "num2 = float(num2)\n",
    "\n",
    "opr_list = [\"+\",\"-\",\"*\", '/', '%', '**']# 연산자\n",
    "\n",
    "if opr =='+':\n",
    "    result = num1 + num2\n",
    "elif opr =='-':\n",
    "    result = num1 - num2\n",
    "elif opr =='*':\n",
    "    result = num1 * num2\n",
    "elif opr =='/':\n",
    "    result = num1 / num2\n",
    "elif opr =='%':\n",
    "    result = num1 % num2\n",
    "elif opr =='**':\n",
    "    result = num1 ** num2\n",
    "else:\n",
    "    result = None\n",
    "\n",
    "if result == None:\n",
    "    print(\"지원하지 않는 연산자입니다.\")\n",
    "else:\n",
    "    print(f\"{num1} {opr} {num2} = {result}\")"
   ]
  },
  {
   "cell_type": "code",
   "execution_count": 33,
   "id": "633bd57b-718b-4d18-a70a-638a68a0a498",
   "metadata": {},
   "outputs": [
    {
     "name": "stdin",
     "output_type": "stream",
     "text": [
      "수식을 입력하세요: e.g) 2 * 50 5 - 2\n"
     ]
    },
    {
     "name": "stdout",
     "output_type": "stream",
     "text": [
      "5.0 - 2.0 = 3.0\n"
     ]
    }
   ],
   "source": [
    "formula = input(\"수식을 입력하세요: e.g) 2 * 50\")\n",
    "num1, opr, num2 = formula.split()\n",
    "\n",
    "num1 = float(num1)\n",
    "num2 = float(num2)\n",
    "\n",
    "opr_list = [\"+\",\"-\",\"*\", '/', '%', '**']# 연산자\n",
    "\n",
    "if opr not in opr_list:\n",
    "    print(\"지원하지 않는 연산자입니다.\")\n",
    "else:\n",
    "    if opr =='+':\n",
    "        result = num1 + num2\n",
    "    elif opr =='-':\n",
    "        result = num1 - num2\n",
    "    elif opr =='*':\n",
    "        result = num1 * num2\n",
    "    elif opr =='/':\n",
    "        result = num1 / num2\n",
    "    elif opr =='%':\n",
    "        result = num1 % num2\n",
    "    elif opr =='**':\n",
    "        result = num1 ** num2\n",
    "    print(f\"{num1} {opr} {num2} = {result}\")"
   ]
  },
  {
   "cell_type": "code",
   "execution_count": 37,
   "id": "5af73bda-f40f-4563-863e-8b6728eeaeca",
   "metadata": {},
   "outputs": [
    {
     "name": "stdout",
     "output_type": "stream",
     "text": [
      "odd\n"
     ]
    }
   ],
   "source": [
    "# 1줄로 쓰기\n",
    "\n",
    "num = 7\n",
    "#if num % 2: print('even') else print(\"odd\")\n",
    "\n",
    "print('even' if num % 2 == 0 else 'odd')"
   ]
  },
  {
   "cell_type": "code",
   "execution_count": 40,
   "id": "04a8d3c5-dd2c-481a-bedd-f1daa59644ed",
   "metadata": {},
   "outputs": [
    {
     "name": "stdout",
     "output_type": "stream",
     "text": [
      "쉽시다\n"
     ]
    }
   ],
   "source": [
    "#졸려 = True - 쉽시다, 화이팅\n",
    "\n",
    "text = \"졸려\"\n",
    "print('쉽시다' if text == '졸려' else '화이팅')"
   ]
  },
  {
   "cell_type": "code",
   "execution_count": 46,
   "id": "12226988-3aed-4c53-89a4-f004502ba3be",
   "metadata": {},
   "outputs": [
    {
     "name": "stdout",
     "output_type": "stream",
     "text": [
      "화이팅\n"
     ]
    }
   ],
   "source": [
    "졸려 = False\n",
    "# action = '쉽시다' if 졸려 == True else '화이팅'\n",
    "action = '쉽시다' if 졸려 else '화이팅'\n",
    "print(action)"
   ]
  },
  {
   "cell_type": "code",
   "execution_count": 53,
   "id": "82b5ec0d-ecbd-4242-adb4-dac2d7e35e1f",
   "metadata": {},
   "outputs": [
    {
     "data": {
      "text/plain": [
       "'패'"
      ]
     },
     "execution_count": 53,
     "metadata": {},
     "output_type": "execute_result"
    }
   ],
   "source": [
    "player = '가위'\n",
    "computer = '바위'\n",
    "# result = '승' '패' '무승부'\n",
    "result = '승' if player == '가위' and computer == '보' else \\\n",
    "'무승부' if player == computer else '패'\n",
    "result"
   ]
  },
  {
   "cell_type": "code",
   "execution_count": 58,
   "id": "8b81eef6-345c-4090-a7ca-5afb6f91f6ae",
   "metadata": {},
   "outputs": [
    {
     "data": {
      "text/plain": [
       "'D'"
      ]
     },
     "execution_count": 58,
     "metadata": {},
     "output_type": "execute_result"
    }
   ],
   "source": [
    "# 학점  A,B,C,d\n",
    "score = 3\n",
    "\n",
    "result = \"A\" if score>=90 else \"B\" if score >=80 else \\\n",
    "    \"C\" if  score >= 70 else \"D\"\n",
    "\n",
    "result"
   ]
  },
  {
   "cell_type": "markdown",
   "id": "19cffdaa-c863-4a2e-b34d-4070aabd5949",
   "metadata": {},
   "source": [
    "# break, continue, pass"
   ]
  },
  {
   "cell_type": "code",
   "execution_count": 57,
   "id": "c2dd0e9f-1c0d-478a-89c2-e09cda027df3",
   "metadata": {},
   "outputs": [
    {
     "name": "stdout",
     "output_type": "stream",
     "text": [
      "현재 검사 중인 숫자: 1\n",
      "현재 검사 중인 숫자: 3\n",
      "현재 검사 중인 숫자: 5\n",
      "현재 검사 중인 숫자: 7\n",
      "9를 찾았습니다!\n"
     ]
    }
   ],
   "source": [
    "# break\n",
    "numbers = [1, 3, 5, 7, 9, 11, 13, 15]\n",
    "search_number = 9\n",
    "\n",
    "for num in numbers:\n",
    "    if num == search_number:\n",
    "        print(f\"{search_number}를 찾았습니다!\")\n",
    "        break\n",
    "    print(f\"현재 검사 중인 숫자: {num}\")\n"
   ]
  },
  {
   "cell_type": "code",
   "execution_count": 61,
   "id": "18b0ea9a-795a-49cc-881c-e8d23fce1fa6",
   "metadata": {},
   "outputs": [
    {
     "name": "stdout",
     "output_type": "stream",
     "text": [
      "2\n",
      "4\n",
      "6\n",
      "8\n",
      "10\n"
     ]
    }
   ],
   "source": [
    "# continue\n",
    "for i in range(1, 11):\n",
    "    if i % 2 != 0:  # 홀수인 경우\n",
    "        continue\n",
    "    print(i)  # 짝수만 출력"
   ]
  },
  {
   "cell_type": "code",
   "execution_count": 64,
   "id": "8ef35ba9-cbdf-4f75-9cd9-29be6c9b0bf3",
   "metadata": {},
   "outputs": [],
   "source": [
    "# pass\n",
    "condition =  True #False\n",
    "if condition:\n",
    "    pass  # 나중에 구현할 예정\n",
    "else:\n",
    "    print(\"else 구문 실행\")"
   ]
  },
  {
   "cell_type": "code",
   "execution_count": null,
   "id": "6deb1b36-ec39-48f2-a020-8f3da31b63e6",
   "metadata": {},
   "outputs": [],
   "source": []
  },
  {
   "cell_type": "code",
   "execution_count": null,
   "id": "dde4fb9e-8923-4f8c-be14-4a3c9228dcfc",
   "metadata": {},
   "outputs": [],
   "source": []
  }
 ],
 "metadata": {
  "kernelspec": {
   "display_name": "Python 3 (ipykernel)",
   "language": "python",
   "name": "python3"
  },
  "language_info": {
   "codemirror_mode": {
    "name": "ipython",
    "version": 3
   },
   "file_extension": ".py",
   "mimetype": "text/x-python",
   "name": "python",
   "nbconvert_exporter": "python",
   "pygments_lexer": "ipython3",
   "version": "3.12.1"
  }
 },
 "nbformat": 4,
 "nbformat_minor": 5
}
