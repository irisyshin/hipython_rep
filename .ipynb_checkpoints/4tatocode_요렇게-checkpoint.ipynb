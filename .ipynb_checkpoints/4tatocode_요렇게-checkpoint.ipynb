{
 "cells": [
  {
   "cell_type": "code",
   "execution_count": null,
   "id": "c16b5ee6-732d-4a3b-ab50-c9745ab64963",
   "metadata": {},
   "outputs": [
    {
     "name": "stdout",
     "output_type": "stream",
     "text": [
      "****************************************\n",
      "어서오세요, ‘요렇게’에 오신 것을 환영합니다:)\n",
      "Menu\t\t\t\tPrice\n",
      "------------------------------\n",
      "요거트 아이스크림(250g)\t3,000\n",
      "------------------------------\n",
      "\n",
      "No. Topping\t\tPrice\n",
      "------------------------------\n",
      "1     바나나       \t4,000\n",
      "2     딸기        \t5,000\n",
      "3     벌집꿀       \t7,000\n",
      "4     그레놀라      \t7,000\n",
      "5     초코쉘       \t7,000\n",
      "6     요거트 아이스크림 \t3,000\n",
      "------------------------------\n",
      "****************************************\n",
      "\n",
      "========================================\n",
      "현재 장바구니\n",
      "1. 요거트 아이스크림 x 1 = 3,000원\n",
      "----------------------------------------\n",
      "Total = 3,000원\n",
      "메뉴를 확정하려면 o\n",
      "메뉴를 삭제하려면 d\n",
      "메뉴를 추가하려면 a\n",
      "메뉴를 취소하려면 c\n"
     ]
    },
    {
     "name": "stdin",
     "output_type": "stream",
     "text": [
      "알파벳을 입력해주세요 :  a\n"
     ]
    },
    {
     "name": "stdout",
     "output_type": "stream",
     "text": [
      "\n",
      "메뉴 목록:\n",
      "1. 바나나 : 4,000원\n",
      "2. 딸기 : 5,000원\n",
      "3. 벌집꿀 : 7,000원\n",
      "4. 그레놀라 : 7,000원\n",
      "5. 초코쉘 : 7,000원\n",
      "6. 요거트 아이스크림 : 3,000원\n"
     ]
    },
    {
     "name": "stdin",
     "output_type": "stream",
     "text": [
      "추가할 토핑 번호를 골라주세요 :  5\n",
      "수량을 선택해주세요 (남은 수량: 15) :  5\n"
     ]
    },
    {
     "name": "stdout",
     "output_type": "stream",
     "text": [
      "\n",
      "========================================\n",
      "현재 장바구니\n",
      "1. 요거트 아이스크림 x 1 = 3,000원\n",
      "2. 초코쉘 x 5 = 35,000원\n",
      "----------------------------------------\n",
      "Total = 38,000원\n",
      "메뉴를 확정하려면 o\n",
      "메뉴를 삭제하려면 d\n",
      "메뉴를 추가하려면 a\n",
      "메뉴를 취소하려면 c\n"
     ]
    },
    {
     "name": "stdin",
     "output_type": "stream",
     "text": [
      "알파벳을 입력해주세요 :  1\n"
     ]
    },
    {
     "name": "stdout",
     "output_type": "stream",
     "text": [
      "입력이 올바르지 않습니다.\n",
      "\n",
      "========================================\n",
      "현재 장바구니\n",
      "1. 요거트 아이스크림 x 1 = 3,000원\n",
      "2. 초코쉘 x 5 = 35,000원\n",
      "----------------------------------------\n",
      "Total = 38,000원\n",
      "메뉴를 확정하려면 o\n",
      "메뉴를 삭제하려면 d\n",
      "메뉴를 추가하려면 a\n",
      "메뉴를 취소하려면 c\n"
     ]
    },
    {
     "name": "stdin",
     "output_type": "stream",
     "text": [
      "알파벳을 입력해주세요 :  o\n",
      "주문이 확정되었습니다. 결제를 하시겠습니까? (y/n):  y\n"
     ]
    },
    {
     "name": "stdout",
     "output_type": "stream",
     "text": [
      "38,000원 결제하겠습니다. 카드를 삽입해주세요.\n",
      "결제가 완료되었습니다.\n"
     ]
    },
    {
     "name": "stdin",
     "output_type": "stream",
     "text": [
      "적립 하시겠습니까? (y/n):  y\n",
      "전화번호를 입력해주세요 (- 없이):  01022741011\n"
     ]
    },
    {
     "name": "stdout",
     "output_type": "stream",
     "text": [
      "01022741011 번호로 3800포인트가 새로 적립되었습니다.\n",
      "주문번호는 1번 입니다.\n",
      "초기화면으로 돌아갑니다.\n",
      "****************************************\n",
      "어서오세요, ‘요렇게’에 오신 것을 환영합니다:)\n",
      "Menu\t\t\t\tPrice\n",
      "------------------------------\n",
      "요거트 아이스크림(250g)\t3,000\n",
      "------------------------------\n",
      "\n",
      "No. Topping\t\tPrice\n",
      "------------------------------\n",
      "1     바나나       \t4,000\n",
      "2     딸기        \t5,000\n",
      "3     벌집꿀       \t7,000\n",
      "4     그레놀라      \t7,000\n",
      "5     초코쉘       \t7,000\n",
      "6     요거트 아이스크림 \t3,000\n",
      "------------------------------\n",
      "****************************************\n",
      "\n",
      "========================================\n",
      "현재 장바구니\n",
      "1. 요거트 아이스크림 x 1 = 3,000원\n",
      "----------------------------------------\n",
      "Total = 3,000원\n",
      "메뉴를 확정하려면 o\n",
      "메뉴를 삭제하려면 d\n",
      "메뉴를 추가하려면 a\n",
      "메뉴를 취소하려면 c\n"
     ]
    },
    {
     "name": "stdin",
     "output_type": "stream",
     "text": [
      "알파벳을 입력해주세요 :  a\n"
     ]
    },
    {
     "name": "stdout",
     "output_type": "stream",
     "text": [
      "\n",
      "메뉴 목록:\n",
      "1. 바나나 : 4,000원\n",
      "2. 딸기 : 5,000원\n",
      "3. 벌집꿀 : 7,000원\n",
      "4. 그레놀라 : 7,000원\n",
      "5. 초코쉘 : 7,000원\n",
      "6. 요거트 아이스크림 : 3,000원\n"
     ]
    },
    {
     "name": "stdin",
     "output_type": "stream",
     "text": [
      "추가할 토핑 번호를 골라주세요 :  5\n",
      "수량을 선택해주세요 (남은 수량: 15) :  2\n"
     ]
    },
    {
     "name": "stdout",
     "output_type": "stream",
     "text": [
      "\n",
      "========================================\n",
      "현재 장바구니\n",
      "1. 요거트 아이스크림 x 1 = 3,000원\n",
      "2. 초코쉘 x 2 = 14,000원\n",
      "----------------------------------------\n",
      "Total = 17,000원\n",
      "메뉴를 확정하려면 o\n",
      "메뉴를 삭제하려면 d\n",
      "메뉴를 추가하려면 a\n",
      "메뉴를 취소하려면 c\n"
     ]
    },
    {
     "name": "stdin",
     "output_type": "stream",
     "text": [
      "알파벳을 입력해주세요 :  o\n",
      "주문이 확정되었습니다. 결제를 하시겠습니까? (y/n):  y\n"
     ]
    },
    {
     "name": "stdout",
     "output_type": "stream",
     "text": [
      "17,000원 결제하겠습니다. 카드를 삽입해주세요.\n",
      "결제가 완료되었습니다.\n"
     ]
    },
    {
     "name": "stdin",
     "output_type": "stream",
     "text": [
      "적립 하시겠습니까? (y/n):  y\n",
      "전화번호를 입력해주세요 (- 없이):  01022741011\n"
     ]
    },
    {
     "name": "stdout",
     "output_type": "stream",
     "text": [
      "01022741011 번호에 1700포인트가 추가되어, 총 5500포인트가 있습니다.\n",
      "주문번호는 2번 입니다.\n",
      "초기화면으로 돌아갑니다.\n",
      "****************************************\n",
      "어서오세요, ‘요렇게’에 오신 것을 환영합니다:)\n",
      "Menu\t\t\t\tPrice\n",
      "------------------------------\n",
      "요거트 아이스크림(250g)\t3,000\n",
      "------------------------------\n",
      "\n",
      "No. Topping\t\tPrice\n",
      "------------------------------\n",
      "1     바나나       \t4,000\n",
      "2     딸기        \t5,000\n",
      "3     벌집꿀       \t7,000\n",
      "4     그레놀라      \t7,000\n",
      "5     초코쉘       \t7,000\n",
      "6     요거트 아이스크림 \t3,000\n",
      "------------------------------\n",
      "****************************************\n",
      "\n",
      "========================================\n",
      "현재 장바구니\n",
      "1. 요거트 아이스크림 x 1 = 3,000원\n",
      "----------------------------------------\n",
      "Total = 3,000원\n",
      "메뉴를 확정하려면 o\n",
      "메뉴를 삭제하려면 d\n",
      "메뉴를 추가하려면 a\n",
      "메뉴를 취소하려면 c\n"
     ]
    }
   ],
   "source": [
    "import time\n",
    "membership_dict = {}\n",
    "menu_list = [\n",
    "    {'name': '바나나', 'price': 4000},\n",
    "    {'name': '딸기', 'price': 5000},\n",
    "    {'name': '벌집꿀', 'price': 7000},\n",
    "    {'name': '그레놀라', 'price': 7000},\n",
    "    {'name': '초코쉘', 'price': 7000},\n",
    "    {'name': '요거트 아이스크림', 'price': 3000}\n",
    "]\n",
    "\n",
    "def get_valid_number_input(msg, min_no = 1, max_no = 5):\n",
    "    # 숫자체크\n",
    "    try:\n",
    "        number = int(input(msg))\n",
    "        if number < min_no:\n",
    "            print(f\"{min_no} 이상 숫자를 입력하세요\")\n",
    "            return None\n",
    "        elif number > max_no:\n",
    "            print(f\"{max_no} 이하 숫자를 입력하세요\")\n",
    "            return None\n",
    "        else:\n",
    "            return number\n",
    "    except ValueError:\n",
    "        print(\"숫자를 입력하세요\")\n",
    "        return None\n",
    "\n",
    "def display_menu():\n",
    "    print('*' * 40)\n",
    "    print('어서오세요, ‘요렇게’에 오신 것을 환영합니다:)')\n",
    "    print(\"Menu\\t\\t\\t\\tPrice\")\n",
    "    print(\"-\" * 30)\n",
    "    print(\"요거트 아이스크림(250g)\\t3,000\")\n",
    "    print(\"-\" * 30)\n",
    "    print(\"\\nNo. Topping\\t\\tPrice\")\n",
    "    print(\"-\" * 30)\n",
    "    for idx, item in enumerate(menu_list, start=1):\n",
    "        print(f\"{idx:<5} {item['name']:<10}\\t{item['price']:,}\")\n",
    "    print(\"-\" * 30)\n",
    "    print(\"*\" * 40)\n",
    "\n",
    "def display_cart(cart, total_price):\n",
    "    print(\"\\n\" + \"=\" * 40)\n",
    "    print(\"현재 장바구니\")\n",
    "    for i, item in enumerate(cart, start=1):\n",
    "        print(f\"{i}. {item['name']} x {item['quantity']} = {item['price'] * item['quantity']:,}원\")\n",
    "    print(\"-\" * 40)\n",
    "    print(f\"Total = {total_price:,}원\")\n",
    "\n",
    "def add_menu(cart, total_price):\n",
    "    current_total = sum(item['quantity'] for item in cart)\n",
    "    remaining = 16 - current_total\n",
    "    \n",
    "    if remaining <= 0:\n",
    "        print(\"장바구니에는 최대 15개까지만 담을 수 있습니다.\")\n",
    "        return total_price\n",
    "\n",
    "    print(\"\\n메뉴 목록:\")\n",
    "    for i, item in enumerate(menu_list, start=1):\n",
    "        print(f\"{i}. {item['name']} : {item['price']:,}원\")\n",
    "    idx = get_valid_number_input(\"추가할 토핑 번호를 골라주세요 : \", 1, len(menu_list))\n",
    "    if idx:\n",
    "        idx -= 1\n",
    "        qty = get_valid_number_input(f\"수량을 선택해주세요 (남은 수량: {remaining}) : \",1,remaining)\n",
    "        if qty:\n",
    "            selected_item = menu_list[idx]\n",
    "            for item in cart:\n",
    "                if item['name'] == selected_item['name']:\n",
    "                    item['quantity'] += qty\n",
    "                    if item['quantity'] > 15:\n",
    "                        item['quantity'] = 15\n",
    "                    break\n",
    "            else:\n",
    "                cart.append({'name': selected_item['name'], 'quantity': qty, 'price': selected_item['price']})\n",
    "    \n",
    "            total_price += selected_item['price'] * qty\n",
    "    return total_price\n",
    "\n",
    "def del_menu(cart, total_price):\n",
    "    display_cart(cart, total_price)\n",
    "    idx = get_valid_number_input(\"삭제할 메뉴의 번호를 골라주세요 : \",1,len(cart))\n",
    "    if idx:\n",
    "        idx -= 1\n",
    "        item = cart[idx]\n",
    "        print(f\"'{item['name']}'의 현재 수량: {item['quantity']}\")\n",
    "        del_qty = get_valid_number_input(\"몇 개를 삭제하시겠습니까? : \", 1, item['quantity'])\n",
    "        if del_qty:\n",
    "            item['quantity'] -= del_qty\n",
    "            total_price -= item['price'] * del_qty\n",
    "            print(f\"'{item['name']}' {del_qty}개가 삭제되었습니다.\")\n",
    "    return total_price\n",
    "\n",
    "def select_pro():\n",
    "    print(\"메뉴를 확정하려면 o\")\n",
    "    print(\"메뉴를 삭제하려면 d\")\n",
    "    print(\"메뉴를 추가하려면 a\")\n",
    "    print(\"메뉴를 취소하려면 c\")\n",
    "    return input(\"알파벳을 입력해주세요 : \").lower().strip()\n",
    "\n",
    "def pay_deci():\n",
    "    return input(\"주문이 확정되었습니다. 결제를 하시겠습니까? (y/n): \").lower().strip()\n",
    "\n",
    "def pay_screen(total_price, num_order):\n",
    "    print(f\"{total_price:,}원 결제하겠습니다. 카드를 삽입해주세요.\")\n",
    "    print(\"결제가 완료되었습니다.\")\n",
    "    mem = input(\"적립 하시겠습니까? (y/n): \").lower().strip()\n",
    "    if mem.lower() == 'y':\n",
    "        membership_point_save(total_price)\n",
    "    print(f\"주문번호는 {num_order}번 입니다.\")\n",
    "\n",
    "def membership_point_save(total_price):\n",
    "    phone = input(\"전화번호를 입력해주세요 (- 없이): \").strip()\n",
    "    points = int(total_price * 0.1)\n",
    "\n",
    "    if phone in membership_dict:\n",
    "        membership_dict[phone] += points\n",
    "        print(f\"{phone} 번호에 {points}포인트가 추가되어, 총 {membership_dict[phone]}포인트가 있습니다.\")\n",
    "    else:\n",
    "        membership_dict[phone] = points\n",
    "        print(f\"{phone} 번호로 {points}포인트가 새로 적립되었습니다.\")\n",
    "\n",
    "def end_screen_delay():\n",
    "    print(\"초기화면으로 돌아갑니다.\")\n",
    "    for i in range(5, 0, -1):\n",
    "        print(f\"{i} \", end='\\r', flush=True)\n",
    "        time.sleep(1)\n",
    "    print(\" \", end='\\r')\n",
    "\n",
    "def main():\n",
    "    num_order = 1\n",
    "    while True:\n",
    "        display_menu()\n",
    "        cart = [{'name': menu_list[5]['name'], 'price': menu_list[5]['price'], 'quantity': 1}]\n",
    "        total_price = 3000\n",
    "        while True:\n",
    "            display_cart(cart, total_price)\n",
    "            choice = select_pro()\n",
    "\n",
    "            if choice == 'o':\n",
    "                break\n",
    "            elif choice == 'd':\n",
    "                total_price = del_menu(cart, total_price)\n",
    "            elif choice == 'a':\n",
    "                total_price = add_menu(cart, total_price)\n",
    "            elif choice == 'c':\n",
    "                print(\"주문이 취소됩니다.\")\n",
    "                end_screen_delay()\n",
    "                break\n",
    "            elif choice == '99':\n",
    "                print(\"관리자 중지입니다.\")\n",
    "                return\n",
    "            else:\n",
    "                print(\"입력이 올바르지 않습니다.\")\n",
    "\n",
    "        if choice in ['c', '99']:\n",
    "            continue\n",
    "        if total_price == 0:\n",
    "            print(\"장바구니가 비어있습니다.\")\n",
    "            end_screen_delay()\n",
    "            continue\n",
    "\n",
    "        if pay_deci() == 'y':\n",
    "            pay_screen(total_price, num_order)\n",
    "            num_order += 1\n",
    "        end_screen_delay()\n",
    "\n",
    "main()"
   ]
  },
  {
   "cell_type": "code",
   "execution_count": null,
   "id": "22179d19-bc31-4e0d-be62-47e1142d2542",
   "metadata": {},
   "outputs": [],
   "source": []
  }
 ],
 "metadata": {
  "kernelspec": {
   "display_name": "Python 3 (ipykernel)",
   "language": "python",
   "name": "python3"
  },
  "language_info": {
   "codemirror_mode": {
    "name": "ipython",
    "version": 3
   },
   "file_extension": ".py",
   "mimetype": "text/x-python",
   "name": "python",
   "nbconvert_exporter": "python",
   "pygments_lexer": "ipython3",
   "version": "3.12.1"
  }
 },
 "nbformat": 4,
 "nbformat_minor": 5
}
