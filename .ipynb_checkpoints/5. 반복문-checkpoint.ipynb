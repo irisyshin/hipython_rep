{
 "cells": [
  {
   "cell_type": "markdown",
   "id": "d79209ba-130a-4f8c-b504-ac87deace690",
   "metadata": {},
   "source": [
    "# 반복문 : for, while"
   ]
  },
  {
   "cell_type": "markdown",
   "id": "6c8958d5-196d-48c3-905b-af213940b528",
   "metadata": {},
   "source": [
    "# for문 \n",
    "\n",
    "for 변수 in 반복자 : \n",
    "반복자에는 리스트, 문자열, 튜플, 딕셔너리, 세트 (집합)"
   ]
  },
  {
   "cell_type": "code",
   "execution_count": 2,
   "id": "14c3bcf8-6998-47ca-ad0b-a712aac69ba6",
   "metadata": {},
   "outputs": [
    {
     "name": "stdout",
     "output_type": "stream",
     "text": [
      "0\n",
      "1\n",
      "2\n",
      "3\n",
      "4\n"
     ]
    }
   ],
   "source": [
    "data = [0,1,2,3,4]\n",
    "\n",
    "for var in data :\n",
    "    print(var)"
   ]
  },
  {
   "cell_type": "code",
   "execution_count": 3,
   "id": "10e6afa6-bf15-4ba4-ae70-aa1622ccb8a0",
   "metadata": {},
   "outputs": [
    {
     "data": {
      "text/plain": [
       "range(1, 10)"
      ]
     },
     "execution_count": 3,
     "metadata": {},
     "output_type": "execute_result"
    }
   ],
   "source": [
    "range(1,10)"
   ]
  },
  {
   "cell_type": "code",
   "execution_count": 4,
   "id": "d4a320f0-4add-45ab-9198-8014c5df5c45",
   "metadata": {},
   "outputs": [
    {
     "name": "stdout",
     "output_type": "stream",
     "text": [
      "1\n",
      "2\n",
      "3\n",
      "4\n",
      "5\n",
      "6\n",
      "7\n",
      "8\n",
      "9\n"
     ]
    }
   ],
   "source": [
    "for x in range(1,10):\n",
    "    print(x)"
   ]
  },
  {
   "cell_type": "code",
   "execution_count": 15,
   "id": "baebc673-3cb3-4d3c-8ba2-c66f51c669af",
   "metadata": {},
   "outputs": [
    {
     "name": "stdout",
     "output_type": "stream",
     "text": [
      "10\n",
      "name Iris\n",
      "age 23\n"
     ]
    }
   ],
   "source": [
    "#tuple\n",
    "tup = (1,2,3,4)\n",
    "stu = {\"name\": 'Iris', 'age':23}\n",
    "sum_1 = 0\n",
    "for t in tup:\n",
    "    sum_1 += t\n",
    "print(sum_1)\n",
    "\n",
    "for k,v in stu.items():\n",
    "    print(k,v)"
   ]
  },
  {
   "cell_type": "code",
   "execution_count": 17,
   "id": "4e6b62d5-e084-40d6-bc72-2756289486e0",
   "metadata": {},
   "outputs": [
    {
     "data": {
      "text/plain": [
       "[1]"
      ]
     },
     "execution_count": 17,
     "metadata": {},
     "output_type": "execute_result"
    }
   ],
   "source": [
    "r =range(1,2)\n",
    "type(r)\n",
    "list(r)"
   ]
  },
  {
   "cell_type": "markdown",
   "id": "6fd00497-f962-420c-9cf3-a6a7ba5353f6",
   "metadata": {},
   "source": [
    "# range(1,10,2)\n",
    "start, stop, step=1 defualt"
   ]
  },
  {
   "cell_type": "code",
   "execution_count": 19,
   "id": "f41a470f-704b-4e5b-ad23-7933a6129a39",
   "metadata": {},
   "outputs": [
    {
     "data": {
      "text/plain": [
       "[0, 2, 4, 6, 8]"
      ]
     },
     "execution_count": 19,
     "metadata": {},
     "output_type": "execute_result"
    }
   ],
   "source": [
    "list(range(0,10,2))"
   ]
  },
  {
   "cell_type": "code",
   "execution_count": 22,
   "id": "a4f26c03-cb61-4d38-bf8a-90b08b6e5da4",
   "metadata": {},
   "outputs": [
    {
     "name": "stdout",
     "output_type": "stream",
     "text": [
      "5050\n"
     ]
    }
   ],
   "source": [
    "sum_1 = 0\n",
    "for i in range(1,101):\n",
    "    sum_1 += i\n",
    "print(sum_1)"
   ]
  },
  {
   "cell_type": "code",
   "execution_count": 25,
   "id": "60157342-3481-4dc2-af78-8ad006564579",
   "metadata": {},
   "outputs": [
    {
     "name": "stdout",
     "output_type": "stream",
     "text": [
      "1683\n"
     ]
    }
   ],
   "source": [
    "#3의 배수의 합 (1~100)\n",
    "sum_1 = 0\n",
    "for i in range(3,100,3):\n",
    "    sum_1 += i\n",
    "print(sum_1)"
   ]
  },
  {
   "cell_type": "code",
   "execution_count": 26,
   "id": "bef26e06-63f7-43bc-9b18-a85eb94d0c7a",
   "metadata": {},
   "outputs": [
    {
     "data": {
      "text/plain": [
       "1683"
      ]
     },
     "execution_count": 26,
     "metadata": {},
     "output_type": "execute_result"
    }
   ],
   "source": [
    "sum_1 = 0\n",
    "for i in range(1,101):\n",
    "    if (i%3) == 0:\n",
    "        sum_1 += i\n",
    "sum_1"
   ]
  },
  {
   "cell_type": "code",
   "execution_count": 27,
   "id": "ef9f38e2-0e4a-42a3-a023-7f1af3357095",
   "metadata": {},
   "outputs": [
    {
     "name": "stdout",
     "output_type": "stream",
     "text": [
      "a\n",
      "b\n",
      "c\n"
     ]
    }
   ],
   "source": [
    "char_list = ['a', 'b', 'c']\n",
    "\n",
    "for x in char_list:\n",
    "    print(x)"
   ]
  },
  {
   "cell_type": "code",
   "execution_count": 29,
   "id": "a7c4bfd5-9838-4eb9-8300-b8732211adc9",
   "metadata": {},
   "outputs": [
    {
     "name": "stdout",
     "output_type": "stream",
     "text": [
      "0 a\n",
      "1 b\n",
      "2 c\n"
     ]
    }
   ],
   "source": [
    "# 순서가 있는 객체들을 찾아가며 인덱스와 값을 반환 \n",
    "for i,v in enumerate(char_list):\n",
    "    print(i, v)"
   ]
  },
  {
   "cell_type": "code",
   "execution_count": 30,
   "id": "c86c9e95-89dc-4778-8239-4d25c9b595e5",
   "metadata": {},
   "outputs": [
    {
     "data": {
      "text/plain": [
       "<zip at 0x25975c9adc0>"
      ]
     },
     "execution_count": 30,
     "metadata": {},
     "output_type": "execute_result"
    }
   ],
   "source": [
    "char_lst_2 = ['hello', 'hi', 'goodbye']\n",
    "# 두개를 합쳐줌 \n",
    "zip(char_list, char_lst_2)"
   ]
  },
  {
   "cell_type": "code",
   "execution_count": 31,
   "id": "c086a37e-1407-47e8-9630-3cc62b0d9fd5",
   "metadata": {},
   "outputs": [
    {
     "name": "stdout",
     "output_type": "stream",
     "text": [
      "('a', 'hello')\n",
      "('b', 'hi')\n",
      "('c', 'goodbye')\n"
     ]
    }
   ],
   "source": [
    "for item in zip(char_list, char_lst_2):\n",
    "    print(item)"
   ]
  },
  {
   "cell_type": "code",
   "execution_count": 36,
   "id": "623cfd06-0a7a-4275-8a57-0b23523239ff",
   "metadata": {
    "scrolled": true
   },
   "outputs": [
    {
     "name": "stdout",
     "output_type": "stream",
     "text": [
      "\n",
      "2단\n",
      "2 x 1 = 2\n",
      "2 x 2 = 4\n",
      "2 x 3 = 6\n",
      "2 x 4 = 8\n",
      "2 x 5 = 10\n",
      "2 x 6 = 12\n",
      "2 x 7 = 14\n",
      "2 x 8 = 16\n",
      "2 x 9 = 18\n",
      "\n",
      "3단\n",
      "3 x 1 = 3\n",
      "3 x 2 = 6\n",
      "3 x 3 = 9\n",
      "3 x 4 = 12\n",
      "3 x 5 = 15\n",
      "3 x 6 = 18\n",
      "3 x 7 = 21\n",
      "3 x 8 = 24\n",
      "3 x 9 = 27\n",
      "\n",
      "4단\n",
      "4 x 1 = 4\n",
      "4 x 2 = 8\n",
      "4 x 3 = 12\n",
      "4 x 4 = 16\n",
      "4 x 5 = 20\n",
      "4 x 6 = 24\n",
      "4 x 7 = 28\n",
      "4 x 8 = 32\n",
      "4 x 9 = 36\n",
      "\n",
      "5단\n",
      "5 x 1 = 5\n",
      "5 x 2 = 10\n",
      "5 x 3 = 15\n",
      "5 x 4 = 20\n",
      "5 x 5 = 25\n",
      "5 x 6 = 30\n",
      "5 x 7 = 35\n",
      "5 x 8 = 40\n",
      "5 x 9 = 45\n",
      "\n",
      "6단\n",
      "6 x 1 = 6\n",
      "6 x 2 = 12\n",
      "6 x 3 = 18\n",
      "6 x 4 = 24\n",
      "6 x 5 = 30\n",
      "6 x 6 = 36\n",
      "6 x 7 = 42\n",
      "6 x 8 = 48\n",
      "6 x 9 = 54\n",
      "\n",
      "7단\n",
      "7 x 1 = 7\n",
      "7 x 2 = 14\n",
      "7 x 3 = 21\n",
      "7 x 4 = 28\n",
      "7 x 5 = 35\n",
      "7 x 6 = 42\n",
      "7 x 7 = 49\n",
      "7 x 8 = 56\n",
      "7 x 9 = 63\n",
      "\n",
      "8단\n",
      "8 x 1 = 8\n",
      "8 x 2 = 16\n",
      "8 x 3 = 24\n",
      "8 x 4 = 32\n",
      "8 x 5 = 40\n",
      "8 x 6 = 48\n",
      "8 x 7 = 56\n",
      "8 x 8 = 64\n",
      "8 x 9 = 72\n",
      "\n",
      "9단\n",
      "9 x 1 = 9\n",
      "9 x 2 = 18\n",
      "9 x 3 = 27\n",
      "9 x 4 = 36\n",
      "9 x 5 = 45\n",
      "9 x 6 = 54\n",
      "9 x 7 = 63\n",
      "9 x 8 = 72\n",
      "9 x 9 = 81\n"
     ]
    }
   ],
   "source": [
    "#구구단 \n",
    "# 2* 1\n",
    "\n",
    "for i in range(2,10):\n",
    "    print(f'\\n{i}단')\n",
    "    for n in range(1,10):\n",
    "        mult = i * n\n",
    "        print(f'{i} x {n} = {mult}')"
   ]
  },
  {
   "cell_type": "code",
   "execution_count": 42,
   "id": "5275a36c-07ad-4653-9f90-a206f64b65a3",
   "metadata": {},
   "outputs": [
    {
     "name": "stdout",
     "output_type": "stream",
     "text": [
      "영화 미션임파서블의 평점 🍀🍀🍀🍀 \n",
      "영화 미치광이삐에로의 평점 🍀🍀🍀🍀🍀 \n",
      "영화 씨너스의 평점 🍀🍀🍀 \n",
      "영화 울지않는아이의 평점 🍀🍀 \n"
     ]
    }
   ],
   "source": [
    "movie_dict = {\"미션임파서블\": 4, \"미치광이삐에로\":5, \"씨너스\":3, \"울지않는아이\":2}\n",
    "for k, v in movie_dict.items():\n",
    "    print(f'영화 {k}의 평점 {\"🍀\"*v} ')"
   ]
  },
  {
   "cell_type": "code",
   "execution_count": 41,
   "id": "5a772a38-99c2-4ef9-b79f-01f8669ce26f",
   "metadata": {},
   "outputs": [
    {
     "name": "stdout",
     "output_type": "stream",
     "text": [
      "❄\n",
      "❄❄\n",
      "❄❄❄\n",
      "❄❄❄❄\n",
      "❄❄❄❄❄\n"
     ]
    }
   ],
   "source": [
    "for i in range(1,6):\n",
    "    for j in range(i):\n",
    "        print(\"❄\",end='')\n",
    "    print()"
   ]
  },
  {
   "cell_type": "code",
   "execution_count": 43,
   "id": "d55566ba-9de9-4025-b7de-bc99a92bd2d3",
   "metadata": {},
   "outputs": [
    {
     "name": "stdout",
     "output_type": "stream",
     "text": [
      "        ❄\n",
      "       ❄❄❄\n",
      "      ❄❄❄❄❄\n",
      "     ❄❄❄❄❄❄❄\n",
      "    ❄❄❄❄❄❄❄❄❄\n",
      "   ❄❄❄❄❄❄❄❄❄❄❄\n",
      "  ❄❄❄❄❄❄❄❄❄❄❄❄❄\n",
      " ❄❄❄❄❄❄❄❄❄❄❄❄❄❄❄\n",
      "❄❄❄❄❄❄❄❄❄❄❄❄❄❄❄❄❄\n"
     ]
    }
   ],
   "source": [
    "\n",
    "for i in range(1, n + 1):\n",
    "    spaces = ' ' * (n - i)       # 공백: 줄 수에 따라 감소\n",
    "    stars = '❄' * (2 * i - 1)    # 홀수 개의 ❄ 출력\n",
    "    print(spaces + stars)"
   ]
  },
  {
   "cell_type": "code",
   "execution_count": 16,
   "id": "669b0bc5-54a2-4fe3-ae7f-aa2dad7b5495",
   "metadata": {},
   "outputs": [
    {
     "data": {
      "text/plain": [
       "6"
      ]
     },
     "execution_count": 16,
     "metadata": {},
     "output_type": "execute_result"
    }
   ],
   "source": [
    "sum_1 = 0\n",
    "for i in range(6):\n",
    "    sum_1 += 1\n",
    "sum_1"
   ]
  },
  {
   "cell_type": "code",
   "execution_count": 17,
   "id": "c1d47330-5ba6-4e7e-a345-3f6db56441ea",
   "metadata": {},
   "outputs": [
    {
     "data": {
      "text/plain": [
       "13"
      ]
     },
     "execution_count": 17,
     "metadata": {},
     "output_type": "execute_result"
    }
   ],
   "source": [
    "i = 0\n",
    "while True:\n",
    "    if i>6:\n",
    "        break\n",
    "    sum_1 += 1\n",
    "    i += 1\n",
    "sum_1"
   ]
  },
  {
   "cell_type": "code",
   "execution_count": 18,
   "id": "fc4f2cf2-dcd0-4fad-a374-ff91b552d536",
   "metadata": {},
   "outputs": [
    {
     "data": {
      "text/plain": [
       "13"
      ]
     },
     "execution_count": 18,
     "metadata": {},
     "output_type": "execute_result"
    }
   ],
   "source": [
    "while i<6:\n",
    "    i += 1\n",
    "    sum_1 += i\n",
    "sum_1"
   ]
  },
  {
   "cell_type": "code",
   "execution_count": 1,
   "id": "d9645b21-73d2-4eaa-9e95-5dca35e258b0",
   "metadata": {},
   "outputs": [
    {
     "data": {
      "text/plain": [
       "21"
      ]
     },
     "execution_count": 1,
     "metadata": {},
     "output_type": "execute_result"
    }
   ],
   "source": [
    "sum(range(1,7))"
   ]
  },
  {
   "cell_type": "markdown",
   "id": "da9ca14e-4636-42c7-84dd-0bacde23ffca",
   "metadata": {},
   "source": [
    "# 리스트 컴프리헨션\n"
   ]
  },
  {
   "cell_type": "code",
   "execution_count": 4,
   "id": "f2f3750b-9078-4c6a-a5ce-e108717f3f83",
   "metadata": {},
   "outputs": [
    {
     "data": {
      "text/plain": [
       "[1, 4, 9, 16, 25]"
      ]
     },
     "execution_count": 4,
     "metadata": {},
     "output_type": "execute_result"
    }
   ],
   "source": [
    "numbers = [1,2,3,4,5]\n",
    "squares = [num**2 for num in numbers]\n",
    "squares"
   ]
  },
  {
   "cell_type": "code",
   "execution_count": 6,
   "id": "2a1cd449-44e2-4e5a-b89b-f370037b0c53",
   "metadata": {},
   "outputs": [
    {
     "data": {
      "text/plain": [
       "[0, 2, 4, 6, 8, 5, 6, 7, 8, 9]"
      ]
     },
     "execution_count": 6,
     "metadata": {},
     "output_type": "execute_result"
    }
   ],
   "source": [
    "# for이 결합된 리스트 컴프리헨션 + 조건식\n",
    "test_list = []\n",
    "for x in range(10):\n",
    "    if x<5:\n",
    "        test_list.append(x*2)\n",
    "    else:\n",
    "        test_list.append(x)\n",
    "\n",
    "test_list"
   ]
  },
  {
   "cell_type": "code",
   "execution_count": 7,
   "id": "6c752a30-66eb-4f6d-ae7b-b650a1f4aae6",
   "metadata": {},
   "outputs": [
    {
     "data": {
      "text/plain": [
       "[0, 2, 4, 6, 8, 5, 6, 7, 8, 9]"
      ]
     },
     "execution_count": 7,
     "metadata": {},
     "output_type": "execute_result"
    }
   ],
   "source": [
    "[x*2 if x<5 else x for x in range(10)] # 리스트에 있는 모든걸 그 조건으로 가지고 감, 앞에 가지고 간거 "
   ]
  },
  {
   "cell_type": "code",
   "execution_count": 9,
   "id": "450779b3-2649-4a1d-9480-cf864d2bcd9d",
   "metadata": {},
   "outputs": [
    {
     "data": {
      "text/plain": [
       "[0, 1, 2, 3, 4]"
      ]
     },
     "execution_count": 9,
     "metadata": {},
     "output_type": "execute_result"
    }
   ],
   "source": [
    "[x for x in range(10) if x<5 ]"
   ]
  },
  {
   "cell_type": "code",
   "execution_count": 16,
   "id": "f6b1258a-c7cc-42b1-b0dd-555056115679",
   "metadata": {},
   "outputs": [
    {
     "name": "stdout",
     "output_type": "stream",
     "text": [
      "🎉 당첨 번호 있음! (23)\n"
     ]
    },
    {
     "data": {
      "text/plain": [
       "'🎉 당첨 번호 있음! ([23, 38])'"
      ]
     },
     "execution_count": 16,
     "metadata": {},
     "output_type": "execute_result"
    }
   ],
   "source": [
    "#리스트 컴프리헨션을 이용한#로또 번호 당첨 여부 확인\n",
    "my_numbers = [3, 11, 17, 23, 38, 42]\n",
    "win_numbers = [7, 14, 23, 32, 38, 45]\n",
    "\n",
    "for num in my_numbers:\n",
    "    if num in win_numbers:\n",
    "        print(f\"🎉 당첨 번호 있음! ({num})\")\n",
    "        break\n",
    "else:\n",
    "    print(\"😢 꽝입니다.\") #변환, 필터 if의 위치\n",
    "\n",
    "\n",
    "matched = [num for num in my_numbers if num in win_numbers]\n",
    "\n",
    "f\"🎉 당첨 번호 있음! ({matched})\" if matched else \"😢 꽝입니다.\""
   ]
  },
  {
   "cell_type": "markdown",
   "id": "ce5a8716-2962-425a-a1dc-9edfe3f6cc48",
   "metadata": {},
   "source": [
    "# Iterator, Generator\n",
    "\n",
    "- Iterable: for의 in에 나올 수 있는 객체의 유형\n",
    "- Iterator: iter(), enumerate(), for문에서 next()직접호출\n",
    "- Generator: 사용자 정의함수 중에서 yield 사용한 패턴 - 일시정지, 메모리 효율이 높다"
   ]
  },
  {
   "cell_type": "code",
   "execution_count": 2,
   "id": "0bd1e121-223f-42cc-9f89-fef8ee15bc46",
   "metadata": {},
   "outputs": [
    {
     "data": {
      "text/plain": [
       "True"
      ]
     },
     "execution_count": 2,
     "metadata": {},
     "output_type": "execute_result"
    }
   ],
   "source": [
    "from collections.abc import Iterable\n",
    "\n",
    "isinstance('hello', Iterable)"
   ]
  },
  {
   "cell_type": "code",
   "execution_count": 6,
   "id": "c13fe903-d3ce-4904-9613-ec74927c9505",
   "metadata": {},
   "outputs": [],
   "source": [
    "itr_test_str = 'hello'\n",
    "iter_obj = iter(itr_test_str)"
   ]
  },
  {
   "cell_type": "code",
   "execution_count": 10,
   "id": "260bdb46-22aa-4b2e-a0cb-a86ac9c2ac5e",
   "metadata": {},
   "outputs": [
    {
     "data": {
      "text/plain": [
       "10"
      ]
     },
     "execution_count": 10,
     "metadata": {},
     "output_type": "execute_result"
    }
   ],
   "source": [
    "itr_test_lst = [10, 20, 30]\n",
    "itr_obj_1 = iter(itr_test_lst)\n",
    "itr_obj_1.__next__()"
   ]
  },
  {
   "cell_type": "code",
   "execution_count": 14,
   "id": "1ed30213-5b39-4bc2-90fb-8160421d211a",
   "metadata": {},
   "outputs": [
    {
     "name": "stdout",
     "output_type": "stream",
     "text": [
      "10\n",
      "20\n",
      "30\n"
     ]
    }
   ],
   "source": [
    "itr_obj_1 = iter(itr_test_lst)\n",
    "for i in itr_obj_1:\n",
    "    print(i)"
   ]
  },
  {
   "cell_type": "code",
   "execution_count": 15,
   "id": "50f39439-b97f-42ca-b63c-50511f2efd7b",
   "metadata": {},
   "outputs": [
    {
     "name": "stdout",
     "output_type": "stream",
     "text": [
      "0 10\n",
      "1 20\n",
      "2 30\n"
     ]
    }
   ],
   "source": [
    "for i, item in enumerate(itr_test_lst):\n",
    "    print(i, item)"
   ]
  },
  {
   "cell_type": "code",
   "execution_count": 16,
   "id": "571386aa-dc7a-4d8b-a02e-8cbd0e767f33",
   "metadata": {},
   "outputs": [
    {
     "name": "stdout",
     "output_type": "stream",
     "text": [
      "(0, 'h')\n",
      "(1, 'e')\n",
      "(2, 'l')\n",
      "(3, 'l')\n",
      "(4, 'o')\n"
     ]
    }
   ],
   "source": [
    "msg = 'hello'\n",
    "for i in enumerate(msg):\n",
    "    print(i)"
   ]
  },
  {
   "cell_type": "code",
   "execution_count": 17,
   "id": "7a557458-fa83-4124-87c2-125e9d6558d0",
   "metadata": {},
   "outputs": [
    {
     "data": {
      "text/plain": [
       "<generator object gen_자판기 at 0x00000274D0E6E980>"
      ]
     },
     "execution_count": 17,
     "metadata": {},
     "output_type": "execute_result"
    }
   ],
   "source": [
    "def gen_자판기():\n",
    "    yield '바나나1'\n",
    "    yield '바나나2'\n",
    "    yield '바나나3'\n",
    "\n",
    "gen_자판기()"
   ]
  },
  {
   "cell_type": "code",
   "execution_count": 20,
   "id": "fc22b3d1-10a0-4058-8827-59475859924b",
   "metadata": {},
   "outputs": [
    {
     "data": {
      "text/plain": [
       "'바나나2'"
      ]
     },
     "execution_count": 20,
     "metadata": {},
     "output_type": "execute_result"
    }
   ],
   "source": [
    "gen = gen_자판기()\n",
    "next(gen)\n",
    "next(gen)"
   ]
  },
  {
   "cell_type": "code",
   "execution_count": 21,
   "id": "d535e6f3-bd86-4b93-b46a-c019921f9902",
   "metadata": {},
   "outputs": [],
   "source": [
    "#generator는 def가 필요\n",
    "def square_mc():\n",
    "    for x in range(10):\n",
    "        yield x**2\n",
    "g_m = square_mc()"
   ]
  },
  {
   "cell_type": "code",
   "execution_count": 22,
   "id": "7dc7cbcb-68ab-40ed-92ba-c4b2d7388e68",
   "metadata": {},
   "outputs": [
    {
     "name": "stdout",
     "output_type": "stream",
     "text": [
      "0\n",
      "1\n",
      "4\n",
      "9\n",
      "16\n",
      "25\n",
      "36\n",
      "49\n",
      "64\n",
      "81\n"
     ]
    }
   ],
   "source": [
    "for n in g_m:\n",
    "    print(n)"
   ]
  },
  {
   "cell_type": "code",
   "execution_count": 23,
   "id": "70e0e85f-4bd2-41ef-84e1-fbb4ecce2213",
   "metadata": {},
   "outputs": [
    {
     "name": "stdout",
     "output_type": "stream",
     "text": [
      "0\n",
      "1\n",
      "1\n",
      "2\n",
      "3\n"
     ]
    }
   ],
   "source": [
    "def fibonacci_generator(n):\n",
    "    a, b = 0, 1\n",
    "    for _ in range(n):\n",
    "        yield a\n",
    "        a, b = b, a + b\n",
    "\n",
    "# 사용 예시\n",
    "fib = fibonacci_generator(5)\n",
    "for num in fib:\n",
    "    print(num)  # 0, 1, 1, 2, 3 출력"
   ]
  },
  {
   "cell_type": "code",
   "execution_count": 26,
   "id": "34b7f952-39df-4669-a927-48291ed57e43",
   "metadata": {},
   "outputs": [
    {
     "name": "stdout",
     "output_type": "stream",
     "text": [
      "0\n",
      "1\n",
      "4\n",
      "9\n",
      "16\n",
      "25\n",
      "36\n",
      "49\n",
      "64\n",
      "81\n",
      "100\n"
     ]
    }
   ],
   "source": [
    "#리스트는 메모리를 많이 잡아먹음 \n",
    "squares_list = [x**2 for x in range(1000000)]  # 메모리를 많이 사용\n",
    "\n",
    "# 제너레이터 표현식\n",
    "squares_gen = (x**2 for x in range(1000000))   # 메모리 효율적\n",
    "\n",
    "# 사용 예시\n",
    "for square in squares_gen:\n",
    "    if square > 100:\n",
    "        break\n",
    "    print(square)\n",
    "    "
   ]
  },
  {
   "cell_type": "code",
   "execution_count": 28,
   "id": "bfa14a93-0392-4f6a-ac38-dd1c8f4e4a15",
   "metadata": {},
   "outputs": [
    {
     "name": "stdout",
     "output_type": "stream",
     "text": [
      "[3, 6, 9, 12, 15, 18]\n"
     ]
    }
   ],
   "source": [
    "multiples = [x for x in range(1, 21) if x % 3 ==0]\n",
    "print(multiples)"
   ]
  },
  {
   "cell_type": "code",
   "execution_count": null,
   "id": "c371b996-915f-45a8-93eb-dc2452fe8984",
   "metadata": {},
   "outputs": [],
   "source": []
  }
 ],
 "metadata": {
  "kernelspec": {
   "display_name": "Python 3 (ipykernel)",
   "language": "python",
   "name": "python3"
  },
  "language_info": {
   "codemirror_mode": {
    "name": "ipython",
    "version": 3
   },
   "file_extension": ".py",
   "mimetype": "text/x-python",
   "name": "python",
   "nbconvert_exporter": "python",
   "pygments_lexer": "ipython3",
   "version": "3.12.1"
  }
 },
 "nbformat": 4,
 "nbformat_minor": 5
}
