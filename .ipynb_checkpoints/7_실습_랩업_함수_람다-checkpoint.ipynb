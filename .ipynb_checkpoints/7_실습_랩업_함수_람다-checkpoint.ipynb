{
 "cells": [
  {
   "cell_type": "markdown",
   "id": "df8c7040-0cbd-4b1f-954b-4063eb3e6351",
   "metadata": {},
   "source": [
    "# [실습] 랩업_함수_람다_문자열_배포\n"
   ]
  },
  {
   "cell_type": "code",
   "execution_count": 10,
   "id": "123066ac-ff99-4dcc-87ef-4a73ef95ede3",
   "metadata": {},
   "outputs": [
    {
     "name": "stdout",
     "output_type": "stream",
     "text": [
      "15\n"
     ]
    }
   ],
   "source": [
    "#1.두 수를 입력 받아 그 곱을 반환하는 함수를 작성하세요.\n",
    "def multiply_numbers(a, b):\n",
    "    result = a*b\n",
    "    return result\n",
    "print(multiply_numbers(3, 5))\n"
   ]
  },
  {
   "cell_type": "code",
   "execution_count": 43,
   "id": "6a983eaa-9337-4bad-b7fd-b5b40126e94e",
   "metadata": {},
   "outputs": [
    {
     "name": "stdout",
     "output_type": "stream",
     "text": [
      "30.0\n"
     ]
    }
   ],
   "source": [
    "# 2.숫자 리스트를 입력 받아 평균을 반환하는 함수를 작성하세요.\n",
    "def calc_average(numbers):\n",
    "    return (lambda nums: sum(nums) / len(nums))(numbers)\n",
    "print(calc_average([10, 20, 30, 40, 50])) "
   ]
  },
  {
   "cell_type": "code",
   "execution_count": 11,
   "id": "207c985f-cc2b-4e3f-a806-c634b99dfa31",
   "metadata": {
    "scrolled": true
   },
   "outputs": [
    {
     "name": "stdout",
     "output_type": "stream",
     "text": [
      "True\n",
      "True\n"
     ]
    }
   ],
   "source": [
    "#3.주어진 숫자가 짝수이면 True, 홀수이면 False를 반환하는 함수를 작성하세요\n",
    "def is_even(n):\n",
    "    return n%2 == 0\n",
    "\n",
    "# is_even = lambda n: n % 2 == 0\n",
    "\n",
    "print(is_even(14))  \n",
    "print(is_even(20))  "
   ]
  },
  {
   "cell_type": "code",
   "execution_count": null,
   "id": "80370458-0de3-47b6-aea6-ca278766bbc5",
   "metadata": {},
   "outputs": [],
   "source": [
    "#4. 주어진 리스트의 모든 요소를 문자열로 변환하여 반환하는 함수와, 람다 함수를 작성하세요.\n",
    "#함수 정의\n",
    "def to_string_list(lst):\n",
    "    result = [] #결과 누적 \n",
    "    # lst의 요소를 하나씩 꺼내서 문자열로 변환\n",
    "    # result에 추가 \n",
    "  return list(map(str, lst))"
   ]
  },
  {
   "cell_type": "code",
   "execution_count": 15,
   "id": "682388d9-8c47-4b0b-a800-a02661f791a1",
   "metadata": {},
   "outputs": [
    {
     "name": "stdout",
     "output_type": "stream",
     "text": [
      "['1', '2', '3', '4', '5']\n"
     ]
    }
   ],
   "source": [
    "#4. or\n",
    "def to_string_list(lst):\n",
    "    result = [] #결과 누적 \n",
    "    # lst의 요소를 하나씩 꺼내서 문자열로 변환\n",
    "    # result에 추가 \n",
    "    for item in lst:\n",
    "        result.append(str(item))\n",
    "        \n",
    "    return result\n",
    "\n",
    "to_string_list = lambda lst: list(map(str, lst))\n",
    "# 테스트\n",
    "print(to_string_list([1, 2, 3, 4, 5]))  # ['1', '2', '3', '4', '5']"
   ]
  },
  {
   "cell_type": "code",
   "execution_count": 23,
   "id": "463cd79c-cedc-4604-9a03-1954a6912151",
   "metadata": {},
   "outputs": [
    {
     "name": "stdout",
     "output_type": "stream",
     "text": [
      "Hello, World!\n"
     ]
    }
   ],
   "source": [
    "#5. 두 문자열을 입력받아 합친 문자열을 반환하는 함수와 람다 함수를 작성하세요.\n",
    "def concat_strings(s1, s2):\n",
    "    return s1 + s2\n",
    "#답을 작성하세요.\n",
    "concat_strings = lambda s1,s2: s1 + s2\n",
    "\n",
    "#or (lambda s1,s2: s1 + s2) ('hello, ','world!')\n",
    "\n",
    "\n",
    "print(concat_strings(\"Hello, \", \"World!\"))  # \"Hello, World!\""
   ]
  },
  {
   "cell_type": "code",
   "execution_count": 24,
   "id": "4d8962be-c487-4bec-9c8d-7e57f9bab9eb",
   "metadata": {},
   "outputs": [],
   "source": [
    "#6. 주어진 문자열에서 모든 모음(a,e,i,o,u)을 제거한 문자열을 반환하는 함수를 작성하세요.\n",
    "def remove_vowels(s):\n",
    "    result = ''\n",
    "    for char in s:\n",
    "        if char not in 'aeiou':\n",
    "            result += char\n",
    "    return result"
   ]
  },
  {
   "cell_type": "code",
   "execution_count": 27,
   "id": "0704a02e-ba07-4e54-bce2-d42c9c313e52",
   "metadata": {},
   "outputs": [
    {
     "name": "stdout",
     "output_type": "stream",
     "text": [
      "bcdfghjklmnpqrstvwxyz\n"
     ]
    }
   ],
   "source": [
    "#6. or\n",
    "def remove_vowels(s):\n",
    "  return ''.join([char for char in s if char.lower() not in 'aeiou'])\n",
    "\n",
    "remove_vowels = lambda s: ''.join([char for char in s if char.lower() not in 'aeiou'])\n",
    "\n",
    "print(remove_vowels(\"abcdefghijklmnopqrstuvwxyz\"))  # \"bcdfghjklmnpqrstvwxyz\""
   ]
  },
  {
   "cell_type": "code",
   "execution_count": 33,
   "id": "d2183e72-b745-48db-9982-0c1c1ed203ac",
   "metadata": {},
   "outputs": [
    {
     "name": "stdout",
     "output_type": "stream",
     "text": [
      "('generation', 10)\n"
     ]
    }
   ],
   "source": [
    "#7. 문자열을 입력 받아, 해당 문자열에서 가장 긴 단어와 길이를 반환하는 함수를 작성하세요.\n",
    "def find_longest_word(s):\n",
    "    words = s.split()\n",
    "    longest = words[0]\n",
    "    max_len = len(longest)\n",
    "\n",
    "    for w in words[1:]:\n",
    "        if len(w) > max_len:\n",
    "            longest = w\n",
    "            max_len = len(w)\n",
    "\n",
    "    return longest, max_len\n",
    "# or \n",
    "find_longest_word2 = lambda s : max( [(w, len(w)) for w in s.split()], key=lambda x:x[1] )\n",
    "\n",
    "print(find_longest_word(\"Life is for one generation a good name is forever.\"))  # \"generation\", 10"
   ]
  },
  {
   "cell_type": "code",
   "execution_count": 31,
   "id": "36d81f9e-2842-40b5-b76f-0c50e18f966a",
   "metadata": {},
   "outputs": [
    {
     "name": "stdout",
     "output_type": "stream",
     "text": [
      "('generation', 10)\n"
     ]
    }
   ],
   "source": [
    "#7. or my\n",
    "def find_longest_word(s):\n",
    "    words = s.split()\n",
    "    longest = max(words, key=len)\n",
    "    return longest, len(longest)\n",
    "\n",
    "###!!!!!!!\n",
    "find_longest_word = lambda s: (max(s.split(), key=len), len(max(s.split(), key=len)))\n",
    "\n",
    "print(find_longest_word(\"Life is for one generation a good name is forever.\"))  # \"generation\", 10"
   ]
  },
  {
   "cell_type": "code",
   "execution_count": 36,
   "id": "13d2c206-3505-4b2b-89b7-e09bc33a3d04",
   "metadata": {},
   "outputs": [
    {
     "name": "stdout",
     "output_type": "stream",
     "text": [
      "([1, 2, 3, 4], ['a', 'b', 'c', 'd'])\n"
     ]
    }
   ],
   "source": [
    "#8.주어진 문자열에서 숫자와 문자를 분리하는 함수를 작성하세요.\n",
    "def split_numbers_letters(s):\n",
    "    # 1. 숫자를 담을 리스트, 문자를 담을 리스트를 만든다.\n",
    "    numbers = []\n",
    "    letters = []\n",
    "    for char in s:\n",
    "        if char.isdigit(): #num\n",
    "            numbers.append(int(char))\n",
    "        elif char.isalpha(): #words\n",
    "            letters.append(char)\n",
    "    return numbers, letters\n",
    "\n",
    "# lamda\n",
    "split_numbers_letters = lambda s: (\n",
    "    [c for c in s if c.isalpha()],\n",
    "    [int(c) for c in s if c.isdigit()]\n",
    ")\n",
    "\n",
    "# filter\n",
    "def split_numbers_letters(s):\n",
    "    numbers = list(map(int, filter(lambda ch: ch.isdigit(), s)))\n",
    "    letters = list(filter(lambda ch: ch.isalpha(), s))\n",
    "    return numbers, letters\n",
    "print(split_numbers_letters(\"a1b2c3d4\")) # [\"a\", \"b\", \"c\", \"d\"], [1, 2, 3, 4]\n"
   ]
  },
  {
   "cell_type": "code",
   "execution_count": 40,
   "id": "9aeb9601-b7f1-4fbb-bf65-b72bb40ccb2e",
   "metadata": {},
   "outputs": [],
   "source": [
    "#9. 주어진 문자열(알파벳)을 입력 받아, 각 알파벳의 종류와 개수를 dict형으로 반환하는 함수를 만드세요.\n",
    "\n",
    "def count_alphabets(s):\n",
    "    count_dict = {}\n",
    "\n",
    "    for ch in s:\n",
    "        if ch in count_dict:\n",
    "            count_dict[ch] += 1\n",
    "        else:\n",
    "            count_dict[ch] = 1\n",
    "        return count_dict"
   ]
  },
  {
   "cell_type": "code",
   "execution_count": 42,
   "id": "c47c94dd-9ba1-4151-9b1f-e869ab6feb84",
   "metadata": {},
   "outputs": [
    {
     "name": "stdout",
     "output_type": "stream",
     "text": [
      "{'h': 1, 'e': 1, 'l': 2, 'o': 1}\n"
     ]
    }
   ],
   "source": [
    "#9. or\n",
    "def count_alphabets(s):\n",
    "    #딕셔너리 컴프리헨션\n",
    "    return {ch : s.count(ch) for ch in s}\n",
    "\n",
    "print(count_alphabets(\"hello\"))  # {\"h\": 1, \"e\": 1, \"l\": 2, \"o\": \"1\"}"
   ]
  },
  {
   "cell_type": "code",
   "execution_count": 38,
   "id": "3e7be590-f94b-4e5b-9289-9d4b2609adee",
   "metadata": {},
   "outputs": [
    {
     "name": "stdout",
     "output_type": "stream",
     "text": [
      "{'h': 1, 'e': 1, 'l': 2, 'o': 1}\n"
     ]
    }
   ],
   "source": [
    "#9. or my\n",
    "\n",
    "def count_alphabets(s):\n",
    "    result = {}\n",
    "    for char in s:\n",
    "        if char.isalpha():\n",
    "            result[char] = result.get(char,0) + 1\n",
    "    return result\n",
    "    \n",
    "\n",
    "print(count_alphabets(\"hello\"))  # {\"h\": 1, \"e\": 1, \"l\": 2, \"o\": \"1\"}"
   ]
  },
  {
   "cell_type": "code",
   "execution_count": null,
   "id": "ba6e6427-caac-4a31-bdf4-c419116af758",
   "metadata": {},
   "outputs": [],
   "source": []
  }
 ],
 "metadata": {
  "kernelspec": {
   "display_name": "Python 3 (ipykernel)",
   "language": "python",
   "name": "python3"
  },
  "language_info": {
   "codemirror_mode": {
    "name": "ipython",
    "version": 3
   },
   "file_extension": ".py",
   "mimetype": "text/x-python",
   "name": "python",
   "nbconvert_exporter": "python",
   "pygments_lexer": "ipython3",
   "version": "3.12.1"
  }
 },
 "nbformat": 4,
 "nbformat_minor": 5
}
