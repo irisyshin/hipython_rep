{
 "cells": [
  {
   "cell_type": "markdown",
   "id": "491bd3c5-2388-4aa1-84a3-66d892afe89d",
   "metadata": {},
   "source": [
    "모듈은 파이썬 파일이다. 확장자가 '.py' 여야 한다"
   ]
  },
  {
   "cell_type": "code",
   "execution_count": 1,
   "id": "c1682765-c523-4adc-8a21-4cfed24ba8b6",
   "metadata": {},
   "outputs": [
    {
     "name": "stdout",
     "output_type": "stream",
     "text": [
      "first module\n",
      "The End...\n",
      "hello\n",
      "2nd hello\n"
     ]
    }
   ],
   "source": [
    "import first \n",
    "\n",
    "first.my_func()\n",
    "first.my_func1()"
   ]
  },
  {
   "cell_type": "code",
   "execution_count": 4,
   "id": "a47cbab6-2dd2-44c3-a815-6a35e1c5997a",
   "metadata": {},
   "outputs": [
    {
     "name": "stdout",
     "output_type": "stream",
     "text": [
      "hello\n",
      "2nd hello\n",
      "3rd hello\n"
     ]
    }
   ],
   "source": [
    "import first as fr\n",
    "\n",
    "fr.my_func()\n",
    "fr.my_func1()\n",
    "fr.my_func2()"
   ]
  },
  {
   "cell_type": "code",
   "execution_count": 9,
   "id": "728dd8d5-2d70-44f9-bbeb-7b0417d1e477",
   "metadata": {},
   "outputs": [
    {
     "name": "stdout",
     "output_type": "stream",
     "text": [
      "hello\n"
     ]
    }
   ],
   "source": [
    "from first import *\n",
    "my_func()"
   ]
  },
  {
   "cell_type": "code",
   "execution_count": 10,
   "id": "64414750-f8c9-43da-985b-9123e6f7cdc1",
   "metadata": {},
   "outputs": [
    {
     "data": {
      "text/plain": [
       "['__annotations__',\n",
       " '__builtins__',\n",
       " '__call__',\n",
       " '__class__',\n",
       " '__closure__',\n",
       " '__code__',\n",
       " '__defaults__',\n",
       " '__delattr__',\n",
       " '__dict__',\n",
       " '__dir__',\n",
       " '__doc__',\n",
       " '__eq__',\n",
       " '__format__',\n",
       " '__ge__',\n",
       " '__get__',\n",
       " '__getattribute__',\n",
       " '__getstate__',\n",
       " '__globals__',\n",
       " '__gt__',\n",
       " '__hash__',\n",
       " '__init__',\n",
       " '__init_subclass__',\n",
       " '__kwdefaults__',\n",
       " '__le__',\n",
       " '__lt__',\n",
       " '__module__',\n",
       " '__name__',\n",
       " '__ne__',\n",
       " '__new__',\n",
       " '__qualname__',\n",
       " '__reduce__',\n",
       " '__reduce_ex__',\n",
       " '__repr__',\n",
       " '__setattr__',\n",
       " '__sizeof__',\n",
       " '__str__',\n",
       " '__subclasshook__',\n",
       " '__type_params__']"
      ]
     },
     "execution_count": 10,
     "metadata": {},
     "output_type": "execute_result"
    }
   ],
   "source": [
    "dir(my_func)"
   ]
  },
  {
   "cell_type": "code",
   "execution_count": null,
   "id": "80895d7c-bf97-4fdc-9938-eaaa1abf42c8",
   "metadata": {},
   "outputs": [],
   "source": []
  }
 ],
 "metadata": {
  "kernelspec": {
   "display_name": "Python 3 (ipykernel)",
   "language": "python",
   "name": "python3"
  },
  "language_info": {
   "codemirror_mode": {
    "name": "ipython",
    "version": 3
   },
   "file_extension": ".py",
   "mimetype": "text/x-python",
   "name": "python",
   "nbconvert_exporter": "python",
   "pygments_lexer": "ipython3",
   "version": "3.12.1"
  }
 },
 "nbformat": 4,
 "nbformat_minor": 5
}
