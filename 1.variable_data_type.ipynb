{
 "cells": [
  {
   "cell_type": "markdown",
   "id": "5a4391da-aa23-4d71-a647-6236f69da103",
   "metadata": {},
   "source": [
    "# 표준 입력과 표준 출력"
   ]
  },
  {
   "cell_type": "code",
   "execution_count": 1,
   "id": "021cdefe-424a-4329-99f2-4a278387a5a3",
   "metadata": {},
   "outputs": [
    {
     "data": {
      "text/plain": [
       "10"
      ]
     },
     "execution_count": 1,
     "metadata": {},
     "output_type": "execute_result"
    }
   ],
   "source": [
    "12345\n",
    "10\n",
    "#ipython 기본 기능\n",
    "#print(12345) #표준 출력 기능을 내장하고 있음"
   ]
  },
  {
   "cell_type": "code",
   "execution_count": 2,
   "id": "58806154-71d5-4387-bb89-f8dbd6888c70",
   "metadata": {},
   "outputs": [
    {
     "name": "stdout",
     "output_type": "stream",
     "text": [
      "12345\n"
     ]
    },
    {
     "data": {
      "text/plain": [
       "10"
      ]
     },
     "execution_count": 2,
     "metadata": {},
     "output_type": "execute_result"
    }
   ],
   "source": [
    "print(12345)\n",
    "10 #정수형 -> int"
   ]
  },
  {
   "cell_type": "code",
   "execution_count": 3,
   "id": "e76caafe-2aba-41cf-b068-4a839ef3e2c4",
   "metadata": {},
   "outputs": [
    {
     "data": {
      "text/plain": [
       "'12345'"
      ]
     },
     "execution_count": 3,
     "metadata": {},
     "output_type": "execute_result"
    }
   ],
   "source": [
    "'12345' #문자열 -> str"
   ]
  },
  {
   "cell_type": "code",
   "execution_count": 4,
   "id": "7ee1bb7c-cbed-44b4-8dfb-001be91a07ea",
   "metadata": {},
   "outputs": [
    {
     "data": {
      "text/plain": [
       "int"
      ]
     },
     "execution_count": 4,
     "metadata": {},
     "output_type": "execute_result"
    }
   ],
   "source": [
    "type(12345)"
   ]
  },
  {
   "cell_type": "code",
   "execution_count": 5,
   "id": "c8f97c71-39c3-43b6-aea9-1cecc64daa40",
   "metadata": {},
   "outputs": [
    {
     "data": {
      "text/plain": [
       "str"
      ]
     },
     "execution_count": 5,
     "metadata": {},
     "output_type": "execute_result"
    }
   ],
   "source": [
    "type(\"12345\")"
   ]
  },
  {
   "cell_type": "code",
   "execution_count": 6,
   "id": "4970cf5e-326b-4098-9cd9-fe593d75015f",
   "metadata": {},
   "outputs": [
    {
     "data": {
      "text/plain": [
       "str"
      ]
     },
     "execution_count": 6,
     "metadata": {},
     "output_type": "execute_result"
    }
   ],
   "source": [
    "type('12345')"
   ]
  },
  {
   "cell_type": "code",
   "execution_count": 7,
   "id": "5dcce803-d311-4334-b9af-3d7238520e70",
   "metadata": {},
   "outputs": [
    {
     "data": {
      "text/plain": [
       "'123451234512345'"
      ]
     },
     "execution_count": 7,
     "metadata": {},
     "output_type": "execute_result"
    }
   ],
   "source": [
    "\"12345\"*3"
   ]
  },
  {
   "cell_type": "code",
   "execution_count": 8,
   "id": "4059c2c2-2462-4b76-8385-c9c1c669bdaf",
   "metadata": {},
   "outputs": [
    {
     "data": {
      "text/plain": [
       "'num = 12345...'"
      ]
     },
     "execution_count": 8,
     "metadata": {},
     "output_type": "execute_result"
    }
   ],
   "source": [
    "\"num = \"+\"12345...\""
   ]
  },
  {
   "cell_type": "code",
   "execution_count": 9,
   "id": "5815fb75-ba3e-49ee-a358-3bacc4932142",
   "metadata": {},
   "outputs": [
    {
     "name": "stdout",
     "output_type": "stream",
     "text": [
      "당신의 이름을 입력하세요:  신윤서 \n",
      "당신의 나이를 입력하세요:  15\n"
     ]
    }
   ],
   "source": [
    "#값 입력 받기\n",
    "name = input(\"당신의 이름을 입력하세요: \")\n",
    "age = input(\"당신의 나이를 입력하세요: \")\n",
    "# age = int(input(\"당신의 나이를 입력하세요: \"))"
   ]
  },
  {
   "cell_type": "code",
   "execution_count": 10,
   "id": "c6b559e7-2107-468f-91ce-0a343b4cb39b",
   "metadata": {},
   "outputs": [
    {
     "name": "stdout",
     "output_type": "stream",
     "text": [
      "신윤서  15\n"
     ]
    }
   ],
   "source": [
    "print(name, age)"
   ]
  },
  {
   "cell_type": "code",
   "execution_count": 11,
   "id": "53278505-d2c6-4b3d-b6bf-9b65327c93b5",
   "metadata": {},
   "outputs": [
    {
     "name": "stdout",
     "output_type": "stream",
     "text": [
      "나는 신윤서  이고 나이는 15 입니다.\n"
     ]
    }
   ],
   "source": [
    "print(\"나는\",name,\"이고 나이는\", age, \"입니다.\")"
   ]
  },
  {
   "cell_type": "code",
   "execution_count": 12,
   "id": "7d91a09e-f93e-4fd9-b5ca-1562157e44fb",
   "metadata": {},
   "outputs": [
    {
     "name": "stdout",
     "output_type": "stream",
     "text": [
      "나는 신윤서 이고 나이는 15입니다.\n"
     ]
    }
   ],
   "source": [
    "print(\"나는 \"+name+\"이고 나이는 \"+age+\"입니다.\")"
   ]
  },
  {
   "cell_type": "code",
   "execution_count": 13,
   "id": "2234caba-8bc6-416a-8e03-6986d21b8fc5",
   "metadata": {},
   "outputs": [],
   "source": [
    "age=int(age)"
   ]
  },
  {
   "cell_type": "code",
   "execution_count": 14,
   "id": "f86d28a9-038b-435e-8316-d128a82f5537",
   "metadata": {},
   "outputs": [
    {
     "data": {
      "text/plain": [
       "25"
      ]
     },
     "execution_count": 14,
     "metadata": {},
     "output_type": "execute_result"
    }
   ],
   "source": [
    "age + 10"
   ]
  },
  {
   "cell_type": "markdown",
   "id": "71f76974-7d98-4bcc-b1ab-13f4e7d9188c",
   "metadata": {},
   "source": [
    "# 연습"
   ]
  },
  {
   "cell_type": "code",
   "execution_count": 15,
   "id": "a3878b9e-7e4c-49b6-8f89-04ed53f7f8ce",
   "metadata": {},
   "outputs": [
    {
     "name": "stdout",
     "output_type": "stream",
     "text": [
      "신: 신기하게 오늘\n",
      "윤: 윤슬도 봤고\n",
      "서: 서늘한 바람도 불잖아! 완벽!!\n"
     ]
    }
   ],
   "source": [
    "# 자기 이름으로 삼행시 짓기\n",
    "\n",
    "print(\"신: 신기하게 오늘\")\n",
    "print(\"윤: 윤슬도 봤고\")\n",
    "print(\"서: 서늘한 바람도 불잖아! 완벽!!\")\n",
    "\n"
   ]
  },
  {
   "cell_type": "code",
   "execution_count": 16,
   "id": "3a1982eb-9be0-4dcb-88ff-f716f22acba5",
   "metadata": {},
   "outputs": [
    {
     "name": "stdout",
     "output_type": "stream",
     "text": [
      "신:  신기하게 오늘\n",
      "윤:  윤슬도 봤고\n",
      "서:  서늘한 바람도 불잖아! 완벽!!\n"
     ]
    },
    {
     "name": "stdout",
     "output_type": "stream",
     "text": [
      "신기하게 오늘\n",
      " 윤슬도 봤고\n",
      " 서늘한 바람도 불잖아! 완벽!!\n"
     ]
    }
   ],
   "source": [
    "first_line = input(\"신: \")\n",
    "sec_line = input(\"윤: \")\n",
    "thrid_line = input(\"서: \")\n",
    "\n",
    "print(first_line, sec_line, thrid_line, sep=\"\\n \")"
   ]
  },
  {
   "cell_type": "markdown",
   "id": "f50098e9-4704-4d71-8d33-a822aff4ca93",
   "metadata": {},
   "source": [
    "문자열의 시작이 \\ -> 이스케이프 문자, 특수문자 \\n \\\\ \\t"
   ]
  },
  {
   "cell_type": "code",
   "execution_count": 17,
   "id": "613fe4ce-6135-41ab-b895-bbbbc692ad9b",
   "metadata": {},
   "outputs": [
    {
     "name": "stdout",
     "output_type": "stream",
     "text": [
      "신기하게 오늘\n",
      "윤슬도 봤고\n",
      "서늘한 바람도 불잖아! 완벽!!\n"
     ]
    }
   ],
   "source": [
    "삼행시 = first_line + \"\\n\"+ sec_line +\"\\n\"+ thrid_line\n",
    "print(삼행시)"
   ]
  },
  {
   "cell_type": "markdown",
   "id": "2498b8cb-8480-467b-905c-d226bcab3688",
   "metadata": {},
   "source": [
    "# 변수"
   ]
  },
  {
   "cell_type": "markdown",
   "id": "01a68337-d8b5-4b72-a494-c365dd0b67c2",
   "metadata": {},
   "source": [
    "변수는 type safe: 변수를 선언할 때 타입(유형)을 지정하지 않아도 되는 특성   \n",
    "변수양 = 값"
   ]
  },
  {
   "cell_type": "markdown",
   "id": "534edd96-47e1-49e4-a6b0-126d669ed83d",
   "metadata": {},
   "source": [
    "## 변수의 명명규칙\n",
    "1. 문자, 숫자, 밑줄을 가지고 만든다\n",
    "2. 숫자로 시작하면 X\n",
    "3. 대소문자를 구분\n",
    "4. 특수기호, 공백 X"
   ]
  },
  {
   "cell_type": "code",
   "execution_count": 18,
   "id": "796d2d97-9008-44b7-98c1-bf521f20a8b6",
   "metadata": {},
   "outputs": [
    {
     "data": {
      "text/plain": [
       "(10, 'hello', 3.141592)"
      ]
     },
     "execution_count": 18,
     "metadata": {},
     "output_type": "execute_result"
    }
   ],
   "source": [
    "x = 10\n",
    "y = 'hello'\n",
    "z = 3.141592\n",
    "x,y,z"
   ]
  },
  {
   "cell_type": "code",
   "execution_count": 19,
   "id": "18f52839-4d8e-43e4-8808-46f5516ab459",
   "metadata": {},
   "outputs": [
    {
     "data": {
      "text/plain": [
       "(int, str, float)"
      ]
     },
     "execution_count": 19,
     "metadata": {},
     "output_type": "execute_result"
    }
   ],
   "source": [
    "type(x),type(y),type(z)"
   ]
  },
  {
   "cell_type": "code",
   "execution_count": 20,
   "id": "b8431d12-bc0c-4bc2-b2a7-cbb6fb6c9a8e",
   "metadata": {},
   "outputs": [
    {
     "name": "stdout",
     "output_type": "stream",
     "text": [
      "<class 'int'> <class 'str'> <class 'float'>\n"
     ]
    }
   ],
   "source": [
    "print(type(x),type(y),type(z))"
   ]
  },
  {
   "cell_type": "code",
   "execution_count": 21,
   "id": "06d1e923-71a5-4056-b3c6-8e29ae51c802",
   "metadata": {},
   "outputs": [
    {
     "data": {
      "text/plain": [
       "(10, 20, 30)"
      ]
     },
     "execution_count": 21,
     "metadata": {},
     "output_type": "execute_result"
    }
   ],
   "source": [
    "a,b,c = 10,20,30\n",
    "a,b,c"
   ]
  },
  {
   "cell_type": "code",
   "execution_count": 22,
   "id": "eb15660b-3b47-48f8-948a-bfdcc0b85877",
   "metadata": {},
   "outputs": [],
   "source": [
    "a =10; b=20; c=30;"
   ]
  },
  {
   "cell_type": "code",
   "execution_count": 23,
   "id": "b9e179a5-46fb-4662-bf76-f92ba18d7afd",
   "metadata": {},
   "outputs": [],
   "source": [
    "a = b= c= 40"
   ]
  },
  {
   "cell_type": "code",
   "execution_count": 24,
   "id": "996349de-3b9b-4248-8ccd-0613f1f7954b",
   "metadata": {},
   "outputs": [
    {
     "data": {
      "text/plain": [
       "(40, 40, 40)"
      ]
     },
     "execution_count": 24,
     "metadata": {},
     "output_type": "execute_result"
    }
   ],
   "source": [
    "a,b,c"
   ]
  },
  {
   "cell_type": "code",
   "execution_count": 25,
   "id": "f8509e49-b797-4ec6-853c-c6593d411557",
   "metadata": {},
   "outputs": [
    {
     "data": {
      "text/plain": [
       "(True, None)"
      ]
     },
     "execution_count": 25,
     "metadata": {},
     "output_type": "execute_result"
    }
   ],
   "source": [
    "d = True #bool\n",
    "e = None #nonetype \n",
    "d,e"
   ]
  },
  {
   "cell_type": "code",
   "execution_count": 26,
   "id": "8fd3902f-6f78-481f-a750-01ddf58f63ab",
   "metadata": {},
   "outputs": [
    {
     "name": "stdout",
     "output_type": "stream",
     "text": [
      "10 10\n"
     ]
    },
    {
     "data": {
      "text/plain": [
       "(140728258169560, 140728258169560)"
      ]
     },
     "execution_count": 26,
     "metadata": {},
     "output_type": "execute_result"
    }
   ],
   "source": [
    "aa = 10\n",
    "bb = aa\n",
    "print(aa,bb)\n",
    "id(aa), id(bb)"
   ]
  },
  {
   "cell_type": "code",
   "execution_count": 27,
   "id": "23f8ca7a-4e0b-4a13-a862-a98794cac543",
   "metadata": {},
   "outputs": [
    {
     "name": "stdout",
     "output_type": "stream",
     "text": [
      "20 40\n"
     ]
    }
   ],
   "source": [
    "a = 20\n",
    "print(a,b)"
   ]
  },
  {
   "cell_type": "code",
   "execution_count": 29,
   "id": "8f82783d-0941-469c-aa95-4da9a8999b80",
   "metadata": {},
   "outputs": [],
   "source": [
    "#의미부여하기 어려운 변수명 > 수식이 아닌 경우는 사용하지 않음\n",
    "\n",
    "#의미 있는 변수명\n",
    "\n",
    "#대문자 upper-case 상수에 사용 \n",
    "PI = 3.141592\n",
    "MAX_CONNECTIONS = 10 #no. max connection\n",
    "MIN_VALUE = 0 #min"
   ]
  },
  {
   "cell_type": "markdown",
   "id": "1950974a-44cf-42d2-8070-2ffa2af2067b",
   "metadata": {},
   "source": [
    "# NAME_SPACE\n",
    "\n",
    "변수가 최초로 정의된 영역에 따라 유효범위가 결정됩니다.\n",
    "\n",
    "- 지역변수: 함수 내에서 선언\n",
    "- 전역변수: 함수 영역 밖에서 선언한 변수, global 키워드\n",
    "- 정적변수ㅣ클래스에서 사용하는 변수"
   ]
  },
  {
   "cell_type": "code",
   "execution_count": 33,
   "id": "c85fbda5-8717-49ed-9d5e-a5fffdff3474",
   "metadata": {},
   "outputs": [
    {
     "name": "stdout",
     "output_type": "stream",
     "text": [
      "여기는 함수의 영역입니다.  100\n"
     ]
    }
   ],
   "source": [
    "#지역변수 \n",
    "def local_example():\n",
    "    local_var = 100\n",
    "    print(\"여기는 함수의 영역입니다. \", local_var)\n",
    "\n",
    "local_example()"
   ]
  },
  {
   "cell_type": "code",
   "execution_count": 38,
   "id": "314009f7-fde0-4588-8b98-52bd9ec8b465",
   "metadata": {},
   "outputs": [
    {
     "name": "stdout",
     "output_type": "stream",
     "text": [
      "나는 전역이다\n",
      "여기는 함수의 영역입니다.  100\n",
      "100\n"
     ]
    }
   ],
   "source": [
    "#전역변수\n",
    "var_test = \"나는 전역이다\"\n",
    "print(var_test)\n",
    "\n",
    "def global_example():\n",
    "    global var_test\n",
    "    var_test = 100\n",
    "    print(\"여기는 함수의 영역입니다. \", var_test)\n",
    "\n",
    "global_example()\n",
    "print(var_test)"
   ]
  },
  {
   "cell_type": "code",
   "execution_count": 49,
   "id": "ece533ef-fabe-42e3-9279-6ca499e3cd4b",
   "metadata": {},
   "outputs": [
    {
     "name": "stdout",
     "output_type": "stream",
     "text": [
      "counter :  1\n",
      "counter :  2\n",
      "counter :  3\n"
     ]
    }
   ],
   "source": [
    "# 변수 영역 연습 \n",
    "\n",
    "counter = 0 #global\n",
    "\n",
    "def increment_counter():\n",
    "    #counter = counter +1\n",
    "    global counter\n",
    "    counter += 1\n",
    "    print(\"counter : \", counter)\n",
    "    \n",
    "increment_counter()\n",
    "increment_counter()\n",
    "increment_counter()"
   ]
  },
  {
   "cell_type": "markdown",
   "id": "f3057761-c19e-4e40-9d15-4216a14f8262",
   "metadata": {},
   "source": [
    "# 변수 연습"
   ]
  },
  {
   "cell_type": "code",
   "execution_count": 51,
   "id": "2deb80ab-7339-4344-a922-d58df5095ca9",
   "metadata": {},
   "outputs": [
    {
     "data": {
      "text/plain": [
       "(1, 'python', [1, 2, 3])"
      ]
     },
     "execution_count": 51,
     "metadata": {},
     "output_type": "execute_result"
    }
   ],
   "source": [
    "a = 1\n",
    "b = \"python\"\n",
    "c = [1, 2, 3]\n",
    "\n",
    "a,b,c"
   ]
  },
  {
   "cell_type": "code",
   "execution_count": 55,
   "id": "dcc4c341-0f0f-406a-bf7d-38268608932c",
   "metadata": {},
   "outputs": [
    {
     "name": "stdout",
     "output_type": "stream",
     "text": [
      "[1, 2, 3]\n",
      "[1, 2, 3]\n",
      "[1, 4, 3]\n",
      "[1, 4, 3]\n"
     ]
    }
   ],
   "source": [
    "#02-8\n",
    "a = [1, 2, 3]\n",
    "b = a\n",
    "print(a)\n",
    "print(b)\n",
    "a is b\n",
    "\n",
    "a[1] = 4\n",
    "print(a)\n",
    "print(b)"
   ]
  },
  {
   "cell_type": "code",
   "execution_count": 69,
   "id": "52a0e3e1-cfc9-48d8-bc80-f04d4dabb44c",
   "metadata": {},
   "outputs": [
    {
     "name": "stdout",
     "output_type": "stream",
     "text": [
      "Hello World\n",
      "Mary's cosmetics\n",
      "신씨가 소리질렀다. \"도둑이야\".\n",
      "C:\\Windows\n",
      "안녕하세요. \n",
      "만나서\t반갑습니다.\n",
      "오늘은 일요일\n",
      "naver;kakao;sk;samsung\n",
      "naver/kakao/sk/samsung\n",
      "firstsecond\n"
     ]
    },
    {
     "name": "stderr",
     "output_type": "stream",
     "text": [
      "<>:9: SyntaxWarning: invalid escape sequence '\\W'\n",
      "<>:9: SyntaxWarning: invalid escape sequence '\\W'\n",
      "C:\\Users\\Admin\\AppData\\Local\\Temp\\ipykernel_6736\\1678798798.py:9: SyntaxWarning: invalid escape sequence '\\W'\n",
      "  print(\"C:\\Windows\")\n"
     ]
    }
   ],
   "source": [
    "#초보자를 위한 파이썬 300제\n",
    "#파이썬 시작하기\n",
    "#1\n",
    "print(\"Hello World\")\n",
    "#2 \n",
    "print(\"Mary's cosmetics\")\n",
    "#3\n",
    "print('신씨가 소리질렀다. \"도둑이야\".')\n",
    "#4\n",
    "print(\"C:\\Windows\")\n",
    "#5\n",
    "print(\"안녕하세요. \\n만나서\\t반갑습니다.\")\n",
    "#6 \n",
    "print(\"오늘은\", \"일요일\")\n",
    "#7 \n",
    "print(\"naver\", \"kakao\", \"sk\", \"samsung\", sep=\";\")\n",
    "#8\n",
    "print(\"naver\", \"kakao\", \"sk\", \"samsung\", sep=\"/\")\n",
    "#9\n",
    "print(\"first\", end=\"\"); print(\"second\")"
   ]
  },
  {
   "cell_type": "code",
   "execution_count": 72,
   "id": "db9700b0-db7f-4636-85e3-b08407f3adc3",
   "metadata": {},
   "outputs": [
    {
     "name": "stdout",
     "output_type": "stream",
     "text": [
      "500000\n",
      "298000000000000 <class 'int'>\n",
      "50000 <class 'int'>\n",
      "15.76 <class 'float'>\n"
     ]
    }
   ],
   "source": [
    "#파이썬 변수 \n",
    "#11\n",
    "삼성전자 = 50000\n",
    "총_평가금액 = 삼성전자*10\n",
    "print(총_평가금액)\n",
    "#12\n",
    "시가총액 = 298000000000000\n",
    "현재가 = 50000\n",
    "PER = 15.76\n",
    "print(시가총액, type(시가총액))\n",
    "print(현재가, type(현재가))\n",
    "print(PER, type(PER))\n",
    "#13\n",
    "#14\n",
    "#15\n",
    "#16\n",
    "#17              \n",
    "#18\n",
    "#19\n",
    "#20\n"
   ]
  },
  {
   "cell_type": "markdown",
   "id": "68e293e1-bb31-4e75-88e4-a0e4793c762a",
   "metadata": {},
   "source": [
    "# 자료형\n",
    "\n",
    "- 기본자료형: 숫자형, 문자열형 str,\n",
    "- 복합 자료형 : 리스트, 셋, 튜플, 딕셔너리\n",
    "\n",
    "|type|설명|예|\n",
    "|-------|-------|-------|\n",
    "|정수형 (int)| 정수를 저장하는 자료형 |1,2,-5|\n",
    "|실수형 (float)|소수점이 있는 숫자를 저장하는 자료형|3.14, -0.001, 2.0|\n",
    "|문자열 (str)|텍스트를 저장하는 자료형|\"Hello\", '파이썬'|\n",
    "|논리형 (bool)|참/거짓 값을 저장하는 자료형|True, False|"
   ]
  },
  {
   "cell_type": "code",
   "execution_count": 74,
   "id": "b1563839-d20d-49f8-8c64-5bb871725452",
   "metadata": {},
   "outputs": [
    {
     "data": {
      "text/plain": [
       "(20, int)"
      ]
     },
     "execution_count": 74,
     "metadata": {},
     "output_type": "execute_result"
    }
   ],
   "source": [
    "#수치형 - int\n",
    "20, type(20)"
   ]
  },
  {
   "cell_type": "code",
   "execution_count": 75,
   "id": "11229641-2ce3-4293-a4b1-6ceb45f244a3",
   "metadata": {},
   "outputs": [
    {
     "data": {
      "text/plain": [
       "int"
      ]
     },
     "execution_count": 75,
     "metadata": {},
     "output_type": "execute_result"
    }
   ],
   "source": [
    "age = 10\n",
    "type(age)"
   ]
  },
  {
   "cell_type": "markdown",
   "id": "ffd879ac-2792-4c26-9aab-5be557cde684",
   "metadata": {},
   "source": [
    "1. 진법: 10진수, 2진수, 8진수, 16진수\n",
    "2. 입력하는 방법은 다르지만 print결과는 동일"
   ]
  },
  {
   "cell_type": "code",
   "execution_count": 80,
   "id": "a9c2b18a-61de-416d-b884-47ed8ec842bf",
   "metadata": {},
   "outputs": [
    {
     "data": {
      "text/plain": [
       "(10, 5)"
      ]
     },
     "execution_count": 80,
     "metadata": {},
     "output_type": "execute_result"
    }
   ],
   "source": [
    "a=10\n",
    "b=0b0101 #2wlstn - 0/1fh vygusgksms qkdqjq -> 2^2+2^0\n",
    "a,b"
   ]
  },
  {
   "cell_type": "code",
   "execution_count": 81,
   "id": "05bfe97d-4bdb-4139-88c1-36e78de128ef",
   "metadata": {},
   "outputs": [
    {
     "data": {
      "text/plain": [
       "(8, 8)"
      ]
     },
     "execution_count": 81,
     "metadata": {},
     "output_type": "execute_result"
    }
   ],
   "source": [
    "c=0o10\n",
    "d=0b1000\n",
    "c,d"
   ]
  },
  {
   "cell_type": "code",
   "execution_count": 82,
   "id": "6cf02225-d421-49a5-8a2a-fce613bd6d21",
   "metadata": {},
   "outputs": [],
   "source": [
    "#진수 리뷰"
   ]
  },
  {
   "cell_type": "code",
   "execution_count": 83,
   "id": "59f300f4-2061-4a6a-b2c1-7f47c65ac530",
   "metadata": {},
   "outputs": [
    {
     "data": {
      "text/plain": [
       "(3.15, float)"
      ]
     },
     "execution_count": 83,
     "metadata": {},
     "output_type": "execute_result"
    }
   ],
   "source": [
    "#float\n",
    "b=3.15\n",
    "b, type(b)"
   ]
  },
  {
   "cell_type": "markdown",
   "id": "90761f92-3d89-4bba-9558-2d2c18bf2679",
   "metadata": {},
   "source": [
    "지수의 표기\n",
    "\n",
    "숫자e2 -> 10^2의 곱 = 10**2\n",
    "숫자e-2 -> 10^-2의 곱 = 10**-2"
   ]
  },
  {
   "cell_type": "code",
   "execution_count": 89,
   "id": "c0c3b424-4a03-4f9d-b03d-1ef560ea8f66",
   "metadata": {},
   "outputs": [
    {
     "data": {
      "text/plain": [
       "(1000.0, 1000)"
      ]
     },
     "execution_count": 89,
     "metadata": {},
     "output_type": "execute_result"
    }
   ],
   "source": [
    "fa = 10e2\n",
    "fa, 10**3"
   ]
  },
  {
   "cell_type": "code",
   "execution_count": 88,
   "id": "9d64e800-a709-4d59-a59f-76179c5ee9aa",
   "metadata": {},
   "outputs": [
    {
     "data": {
      "text/plain": [
       "0.1"
      ]
     },
     "execution_count": 88,
     "metadata": {},
     "output_type": "execute_result"
    }
   ],
   "source": [
    "fb = 10e-2\n",
    "fb"
   ]
  },
  {
   "cell_type": "code",
   "execution_count": 90,
   "id": "80abe03d-f923-481a-a611-d28da79e37a8",
   "metadata": {},
   "outputs": [
    {
     "data": {
      "text/plain": [
       "3141500000.0"
      ]
     },
     "execution_count": 90,
     "metadata": {},
     "output_type": "execute_result"
    }
   ],
   "source": [
    "fc = 3.1415e9\n",
    "fc"
   ]
  },
  {
   "cell_type": "code",
   "execution_count": 91,
   "id": "f0a64336-ff0f-4c1d-913d-e406610a2ef8",
   "metadata": {},
   "outputs": [],
   "source": [
    "#boolean - True, False\n",
    "#논리연산, 비교연산(T/F)에서 사용"
   ]
  },
  {
   "cell_type": "code",
   "execution_count": 93,
   "id": "86030530-316f-4d06-a1ec-bb609bba6f75",
   "metadata": {},
   "outputs": [],
   "source": [
    "ba = True\n",
    "#bb = true -> 지정이 안되어있어서"
   ]
  },
  {
   "cell_type": "code",
   "execution_count": 94,
   "id": "72db24c9-397e-4bbe-8c88-a75bf2a434cb",
   "metadata": {},
   "outputs": [
    {
     "data": {
      "text/plain": [
       "1"
      ]
     },
     "execution_count": 94,
     "metadata": {},
     "output_type": "execute_result"
    }
   ],
   "source": [
    "# 논리연산자 - and or not\n",
    "\n",
    "bc = 1\n",
    "ba and bc"
   ]
  },
  {
   "cell_type": "code",
   "execution_count": 95,
   "id": "15ee95ba-08dc-4782-9773-9dabf21bc5d1",
   "metadata": {},
   "outputs": [],
   "source": [
    "#사칙연산 - + - * / // %\n",
    "a=2\n",
    "b=3"
   ]
  },
  {
   "cell_type": "code",
   "execution_count": 98,
   "id": "a20e59f1-dbb2-4513-917b-7661a9e3cd4f",
   "metadata": {},
   "outputs": [
    {
     "data": {
      "text/plain": [
       "(0, 2)"
      ]
     },
     "execution_count": 98,
     "metadata": {},
     "output_type": "execute_result"
    }
   ],
   "source": [
    "a+b\n",
    "a-b\n",
    "a*b\n",
    "a/b\n",
    "a//b, a%b #몫, remainder\n"
   ]
  },
  {
   "cell_type": "code",
   "execution_count": 106,
   "id": "d6544cb1-9889-4423-9d81-e22fe2cf05c7",
   "metadata": {},
   "outputs": [
    {
     "data": {
      "text/plain": [
       "True"
      ]
     },
     "execution_count": 106,
     "metadata": {},
     "output_type": "execute_result"
    }
   ],
   "source": [
    "#비교연산자\n",
    "1+3 == 4\n",
    "1+2 != 3\n",
    "1+3 > 3\n",
    "1+3 <= 4"
   ]
  },
  {
   "cell_type": "code",
   "execution_count": 108,
   "id": "34bbd302-171a-4769-bdad-0b3c9fb78150",
   "metadata": {},
   "outputs": [
    {
     "data": {
      "text/plain": [
       "True"
      ]
     },
     "execution_count": 108,
     "metadata": {},
     "output_type": "execute_result"
    }
   ],
   "source": [
    "#비교연산자와 논리연산자의 결합\n",
    "10%2 == 0 and 12%3==0"
   ]
  },
  {
   "cell_type": "code",
   "execution_count": 110,
   "id": "7a4df727-b578-4c69-8c9b-dc2db8858a71",
   "metadata": {},
   "outputs": [
    {
     "data": {
      "text/plain": [
       "False"
      ]
     },
     "execution_count": 110,
     "metadata": {},
     "output_type": "execute_result"
    }
   ],
   "source": [
    "a = '1234'\n",
    "b = '5678'\n",
    "a,b, id(a), id(b)\n",
    "id(a) == id(b)"
   ]
  },
  {
   "cell_type": "code",
   "execution_count": 113,
   "id": "8ce499c9-3f94-4038-beaf-fa866d847564",
   "metadata": {},
   "outputs": [
    {
     "data": {
      "text/plain": [
       "11"
      ]
     },
     "execution_count": 113,
     "metadata": {},
     "output_type": "execute_result"
    }
   ],
   "source": [
    "# 대입연산자\n",
    "a = 10\n",
    "b = a+2\n",
    "a,b\n",
    "a += 1\n",
    "a"
   ]
  },
  {
   "cell_type": "code",
   "execution_count": 116,
   "id": "7a6856b5-5665-4c98-b18d-a35535938f2d",
   "metadata": {},
   "outputs": [
    {
     "data": {
      "text/plain": [
       "39"
      ]
     },
     "execution_count": 116,
     "metadata": {},
     "output_type": "execute_result"
    }
   ],
   "source": [
    "b= 34\n",
    "b += 10 #44\n",
    "b -= 5 #39\n",
    "b"
   ]
  },
  {
   "cell_type": "markdown",
   "id": "461666a0-7baa-45d6-8bc2-3ae8ededa06b",
   "metadata": {},
   "source": [
    "# 문자열 str\n",
    "\n",
    "' ', \" \", \"\"\" \"\"\", ''' ''' docstring\n",
    "\n",
    "인코딩 > 코드 > 숫자값 정해져 있어요 \"코드표\""
   ]
  },
  {
   "cell_type": "markdown",
   "id": "d47e7293-4ee0-4a16-bf3a-031b9aba4233",
   "metadata": {},
   "source": [
    "unicode -> 문자 표준 \n",
    "영어는 ascii -> 유니코드\n",
    "한국어도 유니코드 \n",
    "\n",
    "유니코드가 글자의 크디에 따라 ->  utf-8, [utf-16, utf-32]\n",
    "\n",
    "파이썬의 문자열 str -> unicode base\n",
    "\n",
    "euc-kr : 예전에 우리나라에서 쓰던 한글 코드\n",
    "\n",
    "cp949 : MS windows의 한글코드"
   ]
  },
  {
   "cell_type": "code",
   "execution_count": 2,
   "id": "dbea7cfa-da5a-4a60-8b82-453e793761d6",
   "metadata": {},
   "outputs": [
    {
     "name": "stdout",
     "output_type": "stream",
     "text": [
      "파이썬\n",
      "54028\n"
     ]
    }
   ],
   "source": [
    "text = \"파이썬\"\n",
    "print(text)\n",
    "print(ord(\"파\"))"
   ]
  },
  {
   "cell_type": "code",
   "execution_count": 15,
   "id": "ae9ad0eb-ef05-4bde-a87f-6b2a4b2a6334",
   "metadata": {},
   "outputs": [
    {
     "data": {
      "text/plain": [
       "b'hi this is python'"
      ]
     },
     "execution_count": 15,
     "metadata": {},
     "output_type": "execute_result"
    }
   ],
   "source": [
    "#인코딩\n",
    "enc_text = text.encode(\"utf-8\")\n",
    "enc_text"
   ]
  },
  {
   "cell_type": "code",
   "execution_count": 16,
   "id": "d6acb5ab-29f1-41ef-9fdb-14f1913fea0d",
   "metadata": {},
   "outputs": [
    {
     "data": {
      "text/plain": [
       "'hi this is python'"
      ]
     },
     "execution_count": 16,
     "metadata": {},
     "output_type": "execute_result"
    }
   ],
   "source": [
    "dec_text = enc_text.decode(\"utf-8\")\n",
    "dec_text"
   ]
  },
  {
   "cell_type": "code",
   "execution_count": 17,
   "id": "6fd1a793-0185-4fa4-8765-bf710bf07934",
   "metadata": {},
   "outputs": [],
   "source": [
    "text = \"신윤서\""
   ]
  },
  {
   "cell_type": "code",
   "execution_count": 18,
   "id": "d2ad2b00-6e1a-4914-b251-129b5a58578b",
   "metadata": {},
   "outputs": [],
   "source": [
    "text=\"hi this is python\""
   ]
  },
  {
   "cell_type": "code",
   "execution_count": 117,
   "id": "8fd7edbc-4e74-4006-b0ed-ede2bc6c624f",
   "metadata": {},
   "outputs": [
    {
     "data": {
      "text/plain": [
       "'hellopython'"
      ]
     },
     "execution_count": 117,
     "metadata": {},
     "output_type": "execute_result"
    }
   ],
   "source": [
    "a = \"hello\"\n",
    "b = \"python\"\n",
    "a+b"
   ]
  },
  {
   "cell_type": "code",
   "execution_count": 118,
   "id": "0b905415-7af2-404a-b848-7408341aa3a8",
   "metadata": {},
   "outputs": [
    {
     "data": {
      "text/plain": [
       "'**********'"
      ]
     },
     "execution_count": 118,
     "metadata": {},
     "output_type": "execute_result"
    }
   ],
   "source": [
    "c=\"*\"\n",
    "c*10"
   ]
  },
  {
   "cell_type": "code",
   "execution_count": 119,
   "id": "eb1d5529-4d15-47f9-99d1-cd374175e848",
   "metadata": {},
   "outputs": [
    {
     "data": {
      "text/plain": [
       "True"
      ]
     },
     "execution_count": 119,
     "metadata": {},
     "output_type": "execute_result"
    }
   ],
   "source": [
    "e = '1'\n",
    "e == '1'\n"
   ]
  },
  {
   "cell_type": "code",
   "execution_count": 127,
   "id": "43a72e02-4cb8-402c-8c0f-da2fcfea58ca",
   "metadata": {},
   "outputs": [
    {
     "data": {
      "text/plain": [
       "'abcd'"
      ]
     },
     "execution_count": 127,
     "metadata": {},
     "output_type": "execute_result"
    }
   ],
   "source": [
    "#문자열은 리스트, 열거형\n",
    "a = '20010331Rabcd' #list of 13 letters\n",
    "a[0] #자릿수 ->index\n",
    "a[3] #indexing\n",
    "a[0:4] #영역을 지정할 때 : (콜론 사용) -> slicing\n",
    "a[:4]\n",
    "a[-5:-2] #a[8:11]\n",
    "a[9:]"
   ]
  },
  {
   "cell_type": "code",
   "execution_count": 129,
   "id": "aeac78b6-2333-432b-8b84-801599a72511",
   "metadata": {},
   "outputs": [
    {
     "data": {
      "text/plain": [
       "True"
      ]
     },
     "execution_count": 129,
     "metadata": {},
     "output_type": "execute_result"
    }
   ],
   "source": [
    "s = 'abc'\n",
    "a = s\n",
    "a is s"
   ]
  },
  {
   "cell_type": "code",
   "execution_count": 132,
   "id": "513f954c-0ea6-40fc-bb02-4cfed586708a",
   "metadata": {},
   "outputs": [
    {
     "data": {
      "text/plain": [
       "True"
      ]
     },
     "execution_count": 132,
     "metadata": {},
     "output_type": "execute_result"
    }
   ],
   "source": [
    "b = s[:]\n",
    "b\n",
    "a is b"
   ]
  },
  {
   "cell_type": "code",
   "execution_count": 24,
   "id": "b56c89e2-db3e-4f6a-8a2d-94758ff41272",
   "metadata": {},
   "outputs": [
    {
     "name": "stdout",
     "output_type": "stream",
     "text": [
      "docstring \n",
      "\n",
      "start \n",
      "\n",
      "end \n",
      "\n",
      "\n"
     ]
    }
   ],
   "source": [
    "doc_string = '''docstring \\n\n",
    "start \\n\n",
    "end \\n\n",
    "'''\n",
    "\n",
    "\"\"\" \"\"\"\n",
    "#shift+tab -> 함수의 문자 열림 \n",
    "print(doc_string)"
   ]
  },
  {
   "cell_type": "markdown",
   "id": "085664cd-757f-4ab7-a1a0-da6280766c58",
   "metadata": {},
   "source": [
    "# str의 함수\n",
    "\n",
    "dir()"
   ]
  },
  {
   "cell_type": "code",
   "execution_count": 25,
   "id": "9e392d55-23cb-4be4-b282-f43cba134d5c",
   "metadata": {
    "scrolled": true
   },
   "outputs": [
    {
     "data": {
      "text/plain": [
       "['__add__',\n",
       " '__class__',\n",
       " '__contains__',\n",
       " '__delattr__',\n",
       " '__dir__',\n",
       " '__doc__',\n",
       " '__eq__',\n",
       " '__format__',\n",
       " '__ge__',\n",
       " '__getattribute__',\n",
       " '__getitem__',\n",
       " '__getnewargs__',\n",
       " '__getstate__',\n",
       " '__gt__',\n",
       " '__hash__',\n",
       " '__init__',\n",
       " '__init_subclass__',\n",
       " '__iter__',\n",
       " '__le__',\n",
       " '__len__',\n",
       " '__lt__',\n",
       " '__mod__',\n",
       " '__mul__',\n",
       " '__ne__',\n",
       " '__new__',\n",
       " '__reduce__',\n",
       " '__reduce_ex__',\n",
       " '__repr__',\n",
       " '__rmod__',\n",
       " '__rmul__',\n",
       " '__setattr__',\n",
       " '__sizeof__',\n",
       " '__str__',\n",
       " '__subclasshook__',\n",
       " 'capitalize',\n",
       " 'casefold',\n",
       " 'center',\n",
       " 'count',\n",
       " 'encode',\n",
       " 'endswith',\n",
       " 'expandtabs',\n",
       " 'find',\n",
       " 'format',\n",
       " 'format_map',\n",
       " 'index',\n",
       " 'isalnum',\n",
       " 'isalpha',\n",
       " 'isascii',\n",
       " 'isdecimal',\n",
       " 'isdigit',\n",
       " 'isidentifier',\n",
       " 'islower',\n",
       " 'isnumeric',\n",
       " 'isprintable',\n",
       " 'isspace',\n",
       " 'istitle',\n",
       " 'isupper',\n",
       " 'join',\n",
       " 'ljust',\n",
       " 'lower',\n",
       " 'lstrip',\n",
       " 'maketrans',\n",
       " 'partition',\n",
       " 'removeprefix',\n",
       " 'removesuffix',\n",
       " 'replace',\n",
       " 'rfind',\n",
       " 'rindex',\n",
       " 'rjust',\n",
       " 'rpartition',\n",
       " 'rsplit',\n",
       " 'rstrip',\n",
       " 'split',\n",
       " 'splitlines',\n",
       " 'startswith',\n",
       " 'strip',\n",
       " 'swapcase',\n",
       " 'title',\n",
       " 'translate',\n",
       " 'upper',\n",
       " 'zfill']"
      ]
     },
     "execution_count": 25,
     "metadata": {},
     "output_type": "execute_result"
    }
   ],
   "source": [
    "dir(text)"
   ]
  },
  {
   "cell_type": "code",
   "execution_count": 34,
   "id": "e1317c0c-10e2-453b-90b1-28042ed3a6ab",
   "metadata": {},
   "outputs": [
    {
     "data": {
      "text/plain": [
       "'hi this is python!'"
      ]
     },
     "execution_count": 34,
     "metadata": {},
     "output_type": "execute_result"
    }
   ],
   "source": [
    "text.__add__(\"!\")"
   ]
  },
  {
   "cell_type": "code",
   "execution_count": 33,
   "id": "46552d90-5f83-4dff-b788-921b036b9a5b",
   "metadata": {},
   "outputs": [
    {
     "name": "stdout",
     "output_type": "stream",
     "text": [
      "hi this is python\n"
     ]
    },
    {
     "data": {
      "text/plain": [
       "1"
      ]
     },
     "execution_count": 33,
     "metadata": {},
     "output_type": "execute_result"
    }
   ],
   "source": [
    "print(text)\n",
    "text.count(\"p\")"
   ]
  },
  {
   "cell_type": "code",
   "execution_count": 35,
   "id": "29825a0d-d4a4-43e6-b2b2-69f95bc5b71e",
   "metadata": {},
   "outputs": [
    {
     "data": {
      "text/plain": [
       "True"
      ]
     },
     "execution_count": 35,
     "metadata": {},
     "output_type": "execute_result"
    }
   ],
   "source": [
    "text.islower()"
   ]
  },
  {
   "cell_type": "code",
   "execution_count": 36,
   "id": "4bf6606b-701a-4a07-b087-a645ca86be9e",
   "metadata": {},
   "outputs": [
    {
     "data": {
      "text/plain": [
       "'HI THIS IS PYTHON'"
      ]
     },
     "execution_count": 36,
     "metadata": {},
     "output_type": "execute_result"
    }
   ],
   "source": [
    "text.upper()"
   ]
  },
  {
   "cell_type": "code",
   "execution_count": 37,
   "id": "d57b9003-4d83-48fd-b09b-089483c6da4b",
   "metadata": {},
   "outputs": [
    {
     "data": {
      "text/plain": [
       "['hi', 'this', 'is', 'python']"
      ]
     },
     "execution_count": 37,
     "metadata": {},
     "output_type": "execute_result"
    }
   ],
   "source": [
    "text.split(\" \")"
   ]
  },
  {
   "cell_type": "markdown",
   "id": "9576db19-4fd3-4a41-a0cd-48a488f757c7",
   "metadata": {},
   "source": [
    "escape 문자\n",
    "\\"
   ]
  },
  {
   "cell_type": "code",
   "execution_count": 43,
   "id": "dbdb17c7-f33a-4fc9-a0f6-d3c001d5147c",
   "metadata": {},
   "outputs": [
    {
     "name": "stdout",
     "output_type": "stream",
     "text": [
      "'hello\n",
      "world' \n"
     ]
    }
   ],
   "source": [
    "print(\"\\'hello\\nworld\\' \") #escape 문자는 특수문자를 그냥 텍스트로 인식하게 함"
   ]
  },
  {
   "cell_type": "markdown",
   "id": "0af855fd-99ed-42b7-9647-bc8fc9fc1890",
   "metadata": {},
   "source": [
    "raw-string : 모두 다 문자열일때 r'str?\\'\n",
    "\n",
    "f-string : 형식 코드가 내포된 문자열 f'str{text}'"
   ]
  },
  {
   "cell_type": "code",
   "execution_count": 48,
   "id": "a938df1d-f091-4c90-b82e-7f58c19f4b6b",
   "metadata": {},
   "outputs": [
    {
     "data": {
      "text/plain": [
       "'12\\x04'"
      ]
     },
     "execution_count": 48,
     "metadata": {},
     "output_type": "execute_result"
    }
   ],
   "source": [
    "tr_1 = \"12\\4\" #'12\\x04'\n",
    "tr_1"
   ]
  },
  {
   "cell_type": "code",
   "execution_count": 62,
   "id": "cf398613-9f46-4eca-9555-d7127824da69",
   "metadata": {},
   "outputs": [
    {
     "data": {
      "text/plain": [
       "'tr_1'"
      ]
     },
     "execution_count": 62,
     "metadata": {},
     "output_type": "execute_result"
    }
   ],
   "source": [
    "raw_str = r'tr_1'\n",
    "raw_str"
   ]
  },
  {
   "cell_type": "markdown",
   "id": "ed0e5336-891d-43fb-9e62-95795816df31",
   "metadata": {},
   "source": [
    "f' {수식} 문자열이에요 {변수}'"
   ]
  },
  {
   "cell_type": "code",
   "execution_count": 67,
   "id": "b5c10bff-a969-4741-b5cb-9c9a539c6c92",
   "metadata": {},
   "outputs": [
    {
     "name": "stdout",
     "output_type": "stream",
     "text": [
      "제 이름은 Iris입니다. 나이는 23살 입니다. \n"
     ]
    }
   ],
   "source": [
    "name = \"Iris\"\n",
    "age = 23\n",
    "\n",
    "print(f\"제 이름은 {name}입니다. 나이는 {age}살 입니다. \")"
   ]
  },
  {
   "cell_type": "code",
   "execution_count": 70,
   "id": "f50b359f-51ae-4e76-80c3-b190b4abb427",
   "metadata": {},
   "outputs": [
    {
     "name": "stdout",
     "output_type": "stream",
     "text": [
      "이름을 입력하세요:  신윤서\n",
      "나이를 입력하세요:  23\n"
     ]
    },
    {
     "name": "stdout",
     "output_type": "stream",
     "text": [
      "안녕하세요, 제 이름은 신윤서이고 나이는 23살 입니다! \n"
     ]
    }
   ],
   "source": [
    "name = input(\"이름을 입력하세요: \")\n",
    "age = input(\"나이를 입력하세요: \")\n",
    "\n",
    "output = f\"안녕하세요, 제 이름은 {name}이고 나이는 {age}살 입니다! \"\n",
    "print(output)\n",
    "        "
   ]
  },
  {
   "cell_type": "code",
   "execution_count": 78,
   "id": "21bcb809-e66b-4ff2-bc60-e58624173221",
   "metadata": {},
   "outputs": [
    {
     "data": {
      "text/plain": [
       "' 99.9900 dollars are worth US$ 100'"
      ]
     },
     "execution_count": 78,
     "metadata": {},
     "output_type": "execute_result"
    }
   ],
   "source": [
    "#dir(f_str_!)\n",
    "format_str = ' {0:.4f} {1:s} are worth US$ {2:d}' #template\n",
    "format_str.format(99.99, \"dollars\", 100)"
   ]
  },
  {
   "cell_type": "code",
   "execution_count": 82,
   "id": "4e74e066-7a05-45bb-a94a-4138d8b9966b",
   "metadata": {
    "scrolled": true
   },
   "outputs": [
    {
     "name": "stdout",
     "output_type": "stream",
     "text": [
      "주문할 메뉴를 입력하세요:  떡볶이\n",
      "한개의 가격이 얼마인가요?  5000\n",
      "몇 개나 주문하세요? 2\n"
     ]
    },
    {
     "name": "stdout",
     "output_type": "stream",
     "text": [
      "떡볶이 메뉴의 2개의 가격은 총 10,000입니다. \n"
     ]
    }
   ],
   "source": [
    "menu = input(\"주문할 메뉴를 입력하세요: \")\n",
    "price = int(input(\"한개의 가격이 얼마인가요? \"))\n",
    "count = int(input(\"몇 개나 주문하세요?\"))\n",
    "\n",
    "total = price*count\n",
    "msg = '{} 메뉴의 {}개의 가격은 총 {:,}입니다. '\n",
    "\n",
    "print(msg.format(menu, count, total))"
   ]
  },
  {
   "cell_type": "code",
   "execution_count": 107,
   "id": "d54e505c-7b8a-4cec-93a5-b1511778e802",
   "metadata": {},
   "outputs": [
    {
     "name": "stdout",
     "output_type": "stream",
     "text": [
      "상품명       가격        수량        총액        \n",
      "--------------------------------------------------\n",
      "아메리카노          3,000원         2     6,000원\n",
      "카페라떼           4,000원         1     4,000원\n",
      "샌드위치           5,500원         3    16,500원\n"
     ]
    }
   ],
   "source": [
    "items = [\n",
    "    {\"name\": \"아메리카노\", \"price\": 3000, \"qty\": 2},\n",
    "    {\"name\": \"카페라떼\", \"price\": 4000, \"qty\": 1},\n",
    "    {\"name\": \"샌드위치\", \"price\": 5500, \"qty\": 3}\n",
    "]\n",
    "\n",
    "header_str = \"{0:10}{1:10}{2:10}{3:10}\" # 인덱스 데이터길이\n",
    "print(header_str.format(\"상품명\",\"가격\",\"수량\",\"총액\"))\n",
    "print(\"-\"*50)\n",
    "\n",
    "data_str = \"{:10}{:10,}{}{:10}{:10,}{}\"\n",
    "for item in items : \n",
    "    item_name = item[\"name\"]\n",
    "    item_price = item[\"price\"]\n",
    "    item_qty = item[\"qty\"]\n",
    "    total_price = item_price*item_qty\n",
    "    print(data_str.format(item_name,item_price,\"원\",item_qty,total_price,\"원\"))\n",
    "\n",
    "    \n",
    "#data_str = \"{}{}{}{}\""
   ]
  },
  {
   "cell_type": "markdown",
   "id": "3748282e-03ef-4a68-a381-de0814c2de94",
   "metadata": {},
   "source": [
    "TypeError, ValueError"
   ]
  },
  {
   "cell_type": "code",
   "execution_count": 54,
   "id": "0730dfbf-0117-4c4a-9e96-cc0e1ba6bc95",
   "metadata": {},
   "outputs": [
    {
     "data": {
      "text/plain": [
       "5"
      ]
     },
     "execution_count": 54,
     "metadata": {},
     "output_type": "execute_result"
    }
   ],
   "source": [
    "b = 2\n",
    "c = '3'\n",
    "#b+c #typeerror\n",
    "b + int(c)"
   ]
  },
  {
   "cell_type": "code",
   "execution_count": 61,
   "id": "843e814c-2ede-450d-9c1f-f436d928cc00",
   "metadata": {},
   "outputs": [
    {
     "data": {
      "text/plain": [
       "5"
      ]
     },
     "execution_count": 61,
     "metadata": {},
     "output_type": "execute_result"
    }
   ],
   "source": [
    "c = '3a'\n",
    "b + int(c[0]) #ValueError                                "
   ]
  },
  {
   "cell_type": "markdown",
   "id": "c825adf0-1016-4171-ac9e-b0f652f208b3",
   "metadata": {},
   "source": [
    "| 함수                  | 설명                  | 예시                                        |\n",
    "| ------------------- | ------------------- | ----------------------------------------- |\n",
    "| lower()           | 모두 소문자로 변환          | \"Python\".lower() → \"python\"           |\n",
    "| upper()           | 모두 대문자로 변환          | \"python\".upper() → \"PYTHON\"           |\n",
    "| capitalize()      | 첫 글자만 대문자           | \"hello\".capitalize() → \"Hello\"        |\n",
    "| title()           | 각 단어의 첫 글자 대문자      | \"hello world\".title() → \"Hello World\" |\n",
    "| strip()           | 앞뒤 공백 제거            | \" hello \".strip() → \"hello\"           |\n",
    "| lstrip()          | 왼쪽 공백 제거            | \" hello\".lstrip()                       |\n",
    "| rstrip()          | 오른쪽 공백 제거           | \"hello \".rstrip()                       |\n",
    "| replace(old, new) | 문자열 바꾸기             | \"hello\".replace(\"l\", \"x\") → \"hexxo\"   |\n",
    "| split()           | 문자열 나누기 (기본: 공백)    | \"a b c\".split() → ['a', 'b', 'c']     |\n",
    "| join(list)        | 리스트를 문자열로 결합        | \" \".join(['a', 'b']) → \"a b\"          |\n",
    "| find(sub)         | 처음 등장하는 위치 (없으면 -1) | \"apple\".find(\"p\") → 1                 |\n",
    "| index(sub)        | 처음 등장하는 위치 (없으면 오류) | \"apple\".index(\"p\") → 1                |\n",
    "| count(sub)        | 부분 문자열 개수           | \"banana\".count(\"a\") → 3               |\n",
    "| startswith(sub)   | 해당 문자열로 시작?         | \"python\".startswith(\"py\") → True      |\n",
    "| endswith(sub)     | 해당 문자열로 끝남?         | \"python\".endswith(\"on\") → True        |\n",
    "| isalnum()         | 영문자+숫자인가?           | \"abc123\".isalnum() → True             |\n",
    "| isalpha()         | 영문자만인가?             | \"abc\".isalpha() → True                |\n",
    "| isdigit()         | 숫자만인가?              | \"123\".isdigit() → True                |\n",
    "| isspace()         | 공백문자만 있는가?          | \" \\t\\n\".isspace() → True              |"
   ]
  },
  {
   "cell_type": "code",
   "execution_count": 114,
   "id": "ebf7ab68-315e-4727-a3ec-fefd0842f349",
   "metadata": {},
   "outputs": [
    {
     "name": "stdout",
     "output_type": "stream",
     "text": [
      "HELLO PYTHON!\n",
      "hello python!\n",
      "Python\n",
      "Hello python!\n",
      "Hello Python!\n",
      "hello python!\n",
      "hello python!     \n",
      "     hello python!\n",
      "False\n",
      "True\n"
     ]
    }
   ],
   "source": [
    "text = \"hello python!\"\n",
    "word = \"python\"\n",
    "text_space = \"     hello python!     \"\n",
    "\n",
    "print(text.upper())\n",
    "print(text.lower())\n",
    "print(word.capitalize())\n",
    "print(text.capitalize())\n",
    "print(text.title())\n",
    "print(text_space.strip())\n",
    "print(text_space.lstrip())\n",
    "print(text_space.rstrip())\n",
    "print(text_space.isalpha())\n",
    "print(word.isalpha())"
   ]
  },
  {
   "cell_type": "markdown",
   "id": "c61ff67e-0824-4539-9c76-e987312dc96b",
   "metadata": {},
   "source": [
    "# 문자열 함수 연습   \n",
    "Q1. 홍길동 씨의 주민등록번호는 881120-1068234이다. 홍길동씨의 주민등록번호를 연월일 [YYYYMMDD] 부분과 그 뒤의 숫자 부분으로 나누어 출력해 보자.   \n",
    "\n",
    "Q2. 주민등록번호 뒷자리의 맨 첫 번째 숫자는 성별을 나타낸다. 주민등록번호에서 성별을 나타내는 숫자를 출력해 보자\n",
    "\n",
    "Q3. 숫자와 문자를 나누어 a1,a2 변수에 넣으세요.\n",
    "\n",
    "a = '20010331Rainy'\n",
    "\n",
    "Q4. 모두 대문자로, 모두 소문자로 바꾸세요.\n",
    "\n",
    "a = 'Hi'\n",
    "\n",
    "Q5. 아래 변수의 화이트 스페이스를 제거하고 출력하세요.\n",
    "\n",
    "a = ' hi '\n",
    "\n",
    "Q6. 아기상어 동요 속에는 '뚜루' 가 몇개나 들어 있을까요?"
   ]
  },
  {
   "cell_type": "code",
   "execution_count": 124,
   "id": "ed19c37f-c16e-4f80-b7cc-f3d1f745f4a4",
   "metadata": {},
   "outputs": [
    {
     "data": {
      "text/plain": [
       "'1'"
      ]
     },
     "execution_count": 124,
     "metadata": {},
     "output_type": "execute_result"
    }
   ],
   "source": [
    "#Q1\n",
    "id_num = (\"881120-1068234\")\n",
    "id_lst = id_num.split(\"-\")\n",
    "print(id_lst)\n",
    "#2\n",
    "print(id_lst[1][0])"
   ]
  },
  {
   "cell_type": "code",
   "execution_count": 127,
   "id": "59d5b143-6bc0-4ab8-a05d-325a428d3814",
   "metadata": {},
   "outputs": [
    {
     "name": "stdout",
     "output_type": "stream",
     "text": [
      "HI\n",
      "hi\n"
     ]
    }
   ],
   "source": [
    "#Q3\n",
    "a = '20010331Rainy'\n",
    "\n",
    "#Q4\n",
    "a = \"Hi\"\n",
    "print(a.upper())\n",
    "#Q5\n",
    "a = ' hi '\n",
    "print(a.strip())\n"
   ]
  },
  {
   "cell_type": "code",
   "execution_count": 4,
   "id": "fbbb102f-5b79-4d21-bcb1-88387f75d2ce",
   "metadata": {},
   "outputs": [
    {
     "name": "stdout",
     "output_type": "stream",
     "text": [
      "102\n"
     ]
    }
   ],
   "source": [
    "#Q6\n",
    "lyrics = '''아기상어 뚜루루뚜루\n",
    "귀여운\n",
    "뚜루루뚜루\n",
    "바닷속\n",
    "뚜루루뚜루\n",
    "아기상어!\n",
    "\n",
    "엄마상어\n",
    "뚜루루뚜루\n",
    "어여쁜\n",
    "뚜루루뚜루\n",
    "바닷속\n",
    "뚜루루뚜루\n",
    "엄마상어!\n",
    "\n",
    "아빠상어\n",
    "뚜루루뚜루\n",
    "힘이 센\n",
    "뚜루루뚜루\n",
    "바닷속\n",
    "뚜루루뚜루\n",
    "아빠상어!\n",
    "\n",
    "할머니상어\n",
    "뚜루루뚜루\n",
    "자상한\n",
    "뚜루루뚜루\n",
    "바닷속\n",
    "뚜루루뚜루\n",
    "할머니상어!\n",
    "\n",
    "할아버지상어\n",
    "뚜루루뚜루\n",
    "멋있는\n",
    "뚜루루뚜루\n",
    "바닷속\n",
    "뚜루루뚜루\n",
    "할아버지상어!\n",
    "\n",
    "우리는\n",
    "뚜루루뚜루\n",
    "바다의\n",
    "뚜루루뚜루\n",
    "사냥꾼\n",
    "뚜루루뚜루\n",
    "상어가족!\n",
    "\n",
    "\n",
    "\n",
    "상어다\n",
    "뚜루루뚜루\n",
    "도망쳐\n",
    "뚜루루뚜루\n",
    "도망쳐\n",
    "뚜루루뚜루\n",
    "숨자! 으악!\n",
    "\n",
    "한번 더!\n",
    "\n",
    "\n",
    "상어다\n",
    "뚜루루뚜루\n",
    "도망쳐\n",
    "뚜루루뚜루\n",
    "도망쳐\n",
    "뚜루루뚜루\n",
    "숨자! 으악!\n",
    "\n",
    "아기상어\n",
    "뚜루루뚜루\n",
    "귀여운\n",
    "뚜루루뚜루\n",
    "바닷속\n",
    "뚜루루뚜루\n",
    "아기상어!\n",
    "\n",
    "엄마상어\n",
    "뚜루루뚜루\n",
    "어여쁜\n",
    "뚜루루뚜루\n",
    "바닷속\n",
    "뚜루루뚜루\n",
    "엄마상어!\n",
    "\n",
    "아빠상어\n",
    "뚜루루뚜루\n",
    "힘이 센\n",
    "뚜루루뚜루\n",
    "바닷속\n",
    "뚜루루뚜루\n",
    "아빠상어!\n",
    "\n",
    "할머니상어\n",
    "뚜루루뚜루\n",
    "자상한\n",
    "뚜루루뚜루\n",
    "바닷속\n",
    "뚜루루뚜루\n",
    "할머니상어!\n",
    "\n",
    "할아버지상어\n",
    "뚜루루뚜루\n",
    "멋있는\n",
    "뚜루루뚜루\n",
    "바닷속\n",
    "뚜루루뚜루\n",
    "할아버지상어!\n",
    "\n",
    "우리는\n",
    "뚜루루뚜루\n",
    "바다의\n",
    "뚜루루뚜루\n",
    "사냥꾼\n",
    "뚜루루뚜루\n",
    "상어가족!\n",
    "\n",
    "\n",
    "상어다\n",
    "뚜루루뚜루\n",
    "도망쳐\n",
    "뚜루루뚜루\n",
    "도망쳐\n",
    "뚜루루뚜루\n",
    "숨자! 으악!\n",
    "\n",
    "살았다\n",
    "뚜루루뚜루\n",
    "살았다\n",
    "뚜루루뚜루\n",
    "오늘도\n",
    "뚜루루뚜루\n",
    "살았다!\n",
    "\n",
    "신난다\n",
    "뚜루루뚜루\n",
    "신난다\n",
    "뚜루루뚜루\n",
    "춤을 춰\n",
    "뚜루루뚜루\n",
    "노래 끝!'''\n",
    "\n",
    "print(lyrics.count(\"뚜루\"))"
   ]
  },
  {
   "cell_type": "code",
   "execution_count": null,
   "id": "869db476-daf5-45fd-8fb9-5f538c3743ca",
   "metadata": {},
   "outputs": [],
   "source": []
  }
 ],
 "metadata": {
  "kernelspec": {
   "display_name": "hipython",
   "language": "python",
   "name": "python3"
  },
  "language_info": {
   "codemirror_mode": {
    "name": "ipython",
    "version": 3
   },
   "file_extension": ".py",
   "mimetype": "text/x-python",
   "name": "python",
   "nbconvert_exporter": "python",
   "pygments_lexer": "ipython3",
   "version": "3.12.9"
  }
 },
 "nbformat": 4,
 "nbformat_minor": 5
}
