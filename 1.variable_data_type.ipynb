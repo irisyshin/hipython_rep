{
 "cells": [
  {
   "cell_type": "markdown",
   "id": "5a4391da-aa23-4d71-a647-6236f69da103",
   "metadata": {},
   "source": [
    "# 표준 입력과 표준 출력"
   ]
  },
  {
   "cell_type": "code",
   "execution_count": 1,
   "id": "021cdefe-424a-4329-99f2-4a278387a5a3",
   "metadata": {},
   "outputs": [
    {
     "data": {
      "text/plain": [
       "10"
      ]
     },
     "execution_count": 1,
     "metadata": {},
     "output_type": "execute_result"
    }
   ],
   "source": [
    "12345\n",
    "10\n",
    "#ipython 기본 기능\n",
    "#print(12345) #표준 출력 기능을 내장하고 있음"
   ]
  },
  {
   "cell_type": "code",
   "execution_count": 2,
   "id": "58806154-71d5-4387-bb89-f8dbd6888c70",
   "metadata": {},
   "outputs": [
    {
     "name": "stdout",
     "output_type": "stream",
     "text": [
      "12345\n"
     ]
    },
    {
     "data": {
      "text/plain": [
       "10"
      ]
     },
     "execution_count": 2,
     "metadata": {},
     "output_type": "execute_result"
    }
   ],
   "source": [
    "print(12345)\n",
    "10 #정수형 -> int"
   ]
  },
  {
   "cell_type": "code",
   "execution_count": 3,
   "id": "e76caafe-2aba-41cf-b068-4a839ef3e2c4",
   "metadata": {},
   "outputs": [
    {
     "data": {
      "text/plain": [
       "'12345'"
      ]
     },
     "execution_count": 3,
     "metadata": {},
     "output_type": "execute_result"
    }
   ],
   "source": [
    "'12345' #문자열 -> str"
   ]
  },
  {
   "cell_type": "code",
   "execution_count": 4,
   "id": "7ee1bb7c-cbed-44b4-8dfb-001be91a07ea",
   "metadata": {},
   "outputs": [
    {
     "data": {
      "text/plain": [
       "int"
      ]
     },
     "execution_count": 4,
     "metadata": {},
     "output_type": "execute_result"
    }
   ],
   "source": [
    "type(12345)"
   ]
  },
  {
   "cell_type": "code",
   "execution_count": 5,
   "id": "c8f97c71-39c3-43b6-aea9-1cecc64daa40",
   "metadata": {},
   "outputs": [
    {
     "data": {
      "text/plain": [
       "str"
      ]
     },
     "execution_count": 5,
     "metadata": {},
     "output_type": "execute_result"
    }
   ],
   "source": [
    "type(\"12345\")"
   ]
  },
  {
   "cell_type": "code",
   "execution_count": 6,
   "id": "4970cf5e-326b-4098-9cd9-fe593d75015f",
   "metadata": {},
   "outputs": [
    {
     "data": {
      "text/plain": [
       "str"
      ]
     },
     "execution_count": 6,
     "metadata": {},
     "output_type": "execute_result"
    }
   ],
   "source": [
    "type('12345')"
   ]
  },
  {
   "cell_type": "code",
   "execution_count": 7,
   "id": "5dcce803-d311-4334-b9af-3d7238520e70",
   "metadata": {},
   "outputs": [
    {
     "data": {
      "text/plain": [
       "'123451234512345'"
      ]
     },
     "execution_count": 7,
     "metadata": {},
     "output_type": "execute_result"
    }
   ],
   "source": [
    "\"12345\"*3"
   ]
  },
  {
   "cell_type": "code",
   "execution_count": 8,
   "id": "4059c2c2-2462-4b76-8385-c9c1c669bdaf",
   "metadata": {},
   "outputs": [
    {
     "data": {
      "text/plain": [
       "'num = 12345...'"
      ]
     },
     "execution_count": 8,
     "metadata": {},
     "output_type": "execute_result"
    }
   ],
   "source": [
    "\"num = \"+\"12345...\""
   ]
  },
  {
   "cell_type": "code",
   "execution_count": 9,
   "id": "5815fb75-ba3e-49ee-a358-3bacc4932142",
   "metadata": {},
   "outputs": [
    {
     "name": "stdin",
     "output_type": "stream",
     "text": [
      "당신의 이름을 입력하세요:  신윤서 \n",
      "당신의 나이를 입력하세요:  15\n"
     ]
    }
   ],
   "source": [
    "#값 입력 받기\n",
    "name = input(\"당신의 이름을 입력하세요: \")\n",
    "age = input(\"당신의 나이를 입력하세요: \")\n",
    "# age = int(input(\"당신의 나이를 입력하세요: \"))"
   ]
  },
  {
   "cell_type": "code",
   "execution_count": 10,
   "id": "c6b559e7-2107-468f-91ce-0a343b4cb39b",
   "metadata": {},
   "outputs": [
    {
     "name": "stdout",
     "output_type": "stream",
     "text": [
      "신윤서  15\n"
     ]
    }
   ],
   "source": [
    "print(name, age)"
   ]
  },
  {
   "cell_type": "code",
   "execution_count": 11,
   "id": "53278505-d2c6-4b3d-b6bf-9b65327c93b5",
   "metadata": {},
   "outputs": [
    {
     "name": "stdout",
     "output_type": "stream",
     "text": [
      "나는 신윤서  이고 나이는 15 입니다.\n"
     ]
    }
   ],
   "source": [
    "print(\"나는\",name,\"이고 나이는\", age, \"입니다.\")"
   ]
  },
  {
   "cell_type": "code",
   "execution_count": 12,
   "id": "7d91a09e-f93e-4fd9-b5ca-1562157e44fb",
   "metadata": {},
   "outputs": [
    {
     "name": "stdout",
     "output_type": "stream",
     "text": [
      "나는 신윤서 이고 나이는 15입니다.\n"
     ]
    }
   ],
   "source": [
    "print(\"나는 \"+name+\"이고 나이는 \"+age+\"입니다.\")"
   ]
  },
  {
   "cell_type": "code",
   "execution_count": 13,
   "id": "2234caba-8bc6-416a-8e03-6986d21b8fc5",
   "metadata": {},
   "outputs": [],
   "source": [
    "age=int(age)"
   ]
  },
  {
   "cell_type": "code",
   "execution_count": 14,
   "id": "f86d28a9-038b-435e-8316-d128a82f5537",
   "metadata": {},
   "outputs": [
    {
     "data": {
      "text/plain": [
       "25"
      ]
     },
     "execution_count": 14,
     "metadata": {},
     "output_type": "execute_result"
    }
   ],
   "source": [
    "age + 10"
   ]
  },
  {
   "cell_type": "markdown",
   "id": "71f76974-7d98-4bcc-b1ab-13f4e7d9188c",
   "metadata": {},
   "source": [
    "# 연습"
   ]
  },
  {
   "cell_type": "code",
   "execution_count": 15,
   "id": "a3878b9e-7e4c-49b6-8f89-04ed53f7f8ce",
   "metadata": {},
   "outputs": [
    {
     "name": "stdout",
     "output_type": "stream",
     "text": [
      "신: 신기하게 오늘\n",
      "윤: 윤슬도 봤고\n",
      "서: 서늘한 바람도 불잖아! 완벽!!\n"
     ]
    }
   ],
   "source": [
    "# 자기 이름으로 삼행시 짓기\n",
    "\n",
    "print(\"신: 신기하게 오늘\")\n",
    "print(\"윤: 윤슬도 봤고\")\n",
    "print(\"서: 서늘한 바람도 불잖아! 완벽!!\")\n",
    "\n"
   ]
  },
  {
   "cell_type": "code",
   "execution_count": 16,
   "id": "3a1982eb-9be0-4dcb-88ff-f716f22acba5",
   "metadata": {},
   "outputs": [
    {
     "name": "stdin",
     "output_type": "stream",
     "text": [
      "신:  신기하게 오늘\n",
      "윤:  윤슬도 봤고\n",
      "서:  서늘한 바람도 불잖아! 완벽!!\n"
     ]
    },
    {
     "name": "stdout",
     "output_type": "stream",
     "text": [
      "신기하게 오늘\n",
      " 윤슬도 봤고\n",
      " 서늘한 바람도 불잖아! 완벽!!\n"
     ]
    }
   ],
   "source": [
    "first_line = input(\"신: \")\n",
    "sec_line = input(\"윤: \")\n",
    "thrid_line = input(\"서: \")\n",
    "\n",
    "print(first_line, sec_line, thrid_line, sep=\"\\n \")"
   ]
  },
  {
   "cell_type": "markdown",
   "id": "f50098e9-4704-4d71-8d33-a822aff4ca93",
   "metadata": {},
   "source": [
    "문자열의 시작이 \\ -> 이스케이프 문자, 특수문자 \\n \\\\ \\t"
   ]
  },
  {
   "cell_type": "code",
   "execution_count": 17,
   "id": "613fe4ce-6135-41ab-b895-bbbbc692ad9b",
   "metadata": {},
   "outputs": [
    {
     "name": "stdout",
     "output_type": "stream",
     "text": [
      "신기하게 오늘\n",
      "윤슬도 봤고\n",
      "서늘한 바람도 불잖아! 완벽!!\n"
     ]
    }
   ],
   "source": [
    "삼행시 = first_line + \"\\n\"+ sec_line +\"\\n\"+ thrid_line\n",
    "print(삼행시)"
   ]
  },
  {
   "cell_type": "markdown",
   "id": "2498b8cb-8480-467b-905c-d226bcab3688",
   "metadata": {},
   "source": [
    "# 변수"
   ]
  },
  {
   "cell_type": "markdown",
   "id": "01a68337-d8b5-4b72-a494-c365dd0b67c2",
   "metadata": {},
   "source": [
    "변수는 type safe: 변수를 선언할 때 타입(유형)을 지정하지 않아도 되는 특성   \n",
    "변수양 = 값"
   ]
  },
  {
   "cell_type": "markdown",
   "id": "534edd96-47e1-49e4-a6b0-126d669ed83d",
   "metadata": {},
   "source": [
    "## 변수의 명명규칙\n",
    "1. 문자, 숫자, 밑줄을 가지고 만든다\n",
    "2. 숫자로 시작하면 X\n",
    "3. 대소문자를 구분\n",
    "4. 특수기호, 공백 X"
   ]
  },
  {
   "cell_type": "code",
   "execution_count": 18,
   "id": "796d2d97-9008-44b7-98c1-bf521f20a8b6",
   "metadata": {},
   "outputs": [
    {
     "data": {
      "text/plain": [
       "(10, 'hello', 3.141592)"
      ]
     },
     "execution_count": 18,
     "metadata": {},
     "output_type": "execute_result"
    }
   ],
   "source": [
    "x = 10\n",
    "y = 'hello'\n",
    "z = 3.141592\n",
    "x,y,z"
   ]
  },
  {
   "cell_type": "code",
   "execution_count": 19,
   "id": "18f52839-4d8e-43e4-8808-46f5516ab459",
   "metadata": {},
   "outputs": [
    {
     "data": {
      "text/plain": [
       "(int, str, float)"
      ]
     },
     "execution_count": 19,
     "metadata": {},
     "output_type": "execute_result"
    }
   ],
   "source": [
    "type(x),type(y),type(z)"
   ]
  },
  {
   "cell_type": "code",
   "execution_count": 20,
   "id": "b8431d12-bc0c-4bc2-b2a7-cbb6fb6c9a8e",
   "metadata": {},
   "outputs": [
    {
     "name": "stdout",
     "output_type": "stream",
     "text": [
      "<class 'int'> <class 'str'> <class 'float'>\n"
     ]
    }
   ],
   "source": [
    "print(type(x),type(y),type(z))"
   ]
  },
  {
   "cell_type": "code",
   "execution_count": 21,
   "id": "06d1e923-71a5-4056-b3c6-8e29ae51c802",
   "metadata": {},
   "outputs": [
    {
     "data": {
      "text/plain": [
       "(10, 20, 30)"
      ]
     },
     "execution_count": 21,
     "metadata": {},
     "output_type": "execute_result"
    }
   ],
   "source": [
    "a,b,c = 10,20,30\n",
    "a,b,c"
   ]
  },
  {
   "cell_type": "code",
   "execution_count": 22,
   "id": "eb15660b-3b47-48f8-948a-bfdcc0b85877",
   "metadata": {},
   "outputs": [],
   "source": [
    "a =10; b=20; c=30;"
   ]
  },
  {
   "cell_type": "code",
   "execution_count": 23,
   "id": "b9e179a5-46fb-4662-bf76-f92ba18d7afd",
   "metadata": {},
   "outputs": [],
   "source": [
    "a = b= c= 40"
   ]
  },
  {
   "cell_type": "code",
   "execution_count": 24,
   "id": "996349de-3b9b-4248-8ccd-0613f1f7954b",
   "metadata": {},
   "outputs": [
    {
     "data": {
      "text/plain": [
       "(40, 40, 40)"
      ]
     },
     "execution_count": 24,
     "metadata": {},
     "output_type": "execute_result"
    }
   ],
   "source": [
    "a,b,c"
   ]
  },
  {
   "cell_type": "code",
   "execution_count": 25,
   "id": "f8509e49-b797-4ec6-853c-c6593d411557",
   "metadata": {},
   "outputs": [
    {
     "data": {
      "text/plain": [
       "(True, None)"
      ]
     },
     "execution_count": 25,
     "metadata": {},
     "output_type": "execute_result"
    }
   ],
   "source": [
    "d = True #bool\n",
    "e = None #nonetype \n",
    "d,e"
   ]
  },
  {
   "cell_type": "code",
   "execution_count": 26,
   "id": "8fd3902f-6f78-481f-a750-01ddf58f63ab",
   "metadata": {},
   "outputs": [
    {
     "name": "stdout",
     "output_type": "stream",
     "text": [
      "10 10\n"
     ]
    },
    {
     "data": {
      "text/plain": [
       "(140728258169560, 140728258169560)"
      ]
     },
     "execution_count": 26,
     "metadata": {},
     "output_type": "execute_result"
    }
   ],
   "source": [
    "aa = 10\n",
    "bb = aa\n",
    "print(aa,bb)\n",
    "id(aa), id(bb)"
   ]
  },
  {
   "cell_type": "code",
   "execution_count": 27,
   "id": "23f8ca7a-4e0b-4a13-a862-a98794cac543",
   "metadata": {},
   "outputs": [
    {
     "name": "stdout",
     "output_type": "stream",
     "text": [
      "20 40\n"
     ]
    }
   ],
   "source": [
    "a = 20\n",
    "print(a,b)"
   ]
  },
  {
   "cell_type": "code",
   "execution_count": 29,
   "id": "8f82783d-0941-469c-aa95-4da9a8999b80",
   "metadata": {},
   "outputs": [],
   "source": [
    "#의미부여하기 어려운 변수명 > 수식이 아닌 경우는 사용하지 않음\n",
    "\n",
    "#의미 있는 변수명\n",
    "\n",
    "#대문자 upper-case 상수에 사용 \n",
    "PI = 3.141592\n",
    "MAX_CONNECTIONS = 10 #no. max connection\n",
    "MIN_VALUE = 0 #min"
   ]
  },
  {
   "cell_type": "markdown",
   "id": "1950974a-44cf-42d2-8070-2ffa2af2067b",
   "metadata": {},
   "source": [
    "# NAME_SPACE\n",
    "\n",
    "변수가 최초로 정의된 영역에 따라 유효범위가 결정됩니다.\n",
    "\n",
    "- 지역변수: 함수 내에서 선언\n",
    "- 전역변수: 함수 영역 밖에서 선언한 변수, global 키워드\n",
    "- 정적변수ㅣ클래스에서 사용하는 변수"
   ]
  },
  {
   "cell_type": "code",
   "execution_count": 33,
   "id": "c85fbda5-8717-49ed-9d5e-a5fffdff3474",
   "metadata": {},
   "outputs": [
    {
     "name": "stdout",
     "output_type": "stream",
     "text": [
      "여기는 함수의 영역입니다.  100\n"
     ]
    }
   ],
   "source": [
    "#지역변수 \n",
    "def local_example():\n",
    "    local_var = 100\n",
    "    print(\"여기는 함수의 영역입니다. \", local_var)\n",
    "\n",
    "local_example()"
   ]
  },
  {
   "cell_type": "code",
   "execution_count": 38,
   "id": "314009f7-fde0-4588-8b98-52bd9ec8b465",
   "metadata": {},
   "outputs": [
    {
     "name": "stdout",
     "output_type": "stream",
     "text": [
      "나는 전역이다\n",
      "여기는 함수의 영역입니다.  100\n",
      "100\n"
     ]
    }
   ],
   "source": [
    "#전역변수\n",
    "var_test = \"나는 전역이다\"\n",
    "print(var_test)\n",
    "\n",
    "def global_example():\n",
    "    global var_test\n",
    "    var_test = 100\n",
    "    print(\"여기는 함수의 영역입니다. \", var_test)\n",
    "\n",
    "global_example()\n",
    "print(var_test)"
   ]
  },
  {
   "cell_type": "code",
   "execution_count": 49,
   "id": "ece533ef-fabe-42e3-9279-6ca499e3cd4b",
   "metadata": {},
   "outputs": [
    {
     "name": "stdout",
     "output_type": "stream",
     "text": [
      "counter :  1\n",
      "counter :  2\n",
      "counter :  3\n"
     ]
    }
   ],
   "source": [
    "# 변수 영역 연습 \n",
    "\n",
    "counter = 0 #global\n",
    "\n",
    "def increment_counter():\n",
    "    #counter = counter +1\n",
    "    global counter\n",
    "    counter += 1\n",
    "    print(\"counter : \", counter)\n",
    "    \n",
    "increment_counter()\n",
    "increment_counter()\n",
    "increment_counter()"
   ]
  },
  {
   "cell_type": "markdown",
   "id": "f3057761-c19e-4e40-9d15-4216a14f8262",
   "metadata": {},
   "source": [
    "# 변수 연습"
   ]
  },
  {
   "cell_type": "code",
   "execution_count": 51,
   "id": "2deb80ab-7339-4344-a922-d58df5095ca9",
   "metadata": {},
   "outputs": [
    {
     "data": {
      "text/plain": [
       "(1, 'python', [1, 2, 3])"
      ]
     },
     "execution_count": 51,
     "metadata": {},
     "output_type": "execute_result"
    }
   ],
   "source": [
    "a = 1\n",
    "b = \"python\"\n",
    "c = [1, 2, 3]\n",
    "\n",
    "a,b,c"
   ]
  },
  {
   "cell_type": "code",
   "execution_count": 55,
   "id": "dcc4c341-0f0f-406a-bf7d-38268608932c",
   "metadata": {},
   "outputs": [
    {
     "name": "stdout",
     "output_type": "stream",
     "text": [
      "[1, 2, 3]\n",
      "[1, 2, 3]\n",
      "[1, 4, 3]\n",
      "[1, 4, 3]\n"
     ]
    }
   ],
   "source": [
    "#02-8\n",
    "a = [1, 2, 3]\n",
    "b = a\n",
    "print(a)\n",
    "print(b)\n",
    "a is b\n",
    "\n",
    "a[1] = 4\n",
    "print(a)\n",
    "print(b)"
   ]
  },
  {
   "cell_type": "code",
   "execution_count": 69,
   "id": "52a0e3e1-cfc9-48d8-bc80-f04d4dabb44c",
   "metadata": {},
   "outputs": [
    {
     "name": "stdout",
     "output_type": "stream",
     "text": [
      "Hello World\n",
      "Mary's cosmetics\n",
      "신씨가 소리질렀다. \"도둑이야\".\n",
      "C:\\Windows\n",
      "안녕하세요. \n",
      "만나서\t반갑습니다.\n",
      "오늘은 일요일\n",
      "naver;kakao;sk;samsung\n",
      "naver/kakao/sk/samsung\n",
      "firstsecond\n"
     ]
    },
    {
     "name": "stderr",
     "output_type": "stream",
     "text": [
      "<>:9: SyntaxWarning: invalid escape sequence '\\W'\n",
      "<>:9: SyntaxWarning: invalid escape sequence '\\W'\n",
      "C:\\Users\\Admin\\AppData\\Local\\Temp\\ipykernel_6736\\1678798798.py:9: SyntaxWarning: invalid escape sequence '\\W'\n",
      "  print(\"C:\\Windows\")\n"
     ]
    }
   ],
   "source": [
    "#초보자를 위한 파이썬 300제\n",
    "#파이썬 시작하기\n",
    "#1\n",
    "print(\"Hello World\")\n",
    "#2 \n",
    "print(\"Mary's cosmetics\")\n",
    "#3\n",
    "print('신씨가 소리질렀다. \"도둑이야\".')\n",
    "#4\n",
    "print(\"C:\\Windows\")\n",
    "#5\n",
    "print(\"안녕하세요. \\n만나서\\t반갑습니다.\")\n",
    "#6 \n",
    "print(\"오늘은\", \"일요일\")\n",
    "#7 \n",
    "print(\"naver\", \"kakao\", \"sk\", \"samsung\", sep=\";\")\n",
    "#8\n",
    "print(\"naver\", \"kakao\", \"sk\", \"samsung\", sep=\"/\")\n",
    "#9\n",
    "print(\"first\", end=\"\"); print(\"second\")"
   ]
  },
  {
   "cell_type": "code",
   "execution_count": 72,
   "id": "db9700b0-db7f-4636-85e3-b08407f3adc3",
   "metadata": {},
   "outputs": [
    {
     "name": "stdout",
     "output_type": "stream",
     "text": [
      "500000\n",
      "298000000000000 <class 'int'>\n",
      "50000 <class 'int'>\n",
      "15.76 <class 'float'>\n"
     ]
    }
   ],
   "source": [
    "#파이썬 변수 \n",
    "#11\n",
    "삼성전자 = 50000\n",
    "총_평가금액 = 삼성전자*10\n",
    "print(총_평가금액)\n",
    "#12\n",
    "시가총액 = 298000000000000\n",
    "현재가 = 50000\n",
    "PER = 15.76\n",
    "print(시가총액, type(시가총액))\n",
    "print(현재가, type(현재가))\n",
    "print(PER, type(PER))\n",
    "#13\n",
    "#14\n",
    "#15\n",
    "#16\n",
    "#17              \n",
    "#18\n",
    "#19\n",
    "#20\n"
   ]
  },
  {
   "cell_type": "markdown",
   "id": "68e293e1-bb31-4e75-88e4-a0e4793c762a",
   "metadata": {},
   "source": [
    "# 자료형\n",
    "\n",
    "- 기본자료형: 숫자형, 문자열형 str,\n",
    "- 복합 자료형 : 리스트, 셋, 튜플, 딕셔너리\n",
    "\n",
    "|type|설명|예|\n",
    "|-------|-------|-------|\n",
    "|정수형 (int)| 정수를 저장하는 자료형 |1,2,-5|\n",
    "|실수형 (float)|소수점이 있는 숫자를 저장하는 자료형|3.14, -0.001, 2.0|\n",
    "|문자열 (str)|텍스트를 저장하는 자료형|\"Hello\", '파이썬'|\n",
    "|논리형 (bool)|참/거짓 값을 저장하는 자료형|True, False|"
   ]
  },
  {
   "cell_type": "code",
   "execution_count": 74,
   "id": "b1563839-d20d-49f8-8c64-5bb871725452",
   "metadata": {},
   "outputs": [
    {
     "data": {
      "text/plain": [
       "(20, int)"
      ]
     },
     "execution_count": 74,
     "metadata": {},
     "output_type": "execute_result"
    }
   ],
   "source": [
    "#수치형 - int\n",
    "20, type(20)"
   ]
  },
  {
   "cell_type": "code",
   "execution_count": 75,
   "id": "11229641-2ce3-4293-a4b1-6ceb45f244a3",
   "metadata": {},
   "outputs": [
    {
     "data": {
      "text/plain": [
       "int"
      ]
     },
     "execution_count": 75,
     "metadata": {},
     "output_type": "execute_result"
    }
   ],
   "source": [
    "age = 10\n",
    "type(age)"
   ]
  },
  {
   "cell_type": "markdown",
   "id": "ffd879ac-2792-4c26-9aab-5be557cde684",
   "metadata": {},
   "source": [
    "1. 진법: 10진수, 2진수, 8진수, 16진수\n",
    "2. 입력하는 방법은 다르지만 print결과는 동일"
   ]
  },
  {
   "cell_type": "code",
   "execution_count": 80,
   "id": "a9c2b18a-61de-416d-b884-47ed8ec842bf",
   "metadata": {},
   "outputs": [
    {
     "data": {
      "text/plain": [
       "(10, 5)"
      ]
     },
     "execution_count": 80,
     "metadata": {},
     "output_type": "execute_result"
    }
   ],
   "source": [
    "a=10\n",
    "b=0b0101 #2wlstn - 0/1fh vygusgksms qkdqjq -> 2^2+2^0\n",
    "a,b"
   ]
  },
  {
   "cell_type": "code",
   "execution_count": 81,
   "id": "05bfe97d-4bdb-4139-88c1-36e78de128ef",
   "metadata": {},
   "outputs": [
    {
     "data": {
      "text/plain": [
       "(8, 8)"
      ]
     },
     "execution_count": 81,
     "metadata": {},
     "output_type": "execute_result"
    }
   ],
   "source": [
    "c=0o10\n",
    "d=0b1000\n",
    "c,d"
   ]
  },
  {
   "cell_type": "code",
   "execution_count": 82,
   "id": "6cf02225-d421-49a5-8a2a-fce613bd6d21",
   "metadata": {},
   "outputs": [],
   "source": [
    "#진수 리뷰"
   ]
  },
  {
   "cell_type": "code",
   "execution_count": 83,
   "id": "59f300f4-2061-4a6a-b2c1-7f47c65ac530",
   "metadata": {},
   "outputs": [
    {
     "data": {
      "text/plain": [
       "(3.15, float)"
      ]
     },
     "execution_count": 83,
     "metadata": {},
     "output_type": "execute_result"
    }
   ],
   "source": [
    "#float\n",
    "b=3.15\n",
    "b, type(b)"
   ]
  },
  {
   "cell_type": "markdown",
   "id": "90761f92-3d89-4bba-9558-2d2c18bf2679",
   "metadata": {},
   "source": [
    "지수의 표기\n",
    "\n",
    "숫자e2 -> 10^2의 곱 = 10**2\n",
    "숫자e-2 -> 10^-2의 곱 = 10**-2"
   ]
  },
  {
   "cell_type": "code",
   "execution_count": 89,
   "id": "c0c3b424-4a03-4f9d-b03d-1ef560ea8f66",
   "metadata": {},
   "outputs": [
    {
     "data": {
      "text/plain": [
       "(1000.0, 1000)"
      ]
     },
     "execution_count": 89,
     "metadata": {},
     "output_type": "execute_result"
    }
   ],
   "source": [
    "fa = 10e2\n",
    "fa, 10**3"
   ]
  },
  {
   "cell_type": "code",
   "execution_count": 88,
   "id": "9d64e800-a709-4d59-a59f-76179c5ee9aa",
   "metadata": {},
   "outputs": [
    {
     "data": {
      "text/plain": [
       "0.1"
      ]
     },
     "execution_count": 88,
     "metadata": {},
     "output_type": "execute_result"
    }
   ],
   "source": [
    "fb = 10e-2\n",
    "fb"
   ]
  },
  {
   "cell_type": "code",
   "execution_count": 90,
   "id": "80abe03d-f923-481a-a611-d28da79e37a8",
   "metadata": {},
   "outputs": [
    {
     "data": {
      "text/plain": [
       "3141500000.0"
      ]
     },
     "execution_count": 90,
     "metadata": {},
     "output_type": "execute_result"
    }
   ],
   "source": [
    "fc = 3.1415e9\n",
    "fc"
   ]
  },
  {
   "cell_type": "code",
   "execution_count": 91,
   "id": "f0a64336-ff0f-4c1d-913d-e406610a2ef8",
   "metadata": {},
   "outputs": [],
   "source": [
    "#boolean - True, False\n",
    "#논리연산, 비교연산(T/F)에서 사용"
   ]
  },
  {
   "cell_type": "code",
   "execution_count": 93,
   "id": "86030530-316f-4d06-a1ec-bb609bba6f75",
   "metadata": {},
   "outputs": [],
   "source": [
    "ba = True\n",
    "#bb = true -> 지정이 안되어있어서"
   ]
  },
  {
   "cell_type": "code",
   "execution_count": 94,
   "id": "72db24c9-397e-4bbe-8c88-a75bf2a434cb",
   "metadata": {},
   "outputs": [
    {
     "data": {
      "text/plain": [
       "1"
      ]
     },
     "execution_count": 94,
     "metadata": {},
     "output_type": "execute_result"
    }
   ],
   "source": [
    "# 논리연산자 - and or not\n",
    "\n",
    "bc = 1\n",
    "ba and bc"
   ]
  },
  {
   "cell_type": "code",
   "execution_count": 95,
   "id": "15ee95ba-08dc-4782-9773-9dabf21bc5d1",
   "metadata": {},
   "outputs": [],
   "source": [
    "#사칙연산 - + - * / // %\n",
    "a=2\n",
    "b=3"
   ]
  },
  {
   "cell_type": "code",
   "execution_count": 98,
   "id": "a20e59f1-dbb2-4513-917b-7661a9e3cd4f",
   "metadata": {},
   "outputs": [
    {
     "data": {
      "text/plain": [
       "(0, 2)"
      ]
     },
     "execution_count": 98,
     "metadata": {},
     "output_type": "execute_result"
    }
   ],
   "source": [
    "a+b\n",
    "a-b\n",
    "a*b\n",
    "a/b\n",
    "a//b, a%b #몫, remainder\n"
   ]
  },
  {
   "cell_type": "code",
   "execution_count": 106,
   "id": "d6544cb1-9889-4423-9d81-e22fe2cf05c7",
   "metadata": {},
   "outputs": [
    {
     "data": {
      "text/plain": [
       "True"
      ]
     },
     "execution_count": 106,
     "metadata": {},
     "output_type": "execute_result"
    }
   ],
   "source": [
    "#비교연산자\n",
    "1+3 == 4\n",
    "1+2 != 3\n",
    "1+3 > 3\n",
    "1+3 <= 4"
   ]
  },
  {
   "cell_type": "code",
   "execution_count": 108,
   "id": "34bbd302-171a-4769-bdad-0b3c9fb78150",
   "metadata": {},
   "outputs": [
    {
     "data": {
      "text/plain": [
       "True"
      ]
     },
     "execution_count": 108,
     "metadata": {},
     "output_type": "execute_result"
    }
   ],
   "source": [
    "#비교연산자와 논리연산자의 결합\n",
    "10%2 == 0 and 12%3==0"
   ]
  },
  {
   "cell_type": "code",
   "execution_count": 110,
   "id": "7a4df727-b578-4c69-8c9b-dc2db8858a71",
   "metadata": {},
   "outputs": [
    {
     "data": {
      "text/plain": [
       "False"
      ]
     },
     "execution_count": 110,
     "metadata": {},
     "output_type": "execute_result"
    }
   ],
   "source": [
    "a = '1234'\n",
    "b = '5678'\n",
    "a,b, id(a), id(b)\n",
    "id(a) == id(b)"
   ]
  },
  {
   "cell_type": "code",
   "execution_count": 113,
   "id": "8ce499c9-3f94-4038-beaf-fa866d847564",
   "metadata": {},
   "outputs": [
    {
     "data": {
      "text/plain": [
       "11"
      ]
     },
     "execution_count": 113,
     "metadata": {},
     "output_type": "execute_result"
    }
   ],
   "source": [
    "# 대입연산자\n",
    "a = 10\n",
    "b = a+2\n",
    "a,b\n",
    "a += 1\n",
    "a"
   ]
  },
  {
   "cell_type": "code",
   "execution_count": 116,
   "id": "7a6856b5-5665-4c98-b18d-a35535938f2d",
   "metadata": {},
   "outputs": [
    {
     "data": {
      "text/plain": [
       "39"
      ]
     },
     "execution_count": 116,
     "metadata": {},
     "output_type": "execute_result"
    }
   ],
   "source": [
    "b= 34\n",
    "b += 10 #44\n",
    "b -= 5 #39\n",
    "b"
   ]
  },
  {
   "cell_type": "markdown",
   "id": "461666a0-7baa-45d6-8bc2-3ae8ededa06b",
   "metadata": {},
   "source": [
    "# 문자열 str\n",
    "\n",
    "' ', \" \", \"\"\" \"\"\", ''' ''' docstring"
   ]
  },
  {
   "cell_type": "code",
   "execution_count": 117,
   "id": "8fd7edbc-4e74-4006-b0ed-ede2bc6c624f",
   "metadata": {},
   "outputs": [
    {
     "data": {
      "text/plain": [
       "'hellopython'"
      ]
     },
     "execution_count": 117,
     "metadata": {},
     "output_type": "execute_result"
    }
   ],
   "source": [
    "a = \"hello\"\n",
    "b = \"python\"\n",
    "a+b"
   ]
  },
  {
   "cell_type": "code",
   "execution_count": 118,
   "id": "0b905415-7af2-404a-b848-7408341aa3a8",
   "metadata": {},
   "outputs": [
    {
     "data": {
      "text/plain": [
       "'**********'"
      ]
     },
     "execution_count": 118,
     "metadata": {},
     "output_type": "execute_result"
    }
   ],
   "source": [
    "c=\"*\"\n",
    "c*10"
   ]
  },
  {
   "cell_type": "code",
   "execution_count": 119,
   "id": "eb1d5529-4d15-47f9-99d1-cd374175e848",
   "metadata": {},
   "outputs": [
    {
     "data": {
      "text/plain": [
       "True"
      ]
     },
     "execution_count": 119,
     "metadata": {},
     "output_type": "execute_result"
    }
   ],
   "source": [
    "e = '1'\n",
    "e == '1'\n"
   ]
  },
  {
   "cell_type": "code",
   "execution_count": 127,
   "id": "43a72e02-4cb8-402c-8c0f-da2fcfea58ca",
   "metadata": {},
   "outputs": [
    {
     "data": {
      "text/plain": [
       "'abcd'"
      ]
     },
     "execution_count": 127,
     "metadata": {},
     "output_type": "execute_result"
    }
   ],
   "source": [
    "#문자열은 리스트, 열거형\n",
    "a = '20010331Rabcd' #list of 13 letters\n",
    "a[0] #자릿수 ->index\n",
    "a[3] #indexing\n",
    "a[0:4] #영역을 지정할 때 : (콜론 사용) -> slicing\n",
    "a[:4]\n",
    "a[-5:-2] #a[8:11]\n",
    "a[9:]"
   ]
  },
  {
   "cell_type": "code",
   "execution_count": 129,
   "id": "aeac78b6-2333-432b-8b84-801599a72511",
   "metadata": {},
   "outputs": [
    {
     "data": {
      "text/plain": [
       "True"
      ]
     },
     "execution_count": 129,
     "metadata": {},
     "output_type": "execute_result"
    }
   ],
   "source": [
    "s = 'abc'\n",
    "a = s\n",
    "a is s"
   ]
  },
  {
   "cell_type": "code",
   "execution_count": 132,
   "id": "513f954c-0ea6-40fc-bb02-4cfed586708a",
   "metadata": {},
   "outputs": [
    {
     "data": {
      "text/plain": [
       "True"
      ]
     },
     "execution_count": 132,
     "metadata": {},
     "output_type": "execute_result"
    }
   ],
   "source": [
    "b = s[:]\n",
    "b\n",
    "a is b"
   ]
  },
  {
   "cell_type": "code",
   "execution_count": null,
   "id": "b56c89e2-db3e-4f6a-8a2d-94758ff41272",
   "metadata": {},
   "outputs": [],
   "source": []
  }
 ],
 "metadata": {
  "kernelspec": {
   "display_name": "Python 3 (ipykernel)",
   "language": "python",
   "name": "python3"
  },
  "language_info": {
   "codemirror_mode": {
    "name": "ipython",
    "version": 3
   },
   "file_extension": ".py",
   "mimetype": "text/x-python",
   "name": "python",
   "nbconvert_exporter": "python",
   "pygments_lexer": "ipython3",
   "version": "3.12.1"
  }
 },
 "nbformat": 4,
 "nbformat_minor": 5
}
