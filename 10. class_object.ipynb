{
 "cells": [
  {
   "cell_type": "markdown",
   "id": "1c3e466c-3f2c-43ea-8f9f-054e953893f2",
   "metadata": {},
   "source": [
    "# 파이썬으로 객체지향프로그래밍 OOP   \n",
    "\n",
    "Object Oriented Programming   \n",
    "\n",
    "파이썬으로 만드는 응용프로그램\n",
    "- 편수: 전역, 지역\n",
    "- 함수: 기능을 구현하는 도구\n",
    "- 모듈: 함수의 모음, 변수의 모음 > .py\n",
    "- CRUD 의 구현: Create, Read, Update, Delete\n",
    "\n",
    "Class : 변수 + 함수를 하나로 묶어 주는 구조 개념  \n",
    "객체: 클래스를 이용해서 다수의 객체를 생성   \n",
    "\n",
    "객체지향 프로그램: 객체를 이용하는 프로그램 \n",
    "\n"
   ]
  },
  {
   "cell_type": "markdown",
   "id": "45b0d192-11d1-4036-b320-b6c1990397e3",
   "metadata": {},
   "source": [
    "## 객체지향 프로그램을 만드는 법\n",
    "\n",
    "1. 클래스 만들기\n",
    "2. 클래스를 이용해 객체를 셍성\n",
    "3. 객체의 함수 : 메소드를 호출 "
   ]
  },
  {
   "cell_type": "code",
   "execution_count": 21,
   "id": "96928d62-500e-4749-9ccb-fb5530a2495f",
   "metadata": {},
   "outputs": [],
   "source": [
    "class Bicycle():\n",
    "    #속성추가 : 생성자\n",
    "    def __init__(self, color, wheel=20): # 디폴트를 주면 해결 가능 \n",
    "        self.color = color\n",
    "        self.wheel = wheel\n",
    "        \n",
    "#    def __init__(self, color):\n",
    "#        self.color = color    \n",
    "        \n",
    "    def move(self):\n",
    "        print(f'{self.color} {self.wheel} 자전거가 움직입니다. ')\n",
    "    pass"
   ]
  },
  {
   "cell_type": "code",
   "execution_count": 24,
   "id": "6b8d2487-cdda-47bd-81dd-5c3eb073e01d",
   "metadata": {},
   "outputs": [
    {
     "name": "stdout",
     "output_type": "stream",
     "text": [
      "red 10 자전거가 움직입니다. \n"
     ]
    },
    {
     "data": {
      "text/plain": [
       "['__class__',\n",
       " '__delattr__',\n",
       " '__dict__',\n",
       " '__dir__',\n",
       " '__doc__',\n",
       " '__eq__',\n",
       " '__format__',\n",
       " '__ge__',\n",
       " '__getattribute__',\n",
       " '__getstate__',\n",
       " '__gt__',\n",
       " '__hash__',\n",
       " '__init__',\n",
       " '__init_subclass__',\n",
       " '__le__',\n",
       " '__lt__',\n",
       " '__module__',\n",
       " '__ne__',\n",
       " '__new__',\n",
       " '__reduce__',\n",
       " '__reduce_ex__',\n",
       " '__repr__',\n",
       " '__setattr__',\n",
       " '__sizeof__',\n",
       " '__str__',\n",
       " '__subclasshook__',\n",
       " '__weakref__',\n",
       " 'color',\n",
       " 'move',\n",
       " 'wheel']"
      ]
     },
     "execution_count": 24,
     "metadata": {},
     "output_type": "execute_result"
    }
   ],
   "source": [
    "bi = Bicycle('red',10)\n",
    "bi.move()\n",
    "type(bi)\n",
    "dir(bi)"
   ]
  },
  {
   "cell_type": "code",
   "execution_count": 25,
   "id": "03f0f3a0-3602-4ad7-94a8-ed04c5de2d1a",
   "metadata": {},
   "outputs": [],
   "source": [
    "class Student:\n",
    "    def __init__(self, name, age):\n",
    "        self.name = name\n",
    "        self.age = age\n",
    "\n",
    "    def introduce(self):\n",
    "        print(f'안녕하세요. 제 이름은 {self.name}이고, 나이는 {self.age}살입니다. ')"
   ]
  },
  {
   "cell_type": "code",
   "execution_count": 26,
   "id": "b385ab36-894e-4f44-83eb-57938914b164",
   "metadata": {},
   "outputs": [
    {
     "name": "stdout",
     "output_type": "stream",
     "text": [
      "안녕하세요. 제 이름은 신윤서이고, 나이는 23살입니다. \n"
     ]
    }
   ],
   "source": [
    "student1 = Student('신윤서', 23)\n",
    "student1.introduce()"
   ]
  },
  {
   "cell_type": "markdown",
   "id": "f386eb5f-26fa-4fbb-a71e-7a0c2b934bfa",
   "metadata": {},
   "source": [
    "# 클래스의 속성 변수\n",
    "1. 인스턴스 변수\n",
    "2. 클래스 변수 "
   ]
  },
  {
   "cell_type": "code",
   "execution_count": 29,
   "id": "410045ee-ec89-4d01-a325-1ef5faaed94f",
   "metadata": {},
   "outputs": [],
   "source": [
    "class Car():\n",
    "    # class변수\n",
    "    instance_cnt = 0\n",
    "\n",
    "    def __init__(self, size):\n",
    "        self.size = size\n",
    "        Car.instance_cnt += 1\n",
    "        print(f'자동차가 {Car.instance_cnt}대 생성되었습니다. ')\n",
    "    def move(self):\n",
    "        print(f'{self.size}의 자동차가 움직입니다. ')"
   ]
  },
  {
   "cell_type": "code",
   "execution_count": 32,
   "id": "9d296add-1faf-45db-baf1-50061f55205e",
   "metadata": {},
   "outputs": [
    {
     "name": "stdout",
     "output_type": "stream",
     "text": [
      "자동차가 7대 생성되었습니다. \n",
      "자동차가 8대 생성되었습니다. \n",
      "자동차가 9대 생성되었습니다. \n",
      "10의 자동차가 움직입니다. \n",
      "20의 자동차가 움직입니다. \n",
      "30의 자동차가 움직입니다. \n"
     ]
    }
   ],
   "source": [
    "car1 = Car(10)\n",
    "car2 = Car(20)\n",
    "car3 = Car(30)\n",
    "\n",
    "car1.move()\n",
    "car2.move()\n",
    "car3.move()"
   ]
  },
  {
   "cell_type": "markdown",
   "id": "8847517d-71ee-44af-90e0-0bddd9c8285c",
   "metadata": {},
   "source": [
    "# method\n",
    "1. 인스턴스 메소드: self\n",
    "2. 스태틱(정적) 메소드: @staticmethod\n",
    "3. 클래스 메소드: @classmethod"
   ]
  },
  {
   "cell_type": "code",
   "execution_count": 33,
   "id": "1e03a59a-b161-43c8-9948-0b2649676290",
   "metadata": {},
   "outputs": [],
   "source": [
    "class Calculator:\n",
    "    def __init__(self, x, y): #instance method\n",
    "        self.x = x\n",
    "        self.y = y\n",
    "\n",
    "    def add(self): #instance method\n",
    "        return self.x + self.y\n",
    "\n",
    "    def multiply(self): #instance method\n",
    "        return self.x * self.y\n"
   ]
  },
  {
   "cell_type": "code",
   "execution_count": 37,
   "id": "82c05a4e-d395-4066-8b9d-9939477de259",
   "metadata": {},
   "outputs": [
    {
     "data": {
      "text/plain": [
       "3"
      ]
     },
     "execution_count": 37,
     "metadata": {},
     "output_type": "execute_result"
    }
   ],
   "source": [
    "calc = Calculator(3,1) #__init__() 생성자 함수를 자동으로 호출 \n",
    "calc.add() #instance method의 호출 > 객체의 참조, 메소드()\n",
    "calc.multiply()"
   ]
  },
  {
   "cell_type": "code",
   "execution_count": 54,
   "id": "e9286e1b-6119-4985-880b-940c46eb5798",
   "metadata": {},
   "outputs": [],
   "source": [
    "class Car():\n",
    "    instance_cnt = 0 #클래스 속성\n",
    "\n",
    "    def __init__(self, size):\n",
    "        self.size = size\n",
    "        Car.instance_cnt += 1\n",
    "        print(f'자동차가 {Car.instance_cnt}대 생성되었습니다. ')\n",
    "        \n",
    "    def auto_cruise(self): # instance\n",
    "        print('자율주행중')\n",
    "\n",
    "    def check_type(code): #static method\n",
    "        if code > 10:\n",
    "            print('전기자동차')\n",
    "        elif 10<code<20:\n",
    "            print('가솔린자동차')\n",
    "        else:\n",
    "            print('디젤자동차')\n",
    "\n",
    "    def count_instance(): # class method\n",
    "        print(f'자동차 대수 : {Car.instance_cnt}')"
   ]
  },
  {
   "cell_type": "code",
   "execution_count": 55,
   "id": "99695ae0-60bb-4d62-b380-156bfc2682f0",
   "metadata": {},
   "outputs": [
    {
     "name": "stdout",
     "output_type": "stream",
     "text": [
      "자동차가 1대 생성되었습니다. \n",
      "전기자동차\n"
     ]
    }
   ],
   "source": [
    "c1 = Car(2000)\n",
    "Car.check_type(25)"
   ]
  },
  {
   "cell_type": "code",
   "execution_count": 58,
   "id": "5b38cde7-db33-42bf-a102-eb3dde7c92f7",
   "metadata": {
    "scrolled": true
   },
   "outputs": [
    {
     "name": "stdout",
     "output_type": "stream",
     "text": [
      "자동차 대수 : 1\n"
     ]
    }
   ],
   "source": [
    "Car.count_instance()"
   ]
  },
  {
   "cell_type": "markdown",
   "id": "817964d0-e609-42b8-b61d-1b03fb8a4dfc",
   "metadata": {},
   "source": [
    "# 성적 관리 프로그램_class "
   ]
  },
  {
   "cell_type": "code",
   "execution_count": 222,
   "id": "91bd2d18-f42b-46bb-9604-e4bcfa6d5a99",
   "metadata": {},
   "outputs": [],
   "source": [
    "students = [\n",
    "               {'num':'1','name':'김철수','kor':90,'eng':80,'math':85,'total':0,'avg':0.0,'order':0 },\n",
    "               {'num':'2','name':'박제동','kor':90,'eng':85,'math':90,'total':0,'avg':0.0,'order':0 },\n",
    "               {'num':'3','name':'홍길동','kor':80,'eng':80,'math':80,'total':0,'avg':0.0,'order':0 }\n",
    "           ]"
   ]
  },
  {
   "cell_type": "code",
   "execution_count": 233,
   "id": "682a2f3f-3e59-4512-b9c0-62d9b016c73c",
   "metadata": {},
   "outputs": [],
   "source": [
    "class Student():\n",
    "    def __init__(self, num, name, kor, eng, math):\n",
    "        self.num = num\n",
    "        self.name = name\n",
    "        self.kor = kor\n",
    "        self.eng = eng\n",
    "        self.math = math\n",
    "        self.total = 0\n",
    "        self.avg = 0\n",
    "        self.order = 0\n",
    "    \n",
    "    #학생 객체의 정보 출력, instance method #각 학생 성적표 출력 \n",
    "    def s_info(self):\n",
    "        print(f'번호: {self.num}')\n",
    "        print(f'이름: {self.name}')\n",
    "        print(f'국어: {self.kor}점, 영어: {self.eng}점, 수학: {self.math}점')\n",
    "        print(f'총점: {self.total}점, 평균: {self.avg:.2f}점, 등수: {self.order}등')\n",
    "        print('-' * 40) \n",
    "\n",
    "    #학생 객체의 총점\n",
    "    def calc_total(self):\n",
    "        self.total = self.kor + self.eng + self.math\n",
    "        self.avg = self.total/3\n",
    "\n",
    "    #학생 객체의 등수 계산\n",
    "    def set_order(self, order):\n",
    "        self.order = order\n",
    "\n",
    "    def __str__(self):\n",
    "        return f\"{self.num}. {self.name} : {self.order}등\""
   ]
  },
  {
   "cell_type": "code",
   "execution_count": 241,
   "id": "ddd2d1aa-e1ad-4f69-ad71-da80d544d41a",
   "metadata": {},
   "outputs": [],
   "source": [
    "class Classroom():\n",
    "    #클래스 이름\n",
    "    def __init__(self, student_list):\n",
    "        self.students = self.gen_student_data(student_list)\n",
    "        self.name = ''\n",
    "\n",
    "    def set_name(self, class_name):\n",
    "        self.name = class_name\n",
    "        \n",
    "    #클래스의 학생 목록의 생성하는 인스턴스 메소드\n",
    "    def gen_student_data(self, stu_list):\n",
    "        students = []\n",
    "        for i, s_name in enumerate(stu_list, start=1):\n",
    "            #print(i,s_name)\n",
    "            s = Student(i,s_name, \n",
    "                        random.randint(50,100),\n",
    "                        random.randint(50,100),\n",
    "                        random.randint(50,100)\n",
    "                               )\n",
    "\n",
    "            s.calc_total()\n",
    "            #s.s_info()\n",
    "            \n",
    "            students.append(s)\n",
    "        \n",
    "        return students\n",
    "    \n",
    "    #학급의 학생 순위를 계산해서 학생 객체에 설정\n",
    "    def calc_order(self):\n",
    "        for s in self.students:\n",
    "            rank = 1\n",
    "            for other in self.students:\n",
    "                if other.total > s.total:\n",
    "                    rank += 1\n",
    "            s.set_order(rank)\n",
    "            #s.s_info()\n",
    "            \n",
    "    def print_student_score(self):\n",
    "        for student in self.students:\n",
    "            student.s_info()\n",
    "\n",
    "\n",
    "    #학급정보 리턴함수 __str__\n",
    "    def __str__(self):\n",
    "        return f'학급명 : {self.name}'\n",
    "\n",
    "    #반 평균 계산&출력 \n",
    "    def print_class_avg(self):\n",
    "        count = len(self.students)\n",
    "        \n",
    "        total_avg = sum(s.avg for s in self.students) / count\n",
    "        kor_avg = sum(s.kor for s in self.students) / count\n",
    "        eng_avg = sum(s.eng for s in self.students) / count\n",
    "        math_avg = sum(s.math for s in self.students) / count\n",
    "    \n",
    "        print(f'반 평균: {total_avg:.2f}, 국어 평균: {kor_avg:.2f}, 영어 평균: {eng_avg:.2f}, 수학 평균: {math_avg:.2f}')\n"
   ]
  },
  {
   "cell_type": "code",
   "execution_count": 282,
   "id": "092ad957-e5c8-4ba9-8975-3f2ff32e113b",
   "metadata": {
    "scrolled": true
   },
   "outputs": [
    {
     "name": "stdout",
     "output_type": "stream",
     "text": [
      "---------------------------------\n",
      "\n",
      "📄 [WN7_1 학급 성적표]\n",
      "번호: 1\n",
      "이름: 가나다\n",
      "국어: 81점, 영어: 87점, 수학: 60점\n",
      "총점: 228점, 평균: 76.00점, 등수: 2등\n",
      "----------------------------------------\n",
      "번호: 2\n",
      "이름: 라마바\n",
      "국어: 95점, 영어: 96점, 수학: 58점\n",
      "총점: 249점, 평균: 83.00점, 등수: 1등\n",
      "----------------------------------------\n",
      "번호: 3\n",
      "이름: 사아자\n",
      "국어: 92점, 영어: 53점, 수학: 71점\n",
      "총점: 216점, 평균: 72.00점, 등수: 3등\n",
      "----------------------------------------\n",
      "번호: 4\n",
      "이름: 타파하\n",
      "국어: 52점, 영어: 78점, 수학: 85점\n",
      "총점: 215점, 평균: 71.67점, 등수: 4등\n",
      "----------------------------------------\n",
      "반 평균: 75.67, 국어 평균: 80.00, 영어 평균: 78.50, 수학 평균: 68.50\n",
      "학급명 : WN7_1\n",
      "\n",
      "📄 [WN7_2 학급 성적표]\n",
      "번호: 1\n",
      "이름: 나나다\n",
      "국어: 97점, 영어: 74점, 수학: 56점\n",
      "총점: 227점, 평균: 75.67점, 등수: 3등\n",
      "----------------------------------------\n",
      "번호: 2\n",
      "이름: 다마바\n",
      "국어: 92점, 영어: 100점, 수학: 74점\n",
      "총점: 266점, 평균: 88.67점, 등수: 1등\n",
      "----------------------------------------\n",
      "번호: 3\n",
      "이름: 마아자\n",
      "국어: 64점, 영어: 93점, 수학: 99점\n",
      "총점: 256점, 평균: 85.33점, 등수: 2등\n",
      "----------------------------------------\n",
      "번호: 4\n",
      "이름: 바파하\n",
      "국어: 66점, 영어: 71점, 수학: 70점\n",
      "총점: 207점, 평균: 69.00점, 등수: 4등\n",
      "----------------------------------------\n",
      "반 평균: 79.67, 국어 평균: 79.75, 영어 평균: 84.50, 수학 평균: 74.75\n",
      "학급명 : WN7_2\n"
     ]
    }
   ],
   "source": [
    "# main process\n",
    "a_class_stu = [\"가나다\",\"라마바\",\"사아자\",\"타파하\"]\n",
    "b_class_stu = [\"나나다\",\"다마바\",\"마아자\",\"바파하\"]\n",
    "\n",
    "a_class = Classroom(a_class_stu)\n",
    "b_class = Classroom(b_class_stu)\n",
    "print('---------------------------------')\n",
    "a_class.set_name('WN7_1')\n",
    "print(f\"\\n📄 [{a_class.name} 학급 성적표]\")\n",
    "a_class.calc_order()\n",
    "a_class.print_student_score()\n",
    "a_class.print_class_avg()\n",
    "\n",
    "print(a_class)\n",
    "\n",
    "b_class.set_name('WN7_2')\n",
    "print(f\"\\n📄 [{b_class.name} 학급 성적표]\")\n",
    "b_class.set_name('WN7_2')\n",
    "b_class.calc_order()\n",
    "b_class.print_student_score()\n",
    "b_class.print_class_avg()\n",
    "\n",
    "print(b_class)"
   ]
  },
  {
   "cell_type": "markdown",
   "id": "a5704780-f3ef-4699-8128-f990d371892b",
   "metadata": {},
   "source": [
    "# 객체와 클래스를 사용하는 이유\n",
    "1. 코드 작성과 관리가 편하다\n",
    "2. 규모가 큰 프로그램(라이브러리)에서 사용한다\n",
    "3. 유사한 객체가 많은 프로그램에서 사용한다 (예. 게임)"
   ]
  },
  {
   "cell_type": "markdown",
   "id": "81698e01-8bae-4030-bbd7-bb3732da3eaa",
   "metadata": {},
   "source": [
    "# 객체 지향의 특징\n",
    "- 캡슐화 encapsulation\n",
    "- 상속 inheritance\n",
    "- 다형성 polymorphism"
   ]
  },
  {
   "cell_type": "code",
   "execution_count": 249,
   "id": "c155902c-aba2-47e6-83d1-0179362ec26c",
   "metadata": {},
   "outputs": [],
   "source": [
    "class MyClass():\n",
    "    def __init__(self):\n",
    "        self.var1 = 10 #public\n",
    "        self._var2 = 20 #protected\n",
    "        self.__var3 = 30 #private\n",
    "        "
   ]
  },
  {
   "cell_type": "code",
   "execution_count": 250,
   "id": "764103c5-f047-47e5-b3b5-fa801fe1ac83",
   "metadata": {},
   "outputs": [
    {
     "data": {
      "text/plain": [
       "10"
      ]
     },
     "execution_count": 250,
     "metadata": {},
     "output_type": "execute_result"
    }
   ],
   "source": [
    "c1 = MyClass()\n",
    "c1.var1"
   ]
  },
  {
   "cell_type": "code",
   "execution_count": 251,
   "id": "e18760de-7181-4945-8461-820380bb29d7",
   "metadata": {},
   "outputs": [
    {
     "data": {
      "text/plain": [
       "20"
      ]
     },
     "execution_count": 251,
     "metadata": {},
     "output_type": "execute_result"
    }
   ],
   "source": [
    "c1._var2"
   ]
  },
  {
   "cell_type": "code",
   "execution_count": 252,
   "id": "2d7477ee-635c-473f-a636-e984d659ce05",
   "metadata": {
    "scrolled": true
   },
   "outputs": [
    {
     "data": {
      "text/plain": [
       "['_MyClass__var3',\n",
       " '__class__',\n",
       " '__delattr__',\n",
       " '__dict__',\n",
       " '__dir__',\n",
       " '__doc__',\n",
       " '__eq__',\n",
       " '__format__',\n",
       " '__ge__',\n",
       " '__getattribute__',\n",
       " '__getstate__',\n",
       " '__gt__',\n",
       " '__hash__',\n",
       " '__init__',\n",
       " '__init_subclass__',\n",
       " '__le__',\n",
       " '__lt__',\n",
       " '__module__',\n",
       " '__ne__',\n",
       " '__new__',\n",
       " '__reduce__',\n",
       " '__reduce_ex__',\n",
       " '__repr__',\n",
       " '__setattr__',\n",
       " '__sizeof__',\n",
       " '__str__',\n",
       " '__subclasshook__',\n",
       " '__weakref__',\n",
       " '_var2',\n",
       " 'var1']"
      ]
     },
     "execution_count": 252,
     "metadata": {},
     "output_type": "execute_result"
    }
   ],
   "source": [
    "dir(c1)"
   ]
  },
  {
   "cell_type": "code",
   "execution_count": 253,
   "id": "e4245e03-7de5-4cc2-98ed-e6f3a3019b97",
   "metadata": {},
   "outputs": [
    {
     "data": {
      "text/plain": [
       "90"
      ]
     },
     "execution_count": 253,
     "metadata": {},
     "output_type": "execute_result"
    }
   ],
   "source": [
    "c1._MyClass__var3"
   ]
  },
  {
   "cell_type": "code",
   "execution_count": 283,
   "id": "52145532-44d4-4632-97e0-a15cdd0ac099",
   "metadata": {
    "scrolled": true
   },
   "outputs": [
    {
     "data": {
      "text/plain": [
       "['__class__',\n",
       " '__delattr__',\n",
       " '__dict__',\n",
       " '__dir__',\n",
       " '__doc__',\n",
       " '__eq__',\n",
       " '__format__',\n",
       " '__ge__',\n",
       " '__getattribute__',\n",
       " '__getstate__',\n",
       " '__gt__',\n",
       " '__hash__',\n",
       " '__init__',\n",
       " '__init_subclass__',\n",
       " '__le__',\n",
       " '__lt__',\n",
       " '__module__',\n",
       " '__ne__',\n",
       " '__new__',\n",
       " '__reduce__',\n",
       " '__reduce_ex__',\n",
       " '__repr__',\n",
       " '__setattr__',\n",
       " '__sizeof__',\n",
       " '__str__',\n",
       " '__subclasshook__',\n",
       " '__weakref__']"
      ]
     },
     "execution_count": 283,
     "metadata": {},
     "output_type": "execute_result"
    }
   ],
   "source": [
    "dir(MyClass)"
   ]
  },
  {
   "cell_type": "markdown",
   "id": "495f3ab3-438d-41bd-8e38-a81f655053ec",
   "metadata": {},
   "source": [
    "# 상속"
   ]
  },
  {
   "cell_type": "code",
   "execution_count": 279,
   "id": "1ee87ecc-2fe8-45f4-9e20-c9f2b67920fa",
   "metadata": {},
   "outputs": [],
   "source": [
    "#부모클래스\n",
    "class Calculator():\n",
    "    def __init__(self, x, y):\n",
    "        self.x = x\n",
    "        self.y = y\n",
    "    def add(self):\n",
    "        return self.x +self.y"
   ]
  },
  {
   "cell_type": "code",
   "execution_count": 280,
   "id": "1e6d193f-52a2-40d9-b969-eab3a2cfb99a",
   "metadata": {},
   "outputs": [],
   "source": [
    "# 자식 클래스 \n",
    "# 상속 받고 싶은 class를 괄호안에 \n",
    "class Advancedcalculator(Calculator):\n",
    "    #자식이 추가한 기능 \n",
    "    def divide(self):\n",
    "        if self.y == 0:\n",
    "            return '0으로 나누기 금지'\n",
    "        return self.x/self.y\n",
    "    def power(self):\n",
    "        return self.x ** self.y\n",
    "\n",
    "    def bigger(self):\n",
    "        if self.x > self.y:\n",
    "            return self.x\n",
    "        else:\n",
    "            return self.y\n",
    "            \n",
    "    def smaller(self):\n",
    "        if self.x < self.y:\n",
    "            return self.x\n",
    "        else:\n",
    "            return self.y\n",
    "            \n",
    "    #상속 받은 기능의 재정의 \n",
    "    def add(self):\n",
    "        print('advanced calculator입니다. ')\n",
    "        return 0 #super().add"
   ]
  },
  {
   "cell_type": "code",
   "execution_count": 281,
   "id": "d1bfc4a2-a858-49e5-bc56-80daf032ee41",
   "metadata": {},
   "outputs": [
    {
     "name": "stdout",
     "output_type": "stream",
     "text": [
      "advanced calculator입니다. \n"
     ]
    },
    {
     "data": {
      "text/plain": [
       "3"
      ]
     },
     "execution_count": 281,
     "metadata": {},
     "output_type": "execute_result"
    }
   ],
   "source": [
    "acalc = Advancedcalculator(30,3)\n",
    "acalc.divide()\n",
    "acalc.add()\n",
    "acalc.power()\n",
    "acalc.bigger()\n",
    "acalc.smaller()\n"
   ]
  },
  {
   "cell_type": "code",
   "execution_count": null,
   "id": "a85f265d-21c8-4a7e-83d3-496fcbf8d827",
   "metadata": {},
   "outputs": [],
   "source": []
  }
 ],
 "metadata": {
  "kernelspec": {
   "display_name": "Python 3 (ipykernel)",
   "language": "python",
   "name": "python3"
  },
  "language_info": {
   "codemirror_mode": {
    "name": "ipython",
    "version": 3
   },
   "file_extension": ".py",
   "mimetype": "text/x-python",
   "name": "python",
   "nbconvert_exporter": "python",
   "pygments_lexer": "ipython3",
   "version": "3.12.1"
  }
 },
 "nbformat": 4,
 "nbformat_minor": 5
}
