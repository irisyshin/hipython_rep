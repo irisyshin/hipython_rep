{
 "cells": [
  {
   "cell_type": "code",
   "execution_count": 1,
   "id": "b0386d30",
   "metadata": {},
   "outputs": [
    {
     "data": {
      "text/plain": [
       "30"
      ]
     },
     "execution_count": 1,
     "metadata": {},
     "output_type": "execute_result"
    }
   ],
   "source": [
    "10+20"
   ]
  },
  {
   "cell_type": "code",
   "execution_count": 4,
   "id": "c76a13d2",
   "metadata": {},
   "outputs": [],
   "source": [
    "from collections import defaultdict"
   ]
  },
  {
   "cell_type": "code",
   "execution_count": null,
   "id": "9a57d7db",
   "metadata": {},
   "outputs": [
    {
     "name": "stdout",
     "output_type": "stream",
     "text": [
      "defaultdict(<class 'int'>, {'a': 1, 'b': 0, 'c': 7})\n"
     ]
    }
   ],
   "source": [
    "# defaultdict class\n",
    "dd = defaultdict(int)\n",
    "dd['a'] = 1\n",
    "dd['b']\n",
    "dd['c'] = 7\n",
    "print(dd)"
   ]
  },
  {
   "cell_type": "code",
   "execution_count": 11,
   "id": "b38b6682",
   "metadata": {},
   "outputs": [
    {
     "data": {
      "text/plain": [
       "[('alice', 90), ('bob', 80), ('charlie', 70), ('alice', 80)]"
      ]
     },
     "execution_count": 11,
     "metadata": {},
     "output_type": "execute_result"
    }
   ],
   "source": [
    "scores = [('alice',90),('bob',80),('charlie',70),('alice',80)]\n",
    "scores"
   ]
  },
  {
   "cell_type": "code",
   "execution_count": 18,
   "id": "e7ae218f",
   "metadata": {},
   "outputs": [
    {
     "data": {
      "text/plain": [
       "{'alice': [90, 80], 'bob': [80], 'charlie': [70]}"
      ]
     },
     "execution_count": 18,
     "metadata": {},
     "output_type": "execute_result"
    }
   ],
   "source": [
    "grouped = defaultdict(list)\n",
    "for name,score in scores:\n",
    "    grouped[name].append(score)\n",
    "\n",
    "dict(grouped)"
   ]
  },
  {
   "cell_type": "code",
   "execution_count": 17,
   "id": "31a242c4",
   "metadata": {},
   "outputs": [
    {
     "data": {
      "text/plain": [
       "defaultdict(int, {'b': 1, 'a': 3, 'n': 2})"
      ]
     },
     "execution_count": 17,
     "metadata": {},
     "output_type": "execute_result"
    }
   ],
   "source": [
    "s ='banana'\n",
    "cnt = defaultdict(int)\n",
    "for char in s:\n",
    "    cnt[char] += 1\n",
    "cnt"
   ]
  },
  {
   "cell_type": "markdown",
   "id": "2d9dc966",
   "metadata": {},
   "source": [
    "# Counter \n",
    "\n",
    "collection 모음의 클래스, 시퀀스 데이터, 리스트, 문자열 외 원소의 개수를 카운트"
   ]
  },
  {
   "cell_type": "code",
   "execution_count": 4,
   "id": "b0953467",
   "metadata": {},
   "outputs": [
    {
     "data": {
      "text/plain": [
       "Counter({2: 4, 0: 1, 1: 1, 3: 1, 4: 1, 5: 1, 6: 1})"
      ]
     },
     "execution_count": 4,
     "metadata": {},
     "output_type": "execute_result"
    }
   ],
   "source": [
    "from collections import Counter\n",
    "list1 = [0,1,2,3,4,5,6,2,2,2\n",
    "         ]\n",
    "cnt = Counter(list1)\n",
    "cnt"
   ]
  },
  {
   "cell_type": "code",
   "execution_count": 6,
   "id": "ba63ac4e",
   "metadata": {},
   "outputs": [
    {
     "data": {
      "text/plain": [
       "([(2, 4), (0, 1), (1, 1), (3, 1), (4, 1), (5, 1), (6, 1)],\n",
       " dict_items([(0, 1), (1, 1), (2, 4), (3, 1), (4, 1), (5, 1), (6, 1)]))"
      ]
     },
     "execution_count": 6,
     "metadata": {},
     "output_type": "execute_result"
    }
   ],
   "source": [
    "cnt.most_common(), cnt.items()"
   ]
  },
  {
   "cell_type": "code",
   "execution_count": null,
   "id": "5e49dd07",
   "metadata": {},
   "outputs": [],
   "source": [
    "# extend()\n",
    "\n",
    "# append() : 1개씩"
   ]
  }
 ],
 "metadata": {
  "kernelspec": {
   "display_name": "hipython",
   "language": "python",
   "name": "python3"
  },
  "language_info": {
   "codemirror_mode": {
    "name": "ipython",
    "version": 3
   },
   "file_extension": ".py",
   "mimetype": "text/x-python",
   "name": "python",
   "nbconvert_exporter": "python",
   "pygments_lexer": "ipython3",
   "version": "3.12.9"
  }
 },
 "nbformat": 4,
 "nbformat_minor": 5
}
