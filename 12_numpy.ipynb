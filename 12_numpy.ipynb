{
 "cells": [
  {
   "cell_type": "markdown",
   "id": "8b70d21c",
   "metadata": {},
   "source": [
    "#넘파이의 사용\n",
    "\n",
    "1. 데이터 분석 프로젝트: 수치형 데이터의 요약, 통계, 시각화\n",
    "2. 이미지 처리 프로젝트: 이미지 분석\n",
    "3. 게임, 시뮬레이션 프로그램: 수치 시뮬레이션 들을 구현\n",
    "3. 머신러닝/딥러닝 모델 프로젝트: 금융, 의료, 실험, 센서 데이터 "
   ]
  },
  {
   "cell_type": "code",
   "execution_count": 5,
   "id": "4ef99fa9",
   "metadata": {},
   "outputs": [],
   "source": [
    "import numpy as np"
   ]
  },
  {
   "cell_type": "code",
   "execution_count": 6,
   "id": "3a68eb79",
   "metadata": {},
   "outputs": [
    {
     "data": {
      "text/plain": [
       "[[120, 135, 150, 145], [100, 110, 140, 130], [90, 100, 95, 105]]"
      ]
     },
     "execution_count": 6,
     "metadata": {},
     "output_type": "execute_result"
    }
   ],
   "source": [
    "data = [\n",
    "    [120, 135, 150, 145],  # 제품A\n",
    "    [100, 110, 140, 130],  # 제품B\n",
    "    [90, 100, 95, 105] ]\n",
    "\n",
    "data"
   ]
  },
  {
   "cell_type": "code",
   "execution_count": 7,
   "id": "fa75161a",
   "metadata": {},
   "outputs": [
    {
     "data": {
      "text/plain": [
       "array([[120, 135, 150, 145],\n",
       "       [100, 110, 140, 130],\n",
       "       [ 90, 100,  95, 105]])"
      ]
     },
     "execution_count": 7,
     "metadata": {},
     "output_type": "execute_result"
    }
   ],
   "source": [
    "np.array(data)"
   ]
  },
  {
   "cell_type": "code",
   "execution_count": 8,
   "id": "04b65978",
   "metadata": {},
   "outputs": [
    {
     "data": {
      "text/plain": [
       "array([550, 480, 390])"
      ]
     },
     "execution_count": 8,
     "metadata": {},
     "output_type": "execute_result"
    }
   ],
   "source": [
    "sales_data = np.array(data)\n",
    "np.sum(sales_data, axis=1) # 총 판매량 "
   ]
  },
  {
   "cell_type": "code",
   "execution_count": 9,
   "id": "dd727d8f",
   "metadata": {},
   "outputs": [],
   "source": [
    "#총 이익\n",
    "profit_per_unit = np.array([20,30,25])\n",
    "total_sales = np.dot(profit_per_unit, sales_data) #총 판매 금액 "
   ]
  },
  {
   "cell_type": "markdown",
   "id": "45ba1d25",
   "metadata": {},
   "source": [
    "# 이미지처리"
   ]
  },
  {
   "cell_type": "code",
   "execution_count": 10,
   "id": "6b97851e",
   "metadata": {},
   "outputs": [
    {
     "ename": "FileNotFoundError",
     "evalue": "[Errno 2] No such file or directory: 'image-26.jpg'",
     "output_type": "error",
     "traceback": [
      "\u001b[31m---------------------------------------------------------------------------\u001b[39m",
      "\u001b[31mFileNotFoundError\u001b[39m                         Traceback (most recent call last)",
      "\u001b[36mCell\u001b[39m\u001b[36m \u001b[39m\u001b[32mIn[10]\u001b[39m\u001b[32m, line 2\u001b[39m\n\u001b[32m      1\u001b[39m \u001b[38;5;28;01mfrom\u001b[39;00m\u001b[38;5;250m \u001b[39m\u001b[34;01mPIL\u001b[39;00m\u001b[38;5;250m \u001b[39m\u001b[38;5;28;01mimport\u001b[39;00m Image\n\u001b[32m----> \u001b[39m\u001b[32m2\u001b[39m img = \u001b[43mImage\u001b[49m\u001b[43m.\u001b[49m\u001b[43mopen\u001b[49m\u001b[43m(\u001b[49m\u001b[33;43m'\u001b[39;49m\u001b[33;43mimage-26.jpg\u001b[39;49m\u001b[33;43m'\u001b[39;49m\u001b[43m)\u001b[49m.convert(\u001b[33m'\u001b[39m\u001b[33mL\u001b[39m\u001b[33m'\u001b[39m)\n\u001b[32m      3\u001b[39m img_ary = np.array(img)\n\u001b[32m      4\u001b[39m new_img = np.clip(img_ary+\u001b[32m10\u001b[39m,\u001b[32m100\u001b[39m,\u001b[32m255\u001b[39m).astype(np.uint8)\n",
      "\u001b[36mFile \u001b[39m\u001b[32mc:\\Users\\Admin\\miniconda3\\envs\\hipython\\Lib\\site-packages\\PIL\\Image.py:3465\u001b[39m, in \u001b[36mopen\u001b[39m\u001b[34m(fp, mode, formats)\u001b[39m\n\u001b[32m   3462\u001b[39m     filename = os.fspath(fp)\n\u001b[32m   3464\u001b[39m \u001b[38;5;28;01mif\u001b[39;00m filename:\n\u001b[32m-> \u001b[39m\u001b[32m3465\u001b[39m     fp = \u001b[43mbuiltins\u001b[49m\u001b[43m.\u001b[49m\u001b[43mopen\u001b[49m\u001b[43m(\u001b[49m\u001b[43mfilename\u001b[49m\u001b[43m,\u001b[49m\u001b[43m \u001b[49m\u001b[33;43m\"\u001b[39;49m\u001b[33;43mrb\u001b[39;49m\u001b[33;43m\"\u001b[39;49m\u001b[43m)\u001b[49m\n\u001b[32m   3466\u001b[39m     exclusive_fp = \u001b[38;5;28;01mTrue\u001b[39;00m\n\u001b[32m   3467\u001b[39m \u001b[38;5;28;01melse\u001b[39;00m:\n",
      "\u001b[31mFileNotFoundError\u001b[39m: [Errno 2] No such file or directory: 'image-26.jpg'"
     ]
    }
   ],
   "source": [
    "from PIL import Image\n",
    "img = Image.open('image-26.jpg').convert('L')\n",
    "img_ary = np.array(img)\n",
    "new_img = np.clip(img_ary+10,100,255).astype(np.uint8)\n",
    "Image.fromarray(new_img).save('new_sample.jpg')"
   ]
  },
  {
   "cell_type": "code",
   "execution_count": null,
   "id": "2ed560c3",
   "metadata": {},
   "outputs": [],
   "source": [
    "inverted = 255-img_ary\n",
    "Image.fromarray(inverted).save('new_sample2.jpg')"
   ]
  },
  {
   "cell_type": "markdown",
   "id": "92e1ce13",
   "metadata": {},
   "source": [
    "# 데이터 시뮬레이션\n"
   ]
  },
  {
   "cell_type": "code",
   "execution_count": null,
   "id": "e8b59aab",
   "metadata": {},
   "outputs": [],
   "source": [
    "import matplotlib.pyplot as plt\n",
    "\n",
    "n_step = 1000\n",
    "step = np.random.choice([-1,1], size=n_step)\n",
    "walk = np.cumsum(step)\n",
    "\n",
    "plt.plot(walk)"
   ]
  },
  {
   "cell_type": "code",
   "execution_count": null,
   "id": "1df6e9b0",
   "metadata": {},
   "outputs": [],
   "source": [
    "#배열의 속성\n",
    "arr = np.array([[1,2,3],\n",
    "                [4,5,6],\n",
    "                [7,8,9]])\n",
    "\n",
    "#배열의 속성 확인\n",
    "print('배열의 차원: ', arr.ndim)\n",
    "print('배열의 형태: ', arr.shape)\n",
    "print('배열의 크기: ', arr.size)\n",
    "print('배열의 데이터 타입: ',arr.dtype)\n",
    "print('배열 요소의 크기: ', arr.itemsize)\n",
    "print('배열의 strides: ', arr.strides)\n"
   ]
  },
  {
   "cell_type": "code",
   "execution_count": null,
   "id": "d4f6c87c",
   "metadata": {},
   "outputs": [],
   "source": [
    "# 3차원: 텐서를 위한 리스트 생성 \n",
    "tensor_list =[[[1,2,3,4],[1,2,3,4],[1,2,3,4]], #4,3,4\n",
    "#              [[1,2,3,4],[1,2,3,4],[1,2,3,4]], #2,3,4\n",
    "#              [[1,2,3,4],[1,2,3,4],[1,2,3,4]],\n",
    "              [[1,2,3,4],[1,2,3,4],[1,2,3,4]]]\n",
    "\n",
    "tensor_list"
   ]
  },
  {
   "cell_type": "code",
   "execution_count": null,
   "id": "23464930",
   "metadata": {},
   "outputs": [],
   "source": [
    "# 텐서 \n",
    "arr1 = np.array(tensor_list)\n",
    "type(arr1)"
   ]
  },
  {
   "cell_type": "code",
   "execution_count": null,
   "id": "1a223320",
   "metadata": {},
   "outputs": [],
   "source": [
    "arr1.shape #x,y,z > 면행열"
   ]
  },
  {
   "cell_type": "code",
   "execution_count": null,
   "id": "fa2cd337",
   "metadata": {},
   "outputs": [],
   "source": [
    "arr3 = np.array([1,2,3]) #1차원\n",
    "type(arr3)"
   ]
  },
  {
   "cell_type": "code",
   "execution_count": null,
   "id": "f8c63a93",
   "metadata": {},
   "outputs": [],
   "source": [
    "arr.dtype, arr3.dtype"
   ]
  },
  {
   "cell_type": "code",
   "execution_count": null,
   "id": "c6eb7976",
   "metadata": {},
   "outputs": [],
   "source": [
    "arr4 = np.array([1,2,3,]) #1차원, array를 생성하는 함수이다 \n",
    "id(arr3), id(arr4)"
   ]
  },
  {
   "cell_type": "code",
   "execution_count": null,
   "id": "6ca7910e",
   "metadata": {},
   "outputs": [],
   "source": [
    "# type 변환 \n",
    "list2 = [1,2,4,'5',10]\n",
    "arr5 = np.array(list2)\n",
    "arr5\n",
    "type(list2), arr5.dtype"
   ]
  },
  {
   "cell_type": "code",
   "execution_count": null,
   "id": "1f9937cb",
   "metadata": {},
   "outputs": [],
   "source": [
    "np.array(list2, int)"
   ]
  },
  {
   "cell_type": "markdown",
   "id": "d1cb0486",
   "metadata": {},
   "source": [
    "# shape 속성\n"
   ]
  },
  {
   "cell_type": "code",
   "execution_count": 11,
   "id": "8ee926f7",
   "metadata": {},
   "outputs": [
    {
     "data": {
      "text/plain": [
       "((8,), 1)"
      ]
     },
     "execution_count": 11,
     "metadata": {},
     "output_type": "execute_result"
    }
   ],
   "source": [
    "list2 = [1,2,3,4,5,6,7,8]\n",
    "t_2 = np.array(list2)\n",
    "t_2.shape, t_2.ndim"
   ]
  },
  {
   "cell_type": "code",
   "execution_count": 12,
   "id": "5f6da590",
   "metadata": {},
   "outputs": [
    {
     "data": {
      "text/plain": [
       "((4, 3), (4, 3))"
      ]
     },
     "execution_count": 12,
     "metadata": {},
     "output_type": "execute_result"
    }
   ],
   "source": [
    "#4,3\n",
    "list3 = [[1,2,3],[4,5,6],[7,8,9],[10,11,12]]\n",
    "t_3 = np.array(list3)\n",
    "t_3.shape, t_3.shape"
   ]
  },
  {
   "cell_type": "code",
   "execution_count": 13,
   "id": "861482b7",
   "metadata": {},
   "outputs": [
    {
     "data": {
      "text/plain": [
       "(array([[ 1,  2,  3,  4],\n",
       "        [ 5,  6,  7,  8],\n",
       "        [ 9, 10, 11, 12]]),\n",
       " array([[ 1,  2,  3],\n",
       "        [ 4,  5,  6],\n",
       "        [ 7,  8,  9],\n",
       "        [10, 11, 12]]))"
      ]
     },
     "execution_count": 13,
     "metadata": {},
     "output_type": "execute_result"
    }
   ],
   "source": [
    "list4 = range(1,13)\n",
    "#reshape((row,column))\n",
    "np.array(list4).reshape((3,4)), np.array(list4).reshape((4,3))"
   ]
  },
  {
   "cell_type": "code",
   "execution_count": 14,
   "id": "88b786a0",
   "metadata": {},
   "outputs": [
    {
     "data": {
      "text/plain": [
       "array([[1],\n",
       "       [2],\n",
       "       [3]])"
      ]
     },
     "execution_count": 14,
     "metadata": {},
     "output_type": "execute_result"
    }
   ],
   "source": [
    "list4 = np.array([1,2,3])\n",
    "list4.reshape((3,1))"
   ]
  },
  {
   "cell_type": "code",
   "execution_count": 15,
   "id": "3ddc1507",
   "metadata": {},
   "outputs": [
    {
     "data": {
      "text/plain": [
       "array([[1, 2, 3]])"
      ]
     },
     "execution_count": 15,
     "metadata": {},
     "output_type": "execute_result"
    }
   ],
   "source": [
    "#newaxis 키워드 !!\n",
    "#list4.reshape((1,3))\n",
    "list4[np.newaxis, :]"
   ]
  },
  {
   "cell_type": "code",
   "execution_count": null,
   "id": "8fc8e023",
   "metadata": {},
   "outputs": [],
   "source": [
    "# arange()\n",
    "# range(시작, 끝, 스탭)\n"
   ]
  },
  {
   "cell_type": "code",
   "execution_count": null,
   "id": "720d520b",
   "metadata": {},
   "outputs": [],
   "source": [
    "np.arange(10)"
   ]
  },
  {
   "cell_type": "code",
   "execution_count": null,
   "id": "04595ab7",
   "metadata": {},
   "outputs": [],
   "source": [
    "np.arange(-5,5)"
   ]
  },
  {
   "cell_type": "markdown",
   "id": "d5a526ed",
   "metadata": {},
   "source": [
    "# method chaining"
   ]
  },
  {
   "cell_type": "code",
   "execution_count": null,
   "id": "19b7216b",
   "metadata": {},
   "outputs": [],
   "source": [
    "#2,3 > 2행 3열 \n",
    "np.arange(1,7).reshape((2,3))"
   ]
  },
  {
   "cell_type": "code",
   "execution_count": null,
   "id": "03bde709",
   "metadata": {},
   "outputs": [],
   "source": [
    "np.arange(1,25).reshape((2,3,4))"
   ]
  },
  {
   "cell_type": "code",
   "execution_count": null,
   "id": "51414682",
   "metadata": {},
   "outputs": [],
   "source": [
    "\n",
    "#2,3,4 >3*4*2\n",
    "#24,1 -> [],[],[],[], ... 이렇게 된다\n",
    "np.arange(1,25).reshape((2,3,4)).reshape((24))\n",
    "\n"
   ]
  },
  {
   "cell_type": "code",
   "execution_count": null,
   "id": "72097f75",
   "metadata": {},
   "outputs": [],
   "source": [
    "# 기본차원으로 바꿔!!!\n",
    "np.arange(1,25).reshape((2,3,4)).reshape(-1)"
   ]
  },
  {
   "cell_type": "code",
   "execution_count": null,
   "id": "7d8910a5",
   "metadata": {},
   "outputs": [
    {
     "name": "stdout",
     "output_type": "stream",
     "text": [
      "1. [1 2 3 4 5]\n",
      "2. [0. 0. 0. 0. 0.]\n",
      "3. [[1. 1. 1.]\n",
      " [1. 1. 1.]\n",
      " [1. 1. 1.]]\n",
      "4. [1 3 5 7 9]\n",
      "[  0.  25.  50.  75. 100.]\n",
      "[[0.08057193 0.44585412 0.05788972]\n",
      " [0.88306482 0.72858121 0.48140913]]\n"
     ]
    }
   ],
   "source": [
    "#리스트로부터 배열 생성 \n",
    "arr1 = np.array([1,2,3,4,5])\n",
    "print('1.',arr1)\n",
    "# 0으로 채워진 배열 생성 \n",
    "arr2 = np.zeros(5)\n",
    "print('2.',arr2)\n",
    "#1로 채워진 배열 생성 \n",
    "arr3 = np.ones((3,3))\n",
    "print('3.',arr3)\n",
    "#1-10까지 2씩 증가하는 배열\n",
    "range_arr = np.arange(1,10,2)\n",
    "print('4.',range_arr)\n",
    "# 0부터 100까지 5개의 숫자를 균들 간격으로 생성\n",
    "linspace_arr = np.linspace(0,100,5)\n",
    "print(linspace_arr)\n",
    "# 2행 3열의 랜덤 값 배열 (0-1 사이)\n",
    "random_arr = np.random.rand(2,3)\n",
    "print(random_arr)\n"
   ]
  },
  {
   "cell_type": "code",
   "execution_count": null,
   "id": "84282fdb",
   "metadata": {},
   "outputs": [],
   "source": [
    "#2dim array create\n",
    "#앞에부터 붙어 있는 괄호들의 개수를 보면 dim 알 수 있음 \n",
    "arr = np.array([[1,2],[3,4]])\n",
    "print(arr)"
   ]
  },
  {
   "cell_type": "markdown",
   "id": "6bb97137",
   "metadata": {},
   "source": [
    "## 단위행렬과 대각행렬의 생성 "
   ]
  },
  {
   "cell_type": "code",
   "execution_count": null,
   "id": "be567299",
   "metadata": {},
   "outputs": [
    {
     "name": "stdout",
     "output_type": "stream",
     "text": [
      "[[1. 0. 0.]\n",
      " [0. 1. 0.]\n",
      " [0. 0. 1.]]\n"
     ]
    }
   ],
   "source": [
    "# 3x3 단위행렬 생성\n",
    "identity_matrix = np.identity(3)\n",
    "print(identity_matrix)"
   ]
  },
  {
   "cell_type": "code",
   "execution_count": null,
   "id": "bb90679f",
   "metadata": {},
   "outputs": [
    {
     "name": "stdout",
     "output_type": "stream",
     "text": [
      "[[1 0 0]\n",
      " [0 2 0]\n",
      " [0 0 3]]\n"
     ]
    }
   ],
   "source": [
    "#대각원소가 [1,2,3]인 대각행렬 생성\n",
    "diagonal_matrix = np.diag([1, 2, 3])\n",
    "print(diagonal_matrix)"
   ]
  },
  {
   "cell_type": "code",
   "execution_count": null,
   "id": "cf8d798d",
   "metadata": {},
   "outputs": [
    {
     "name": "stdout",
     "output_type": "stream",
     "text": [
      "[0 4 8]\n"
     ]
    }
   ],
   "source": [
    "a = np.arange(9).reshape(3,3)\n",
    "diagonal_matrix_value = np.diag(a)\n",
    "print(diagonal_matrix_value )"
   ]
  },
  {
   "cell_type": "code",
   "execution_count": null,
   "id": "8fd4f1fe",
   "metadata": {},
   "outputs": [
    {
     "name": "stdout",
     "output_type": "stream",
     "text": [
      "[[1. 0. 0.]\n",
      " [0. 1. 0.]\n",
      " [0. 0. 1.]]\n",
      "[[1. 0. 0.]\n",
      " [0. 1. 0.]\n",
      " [0. 0. 1.]\n",
      " [0. 0. 0.]]\n",
      "[[0. 1. 0.]\n",
      " [0. 0. 1.]\n",
      " [0. 0. 0.]]\n"
     ]
    }
   ],
   "source": [
    "# 3x3 단위행렬 생성 (N=3)\n",
    "eye_matrix = np.eye(3)\n",
    "print(eye_matrix)\n",
    "\n",
    "# 4x3 직사각형 행렬 생성 (N=4, M=3)\n",
    "rect_eye = np.eye(4, 3)\n",
    "print(rect_eye)\n",
    "\n",
    "\n",
    "# k 매개변수로 대각선 위치 조정 (k=1은 주대각선 위로 한 칸)\n",
    "shifted_eye = np.eye(3, k=1)\n",
    "print(shifted_eye)\n"
   ]
  },
  {
   "cell_type": "code",
   "execution_count": null,
   "id": "2ebefefb",
   "metadata": {},
   "outputs": [
    {
     "name": "stdout",
     "output_type": "stream",
     "text": [
      "원본 배열의 shape: (2, 3)\n",
      "zeros_like 결과:\n",
      " [[0 0 0]\n",
      " [0 0 0]]\n",
      "ones_like 결과:\n",
      " [[1 1 1]\n",
      " [1 1 1]]\n",
      "full_like 결과:\n",
      " [[7 7 7]\n",
      " [7 7 7]]\n"
     ]
    }
   ],
   "source": [
    "# 기존 배열\n",
    "arr = np.array([[1, 2, 3], [4, 5, 6]])\n",
    "\n",
    "# empty_like(): 초기화되지 않은 배열 생성\n",
    "# 틀을 빠르게 찍어냄? 이상한 수가 나올 수 있음 \n",
    "#기존 배열을 참고해서 똑같은 틀을 복제??? 아마도 \n",
    "empty_arr = np.empty_like(arr)\n",
    "\n",
    "# zeros_like(): 0으로 채워진 배열 생성\n",
    "zeros_arr = np.zeros_like(arr)\n",
    "\n",
    "# ones_like(): 1로 채워진 배열 생성\n",
    "ones_arr = np.ones_like(arr)\n",
    "\n",
    "# full_like(): 지정된 값으로 채워진 배열 생성\n",
    "full_arr = np.full_like(arr, 7)  # 7로 채워진 배열\n",
    "\n",
    "print(\"원본 배열의 shape:\", arr.shape)\n",
    "print(\"zeros_like 결과:\\n\", zeros_arr)\n",
    "print(\"ones_like 결과:\\n\", ones_arr)\n",
    "print(\"full_like 결과:\\n\", full_arr)\n"
   ]
  },
  {
   "cell_type": "code",
   "execution_count": null,
   "id": "c0955c8d",
   "metadata": {},
   "outputs": [
    {
     "name": "stdout",
     "output_type": "stream",
     "text": [
      "[[0.97558921 0.97341813 0.77836514]\n",
      " [0.52360898 0.15120858 0.1465711 ]]\n",
      "[[-0.01048166 -0.83681121  0.59148048]\n",
      " [ 2.10569884  1.21053463 -0.27126607]]\n",
      "[[3 3 6]\n",
      " [4 9 1]]\n",
      "[0.37454012 0.95071431 0.73199394]\n"
     ]
    }
   ],
   "source": [
    "#numpy의 난수 생성 함수 \n",
    "# 난수 =  random_number \n",
    "# 0과 1 사이의 균일 분포 난수\n",
    "random_uniform = np.random.rand(2, 3)  # 2x3 행렬\n",
    "print(random_uniform)\n",
    "\n",
    "# 표준 정규 분포 난수\n",
    "random_normal = np.random.randn(2, 3)  # 2x3 행렬\n",
    "print(random_normal)\n",
    "\n",
    "# 정수 난수 (최소값, 최대값-1, 크기)\n",
    "random_int = np.random.randint(0, 10, (2, 3))  # 0~9 사이의 정수로 된 2x3 행렬\n",
    "print(random_int)\n",
    "\n",
    "# 시드 설정 - 재현 가능한 난수 생성\n",
    "np.random.seed(42)\n",
    "random_seeded = np.random.rand(3)\n",
    "print(random_seeded)"
   ]
  },
  {
   "cell_type": "markdown",
   "id": "a894cdc4",
   "metadata": {},
   "source": [
    "# numpy -> 숫자와 관련 된 함수들!"
   ]
  },
  {
   "cell_type": "code",
   "execution_count": null,
   "id": "b07f52e7",
   "metadata": {},
   "outputs": [
    {
     "data": {
      "text/plain": [
       "[1, 2, 3, 4, 5, 6]"
      ]
     },
     "execution_count": 105,
     "metadata": {},
     "output_type": "execute_result"
    }
   ],
   "source": [
    "lst_data = [1,2,3]+[4,5,6] #__add__() append() extend()\n",
    "lst_data\n"
   ]
  },
  {
   "cell_type": "code",
   "execution_count": null,
   "id": "ea795c71",
   "metadata": {},
   "outputs": [
    {
     "name": "stdout",
     "output_type": "stream",
     "text": [
      "[3 4 5 6 7 8]\n"
     ]
    }
   ],
   "source": [
    "a1  = np.array(lst_data)\n",
    "print(a1+2)"
   ]
  },
  {
   "cell_type": "code",
   "execution_count": null,
   "id": "1eb6c8c8",
   "metadata": {},
   "outputs": [
    {
     "name": "stdout",
     "output_type": "stream",
     "text": [
      "[ 3  5  7  9 11  9]\n"
     ]
    }
   ],
   "source": [
    "a2 = np.array([2,3,4,5,6,3]) #array의 행렬이 같아야 요소별 연산을 한다 \n",
    "print(a1+a2)"
   ]
  },
  {
   "cell_type": "markdown",
   "id": "c752aa6c",
   "metadata": {},
   "source": [
    "##브로드캐스팅\n",
    "\n",
    "크기가 다른 배열에서 작은쪽이 큰쪽에 맞춰 크기를 확장하는 기능 "
   ]
  },
  {
   "cell_type": "code",
   "execution_count": null,
   "id": "da64dc0f",
   "metadata": {},
   "outputs": [
    {
     "name": "stdout",
     "output_type": "stream",
     "text": [
      "[[0]\n",
      " [1]\n",
      " [2]] [0 1 2]\n",
      "[[0 1 2]\n",
      " [1 2 3]\n",
      " [2 3 4]]\n"
     ]
    }
   ],
   "source": [
    "a_array = np.arange(3)\n",
    "b_array = np.arange(3)[:, np.newaxis]\n",
    "print(b_array, a_array)\n",
    "print(b_array+a_array)\n",
    "\n",
    "# 0 0 0    0 1 2        0 1 2\n",
    "# 1 1 1    0 1 2        1 2 3\n",
    "# 2 2 2    0 1 2        2 3 4 "
   ]
  },
  {
   "cell_type": "code",
   "execution_count": null,
   "id": "e47b45f4",
   "metadata": {},
   "outputs": [
    {
     "name": "stdout",
     "output_type": "stream",
     "text": [
      "덧셈:\n",
      " [[ 6  8]\n",
      " [10 12]]\n",
      "뺄셈:\n",
      " [[-4 -4]\n",
      " [-4 -4]]\n",
      "곱셈:\n",
      " [[ 5 12]\n",
      " [21 32]]\n",
      "나눗셈:\n",
      " [[0.2        0.33333333]\n",
      " [0.42857143 0.5       ]]\n"
     ]
    }
   ],
   "source": [
    "# shape이 같은 배열 간의 연산\n",
    "a = np.array([[1, 2], [3, 4]])\n",
    "b = np.array([[5, 6], [7, 8]])\n",
    "\n",
    "print(\"덧셈:\\n\", a + b)\n",
    "print(\"뺄셈:\\n\", a - b)\n",
    "print(\"곱셈:\\n\", a * b)\n",
    "print(\"나눗셈:\\n\", a / b)\n",
    "\n",
    "# shape이 다른 경우 오류 발생\n",
    "c = np.array([[1, 2, 3], [4, 5, 6]])  # shape: (2, 3)\n",
    "d = np.array([[1, 2], [3, 4]])        # shape: (2, 2)\n",
    "\n",
    "# shape이 맞지 않는 배열 간의 연산을 수행하려면 > reshape() 사용 > shape 먼저 맞추거나 브로드캐스팅 규칙에 부합하도록 배열 수정 "
   ]
  },
  {
   "cell_type": "code",
   "execution_count": null,
   "id": "0486982e",
   "metadata": {},
   "outputs": [
    {
     "name": "stdout",
     "output_type": "stream",
     "text": [
      "같음:  [ True False  True False  True]\n",
      "더 큼: [False False False  True False]\n",
      "더 작음: [False  True False False False]\n",
      "복합 조건: [False False  True  True False]\n",
      "3보다 큰 값: [4 5]\n"
     ]
    }
   ],
   "source": [
    "# 배열의 각 요소에 대해 개별적인 비교, 배열의 모든 요소에 대해 동시 적용\n",
    "#비교 연산 \n",
    "arr1 = np.array([1,2,3,4,5])\n",
    "arr2 = np.array([1,3,3,0,5])\n",
    "\n",
    "#각각의 요소 같음 비교\n",
    "print(\"같음: \", arr1 == arr2)\n",
    "\n",
    "#크기 비교\n",
    "print(\"더 큼:\", arr1 > arr2) \n",
    "print(\"더 작음:\", arr1 < arr2)  \n",
    "\n",
    "# 논리 연산 결합\n",
    "mask = (arr1 >= 3) & (arr2 <= 4)\n",
    "print(\"복합 조건:\", mask)  \n",
    "\n",
    "# 비교 결과를 이용한 필터링\n",
    "filtered = arr1[arr1 > 3]\n",
    "print(\"3보다 큰 값:\", filtered)  "
   ]
  },
  {
   "cell_type": "code",
   "execution_count": null,
   "id": "5b0a1ee2",
   "metadata": {},
   "outputs": [
    {
     "name": "stdout",
     "output_type": "stream",
     "text": [
      "add:  [5 7 9]\n",
      "multipy:  [ 4 10 18]\n",
      "square:  [1 4 9]\n",
      "square root:  [1.         1.41421356 1.73205081]\n"
     ]
    }
   ],
   "source": [
    "# 요소별 연산돠 벡터화 연산 \n",
    "a = np.array([1,2,3])\n",
    "b = np.array([4,5,6])\n",
    "\n",
    "print('add: ', a+b)\n",
    "print('multipy: ', a*b)\n",
    "print('square: ', np.square(a))\n",
    "print('square root: ', np.sqrt(a))"
   ]
  },
  {
   "cell_type": "code",
   "execution_count": null,
   "id": "ca525150",
   "metadata": {},
   "outputs": [
    {
     "data": {
      "text/plain": [
       "array([1, 2, 3, 4, 5, 6, 7])"
      ]
     },
     "execution_count": 120,
     "metadata": {},
     "output_type": "execute_result"
    }
   ],
   "source": [
    "v1 = np.array([1,2,3])\n",
    "v2 = np.array([4,5,6,7])\n",
    "np.concatenate([v1,v2], axis=0)"
   ]
  },
  {
   "cell_type": "code",
   "execution_count": null,
   "id": "82953cf7",
   "metadata": {},
   "outputs": [
    {
     "data": {
      "text/plain": [
       "array([[1, 2, 3, 1, 2, 3],\n",
       "       [1, 2, 3, 1, 2, 3]])"
      ]
     },
     "execution_count": 124,
     "metadata": {},
     "output_type": "execute_result"
    }
   ],
   "source": [
    "grid = np.array([[1,2,3],[1,2,3]])\n",
    "np.concatenate([grid,grid], axis=1)"
   ]
  },
  {
   "cell_type": "code",
   "execution_count": null,
   "id": "d3d94a05",
   "metadata": {},
   "outputs": [
    {
     "data": {
      "text/plain": [
       "array([[1, 2, 3],\n",
       "       [1, 2, 3],\n",
       "       [1, 2, 3],\n",
       "       [1, 2, 3]])"
      ]
     },
     "execution_count": 125,
     "metadata": {},
     "output_type": "execute_result"
    }
   ],
   "source": [
    "grid = np.array([[1,2,3],[1,2,3]])\n",
    "np.concatenate([grid,grid], axis=0)"
   ]
  },
  {
   "cell_type": "code",
   "execution_count": null,
   "id": "a45b65b3",
   "metadata": {},
   "outputs": [
    {
     "data": {
      "text/plain": [
       "array([[1, 2, 3],\n",
       "       [1, 2, 3]])"
      ]
     },
     "execution_count": 127,
     "metadata": {},
     "output_type": "execute_result"
    }
   ],
   "source": [
    "np.vstack([v1,v1]) #vertical"
   ]
  },
  {
   "cell_type": "code",
   "execution_count": null,
   "id": "98c1d41c",
   "metadata": {},
   "outputs": [
    {
     "data": {
      "text/plain": [
       "array([1, 2, 3, 4, 5, 6, 7])"
      ]
     },
     "execution_count": 128,
     "metadata": {},
     "output_type": "execute_result"
    }
   ],
   "source": [
    "np.hstack([v1,v2]) #horizontal"
   ]
  },
  {
   "cell_type": "markdown",
   "id": "c07fa84d",
   "metadata": {},
   "source": [
    "# 축 인덱싱 \n",
    "\n",
    "axis = 0\n",
    "axis = 1\n",
    "axis = 2"
   ]
  },
  {
   "cell_type": "code",
   "execution_count": null,
   "id": "778c3bf0",
   "metadata": {},
   "outputs": [
    {
     "data": {
      "text/plain": [
       "np.int64(21)"
      ]
     },
     "execution_count": 129,
     "metadata": {},
     "output_type": "execute_result"
    }
   ],
   "source": [
    "# 축인덱싱 \n",
    "\n",
    "#2차원 배열 예제\n",
    "arr_2d = np.array([[1,2,3],\n",
    "                   [4,5,6]])\n",
    "np.sum(arr_2d,)"
   ]
  },
  {
   "cell_type": "markdown",
   "id": "7a06a073",
   "metadata": {},
   "source": [
    "## 배열의 인덱싱\n",
    "\n",
    "배열[행인덱스, 열인덱스]"
   ]
  },
  {
   "cell_type": "code",
   "execution_count": null,
   "id": "0bfd795b",
   "metadata": {},
   "outputs": [],
   "source": [
    "arr = np.array([1,2,3,4,5])\n",
    "arr[0], arr[-1], \n",
    "arr_2d[1,1]=10"
   ]
  },
  {
   "cell_type": "code",
   "execution_count": null,
   "id": "bfc1f3c4",
   "metadata": {},
   "outputs": [
    {
     "data": {
      "text/plain": [
       "array([[ 1,  2,  3],\n",
       "       [ 4, 10,  6]])"
      ]
     },
     "execution_count": 135,
     "metadata": {},
     "output_type": "execute_result"
    }
   ],
   "source": [
    "arr_2d"
   ]
  },
  {
   "cell_type": "code",
   "execution_count": null,
   "id": "97f1609f",
   "metadata": {},
   "outputs": [
    {
     "data": {
      "text/plain": [
       "array([2, 3, 4, 5])"
      ]
     },
     "execution_count": 136,
     "metadata": {},
     "output_type": "execute_result"
    }
   ],
   "source": [
    "arr = np.array([0, 1, 2, 3, 4, 5])\n",
    "arr[2:]"
   ]
  },
  {
   "cell_type": "markdown",
   "id": "dc5ce062",
   "metadata": {},
   "source": [
    "## 슬라이싱\n",
    "\n",
    "[:] 전체\n",
    "[0:n] 0~n-1 까지\n",
    "[:5] 0~4까지\n",
    "\n",
    "리스트와 차이점\n",
    "- 리스트 :  복사본 리턴\n",
    "- 배열 : 원본 배열의 뷰 -> 복사 x 원본에도 영향을 미친다\n",
    "- 슬라이싱.copy()"
   ]
  },
  {
   "cell_type": "code",
   "execution_count": null,
   "id": "03780557",
   "metadata": {},
   "outputs": [],
   "source": [
    "x = np.array([0,1,2,3,4,5,6,7,8,9])"
   ]
  },
  {
   "cell_type": "code",
   "execution_count": null,
   "id": "b21224a6",
   "metadata": {},
   "outputs": [
    {
     "data": {
      "text/plain": [
       "array([4, 5, 6])"
      ]
     },
     "execution_count": 141,
     "metadata": {},
     "output_type": "execute_result"
    }
   ],
   "source": [
    "x[4:7]"
   ]
  },
  {
   "cell_type": "code",
   "execution_count": null,
   "id": "9a9704fa",
   "metadata": {},
   "outputs": [],
   "source": [
    "new_x = x[4:7]\n"
   ]
  },
  {
   "cell_type": "code",
   "execution_count": null,
   "id": "52a16b99",
   "metadata": {},
   "outputs": [
    {
     "data": {
      "text/plain": [
       "(array([100,   5,   6]),\n",
       " array([  0,   1,   2,   3, 100,   5,   6,   7,   8,   9]))"
      ]
     },
     "execution_count": 144,
     "metadata": {},
     "output_type": "execute_result"
    }
   ],
   "source": [
    "new_x[0] = 100\n",
    "new_x,x #view 뷔의 값을 변경하면 원본의 값도 바뀐다"
   ]
  },
  {
   "cell_type": "code",
   "execution_count": null,
   "id": "9687ded4",
   "metadata": {},
   "outputs": [
    {
     "data": {
      "text/plain": [
       "(array([100,   5,   6]),\n",
       " array([  0,   1,   2,   3, 100,   5,   6,   7,   8,   9]),\n",
       " array([200,   5,   6]))"
      ]
     },
     "execution_count": 147,
     "metadata": {},
     "output_type": "execute_result"
    }
   ],
   "source": [
    "new_x1 = x[4:7].copy()\n",
    "new_x1[0] = 200\n",
    "\n",
    "new_x,x,new_x1"
   ]
  },
  {
   "cell_type": "markdown",
   "id": "777b1552",
   "metadata": {},
   "source": [
    "2차원: 배열명[열, 행]\n",
    "3차원: 배열명[시작 면 번호:종료 면 번호1:간격,시작 행 번호:종료 행 번호1:간격, 시작 열 번호:종료 열 번호1,간격]"
   ]
  },
  {
   "cell_type": "code",
   "execution_count": null,
   "id": "043bec6b",
   "metadata": {},
   "outputs": [
    {
     "name": "stdout",
     "output_type": "stream",
     "text": [
      "원본 4x4 배열:\n",
      "[[ 0  1  2  3]\n",
      " [ 4  5  6  7]\n",
      " [ 8  9 10 11]\n",
      " [12 13 14 15]]\n",
      "------------------------------\n"
     ]
    }
   ],
   "source": [
    "import numpy as np\n",
    "\n",
    "# 기준이 될 4x4 배열 생성 (이미지와 동일하게 0부터 15까지의 숫자로 채움)\n",
    "arr_2d = np.arange(16).reshape((4, 4))\n",
    "\n",
    "print(\"원본 4x4 배열:\")\n",
    "print(arr_2d)\n",
    "print(\"-\" * 30)"
   ]
  },
  {
   "cell_type": "code",
   "execution_count": null,
   "id": "84363ce6",
   "metadata": {},
   "outputs": [
    {
     "data": {
      "text/plain": [
       "array([0, 1, 2, 3])"
      ]
     },
     "execution_count": 154,
     "metadata": {},
     "output_type": "execute_result"
    }
   ],
   "source": [
    "# 첫 번째 행 전체\n",
    "arr_2d[0,:]"
   ]
  },
  {
   "cell_type": "code",
   "execution_count": null,
   "id": "c4f26efb",
   "metadata": {},
   "outputs": [
    {
     "data": {
      "text/plain": [
       "array([ 3,  7, 11, 15])"
      ]
     },
     "execution_count": 155,
     "metadata": {},
     "output_type": "execute_result"
    }
   ],
   "source": [
    "#마지막 열 전체\n",
    "arr_2d[:,-1]"
   ]
  },
  {
   "cell_type": "code",
   "execution_count": null,
   "id": "8cbc263a",
   "metadata": {},
   "outputs": [
    {
     "data": {
      "text/plain": [
       "array([[ 0,  3],\n",
       "       [12, 15]])"
      ]
     },
     "execution_count": 157,
     "metadata": {},
     "output_type": "execute_result"
    }
   ],
   "source": [
    "#첫 번째 행과 마지막 행만 선택, 각 행의 첫번째, 마지막 열 선택\n",
    "arr_2d[[0, -1], :][:, [0, -1]]"
   ]
  },
  {
   "cell_type": "code",
   "execution_count": null,
   "id": "9e64a918",
   "metadata": {},
   "outputs": [
    {
     "data": {
      "text/plain": [
       "array([[ 1,  3],\n",
       "       [ 9, 11]])"
      ]
     },
     "execution_count": 160,
     "metadata": {},
     "output_type": "execute_result"
    }
   ],
   "source": [
    "# 짝수 인덱스 행(0번째, 2번째 행), 홀수 인덱스 열 선택\n",
    "arr_2d[0:3:2, :][:, 1:4:2]"
   ]
  },
  {
   "cell_type": "code",
   "execution_count": null,
   "id": "22ecdb96",
   "metadata": {},
   "outputs": [
    {
     "data": {
      "text/plain": [
       "array([[[ 0,  1,  2,  3,  4,  5],\n",
       "        [ 6,  7,  8,  9, 10, 11],\n",
       "        [12, 13, 14, 15, 16, 17],\n",
       "        [18, 19, 20, 21, 22, 23],\n",
       "        [24, 25, 26, 27, 28, 29],\n",
       "        [30, 31, 32, 33, 34, 35]],\n",
       "\n",
       "       [[ 0,  1,  2,  3,  4,  5],\n",
       "        [ 6,  7,  8,  9, 10, 11],\n",
       "        [12, 13, 14, 15, 16, 17],\n",
       "        [18, 19, 20, 21, 22, 23],\n",
       "        [24, 25, 26, 27, 28, 29],\n",
       "        [30, 31, 32, 33, 34, 35]],\n",
       "\n",
       "       [[ 0,  1,  2,  3,  4,  5],\n",
       "        [ 6,  7,  8,  9, 10, 11],\n",
       "        [12, 13, 14, 15, 16, 17],\n",
       "        [18, 19, 20, 21, 22, 23],\n",
       "        [24, 25, 26, 27, 28, 29],\n",
       "        [30, 31, 32, 33, 34, 35]],\n",
       "\n",
       "       [[ 0,  1,  2,  3,  4,  5],\n",
       "        [ 6,  7,  8,  9, 10, 11],\n",
       "        [12, 13, 14, 15, 16, 17],\n",
       "        [18, 19, 20, 21, 22, 23],\n",
       "        [24, 25, 26, 27, 28, 29],\n",
       "        [30, 31, 32, 33, 34, 35]]])"
      ]
     },
     "execution_count": 179,
     "metadata": {},
     "output_type": "execute_result"
    }
   ],
   "source": [
    "#세번째 층, 두번째 행에서 네번째 행, 홀수 인덱스 열\n",
    "arr_3_1 = np.arange(36).reshape(6,6)\n",
    "arr_3_2 = np.arange(36).reshape(6,6)\n",
    "arr_3_3 = np.arange(36).reshape(6,6)\n",
    "arr_3_4 = np.arange(36).reshape(6,6)\n",
    "\n",
    "arr_3d = np.stack([arr_3_1, arr_3_2, arr_3_3, arr_3_4])\n",
    "\n",
    "arr_3d\n"
   ]
  },
  {
   "cell_type": "code",
   "execution_count": null,
   "id": "521dca34",
   "metadata": {},
   "outputs": [
    {
     "data": {
      "text/plain": [
       "array([[[ 0,  1,  2,  3,  4,  5],\n",
       "        [ 6,  7,  8,  9, 10, 11],\n",
       "        [12, 13, 14, 15, 16, 17],\n",
       "        [18, 19, 20, 21, 22, 23],\n",
       "        [24, 25, 26, 27, 28, 29],\n",
       "        [30, 31, 32, 33, 34, 35]],\n",
       "\n",
       "       [[ 0,  1,  2,  3,  4,  5],\n",
       "        [ 6,  7,  8,  9, 10, 11],\n",
       "        [12, 13, 14, 15, 16, 17],\n",
       "        [18, 19, 20, 21, 22, 23],\n",
       "        [24, 25, 26, 27, 28, 29],\n",
       "        [30, 31, 32, 33, 34, 35]],\n",
       "\n",
       "       [[ 0,  1,  2,  3,  4,  5],\n",
       "        [ 6,  7,  8,  9, 10, 11],\n",
       "        [12, 13, 14, 15, 16, 17],\n",
       "        [18, 19, 20, 21, 22, 23],\n",
       "        [24, 25, 26, 27, 28, 29],\n",
       "        [30, 31, 32, 33, 34, 35]],\n",
       "\n",
       "       [[ 0,  1,  2,  3,  4,  5],\n",
       "        [ 6,  7,  8,  9, 10, 11],\n",
       "        [12, 13, 14, 15, 16, 17],\n",
       "        [18, 19, 20, 21, 22, 23],\n",
       "        [24, 25, 26, 27, 28, 29],\n",
       "        [30, 31, 32, 33, 34, 35]]])"
      ]
     },
     "execution_count": 181,
     "metadata": {},
     "output_type": "execute_result"
    }
   ],
   "source": [
    "# 원본 2차원 배열\n",
    "base = np.arange(36).reshape(6, 6)\n",
    "\n",
    "# np.tile을 사용해서 3차원 배열 만들기\n",
    "# 먼저 (1,6,6)로 차원을 맞춘 다음, tile로 (4,6,6) 복제\n",
    "arr_3d_2 = np.tile(base[np.newaxis, :, :], (4, 1, 1))\n",
    "\n",
    "arr_3d_2"
   ]
  },
  {
   "cell_type": "code",
   "execution_count": null,
   "id": "13a8d025",
   "metadata": {},
   "outputs": [
    {
     "data": {
      "text/plain": [
       "array([[[ 0,  1,  2,  3,  4,  5],\n",
       "        [ 6,  7,  8,  9, 10, 11],\n",
       "        [12, 13, 14, 15, 16, 17],\n",
       "        [18, 19, 20, 21, 22, 23],\n",
       "        [24, 25, 26, 27, 28, 29],\n",
       "        [30, 31, 32, 33, 34, 35]],\n",
       "\n",
       "       [[ 0,  1,  2,  3,  4,  5],\n",
       "        [ 6,  7,  8,  9, 10, 11],\n",
       "        [12, 13, 14, 15, 16, 17],\n",
       "        [18, 19, 20, 21, 22, 23],\n",
       "        [24, 25, 26, 27, 28, 29],\n",
       "        [30, 31, 32, 33, 34, 35]],\n",
       "\n",
       "       [[ 0,  1,  2,  3,  4,  5],\n",
       "        [ 6,  7,  8,  9, 10, 11],\n",
       "        [12, 13, 14, 15, 16, 17],\n",
       "        [18, 19, 20, 21, 22, 23],\n",
       "        [24, 25, 26, 27, 28, 29],\n",
       "        [30, 31, 32, 33, 34, 35]],\n",
       "\n",
       "       [[ 0,  1,  2,  3,  4,  5],\n",
       "        [ 6,  7,  8,  9, 10, 11],\n",
       "        [12, 13, 14, 15, 16, 17],\n",
       "        [18, 19, 20, 21, 22, 23],\n",
       "        [24, 25, 26, 27, 28, 29],\n",
       "        [30, 31, 32, 33, 34, 35]]])"
      ]
     },
     "execution_count": 184,
     "metadata": {},
     "output_type": "execute_result"
    }
   ],
   "source": [
    "arr_3d_3 = np.array([np.arange(36).reshape(6, 6) for _ in range(4)])\n",
    "arr_3d_3\n",
    "# 느리니 추천하지 않음 "
   ]
  },
  {
   "cell_type": "code",
   "execution_count": null,
   "id": "0b6e803d",
   "metadata": {},
   "outputs": [
    {
     "data": {
      "text/plain": [
       "array([[ 0,  1,  2,  3,  4,  5],\n",
       "       [ 6,  7,  8,  9, 10, 11],\n",
       "       [12, 13, 14, 15, 16, 17],\n",
       "       [18, 19, 20, 21, 22, 23],\n",
       "       [24, 25, 26, 27, 28, 29],\n",
       "       [30, 31, 32, 33, 34, 35]])"
      ]
     },
     "execution_count": 187,
     "metadata": {},
     "output_type": "execute_result"
    }
   ],
   "source": [
    "\n",
    "# 2번째 층 선택\n",
    "arr_3d[1]"
   ]
  },
  {
   "cell_type": "code",
   "execution_count": null,
   "id": "9dacafb8",
   "metadata": {},
   "outputs": [
    {
     "data": {
      "text/plain": [
       "array([19, 19, 19, 19])"
      ]
     },
     "execution_count": 196,
     "metadata": {},
     "output_type": "execute_result"
    }
   ],
   "source": [
    "#네번째행, 두번째 열 원소 선택, 1차원 배열로 작성\n",
    "\n",
    "arr_3d[:,3,1]"
   ]
  },
  {
   "cell_type": "code",
   "execution_count": null,
   "id": "fca11cdf",
   "metadata": {},
   "outputs": [
    {
     "data": {
      "text/plain": [
       "array([[[28, 29],\n",
       "        [34, 35]],\n",
       "\n",
       "       [[28, 29],\n",
       "        [34, 35]]])"
      ]
     },
     "execution_count": 190,
     "metadata": {},
     "output_type": "execute_result"
    }
   ],
   "source": [
    "#배열의 첫 두 층, 마지막 두 행, 마지막 두 열 선택\n",
    "arr_3d[:2,-2:,-2:]"
   ]
  },
  {
   "cell_type": "code",
   "execution_count": null,
   "id": "10c351c7",
   "metadata": {},
   "outputs": [
    {
     "data": {
      "text/plain": [
       "array([[ 4, 10, 16, 22, 28, 34],\n",
       "       [ 4, 10, 16, 22, 28, 34]])"
      ]
     },
     "execution_count": 193,
     "metadata": {},
     "output_type": "execute_result"
    }
   ],
   "source": [
    "#짝수 인덱스층, 모든행의 세번째열 선택\n",
    "arr_3d[::2,:,4]"
   ]
  },
  {
   "cell_type": "code",
   "execution_count": null,
   "id": "373aa924",
   "metadata": {},
   "outputs": [
    {
     "data": {
      "text/plain": [
       "array([[ 7,  9, 11],\n",
       "       [13, 15, 17],\n",
       "       [19, 21, 23]])"
      ]
     },
     "execution_count": 200,
     "metadata": {},
     "output_type": "execute_result"
    }
   ],
   "source": [
    "#세번째 층, 두번째 행에서 네번째 행, 홀수 인덱스 열\n",
    "arr_3d[-2,1:4,1::2]"
   ]
  },
  {
   "cell_type": "code",
   "execution_count": null,
   "id": "37ff1eb5",
   "metadata": {},
   "outputs": [],
   "source": []
  },
  {
   "cell_type": "code",
   "execution_count": null,
   "id": "cbd4c966",
   "metadata": {},
   "outputs": [],
   "source": []
  },
  {
   "cell_type": "code",
   "execution_count": null,
   "id": "b340564a",
   "metadata": {},
   "outputs": [],
   "source": []
  }
 ],
 "metadata": {
  "kernelspec": {
   "display_name": "hipython",
   "language": "python",
   "name": "python3"
  },
  "language_info": {
   "codemirror_mode": {
    "name": "ipython",
    "version": 3
   },
   "file_extension": ".py",
   "mimetype": "text/x-python",
   "name": "python",
   "nbconvert_exporter": "python",
   "pygments_lexer": "ipython3",
   "version": "3.12.9"
  }
 },
 "nbformat": 4,
 "nbformat_minor": 5
}
