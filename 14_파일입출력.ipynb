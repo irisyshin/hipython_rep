{
 "cells": [
  {
   "cell_type": "code",
   "execution_count": 2,
   "id": "c09065d5",
   "metadata": {},
   "outputs": [],
   "source": [
    "with open('abc/text.txt','w') as f:\n",
    "    f.write('hello')"
   ]
  },
  {
   "cell_type": "code",
   "execution_count": 7,
   "id": "3735a5f5",
   "metadata": {},
   "outputs": [],
   "source": [
    "f = open('abc/text.txt','r')\n",
    "f.read()\n",
    "f.close()"
   ]
  },
  {
   "cell_type": "code",
   "execution_count": 11,
   "id": "ff52ceb9",
   "metadata": {},
   "outputs": [],
   "source": [
    "with open('abc/text1.txt','w', encoding=\"utf-8\") as f:\n",
    "    f.write('안녕하세요\\n')\n",
    "    f.write('졸려요!!!!!!!!!\\n')\n"
   ]
  },
  {
   "cell_type": "code",
   "execution_count": 12,
   "id": "135f5749",
   "metadata": {},
   "outputs": [
    {
     "name": "stdout",
     "output_type": "stream",
     "text": [
      "안녕하세요\n",
      "졸려요!!!!!!!!!\n",
      "\n"
     ]
    }
   ],
   "source": [
    "with open('abc/text1.txt','r', encoding=\"utf-8\") as f:\n",
    "    txtfile = f.read() #같은 인코딩으로 읽어야 함\n",
    "    print(txtfile)"
   ]
  },
  {
   "cell_type": "code",
   "execution_count": 13,
   "id": "72a20573",
   "metadata": {},
   "outputs": [],
   "source": [
    "with open('abc/text1.txt','a', encoding=\"utf-8\") as f:\n",
    "    f.write('또 왔어요,,,\\n')\n",
    "    f.write('진짜 졸려요!!!!!!!!!')"
   ]
  },
  {
   "cell_type": "code",
   "execution_count": 14,
   "id": "87e4b00c",
   "metadata": {},
   "outputs": [
    {
     "name": "stdout",
     "output_type": "stream",
     "text": [
      "Hello, this is line 1.\n",
      "This is line 2 with some text.\n",
      "Line 3 is here.\n",
      "And here comes line 4.\n",
      "Final line: line 5.\n"
     ]
    }
   ],
   "source": [
    "with open(\"abc/eg_text.txt\", \"r\", encoding=\"utf-8\") as file:\n",
    "    content = file.read()\n",
    "    print(content)"
   ]
  },
  {
   "cell_type": "code",
   "execution_count": 15,
   "id": "e89c61d2",
   "metadata": {},
   "outputs": [
    {
     "name": "stdout",
     "output_type": "stream",
     "text": [
      "Hello, this is line 1.\n",
      "\n"
     ]
    }
   ],
   "source": [
    "with open(\"abc/eg_text.txt\", \"r\", encoding=\"utf-8\") as file:\n",
    "    line = file.readline()\n",
    "    print(line)"
   ]
  },
  {
   "cell_type": "code",
   "execution_count": 19,
   "id": "c0771c90",
   "metadata": {},
   "outputs": [
    {
     "name": "stdout",
     "output_type": "stream",
     "text": [
      "['Hello, this is line 1.\\n', 'This is line 2 with some text.\\n', 'Line 3 is here.\\n', 'And here comes line 4.\\n', 'Final line: line 5.']\n"
     ]
    }
   ],
   "source": [
    "with open(\"abc/eg_text.txt\", \"r\", encoding=\"utf-8\") as file:\n",
    "    lines = file.readlines()\n",
    "    print(lines)\n",
    "    \n"
   ]
  },
  {
   "cell_type": "code",
   "execution_count": 22,
   "id": "cc557421",
   "metadata": {},
   "outputs": [
    {
     "name": "stdout",
     "output_type": "stream",
     "text": [
      "Hello, this is line 1.\n",
      "This is line 2 with some text.\n",
      "Line 3 is here.\n",
      "And here comes line 4.\n",
      "Final line: line 5.\n"
     ]
    }
   ],
   "source": [
    "\n",
    "with open(\"abc/eg_text.txt\", \"r\", encoding=\"utf-8\") as file:\n",
    "    lines = file.readlines()\n",
    "\n",
    "for line in lines:\n",
    "    print(line.strip())\n"
   ]
  },
  {
   "cell_type": "code",
   "execution_count": 24,
   "id": "06f6619a",
   "metadata": {},
   "outputs": [],
   "source": [
    "\n",
    "# 피클, 직렬화\n",
    "import pickle\n",
    "\n",
    "# 직렬화할 데이터\n",
    "data = {\n",
    "    'name': '홍길동',\n",
    "    'age': 30,\n",
    "    'scores': [90, 85, 88]\n",
    "}\n",
    "\n",
    "# 직렬화하여 파일에 저장\n",
    "with open('abc/data.pickle', 'wb') as f:\n",
    "    pickle.dump(data, f)\n",
    "\n",
    "# 파일에서 역직렬화하여 읽기\n",
    "with open('abc/data.pickle', 'rb') as f:\n",
    "    loaded_data = pickle.load(f)\n"
   ]
  },
  {
   "cell_type": "code",
   "execution_count": 25,
   "id": "5321f49f",
   "metadata": {},
   "outputs": [
    {
     "name": "stdout",
     "output_type": "stream",
     "text": [
      "{'name': '홍길동', 'age': 30, 'scores': [90, 85, 88]}\n"
     ]
    }
   ],
   "source": [
    "print(loaded_data)  # 원본 데이터가 그대로 복원됨\n"
   ]
  },
  {
   "cell_type": "code",
   "execution_count": 27,
   "id": "2c6842b3",
   "metadata": {},
   "outputs": [],
   "source": [
    "import json"
   ]
  },
  {
   "cell_type": "code",
   "execution_count": 45,
   "id": "6261ba00",
   "metadata": {},
   "outputs": [],
   "source": [
    "with open('abc/data.json','w') as f:\n",
    "    json.dump(data, f)"
   ]
  },
  {
   "cell_type": "code",
   "execution_count": 36,
   "id": "8b2f2805",
   "metadata": {},
   "outputs": [],
   "source": [
    "import csv"
   ]
  },
  {
   "cell_type": "code",
   "execution_count": 46,
   "id": "c6b04c13",
   "metadata": {},
   "outputs": [
    {
     "name": "stdout",
     "output_type": "stream",
     "text": [
      "[['name', 'age'], ['bob', 20], ['alice', 15]]\n"
     ]
    }
   ],
   "source": [
    "with open('abc/data.json', 'r') as f:\n",
    "    loaded_data = json.load(f)\n",
    "\n",
    "print(loaded_data)"
   ]
  },
  {
   "cell_type": "code",
   "execution_count": 41,
   "id": "6836b7e7",
   "metadata": {},
   "outputs": [
    {
     "data": {
      "text/plain": [
       "[['name', 'age'], ['bob', 20], ['alice', 15]]"
      ]
     },
     "execution_count": 41,
     "metadata": {},
     "output_type": "execute_result"
    }
   ],
   "source": [
    "import csv\n",
    "data = [['name','age'],['bob',20],['alice',15]]\n",
    "        \n",
    "data"
   ]
  },
  {
   "cell_type": "code",
   "execution_count": null,
   "id": "080f5458",
   "metadata": {},
   "outputs": [
    {
     "name": "stdout",
     "output_type": "stream",
     "text": [
      "{'name': '홍길동', 'age': 30, 'scores': [90, 85, 88]}\n"
     ]
    }
   ],
   "source": [
    "with open('abc/data.csv', 'w') as f:\n",
    "    wrt = csv.writer(f)s\n",
    "    wrt.writerows(data)\n",
    "\n",
    "print(loaded_data)"
   ]
  },
  {
   "cell_type": "code",
   "execution_count": 47,
   "id": "bf5b9af1",
   "metadata": {},
   "outputs": [],
   "source": [
    "import pandas as pd\n",
    "\n",
    "df = pd.DataFrame(data)\n",
    "df.to_csv('abc/data_df.csv')"
   ]
  },
  {
   "cell_type": "code",
   "execution_count": null,
   "id": "7e445003",
   "metadata": {},
   "outputs": [],
   "source": []
  }
 ],
 "metadata": {
  "kernelspec": {
   "display_name": "hipython",
   "language": "python",
   "name": "python3"
  },
  "language_info": {
   "codemirror_mode": {
    "name": "ipython",
    "version": 3
   },
   "file_extension": ".py",
   "mimetype": "text/x-python",
   "name": "python",
   "nbconvert_exporter": "python",
   "pygments_lexer": "ipython3",
   "version": "3.12.9"
  }
 },
 "nbformat": 4,
 "nbformat_minor": 5
}
