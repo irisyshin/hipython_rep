{
 "cells": [
  {
   "cell_type": "code",
   "execution_count": 1,
   "id": "dbb6c6bc",
   "metadata": {},
   "outputs": [],
   "source": [
    "import pandas as pd\n"
   ]
  },
  {
   "cell_type": "code",
   "execution_count": 2,
   "id": "f3eca43d",
   "metadata": {},
   "outputs": [],
   "source": [
    "df = pd.read_csv('./data/vehicle_prod.csv')"
   ]
  },
  {
   "cell_type": "code",
   "execution_count": 3,
   "id": "4486001f",
   "metadata": {},
   "outputs": [
    {
     "data": {
      "text/html": [
       "<div>\n",
       "<style scoped>\n",
       "    .dataframe tbody tr th:only-of-type {\n",
       "        vertical-align: middle;\n",
       "    }\n",
       "\n",
       "    .dataframe tbody tr th {\n",
       "        vertical-align: top;\n",
       "    }\n",
       "\n",
       "    .dataframe thead th {\n",
       "        text-align: right;\n",
       "    }\n",
       "</style>\n",
       "<table border=\"1\" class=\"dataframe\">\n",
       "  <thead>\n",
       "    <tr style=\"text-align: right;\">\n",
       "      <th></th>\n",
       "      <th>Unnamed: 0</th>\n",
       "      <th>2007</th>\n",
       "      <th>2008</th>\n",
       "      <th>2009</th>\n",
       "      <th>2010</th>\n",
       "      <th>2011</th>\n",
       "    </tr>\n",
       "  </thead>\n",
       "  <tbody>\n",
       "    <tr>\n",
       "      <th>0</th>\n",
       "      <td>China</td>\n",
       "      <td>7.71</td>\n",
       "      <td>7.95</td>\n",
       "      <td>11.96</td>\n",
       "      <td>15.84</td>\n",
       "      <td>16.33</td>\n",
       "    </tr>\n",
       "    <tr>\n",
       "      <th>1</th>\n",
       "      <td>EU</td>\n",
       "      <td>19.02</td>\n",
       "      <td>17.71</td>\n",
       "      <td>15.00</td>\n",
       "      <td>16.70</td>\n",
       "      <td>17.48</td>\n",
       "    </tr>\n",
       "    <tr>\n",
       "      <th>2</th>\n",
       "      <td>US</td>\n",
       "      <td>10.47</td>\n",
       "      <td>8.45</td>\n",
       "      <td>5.58</td>\n",
       "      <td>7.60</td>\n",
       "      <td>8.40</td>\n",
       "    </tr>\n",
       "    <tr>\n",
       "      <th>3</th>\n",
       "      <td>Japan</td>\n",
       "      <td>10.87</td>\n",
       "      <td>10.83</td>\n",
       "      <td>7.55</td>\n",
       "      <td>9.09</td>\n",
       "      <td>7.88</td>\n",
       "    </tr>\n",
       "    <tr>\n",
       "      <th>4</th>\n",
       "      <td>Korea</td>\n",
       "      <td>4.04</td>\n",
       "      <td>3.78</td>\n",
       "      <td>3.45</td>\n",
       "      <td>4.20</td>\n",
       "      <td>4.62</td>\n",
       "    </tr>\n",
       "    <tr>\n",
       "      <th>5</th>\n",
       "      <td>Mexico</td>\n",
       "      <td>2.01</td>\n",
       "      <td>2.05</td>\n",
       "      <td>1.50</td>\n",
       "      <td>2.25</td>\n",
       "      <td>2.54</td>\n",
       "    </tr>\n",
       "  </tbody>\n",
       "</table>\n",
       "</div>"
      ],
      "text/plain": [
       "  Unnamed: 0   2007   2008   2009   2010   2011\n",
       "0      China   7.71   7.95  11.96  15.84  16.33\n",
       "1         EU  19.02  17.71  15.00  16.70  17.48\n",
       "2         US  10.47   8.45   5.58   7.60   8.40\n",
       "3      Japan  10.87  10.83   7.55   9.09   7.88\n",
       "4      Korea   4.04   3.78   3.45   4.20   4.62\n",
       "5     Mexico   2.01   2.05   1.50   2.25   2.54"
      ]
     },
     "execution_count": 3,
     "metadata": {},
     "output_type": "execute_result"
    }
   ],
   "source": [
    "df"
   ]
  },
  {
   "cell_type": "code",
   "execution_count": 5,
   "id": "4118c80a",
   "metadata": {},
   "outputs": [
    {
     "data": {
      "text/html": [
       "<div>\n",
       "<style scoped>\n",
       "    .dataframe tbody tr th:only-of-type {\n",
       "        vertical-align: middle;\n",
       "    }\n",
       "\n",
       "    .dataframe tbody tr th {\n",
       "        vertical-align: top;\n",
       "    }\n",
       "\n",
       "    .dataframe thead th {\n",
       "        text-align: right;\n",
       "    }\n",
       "</style>\n",
       "<table border=\"1\" class=\"dataframe\">\n",
       "  <thead>\n",
       "    <tr style=\"text-align: right;\">\n",
       "      <th></th>\n",
       "      <th>2007</th>\n",
       "      <th>2008</th>\n",
       "      <th>2009</th>\n",
       "      <th>2010</th>\n",
       "      <th>2011</th>\n",
       "    </tr>\n",
       "    <tr>\n",
       "      <th>Country</th>\n",
       "      <th></th>\n",
       "      <th></th>\n",
       "      <th></th>\n",
       "      <th></th>\n",
       "      <th></th>\n",
       "    </tr>\n",
       "  </thead>\n",
       "  <tbody>\n",
       "    <tr>\n",
       "      <th>China</th>\n",
       "      <td>7.71</td>\n",
       "      <td>7.95</td>\n",
       "      <td>11.96</td>\n",
       "      <td>15.84</td>\n",
       "      <td>16.33</td>\n",
       "    </tr>\n",
       "    <tr>\n",
       "      <th>EU</th>\n",
       "      <td>19.02</td>\n",
       "      <td>17.71</td>\n",
       "      <td>15.00</td>\n",
       "      <td>16.70</td>\n",
       "      <td>17.48</td>\n",
       "    </tr>\n",
       "    <tr>\n",
       "      <th>US</th>\n",
       "      <td>10.47</td>\n",
       "      <td>8.45</td>\n",
       "      <td>5.58</td>\n",
       "      <td>7.60</td>\n",
       "      <td>8.40</td>\n",
       "    </tr>\n",
       "    <tr>\n",
       "      <th>Japan</th>\n",
       "      <td>10.87</td>\n",
       "      <td>10.83</td>\n",
       "      <td>7.55</td>\n",
       "      <td>9.09</td>\n",
       "      <td>7.88</td>\n",
       "    </tr>\n",
       "    <tr>\n",
       "      <th>Korea</th>\n",
       "      <td>4.04</td>\n",
       "      <td>3.78</td>\n",
       "      <td>3.45</td>\n",
       "      <td>4.20</td>\n",
       "      <td>4.62</td>\n",
       "    </tr>\n",
       "    <tr>\n",
       "      <th>Mexico</th>\n",
       "      <td>2.01</td>\n",
       "      <td>2.05</td>\n",
       "      <td>1.50</td>\n",
       "      <td>2.25</td>\n",
       "      <td>2.54</td>\n",
       "    </tr>\n",
       "  </tbody>\n",
       "</table>\n",
       "</div>"
      ],
      "text/plain": [
       "          2007   2008   2009   2010   2011\n",
       "Country                                   \n",
       "China     7.71   7.95  11.96  15.84  16.33\n",
       "EU       19.02  17.71  15.00  16.70  17.48\n",
       "US       10.47   8.45   5.58   7.60   8.40\n",
       "Japan    10.87  10.83   7.55   9.09   7.88\n",
       "Korea     4.04   3.78   3.45   4.20   4.62\n",
       "Mexico    2.01   2.05   1.50   2.25   2.54"
      ]
     },
     "execution_count": 5,
     "metadata": {},
     "output_type": "execute_result"
    }
   ],
   "source": [
    "df.rename(columns={'Unnamed: 0': 'Country'},inplace=True)\n",
    "df.set_index('Country', inplace=True)\n",
    "df"
   ]
  },
  {
   "cell_type": "code",
   "execution_count": 6,
   "id": "4c8934e5",
   "metadata": {},
   "outputs": [
    {
     "data": {
      "text/html": [
       "<div>\n",
       "<style scoped>\n",
       "    .dataframe tbody tr th:only-of-type {\n",
       "        vertical-align: middle;\n",
       "    }\n",
       "\n",
       "    .dataframe tbody tr th {\n",
       "        vertical-align: top;\n",
       "    }\n",
       "\n",
       "    .dataframe thead th {\n",
       "        text-align: right;\n",
       "    }\n",
       "</style>\n",
       "<table border=\"1\" class=\"dataframe\">\n",
       "  <thead>\n",
       "    <tr style=\"text-align: right;\">\n",
       "      <th></th>\n",
       "      <th>2007</th>\n",
       "    </tr>\n",
       "    <tr>\n",
       "      <th>Country</th>\n",
       "      <th></th>\n",
       "    </tr>\n",
       "  </thead>\n",
       "  <tbody>\n",
       "    <tr>\n",
       "      <th>China</th>\n",
       "      <td>7.71</td>\n",
       "    </tr>\n",
       "    <tr>\n",
       "      <th>EU</th>\n",
       "      <td>19.02</td>\n",
       "    </tr>\n",
       "    <tr>\n",
       "      <th>US</th>\n",
       "      <td>10.47</td>\n",
       "    </tr>\n",
       "    <tr>\n",
       "      <th>Japan</th>\n",
       "      <td>10.87</td>\n",
       "    </tr>\n",
       "    <tr>\n",
       "      <th>Korea</th>\n",
       "      <td>4.04</td>\n",
       "    </tr>\n",
       "    <tr>\n",
       "      <th>Mexico</th>\n",
       "      <td>2.01</td>\n",
       "    </tr>\n",
       "  </tbody>\n",
       "</table>\n",
       "</div>"
      ],
      "text/plain": [
       "          2007\n",
       "Country       \n",
       "China     7.71\n",
       "EU       19.02\n",
       "US       10.47\n",
       "Japan    10.87\n",
       "Korea     4.04\n",
       "Mexico    2.01"
      ]
     },
     "execution_count": 6,
     "metadata": {},
     "output_type": "execute_result"
    }
   ],
   "source": [
    "df[['2007']]"
   ]
  },
  {
   "cell_type": "code",
   "execution_count": null,
   "id": "5e4bc375",
   "metadata": {},
   "outputs": [
    {
     "data": {
      "text/plain": [
       "<bound method IndexOpsMixin.tolist of Index(['2007', '2008', '2009', '2010', '2011'], dtype='object')>"
      ]
     },
     "execution_count": 10,
     "metadata": {},
     "output_type": "execute_result"
    }
   ],
   "source": [
    "#리스트로꺼내기\n",
    "df.columns.tolist"
   ]
  },
  {
   "cell_type": "code",
   "execution_count": null,
   "id": "ec248380",
   "metadata": {},
   "outputs": [],
   "source": [
    "#상관분석관계\n",
    "변수들간의값의변화의유사도\n",
    "음의상관관계\n",
    "양의상관관계"
   ]
  }
 ],
 "metadata": {
  "kernelspec": {
   "display_name": "hipython",
   "language": "python",
   "name": "python3"
  },
  "language_info": {
   "codemirror_mode": {
    "name": "ipython",
    "version": 3
   },
   "file_extension": ".py",
   "mimetype": "text/x-python",
   "name": "python",
   "nbconvert_exporter": "python",
   "pygments_lexer": "ipython3",
   "version": "3.12.9"
  }
 },
 "nbformat": 4,
 "nbformat_minor": 5
}
