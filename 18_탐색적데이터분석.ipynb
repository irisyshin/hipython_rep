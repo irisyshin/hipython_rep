{
 "cells": [
  {
   "cell_type": "markdown",
   "id": "0f10ade9",
   "metadata": {},
   "source": [
    "**1. 1차원데이터분석**\n",
    "\n",
    "**1.** **변수종류파악( 수치형/ 범주형/ 시간형)**\n",
    "\n",
    "**2.** **변수종류별분석지표( 수치형/ 범주형/ 시간형)**\n",
    "\n",
    "**3.** **시각화**\n",
    "\n",
    "- **도수분포표/ 히스토그램/ 상자그림**\n",
    "\n",
    "**2. 2차원데이터분석**\n",
    "\n",
    "**1.** **공분산/ 상관계수**\n",
    "\n",
    "**2.** **다중공선성확인**\n",
    "\n",
    "**3.** **시각화**\n",
    "\n",
    "- **산점도/ 회귀직선/ 히트맵**"
   ]
  },
  {
   "cell_type": "markdown",
   "id": "f0e101ae",
   "metadata": {},
   "source": [
    "출처 : https://www.kaggle.com/datasets/pitterman/airline-stats\n",
    "\n",
    "- airline : 항공사\n",
    "- carrier_deay : 항공사 지연 요인\n",
    "- atc_delay : ATC 항공교통관제 지연 요인\n",
    "- weather_delay : 날씨로 인한 지연 요인"
   ]
  },
  {
   "cell_type": "code",
   "execution_count": null,
   "id": "f89903cc",
   "metadata": {},
   "outputs": [],
   "source": []
  }
 ],
 "metadata": {
  "language_info": {
   "name": "python"
  }
 },
 "nbformat": 4,
 "nbformat_minor": 5
}
