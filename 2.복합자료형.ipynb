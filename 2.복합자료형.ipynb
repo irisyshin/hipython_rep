{
 "cells": [
  {
   "cell_type": "markdown",
   "id": "48febc28-d889-4730-86d2-8ba0f27fcd8f",
   "metadata": {},
   "source": [
    "# 복합자료형LIST\n",
    "\n",
    "여러개의 값을 묶어서 하나의 변수로 다루는 자료형 \n",
    "\n",
    "생성법 \n",
    "1. [] 대괄호 사용\n",
    "2. 데이터는 , 로 구분\n",
    "3. [] 빈 대괄호는 초기화\n",
    "4. 숫자, 문자, 불, 리스트 같은 객체 모두 담을 수 있다\n",
    "5. 순서 INDEX를 가진다 0 시작\n",
    "6. 음수 인덱스도 가진다"
   ]
  },
  {
   "cell_type": "code",
   "execution_count": 2,
   "id": "e04e7df0-eb8e-4110-8186-5d874d2636f4",
   "metadata": {},
   "outputs": [
    {
     "data": {
      "text/plain": [
       "20"
      ]
     },
     "execution_count": 2,
     "metadata": {},
     "output_type": "execute_result"
    }
   ],
   "source": [
    "score = [30, 20, 50, 60]\n",
    "score[1]"
   ]
  },
  {
   "cell_type": "code",
   "execution_count": 3,
   "id": "009ef2b9-86bc-4103-ae91-ce5b8adefcbf",
   "metadata": {},
   "outputs": [
    {
     "data": {
      "text/plain": [
       "(list, int)"
      ]
     },
     "execution_count": 3,
     "metadata": {},
     "output_type": "execute_result"
    }
   ],
   "source": [
    "type(score), type(score[0])"
   ]
  },
  {
   "cell_type": "code",
   "execution_count": 6,
   "id": "99ecb204-1eea-4045-bc71-77b48681ecd2",
   "metadata": {
    "collapsed": true,
    "jupyter": {
     "outputs_hidden": true
    },
    "scrolled": true
   },
   "outputs": [
    {
     "data": {
      "text/plain": [
       "['__add__',\n",
       " '__class__',\n",
       " '__class_getitem__',\n",
       " '__contains__',\n",
       " '__delattr__',\n",
       " '__delitem__',\n",
       " '__dir__',\n",
       " '__doc__',\n",
       " '__eq__',\n",
       " '__format__',\n",
       " '__ge__',\n",
       " '__getattribute__',\n",
       " '__getitem__',\n",
       " '__getstate__',\n",
       " '__gt__',\n",
       " '__hash__',\n",
       " '__iadd__',\n",
       " '__imul__',\n",
       " '__init__',\n",
       " '__init_subclass__',\n",
       " '__iter__',\n",
       " '__le__',\n",
       " '__len__',\n",
       " '__lt__',\n",
       " '__mul__',\n",
       " '__ne__',\n",
       " '__new__',\n",
       " '__reduce__',\n",
       " '__reduce_ex__',\n",
       " '__repr__',\n",
       " '__reversed__',\n",
       " '__rmul__',\n",
       " '__setattr__',\n",
       " '__setitem__',\n",
       " '__sizeof__',\n",
       " '__str__',\n",
       " '__subclasshook__',\n",
       " 'append',\n",
       " 'clear',\n",
       " 'copy',\n",
       " 'count',\n",
       " 'extend',\n",
       " 'index',\n",
       " 'insert',\n",
       " 'pop',\n",
       " 'remove',\n",
       " 'reverse',\n",
       " 'sort']"
      ]
     },
     "execution_count": 6,
     "metadata": {},
     "output_type": "execute_result"
    }
   ],
   "source": [
    "dir(score)"
   ]
  },
  {
   "cell_type": "code",
   "execution_count": 9,
   "id": "dc467869-aa7c-47c3-8842-23b1489d83f8",
   "metadata": {},
   "outputs": [],
   "source": [
    "ra = range(10)"
   ]
  },
  {
   "cell_type": "code",
   "execution_count": 11,
   "id": "7323197a-f4a9-460c-bb92-35049f77dec9",
   "metadata": {},
   "outputs": [],
   "source": [
    "num_list = list(ra)"
   ]
  },
  {
   "cell_type": "code",
   "execution_count": 12,
   "id": "dcb642ac-36ea-4134-99de-d18ec109e436",
   "metadata": {},
   "outputs": [
    {
     "data": {
      "text/plain": [
       "9"
      ]
     },
     "execution_count": 12,
     "metadata": {},
     "output_type": "execute_result"
    }
   ],
   "source": [
    "num_list[-1]"
   ]
  },
  {
   "cell_type": "code",
   "execution_count": 15,
   "id": "a337a678-4a6c-45ad-9ba1-f1fe531d1f9b",
   "metadata": {},
   "outputs": [
    {
     "data": {
      "text/plain": [
       "[0, 2, 4, 6, 8, 10, 12, 14, 16, 18, 20]"
      ]
     },
     "execution_count": 15,
     "metadata": {},
     "output_type": "execute_result"
    }
   ],
   "source": [
    "ra2 = range(0,21,2) # -> 주인이 없는 함수 -> 함수(function)\n",
    "list(ra2)"
   ]
  },
  {
   "cell_type": "code",
   "execution_count": 18,
   "id": "d568d576-56ff-46ec-947a-b223875c587a",
   "metadata": {},
   "outputs": [
    {
     "data": {
      "text/plain": [
       "11"
      ]
     },
     "execution_count": 18,
     "metadata": {},
     "output_type": "execute_result"
    }
   ],
   "source": [
    "ra2.__len__() # -> 주인이 있는 함수 -> method"
   ]
  },
  {
   "cell_type": "code",
   "execution_count": 19,
   "id": "f19d7dfe-5ad6-49f0-ae9f-95dab10ebe7b",
   "metadata": {},
   "outputs": [
    {
     "data": {
      "text/plain": [
       "1"
      ]
     },
     "execution_count": 19,
     "metadata": {},
     "output_type": "execute_result"
    }
   ],
   "source": [
    "num_list.count(0)     #. tab -> all method"
   ]
  },
  {
   "cell_type": "markdown",
   "id": "b82ff634-de43-487d-9afd-88ef1c92774c",
   "metadata": {},
   "source": [
    "method와 function\n",
    "\n",
    "method: 객체의 한해서 동작하는 함수 > 객체형.함수()   \n",
    "function: function(매개변수) > 매개변수로 동작하는 함수 \n",
    "\n",
    "dir() > function   \n",
    "list_obj.len() > method"
   ]
  },
  {
   "cell_type": "code",
   "execution_count": 24,
   "id": "21de2fcd-c4fc-4f64-90fd-b39e2a03ce78",
   "metadata": {},
   "outputs": [
    {
     "data": {
      "text/plain": [
       "'h'"
      ]
     },
     "execution_count": 24,
     "metadata": {},
     "output_type": "execute_result"
    }
   ],
   "source": [
    "str_1 = 'hello'\n",
    "#str_1[0] = \"H\" #typeerror >  str immutable"
   ]
  },
  {
   "cell_type": "code",
   "execution_count": 28,
   "id": "1ec9c75d-59fd-4a96-8661-bd6eea49e2f2",
   "metadata": {},
   "outputs": [
    {
     "data": {
      "text/plain": [
       "'Hello'"
      ]
     },
     "execution_count": 28,
     "metadata": {},
     "output_type": "execute_result"
    }
   ],
   "source": [
    "str_2 = list(str_1) #문자열 . 문자열리스트 >mutable\n",
    "str_2[0] = \"H\"\n",
    "''.join(str_2)\n"
   ]
  },
  {
   "cell_type": "code",
   "execution_count": 39,
   "id": "db481f02-4444-453a-adbc-a9346a155b2b",
   "metadata": {},
   "outputs": [],
   "source": [
    "#리스트의 생성\n",
    "a = list()\n",
    "a = []\n",
    "b = [1, 2, 3, 4, 5]\n",
    "c= [\"aaa\", \"bbb\", \"ccc\"]\n",
    "d= [\"1\", \"2\", \"ccc\",\"bbb\"]\n",
    "e = [c,d]"
   ]
  },
  {
   "cell_type": "code",
   "execution_count": 40,
   "id": "ea6d357b-29fd-4d48-af79-7aa89985ca15",
   "metadata": {},
   "outputs": [
    {
     "data": {
      "text/plain": [
       "(['aaa', 'bbb', 'ccc'], ['1', '2', 'ccc', 'bbb'])"
      ]
     },
     "execution_count": 40,
     "metadata": {},
     "output_type": "execute_result"
    }
   ],
   "source": [
    "e[0], e[-1]"
   ]
  },
  {
   "cell_type": "code",
   "execution_count": 41,
   "id": "35b15a4c-ac0e-4a11-8845-91d59673a044",
   "metadata": {},
   "outputs": [
    {
     "data": {
      "text/plain": [
       "('c', [['aaa', 'bbb', 'ccc']])"
      ]
     },
     "execution_count": 41,
     "metadata": {},
     "output_type": "execute_result"
    }
   ],
   "source": [
    "e[1][2][0:1] , e[0:1]"
   ]
  },
  {
   "cell_type": "code",
   "execution_count": 42,
   "id": "0ae08164-87d4-4d24-9170-c5cdb2debd32",
   "metadata": {},
   "outputs": [
    {
     "data": {
      "text/plain": [
       "'bbb'"
      ]
     },
     "execution_count": 42,
     "metadata": {},
     "output_type": "execute_result"
    }
   ],
   "source": [
    "e[1][-1]"
   ]
  },
  {
   "cell_type": "code",
   "execution_count": 51,
   "id": "d5861913-d7e8-48ba-b538-e4f6a448ce76",
   "metadata": {},
   "outputs": [
    {
     "data": {
      "text/plain": [
       "[[1, 2], [3, 4]]"
      ]
     },
     "execution_count": 51,
     "metadata": {},
     "output_type": "execute_result"
    }
   ],
   "source": [
    "score = [[1,2],[3,4]]\n",
    "score"
   ]
  },
  {
   "cell_type": "markdown",
   "id": "5ca0e65e-91b3-413c-a722-c7c4cb3556f8",
   "metadata": {},
   "source": [
    "copy   \n",
    "1. shallow copy\n",
    "2. deep copy"
   ]
  },
  {
   "cell_type": "code",
   "execution_count": null,
   "id": "e5f89583-7a40-4002-871f-bff2e0301f23",
   "metadata": {},
   "outputs": [
    {
     "name": "stdout",
     "output_type": "stream",
     "text": [
      "[[100, 2], [3, 4]]\n",
      "[[100, 2], [3, 4]]\n"
     ]
    }
   ],
   "source": [
    "new_score = score[:] #같은카피!!! 조심해야함!\n",
    "new_score[0][0] = 100\n",
    "print(new_score)\n",
    "print(score) "
   ]
  },
  {
   "cell_type": "code",
   "execution_count": 58,
   "id": "c0e1807d-2bcd-4b4c-b753-d4a353becc57",
   "metadata": {},
   "outputs": [
    {
     "name": "stdout",
     "output_type": "stream",
     "text": [
      "[[100, 99], [80, 4]]\n",
      "[[100, 99], [3, 4]]\n"
     ]
    }
   ],
   "source": [
    "import copy\n",
    "copied = copy.copy(score)\n",
    "copied[0][1] = 99\n",
    "copied\n",
    "# 값만 복제 ->  copy.deepcopy\n",
    "deepcopied = copy.deepcopy(score)\n",
    "deepcopied[1][0]=80\n",
    "print(deepcopied)\n",
    "print(score)\n"
   ]
  },
  {
   "cell_type": "markdown",
   "id": "a2cab28e-fd8d-4647-8cd4-d2d692bd0a52",
   "metadata": {},
   "source": [
    "# 리스트의 연산\n",
    "\n",
    "- + add()\n",
    "- * mul()\n",
    "del list "
   ]
  },
  {
   "cell_type": "code",
   "execution_count": 70,
   "id": "99f13041-f3d1-4911-9aa7-19ee0a35be8f",
   "metadata": {},
   "outputs": [
    {
     "data": {
      "text/plain": [
       "['해물라면', '샐러드', '떡볶이', '주먹밥', '볶음밥', '떡볶이']"
      ]
     },
     "execution_count": 70,
     "metadata": {},
     "output_type": "execute_result"
    }
   ],
   "source": [
    "lunch1=['해물라면', '샐러드', '떡볶이']\n",
    "lunch2=['주먹밥','볶음밥','떡볶이']\n",
    "\n",
    "lunch1+lunch2"
   ]
  },
  {
   "cell_type": "code",
   "execution_count": 71,
   "id": "9fc75059-9f32-4b75-a41e-754fd2fd916d",
   "metadata": {},
   "outputs": [
    {
     "data": {
      "text/plain": [
       "['샐러드', '떡볶이']"
      ]
     },
     "execution_count": 71,
     "metadata": {},
     "output_type": "execute_result"
    }
   ],
   "source": [
    "del lunch1[0]\n",
    "lunch1"
   ]
  },
  {
   "cell_type": "code",
   "execution_count": 73,
   "id": "77f7f9c9-ff60-43e6-922d-e9e0ccd68e63",
   "metadata": {},
   "outputs": [
    {
     "data": {
      "text/plain": [
       "['샐러드', '떡볶이', '주먹밥', '볶음밥']"
      ]
     },
     "execution_count": 73,
     "metadata": {},
     "output_type": "execute_result"
    }
   ],
   "source": [
    "lunch = lunch1+lunch2\n",
    "del lunch[-1]\n",
    "lunch"
   ]
  },
  {
   "cell_type": "code",
   "execution_count": 74,
   "id": "c72040b1-5456-49f7-a19c-d38e39a6d726",
   "metadata": {},
   "outputs": [
    {
     "data": {
      "text/plain": [
       "True"
      ]
     },
     "execution_count": 74,
     "metadata": {},
     "output_type": "execute_result"
    }
   ],
   "source": [
    "\"떡볶이\" in lunch"
   ]
  },
  {
   "cell_type": "code",
   "execution_count": 3,
   "id": "db7d82e3-a935-40f1-807c-e74d222331fd",
   "metadata": {},
   "outputs": [
    {
     "name": "stdin",
     "output_type": "stream",
     "text": [
      "먹고 싶은 간식을 추가하세요. 단, 쉼표(,)로 연결하세요 팝콘\n"
     ]
    },
    {
     "data": {
      "text/plain": [
       "['감자칩', '구운감자', '뿌셔뿌셔', '팝콘']"
      ]
     },
     "execution_count": 3,
     "metadata": {},
     "output_type": "execute_result"
    }
   ],
   "source": [
    "# 간식박스 관리 프로그램\n",
    "snack_box = [\"감자칩\", \"구운감자\", \"뿌셔뿌셔\"]\n",
    "new_snack = input(\"먹고 싶은 간식을 추가하세요. 단, 쉼표(,)로 연결하세요\").split(\",\")\n",
    "snack_box += new_snack\n",
    "snack_box"
   ]
  },
  {
   "cell_type": "code",
   "execution_count": 4,
   "id": "342a55d4-dc1d-41b5-917d-daec448e8856",
   "metadata": {},
   "outputs": [
    {
     "name": "stdin",
     "output_type": "stream",
     "text": [
      "간식박스 몇 세트로 포장할까요? 예: 2 -> 2box 2\n"
     ]
    },
    {
     "data": {
      "text/plain": [
       "['감자칩', '구운감자', '뿌셔뿌셔', '팝콘', '감자칩', '구운감자', '뿌셔뿌셔', '팝콘']"
      ]
     },
     "execution_count": 4,
     "metadata": {},
     "output_type": "execute_result"
    }
   ],
   "source": [
    "qty = int(input(\"간식박스 몇 세트로 포장할까요? 예: 2 -> 2box\"))\n",
    "snack_box *= qty\n",
    "snack_box"
   ]
  },
  {
   "cell_type": "code",
   "execution_count": 5,
   "id": "a04ebfba-bcab-4e1e-a91b-2746a7fabfb4",
   "metadata": {},
   "outputs": [
    {
     "name": "stdout",
     "output_type": "stream",
     "text": [
      "주문하신 간식상자는 감자칩,구운감자,뿌셔뿌셔등입니다. 확인해주세요.\n"
     ]
    }
   ],
   "source": [
    "print(f'주문하신 간식상자는 {snack_box[0]},{snack_box[1]},{snack_box[2]}등입니다. 확인해주세요.')"
   ]
  },
  {
   "cell_type": "code",
   "execution_count": 6,
   "id": "c1fa3e6b-577a-4d40-84ed-e721e2237f0b",
   "metadata": {},
   "outputs": [
    {
     "name": "stdin",
     "output_type": "stream",
     "text": [
      "혹시 빼고 싶은 간식이 있으면 번호를 입력하세요 (0~7) 2\n"
     ]
    },
    {
     "name": "stdout",
     "output_type": "stream",
     "text": [
      "['감자칩', '구운감자', '팝콘', '감자칩', '구운감자', '뿌셔뿌셔', '팝콘']\n"
     ]
    },
    {
     "name": "stdout",
     "output_type": "stream",
     "text": [
      "['뿌셔뿌셔', '사이다', ' 새우깡', '감자칩', '구운감자', '뿌셔뿌셔', '사이다', ' 새우깡']\n"
     ]
    }
   ],
   "source": [
    "msg = (f\"혹시 빼고 싶은 간식이 있으면 번호를 입력하세요 (0~{len(snack_box)-1})\")\n",
    "no_menu = int(input(msg))\n",
    "del snack_box[no_menu]\n",
    "print(snack_box)"
   ]
  },
  {
   "cell_type": "code",
   "execution_count": 9,
   "id": "a480376f-87ef-4700-912e-0bc3392c73b9",
   "metadata": {},
   "outputs": [
    {
     "name": "stdin",
     "output_type": "stream",
     "text": [
      "찾고 싶은 간식을 있으면 이름를 입력하세요:   팝콘\n"
     ]
    },
    {
     "name": "stdout",
     "output_type": "stream",
     "text": [
      "있어요\n"
     ]
    },
    {
     "name": "stdout",
     "output_type": "stream",
     "text": [
      "없어요\n"
     ]
    }
   ],
   "source": [
    "# 간식박스 관리 프로그램\n",
    "# 찾고 싶은 간식 번호를 입력하세요 \n",
    "# 있어요 or 없어요 출력 \n",
    "search_name = input(\"찾고 싶은 간식을 있으면 이름를 입력하세요: \").strip()\n",
    "if search_name in snack_box:\n",
    "    print(\"있어요\")\n",
    "else:\n",
    "    print(\"없어요\")"
   ]
  },
  {
   "cell_type": "code",
   "execution_count": 98,
   "id": "c27040a0-e5ea-479c-a7ce-a1d7f4375aea",
   "metadata": {},
   "outputs": [
    {
     "name": "stdout",
     "output_type": "stream",
     "text": [
      "주문하신 간식박스는 뒤에서부터 다음과 같습니다.\n",
      "[' 새우깡', '사이다', '뿌셔뿌셔', '구운감자', '감자칩', ' 새우깡', '사이다', '뿌셔뿌셔'], total num: 8\n"
     ]
    }
   ],
   "source": [
    "print(\"주문하신 간식박스는 뒤에서부터 다음과 같습니다.\")\n",
    "print(f\"{snack_box[::-1]}, total num: {len(snack_box)}\")"
   ]
  },
  {
   "cell_type": "markdown",
   "id": "b4c687ce-8e87-4240-a894-a91b9f4a3320",
   "metadata": {},
   "source": [
    "# 리스트의 method\n",
    "\n",
    "\n",
    "| 메서드                  | 사용 예시                    | 설명                |\n",
    "| -------------------- | ------------------------ | ----------------- |\n",
    "| append(x)          | lst.append(4)          | 맨 뒤에 x 추가       |\n",
    "| insert(i, x)       | lst.insert(1, \"a\")     | i 위치에 x 삽입    |\n",
    "| extend(iter)       | lst.extend([4, 5])     | 리스트에 여러 값 추가      |\n",
    "| remove(x)          | lst.remove(\"a\")        | x와 일치하는 첫 항목 삭제 |\n",
    "| pop()              | lst.pop()              | 마지막 항목 제거하고 반환    |\n",
    "| pop(i)             | lst.pop(0)             | i번째 항목 제거하고 반환  |\n",
    "| clear()            | lst.clear()            | 리스트 전체 비우기        |\n",
    "| index(x)           | lst.index(\"a\")         | x의 위치(인덱스) 반환   |\n",
    "| count(x)           | lst.count(\"a\")         | x의 개수 세기        |\n",
    "| sort()             | lst.sort()             | 오름차순 정렬 (원본 변경)   |\n",
    "| sort(reverse=True) | lst.sort(reverse=True) | 내림차순 정렬           |\n",
    "| reverse()          | lst.reverse()          | 항목 순서 뒤집기         |\n",
    "| copy()             | lst2 = lst.copy()      | 리스트 복사            |"
   ]
  },
  {
   "cell_type": "markdown",
   "id": "5f858eae-2ebe-4426-828f-eb2c391bda4d",
   "metadata": {},
   "source": [
    "# 연산자 \n",
    "- 비식별 연산자\n",
    "1. 수치연산 : 사칙연산\n",
    "    add() -> 측별 method를 정의하고 객체연산을 쓸 수 있다\n",
    "   숫자일 때는 기본 연산\n",
    "   형 변환이 자동으로 일어난다 int+float > float, int/int > float\n",
    "   \n",
    "2. 대입연산 : assign, 할당 '='\n",
    "    변수 = 값\n",
    "    자기 자신에게 대입하는 연산 > +=, -=, *=, /= > ()가 자동으로 적용\n",
    "   \n",
    "3. 비교연산\n",
    "   '=' 와 '=='\n",
    "   '!=' '>=' '<='\n",
    "\n",
    "    리스트의 비교 '==' > 내용이 같은가?   \n",
    "    리스트의 비교 'is' > 주소가 같은가?   \n",
    "    리스트의 주소'id()'가 같은가? > 메모리 영역이 같은가를 비교 \n",
    "\n",
    "7. 논리연산\n",
    "    and, or, not\n",
    "    &, &&, |\n",
    "- 식별 연산자\n",
    "1. is, is not "
   ]
  },
  {
   "cell_type": "code",
   "execution_count": 39,
   "id": "57d7f974-3060-469c-94ff-f6d319d8cb9d",
   "metadata": {},
   "outputs": [
    {
     "data": {
      "text/plain": [
       "20"
      ]
     },
     "execution_count": 39,
     "metadata": {},
     "output_type": "execute_result"
    }
   ],
   "source": [
    "a=5\n",
    "b=2\n",
    "a *= (2+b) \n",
    "a"
   ]
  },
  {
   "cell_type": "code",
   "execution_count": 13,
   "id": "2ac7bef5-c68c-41b0-9768-9252a59ef3ee",
   "metadata": {},
   "outputs": [],
   "source": [
    "students = [\n",
    "               {'num':'1','name':'김철수','kor':90,'eng':80,'math':85,'total':0,'avg':0.0,'order':0 },\n",
    "               {'num':'2','name':'박제동','kor':90,'eng':85,'math':90,'total':0,'avg':0.0,'order':0 },\n",
    "               {'num':'3','name':'홍길동','kor':80,'eng':80,'math':80,'total':0,'avg':0.0,'order':0 }\n",
    "           ]"
   ]
  },
  {
   "cell_type": "code",
   "execution_count": 22,
   "id": "e7aec339-5eb1-4a2c-846f-434f34dc29fc",
   "metadata": {},
   "outputs": [
    {
     "name": "stdout",
     "output_type": "stream",
     "text": [
      "255\n",
      "265\n",
      "240\n"
     ]
    }
   ],
   "source": [
    "students[0]['total'] = (students[0]['kor'] \n",
    "                        + students[0]['eng'] \n",
    "                        + students[0]['math'])\n",
    "\n",
    "print(students[0]['total'])\n",
    "\n",
    "students[1]['total'] = (students[1]['kor'] \n",
    "                        + students[1]['eng'] \n",
    "                        + students[1]['math'])\n",
    "print(students[1]['total'])\n",
    "\n",
    "students[2]['total'] = (students[2]['kor'] \n",
    "                        + students[2]['eng'] \n",
    "                        + students[2]['math'])\n",
    "print(students[2]['total'])"
   ]
  },
  {
   "cell_type": "code",
   "execution_count": 30,
   "id": "54baeb94-7711-400a-966a-199d527f1225",
   "metadata": {},
   "outputs": [
    {
     "name": "stdout",
     "output_type": "stream",
     "text": [
      "255 85.0\n",
      "265 88.3\n",
      "240 80.0\n"
     ]
    }
   ],
   "source": [
    "# for문에서는 리스트의 요소를 하나씩 꺼낼 수 있다 : in 키워드\n",
    "for student in students:     \n",
    "    student['total'] = (student['kor'] + student['eng'] + student['math'])\n",
    "    student['avg'] = (student['total']/3)\n",
    "    print(student['total'], round(student['avg'],1)) # 1dec"
   ]
  },
  {
   "cell_type": "code",
   "execution_count": 37,
   "id": "e8978c9c-1a5e-4b50-a7da-2946ece036e7",
   "metadata": {},
   "outputs": [
    {
     "name": "stdout",
     "output_type": "stream",
     "text": [
      "홍길동 2\n",
      "홍길동 1\n",
      "홍길동 3\n",
      "[{'num': '1', 'name': '김철수', 'kor': 90, 'eng': 80, 'math': 85, 'total': 255, 'avg': 85.0, 'order': 0}, {'num': '2', 'name': '박제동', 'kor': 90, 'eng': 85, 'math': 90, 'total': 265, 'avg': 88.33333333333333, 'order': 0}, {'num': '3', 'name': '홍길동', 'kor': 80, 'eng': 80, 'math': 80, 'total': 240, 'avg': 80.0, 'order': 3}]\n"
     ]
    }
   ],
   "source": [
    "#studnets order\n",
    "for studnet in students: #studnts[0]\n",
    "    rank = 1\n",
    "    for other in students:\n",
    "        if other['total'] > studnet ['total']:\n",
    "            rank += 1\n",
    "    student['order'] = rank\n",
    "    print(student['name'], student['order'])\n",
    "\n",
    "print(students)"
   ]
  },
  {
   "cell_type": "code",
   "execution_count": 38,
   "id": "766426f4-524d-494a-86fd-0643fe006864",
   "metadata": {},
   "outputs": [
    {
     "name": "stdout",
     "output_type": "stream",
     "text": [
      "김철수 0 255 85.0\n",
      "박제동 0 265 88.33333333333333\n",
      "홍길동 3 240 80.0\n"
     ]
    }
   ],
   "source": [
    "for student in students:\n",
    "    print(student['name'],student['order'],student['total'],student['avg'])"
   ]
  },
  {
   "cell_type": "code",
   "execution_count": 43,
   "id": "2e05b386-ddb3-4ab9-826c-2127ecd9d015",
   "metadata": {},
   "outputs": [
    {
     "data": {
      "text/plain": [
       "True"
      ]
     },
     "execution_count": 43,
     "metadata": {},
     "output_type": "execute_result"
    }
   ],
   "source": [
    "lunch1 = [\"주먹밥\", \"치킨\", \"칼국수\"]\n",
    "lunch2 = [\"주먹밥\", \"치킨\", \"칼국수\"]\n",
    "\n",
    "lunch1 == lunch2 #값의 비교"
   ]
  },
  {
   "cell_type": "code",
   "execution_count": 45,
   "id": "56041953-9eb5-4266-aec0-3af8fe4232f7",
   "metadata": {},
   "outputs": [
    {
     "data": {
      "text/plain": [
       "False"
      ]
     },
     "execution_count": 45,
     "metadata": {},
     "output_type": "execute_result"
    }
   ],
   "source": [
    "id(lunch1) == id(lunch2) #주소값을 비교\n",
    "lunch1 is lunch2 #주소를 비교"
   ]
  },
  {
   "cell_type": "markdown",
   "id": "b76c7cda-31cf-43c1-8d7a-4c1dcc420af2",
   "metadata": {},
   "source": [
    "# 리스트에 많이 쓰는 내장 함수들\n",
    "\n",
    "type()   \n",
    "sorted(): sort list   \n",
    "dir(): available dic   \n",
    "id(): id check   \n",
    "len(): no of contents on the list   \n",
    "sum(): all value of sum from the list   \n",
    "max(): max value from the list    \n",
    "min(): min value from the list"
   ]
  },
  {
   "cell_type": "code",
   "execution_count": 54,
   "id": "7472d76e-7034-48a7-bdf1-92dde1fec093",
   "metadata": {},
   "outputs": [
    {
     "name": "stdout",
     "output_type": "stream",
     "text": [
      "60\n",
      "5\n",
      "92\n",
      "4\n",
      "['__add__', '__class__', '__class_getitem__', '__contains__', '__delattr__', '__delitem__', '__dir__', '__doc__', '__eq__', '__format__', '__ge__', '__getattribute__', '__getitem__', '__getstate__', '__gt__', '__hash__', '__iadd__', '__imul__', '__init__', '__init_subclass__', '__iter__', '__le__', '__len__', '__lt__', '__mul__', '__ne__', '__new__', '__reduce__', '__reduce_ex__', '__repr__', '__reversed__', '__rmul__', '__setattr__', '__setitem__', '__sizeof__', '__str__', '__subclasshook__', 'append', 'clear', 'copy', 'count', 'extend', 'index', 'insert', 'pop', 'remove', 'reverse', 'sort']\n",
      "[5, 7, 20, 60]\n"
     ]
    }
   ],
   "source": [
    "lst = [\"가나디\", \"나팔꽃\", \"다다미\"]\n",
    "lst_num = [ 20, 60, 5, 7]\n",
    "print(max(lst_num))\n",
    "print(min(lst_num))\n",
    "print(sum(lst_num))\n",
    "print(len(lst_num))\n",
    "print(dir(lst_num))\n",
    "print(sorted(lst_num))"
   ]
  },
  {
   "cell_type": "markdown",
   "id": "078dd541-1003-4d5f-916d-25ebe4eeb44e",
   "metadata": {},
   "source": [
    "# list quiz"
   ]
  },
  {
   "cell_type": "code",
   "execution_count": 8,
   "id": "3f3c207c-72be-4c03-929d-32d98a79c6c6",
   "metadata": {},
   "outputs": [
    {
     "name": "stdout",
     "output_type": "stream",
     "text": [
      "[5, 4, 3, 2, 1]\n",
      "Life is too short\n",
      "[3, 5, 7, 9, 1]\n"
     ]
    }
   ],
   "source": [
    "#Q1\n",
    "lst = [1,2,3,4,5]\n",
    "lst = lst[::-1]\n",
    "# or lst.sort(reverse=True)\n",
    "print(lst)\n",
    "#Q2\n",
    "words = ['Life','is','too','short']\n",
    "sentence = \" \".join(words)\n",
    "print(sentence)\n",
    "#Q3 다음 리스트 L의 순서를 아래와 같이 변경하시오. (힌트: pop())\n",
    "#[3, 5, 7, 9, 1]\n",
    "lst2 = [1, 3, 5, 7, 9]\n",
    "lst2.append(lst2.pop(0))\n",
    "print(lst2)"
   ]
  },
  {
   "cell_type": "code",
   "execution_count": 14,
   "id": "fd61efeb-3c80-43d0-97d5-7cdd4e207b93",
   "metadata": {},
   "outputs": [
    {
     "name": "stdout",
     "output_type": "stream",
     "text": [
      "5969782550\n"
     ]
    }
   ],
   "source": [
    "#38\n",
    "상장주식수 = \"5,969,782,550\"\n",
    "rm_comma = int(상장주식수.replace(\",\",\"\"))\n",
    "print(rm_comma)"
   ]
  },
  {
   "cell_type": "markdown",
   "id": "e258ad1e-6f2a-4d01-84ee-ace7cfbbda24",
   "metadata": {},
   "source": [
    "# 딕셔너리\n",
    "\n",
    "{키: 값, 키:값}"
   ]
  },
  {
   "cell_type": "code",
   "execution_count": 27,
   "id": "b855884e-7c7e-4988-8316-d542a37e3dd4",
   "metadata": {},
   "outputs": [
    {
     "data": {
      "text/plain": [
       "{'이름': 'Alice', '나이': 20, '도시': '서울', 0: 'hihi'}"
      ]
     },
     "execution_count": 27,
     "metadata": {},
     "output_type": "execute_result"
    }
   ],
   "source": [
    "person = {'이름':'Alice', '나이':20, '도시':'서울'}\n",
    "# 유니크한 키\n",
    "person[0] = \"bob\" #key create\n",
    "person[0] = \"hihi\"\n",
    "person"
   ]
  },
  {
   "cell_type": "code",
   "execution_count": 24,
   "id": "2d585545-9785-479a-8bdf-eced03a38b0f",
   "metadata": {},
   "outputs": [
    {
     "data": {
      "text/plain": [
       "{'이름': '신윤서', '나이': 23, '도시': '서울'}"
      ]
     },
     "execution_count": 24,
     "metadata": {},
     "output_type": "execute_result"
    }
   ],
   "source": [
    "person2 = dict(이름=\"신윤서\", 나이=23, 도시='서울')"
   ]
  },
  {
   "cell_type": "code",
   "execution_count": 29,
   "id": "a7a2b16b-ceb4-4085-904d-da7dbf7085b8",
   "metadata": {},
   "outputs": [
    {
     "data": {
      "text/plain": [
       "['__class__',\n",
       " '__class_getitem__',\n",
       " '__contains__',\n",
       " '__delattr__',\n",
       " '__delitem__',\n",
       " '__dir__',\n",
       " '__doc__',\n",
       " '__eq__',\n",
       " '__format__',\n",
       " '__ge__',\n",
       " '__getattribute__',\n",
       " '__getitem__',\n",
       " '__getstate__',\n",
       " '__gt__',\n",
       " '__hash__',\n",
       " '__init__',\n",
       " '__init_subclass__',\n",
       " '__ior__',\n",
       " '__iter__',\n",
       " '__le__',\n",
       " '__len__',\n",
       " '__lt__',\n",
       " '__ne__',\n",
       " '__new__',\n",
       " '__or__',\n",
       " '__reduce__',\n",
       " '__reduce_ex__',\n",
       " '__repr__',\n",
       " '__reversed__',\n",
       " '__ror__',\n",
       " '__setattr__',\n",
       " '__setitem__',\n",
       " '__sizeof__',\n",
       " '__str__',\n",
       " '__subclasshook__',\n",
       " 'clear',\n",
       " 'copy',\n",
       " 'fromkeys',\n",
       " 'get',\n",
       " 'items',\n",
       " 'keys',\n",
       " 'pop',\n",
       " 'popitem',\n",
       " 'setdefault',\n",
       " 'update',\n",
       " 'values']"
      ]
     },
     "execution_count": 29,
     "metadata": {},
     "output_type": "execute_result"
    }
   ],
   "source": [
    "type(person)\n",
    "dir(person)"
   ]
  },
  {
   "cell_type": "code",
   "execution_count": 30,
   "id": "f22db4d5-ed05-4e12-8db7-36c94635f1f4",
   "metadata": {},
   "outputs": [
    {
     "data": {
      "text/plain": [
       "dict_items([('이름', 'Alice'), ('나이', 20), ('도시', '서울'), (0, 'hihi')])"
      ]
     },
     "execution_count": 30,
     "metadata": {},
     "output_type": "execute_result"
    }
   ],
   "source": [
    "print(person.items()) #list로 만들어서 돌려줌"
   ]
  },
  {
   "cell_type": "code",
   "execution_count": 36,
   "id": "d126af80-c044-472c-9c93-b59e78553a3b",
   "metadata": {},
   "outputs": [
    {
     "data": {
      "text/plain": [
       "dict_keys"
      ]
     },
     "execution_count": 36,
     "metadata": {},
     "output_type": "execute_result"
    }
   ],
   "source": [
    "keys = person.keys() # key만 돌려줌\n",
    "type(keys)"
   ]
  },
  {
   "cell_type": "code",
   "execution_count": 37,
   "id": "e97aafa6-a945-4463-b310-8e21aac8a42b",
   "metadata": {},
   "outputs": [
    {
     "name": "stdout",
     "output_type": "stream",
     "text": [
      "이름\n",
      "나이\n",
      "도시\n",
      "0\n"
     ]
    }
   ],
   "source": [
    "for k in keys:\n",
    "    print(k)"
   ]
  },
  {
   "cell_type": "code",
   "execution_count": 41,
   "id": "63d28bd7-609f-4fe6-bd1a-bcba280e8818",
   "metadata": {},
   "outputs": [
    {
     "name": "stdout",
     "output_type": "stream",
     "text": [
      "('이름', 'Alice')\n",
      "('나이', 20)\n",
      "('도시', '서울')\n",
      "(0, 'hihi')\n"
     ]
    }
   ],
   "source": [
    "items = person.items()\n",
    "for i in items:\n",
    "    print(i)"
   ]
  },
  {
   "cell_type": "code",
   "execution_count": 42,
   "id": "0de4f13c-1af4-46fb-ad1e-204793407ac7",
   "metadata": {},
   "outputs": [
    {
     "name": "stdout",
     "output_type": "stream",
     "text": [
      "Alice\n",
      "20\n",
      "서울\n",
      "hihi\n"
     ]
    }
   ],
   "source": [
    "values = person.values()\n",
    "for v in values:\n",
    "    print(v)"
   ]
  },
  {
   "cell_type": "code",
   "execution_count": 43,
   "id": "4cfac99f-72cc-4a2f-9b99-5ff4c175495e",
   "metadata": {},
   "outputs": [
    {
     "data": {
      "text/plain": [
       "{'이름': '신윤서', '나이': 23, '도시': '서울', 0: 'hihi'}"
      ]
     },
     "execution_count": 43,
     "metadata": {},
     "output_type": "execute_result"
    }
   ],
   "source": [
    "#update() 딕셔너리에 딕셔너리를 추가\n",
    "person.update(person2)\n",
    "person"
   ]
  },
  {
   "cell_type": "code",
   "execution_count": 44,
   "id": "ee4570f9-d183-4c35-bfab-7784fcc6d053",
   "metadata": {},
   "outputs": [],
   "source": [
    "#person3를 추가해도 \n",
    "#키가 같으므로, 값이 업데이트\n",
    "person['이름'] = 'alice'"
   ]
  },
  {
   "cell_type": "code",
   "execution_count": 48,
   "id": "65d249cd-f39d-40be-81dd-6697fa0e14b2",
   "metadata": {},
   "outputs": [
    {
     "data": {
      "text/plain": [
       "{'이름': 'alice', '나이': 23, '도시': '서울', 0: 'hihi', '성별': '여자', '취미': '판타지'}"
      ]
     },
     "execution_count": 48,
     "metadata": {},
     "output_type": "execute_result"
    }
   ],
   "source": [
    "person3 = {'성별':'여자', '취미':'판타지'} #키가 다르면 추가, 키가 같으면 업데이트 \n",
    "person.update(person3)\n",
    "person"
   ]
  },
  {
   "cell_type": "code",
   "execution_count": 69,
   "id": "2dc1dd51-06e8-4591-8a9e-dfc6fc18ecd2",
   "metadata": {},
   "outputs": [
    {
     "name": "stdout",
     "output_type": "stream",
     "text": [
      "****************************************\n",
      "어서오세요 code cafe에 오신것을 환영합니다\n",
      "\n",
      "No.  Menu          Price\n",
      "--------------------------\n",
      "1    chai latte      4500\n",
      "2    latte           4000\n",
      "3    long black      3500\n",
      "--------------------------\n",
      "\n",
      "\n"
     ]
    },
    {
     "name": "stdin",
     "output_type": "stream",
     "text": [
      "주문할 메뉴 변호를 입력하세요 :  2\n",
      "주문할 수량을 입력하세요 :  1\n"
     ]
    },
    {
     "name": "stdout",
     "output_type": "stream",
     "text": [
      "\n",
      "주문하신 메뉴는 latte입니다. 결제하실 금액은 4000원 입니다.\n",
      "감사합니다!!\n"
     ]
    }
   ],
   "source": [
    "store_name = 'code cafe'\n",
    "menu_list = ['chai latte', 'latte', 'long black']\n",
    "price_list = [4500, 4000, 3500]\n",
    "\n",
    "print('*'*40)\n",
    "print(f'어서오세요 {store_name}에 오신것을 환영합니다\\n')\n",
    "print(\"No.  Menu          Price\")\n",
    "print(\"-\" * 26)\n",
    "\n",
    "for i in range(len(menu_list)) :\n",
    "    print(f\"{i+1:<4} {menu_list[i]:<13} {price_list[i]:>6}\")\n",
    "print(\"-\" * 26)\n",
    "print(\"\\n\")\n",
    "order_name = int(input('주문할 메뉴 변호를 입력하세요 : ')) -1\n",
    "qty = int(input('주문할 수량을 입력하세요 : '))\n",
    "total_price = price_list[order_name] * qty\n",
    "\n",
    "print(f\"\\n주문하신 메뉴는 {menu_list[order_name]}입니다. 결제하실 금액은 {total_price}원 입니다.\")\n",
    "print(\"감사합니다!!\")"
   ]
  },
  {
   "cell_type": "code",
   "execution_count": null,
   "id": "00b1a308-2a0a-41ab-b8a1-0feab6a6b8f1",
   "metadata": {},
   "outputs": [],
   "source": [
    "# dic version\n",
    "store_name = 'code cafe'\n",
    "menu_lst = [{'name':'chai latte', 'price' : 4500},\n",
    "           {'name':'latte', 'price' : 4000},\n",
    "           {'name':'long black', 'price' : 3500},\n",
    "           {'name':'matcha latte', 'price' : 5500}]\n",
    "\n",
    "print('*'*40)\n",
    "print(f'어서오세요 {store_name}에 오신것을 환영합니다\\n')\n",
    "print(\"No.  Menu          Price\")\n",
    "print(\"-\" * 26)\n",
    "\n",
    "for i, menu in enumerate(menu_lst) :\n",
    "    print(f\"{i+1:<4} {menu['name']:<13} {menu['price']:>6}\")\n",
    "print(\"-\" * 26)\n",
    "print(\"\\n\")\n",
    "order_num = int(input('주문할 메뉴 변호를 입력하세요 : ')) -1\n",
    "qty = int(input('주문할 수량을 입력하세요 : '))\n",
    "total_price = menu_lst[order_num]['price'] * qty\n",
    "order_name = menu_lst[order_num]['name']\n",
    "\n",
    "print(f\"\\n주문하신 메뉴는 {order_name}입니다. 결제하실 금액은 {total_price}원 입니다.\")\n",
    "print(\"감사합니다!!\")"
   ]
  },
  {
   "cell_type": "code",
   "execution_count": 1,
   "id": "43e2fea1-e05a-43ed-b3ca-faac533fba54",
   "metadata": {},
   "outputs": [
    {
     "name": "stdout",
     "output_type": "stream",
     "text": [
      "****************************************\n",
      "어서오세요, ‘요렇게’에 오신것을 환영합니다:)\n",
      "\n",
      "Menu\t\t\tPrice\n",
      "------------------------------\n",
      "요거트 아이스크림(250g)\t6,000\n",
      "------------------------------\n",
      "\n",
      "No.  Topping\t\tPrice\n",
      "------------------------------\n",
      "1     요거트 아이스크림 \t3,000\n",
      "2     바나나       \t4,000\n",
      "3     딸기        \t5,000\n",
      "4     벌집꿀       \t7,000\n",
      "5     그레놀라      \t7,000\n",
      "6     초코쉘       \t7,000\n",
      "------------------------------\n",
      "****************************************\n"
     ]
    },
    {
     "name": "stdin",
     "output_type": "stream",
     "text": [
      "\n",
      "추가할 메뉴 번호를 입력하세요 (종료: 0):  1\n",
      "추가할 개수를 입력하세요:  2\n"
     ]
    },
    {
     "name": "stdout",
     "output_type": "stream",
     "text": [
      "'요거트 아이스크림' 2개가 장바구니에 추가되었습니다.\n"
     ]
    },
    {
     "name": "stdin",
     "output_type": "stream",
     "text": [
      "\n",
      "추가할 메뉴 번호를 입력하세요 (종료: 0):  3\n",
      "추가할 개수를 입력하세요:  2\n"
     ]
    },
    {
     "name": "stdout",
     "output_type": "stream",
     "text": [
      "'딸기' 2개가 장바구니에 추가되었습니다.\n"
     ]
    },
    {
     "name": "stdin",
     "output_type": "stream",
     "text": [
      "\n",
      "추가할 메뉴 번호를 입력하세요 (종료: 0):  0\n"
     ]
    },
    {
     "name": "stdout",
     "output_type": "stream",
     "text": [
      "\n",
      "========================================\n",
      "현재 장바구니\n",
      "1. 요거트 아이스크림 x 3 = 9,000원\n",
      "2. 딸기 x 2 = 10,000원\n",
      "----------------------------------------\n",
      "Total = 19,000원\n",
      " - 토핑 완료 1\n",
      " - 토핑을 삭제하려면 2\n",
      " - 토핑을 추가하려면 3\n",
      "\n"
     ]
    },
    {
     "name": "stdin",
     "output_type": "stream",
     "text": [
      "번호를 입력해주세요 :  1\n"
     ]
    },
    {
     "name": "stdout",
     "output_type": "stream",
     "text": [
      "\n",
      "최종 장바구니 목록:\n",
      "1. 요거트 아이스크림 : 3000원\n",
      "2. 딸기 : 5000원\n",
      "----------------------------------------\n",
      "총 결제 금액: 8,000원\n",
      "카드를 넣어주세요.\n",
      "계산이 완료 되었습니다:)\n"
     ]
    }
   ],
   "source": [
    "menu_list = [ \n",
    "    {'name': '요거트 아이스크림', 'price': 3000},\n",
    "    {'name':'바나나','price':4000},\n",
    "    {'name':'딸기','price':5000},\n",
    "    {'name':'벌집꿀','price':7000},\n",
    "    {'name':'그레놀라','price':7000},\n",
    "    {'name':'초코쉘','price':7000},\n",
    "]\n",
    "print('*'*40)\n",
    "print('어서오세요, ‘요렇게’에 오신것을 환영합니다:)\\n')\n",
    "\n",
    "\n",
    "print(\"Menu\\t\\t\\tPrice\")\n",
    "print(\"-\" * 30)\n",
    "print(\"요거트 아이스크림(250g)\\t6,000\")\n",
    "print(\"-\" * 30)\n",
    "\n",
    "print(\"\\nNo.  Topping\\t\\tPrice\")\n",
    "print(\"-\" * 30)\n",
    "for idx, item in enumerate(menu_list, start=1):\n",
    "    print(f\"{idx:<5} {item['name']:<10}\\t{item['price']:,}\")\n",
    "print(\"-\" * 30)\n",
    "print(\"*\" * 40)\n",
    "\n",
    "#for i, item in enumerate(menu_list, start=1):\n",
    " #    print(f\"{i}. {item[\"name\"]} : {item['price']}원\")\n",
    "#print(\"메뉴를 선택해주세요\");\n",
    "\n",
    "cart = []\n",
    "#기본 요거트 아이스크림 \n",
    "default_item = menu_list[0]\n",
    "cart.append({'name': default_item['name'], 'price': default_item['price'], 'quantity': 1})\n",
    "total_price = 3000\n",
    "\n",
    "while True:\n",
    "    #토핑 고르기 \n",
    "    choice = input(\"\\n추가할 메뉴 번호를 입력하세요 (종료: 0): \").strip()\n",
    "\n",
    "    if choice == \"0\":\n",
    "        break\n",
    "\n",
    "    if choice.isdigit() and 1 <= int(choice) <= len(menu_list):\n",
    "        quantity = input(\"추가할 개수를 입력하세요: \").strip()\n",
    "        if quantity.isdigit() and int(quantity) > 0:\n",
    "            selected_item = menu_list[int(choice) - 1]\n",
    "            qty = int(quantity)\n",
    "            found = False\n",
    "\n",
    "            for item in cart:\n",
    "                if item['name'] == selected_item['name']:\n",
    "                    item['quantity'] += qty\n",
    "                    found = True\n",
    "                    break\n",
    "\n",
    "            if not found:\n",
    "                cart.append({'name': selected_item['name'], 'price': selected_item['price'], 'quantity': qty})\n",
    "\n",
    "            print(f\"'{selected_item['name']}' {qty}개가 장바구니에 추가되었습니다.\")\n",
    "            total_price += selected_item[\"price\"] * qty\n",
    "        else:\n",
    "            print(\"올바른 개수를 입력하세요.\")\n",
    "    else:\n",
    "        print(\"올바른 메뉴 번호를 입력하세요.\")\n",
    "\n",
    "# 장바구니 보여주기\n",
    "print(\"\\n\" + \"=\" * 40)\n",
    "print(\"현재 장바구니\")\n",
    "for i, item in enumerate(cart, start=1):\n",
    "    print(f\"{i}. {item['name']} x {item['quantity']} = {item['price'] * item['quantity']:,}원\")\n",
    "print(\"-\" * 40)\n",
    "print(f\"Total = {total_price:,}원\")\n",
    "\n",
    "# 토핑 완료/삭제/추가 옵션 고르기 \n",
    "print(\" - 토핑 완료 1\\n - 토핑을 삭제하려면 2\\n - 토핑을 추가하려면 3\\n\")\n",
    "select = int(input(\"번호를 입력해주세요 : \"))\n",
    "\n",
    "\n",
    "print(\"\\n최종 장바구니 목록:\")\n",
    "if cart:\n",
    "    for i, item in enumerate(cart, start=1):\n",
    "        print(f\"{i}. {item['name']} : {item['price']}원\")\n",
    "        total_price += item['price']  # 가격 누적\n",
    "    print(\"-\" * 40)\n",
    "    print(f\"총 결제 금액: {total_price:,}원\")\n",
    "    print(\"카드를 넣어주세요.\")\n",
    "    print(\"계산이 완료 되었습니다:)\")\n",
    "else:\n",
    "    print(\"장바구니가 비어 있습니다.\")"
   ]
  },
  {
   "cell_type": "markdown",
   "id": "f2192e9c-34ed-4337-be46-c24b78a8185b",
   "metadata": {},
   "source": [
    "# 튜플\n",
    "리스트와 비슷,  변경 안되는 특징을 가진다. "
   ]
  },
  {
   "cell_type": "code",
   "execution_count": 2,
   "id": "1eceef7c-3a36-4ba8-9376-31923e3d8695",
   "metadata": {},
   "outputs": [
    {
     "data": {
      "text/plain": [
       "((), tuple)"
      ]
     },
     "execution_count": 2,
     "metadata": {},
     "output_type": "execute_result"
    }
   ],
   "source": [
    "a = tuple()\n",
    "a, type(a)"
   ]
  },
  {
   "cell_type": "code",
   "execution_count": 3,
   "id": "ced3867f-0f76-4976-9e13-9f13bf4b0e1b",
   "metadata": {},
   "outputs": [
    {
     "data": {
      "text/plain": [
       "(1, int)"
      ]
     },
     "execution_count": 3,
     "metadata": {},
     "output_type": "execute_result"
    }
   ],
   "source": [
    "b = (1)\n",
    "b, type(b)"
   ]
  },
  {
   "cell_type": "code",
   "execution_count": 6,
   "id": "c662e966-19bf-40b6-bfe2-3455220b2291",
   "metadata": {},
   "outputs": [
    {
     "data": {
      "text/plain": [
       "((1,), tuple)"
      ]
     },
     "execution_count": 6,
     "metadata": {},
     "output_type": "execute_result"
    }
   ],
   "source": [
    "bb = (1, ) #!!!!\n",
    "bb, type(bb)"
   ]
  },
  {
   "cell_type": "code",
   "execution_count": 8,
   "id": "4a677096-e777-45b1-bf83-616b16c4fb31",
   "metadata": {},
   "outputs": [
    {
     "data": {
      "text/plain": [
       "(('apple', 'peach', 'orange'), tuple)"
      ]
     },
     "execution_count": 8,
     "metadata": {},
     "output_type": "execute_result"
    }
   ],
   "source": [
    "#tuple의 ()괄호는 생략 가능\n",
    "#쉽표로 요소는 하나 이상이여야 한다\n",
    "\n",
    "fruits = 'apple', 'peach', 'orange'\n",
    "fruits, type(fruits)"
   ]
  },
  {
   "cell_type": "code",
   "execution_count": 10,
   "id": "13e37cc4-3691-45c9-aec0-87cead2281e5",
   "metadata": {},
   "outputs": [
    {
     "data": {
      "text/plain": [
       "(1, 2, 3)"
      ]
     },
     "execution_count": 10,
     "metadata": {},
     "output_type": "execute_result"
    }
   ],
   "source": [
    "# 패킹, 언패킹\n",
    "\n",
    "nums = [1,2,3]\n",
    "a,b,c = nums  #list unpacking\n",
    "a,b,c"
   ]
  },
  {
   "cell_type": "code",
   "execution_count": 11,
   "id": "36ebb881-e68f-48de-91c0-97a853528836",
   "metadata": {},
   "outputs": [
    {
     "data": {
      "text/plain": [
       "'hi'"
      ]
     },
     "execution_count": 11,
     "metadata": {},
     "output_type": "execute_result"
    }
   ],
   "source": [
    "#s = 'hello' > error \n",
    "s = 'hi'\n",
    "a,b = s\n",
    "s"
   ]
  },
  {
   "cell_type": "code",
   "execution_count": 16,
   "id": "ad6bdec1-5145-4e9b-a839-ff5fc7752d65",
   "metadata": {},
   "outputs": [
    {
     "data": {
      "text/plain": [
       "('h', ['e', 'l', 'l'], 'o')"
      ]
     },
     "execution_count": 16,
     "metadata": {},
     "output_type": "execute_result"
    }
   ],
   "source": [
    "s = 'hello' # packing\n",
    "a, *b = s #unpacking * - rest\n",
    "a, *b, c = s\n",
    "a, b, c"
   ]
  },
  {
   "cell_type": "code",
   "execution_count": 20,
   "id": "57986f0c-a4a8-4129-beb7-5c1a146a7c33",
   "metadata": {},
   "outputs": [
    {
     "data": {
      "text/plain": [
       "('Iris', 23, 28, '1학년')"
      ]
     },
     "execution_count": 20,
     "metadata": {},
     "output_type": "execute_result"
    }
   ],
   "source": [
    "studnet = ('Iris', 23,28, '1학년') #packing\n",
    "studnet"
   ]
  },
  {
   "cell_type": "code",
   "execution_count": 22,
   "id": "ebea46bf-f4f8-454a-b1d7-cbc02a0b505e",
   "metadata": {},
   "outputs": [
    {
     "data": {
      "text/plain": [
       "'이름은 Iris이고요, 나이는 [23, 28]이고요, 1학년입니다.'"
      ]
     },
     "execution_count": 22,
     "metadata": {},
     "output_type": "execute_result"
    }
   ],
   "source": [
    "name, *age, grade = studnet #unpacking\n",
    "f'이름은 {name}이고요, 나이는 {age}이고요, {grade}입니다.'"
   ]
  },
  {
   "cell_type": "code",
   "execution_count": 27,
   "id": "715d2cf7-e74a-4cf1-9534-255c63626db3",
   "metadata": {},
   "outputs": [
    {
     "data": {
      "text/plain": [
       "(1, 2)"
      ]
     },
     "execution_count": 27,
     "metadata": {},
     "output_type": "execute_result"
    }
   ],
   "source": [
    "#미션\n",
    "x=1\n",
    "y=2\n",
    "#x=2, y=1\n",
    "\n",
    "n = (1,2)\n",
    "y, x = n\n",
    "\n",
    "x, y = y, x # tuple에 packing&unpacking \n",
    "x, y"
   ]
  },
  {
   "cell_type": "code",
   "execution_count": 31,
   "id": "e83e89ce-7abb-4572-9cd5-b4cc5588b112",
   "metadata": {},
   "outputs": [
    {
     "name": "stdout",
     "output_type": "stream",
     "text": [
      "5 4 3\n"
     ]
    },
    {
     "data": {
      "text/plain": [
       "(3, 4, 5)"
      ]
     },
     "execution_count": 31,
     "metadata": {},
     "output_type": "execute_result"
    }
   ],
   "source": [
    "#함수의 정의\n",
    "def func_a(a,b,c):\n",
    "    print(a,b,c)\n",
    "    return c,b,a\n",
    "\n",
    "#함수의 호출\n",
    "result = func_a(5,4,3)\n",
    "#함수의 반환값\n",
    "result"
   ]
  },
  {
   "cell_type": "code",
   "execution_count": 32,
   "id": "39812551-cfc1-45d4-ae7b-88c632fd7662",
   "metadata": {},
   "outputs": [
    {
     "name": "stdout",
     "output_type": "stream",
     "text": [
      "1 2 3\n"
     ]
    },
    {
     "data": {
      "text/plain": [
       "(3, 2, 1)"
      ]
     },
     "execution_count": 32,
     "metadata": {},
     "output_type": "execute_result"
    }
   ],
   "source": [
    "a1,b1,c1 = func_a(1,2,3)\n",
    "a1,b1,c1"
   ]
  },
  {
   "cell_type": "code",
   "execution_count": 33,
   "id": "f5b56b05-2a19-49a3-80d9-ebb7a534a507",
   "metadata": {},
   "outputs": [],
   "source": [
    "#tuple에 값을 추가하려면\n",
    "# 형변환 > 리스트"
   ]
  },
  {
   "cell_type": "code",
   "execution_count": 34,
   "id": "e5314675-bec4-4e91-80e1-37655532aef3",
   "metadata": {},
   "outputs": [
    {
     "data": {
      "text/plain": [
       "('가연', '지훈', '지희')"
      ]
     },
     "execution_count": 34,
     "metadata": {},
     "output_type": "execute_result"
    }
   ],
   "source": [
    "name_tuple = ('가연', '지훈', '지희')\n",
    "name_tuple"
   ]
  },
  {
   "cell_type": "code",
   "execution_count": 37,
   "id": "4dc6ce84-6c53-4d45-93f8-07accf50c656",
   "metadata": {},
   "outputs": [
    {
     "data": {
      "text/plain": [
       "['가연', '지훈', '지희', '유석']"
      ]
     },
     "execution_count": 37,
     "metadata": {},
     "output_type": "execute_result"
    }
   ],
   "source": [
    "name_lst = list(name_tuple)\n",
    "name_lst.append('유석')\n",
    "name_lst"
   ]
  },
  {
   "cell_type": "code",
   "execution_count": 38,
   "id": "fcf009ca-3327-46d5-9149-c3ec301d1e13",
   "metadata": {},
   "outputs": [
    {
     "data": {
      "text/plain": [
       "('가연', '지훈', '지희', '유석')"
      ]
     },
     "execution_count": 38,
     "metadata": {},
     "output_type": "execute_result"
    }
   ],
   "source": [
    "name_tuple = tuple(name_lst)\n",
    "name_tuple"
   ]
  },
  {
   "cell_type": "code",
   "execution_count": 39,
   "id": "5a8dd504-a2df-4363-8549-becbe08e5b1f",
   "metadata": {},
   "outputs": [
    {
     "data": {
      "text/plain": [
       "['__add__',\n",
       " '__class__',\n",
       " '__class_getitem__',\n",
       " '__contains__',\n",
       " '__delattr__',\n",
       " '__dir__',\n",
       " '__doc__',\n",
       " '__eq__',\n",
       " '__format__',\n",
       " '__ge__',\n",
       " '__getattribute__',\n",
       " '__getitem__',\n",
       " '__getnewargs__',\n",
       " '__getstate__',\n",
       " '__gt__',\n",
       " '__hash__',\n",
       " '__init__',\n",
       " '__init_subclass__',\n",
       " '__iter__',\n",
       " '__le__',\n",
       " '__len__',\n",
       " '__lt__',\n",
       " '__mul__',\n",
       " '__ne__',\n",
       " '__new__',\n",
       " '__reduce__',\n",
       " '__reduce_ex__',\n",
       " '__repr__',\n",
       " '__rmul__',\n",
       " '__setattr__',\n",
       " '__sizeof__',\n",
       " '__str__',\n",
       " '__subclasshook__',\n",
       " 'count',\n",
       " 'index']"
      ]
     },
     "execution_count": 39,
     "metadata": {},
     "output_type": "execute_result"
    }
   ],
   "source": [
    "dir (name_tuple)"
   ]
  },
  {
   "cell_type": "code",
   "execution_count": 46,
   "id": "f4bbb7f5-6d55-40cd-ac14-ae00da46216f",
   "metadata": {},
   "outputs": [
    {
     "data": {
      "text/plain": [
       "(('a', 'b', 'c', 'd'), ('a', 'b', 'c', 'a', 'b', 'c', 'a', 'b', 'c'))"
      ]
     },
     "execution_count": 46,
     "metadata": {},
     "output_type": "execute_result"
    }
   ],
   "source": [
    "#__add__ +\n",
    "team_name = ('a', 'b', 'c')\n",
    "add_team = ('d',)\n",
    "new_team = team_name + add_team # new_team = team_name.__add__(add_team)\n",
    "\n",
    "#__mul__ *\n",
    "team_name1 = ('a', 'b', 'c')\n",
    "new_team2 = team_name1.__mul__(3)\n",
    "\n",
    "new_team, new_team2"
   ]
  },
  {
   "cell_type": "code",
   "execution_count": 47,
   "id": "220f73e4-0732-475e-a8fd-7aa5aa41e233",
   "metadata": {},
   "outputs": [
    {
     "data": {
      "text/plain": [
       "'a'"
      ]
     },
     "execution_count": 47,
     "metadata": {},
     "output_type": "execute_result"
    }
   ],
   "source": [
    "new_team[0]"
   ]
  },
  {
   "cell_type": "markdown",
   "id": "0a5948fc-c873-46d5-aa55-6b10c2781dce",
   "metadata": {},
   "source": [
    "# 집합 (set)\n",
    "set(), {}\n",
    "중복이 안된다, 순서/키도 없다\n",
    "속도가 빠르다 "
   ]
  },
  {
   "cell_type": "code",
   "execution_count": 48,
   "id": "1d9873e3-fc74-4249-9c3d-a45163094025",
   "metadata": {},
   "outputs": [
    {
     "data": {
      "text/plain": [
       "{1, 2.3}"
      ]
     },
     "execution_count": 48,
     "metadata": {},
     "output_type": "execute_result"
    }
   ],
   "source": [
    "s = set({1,2.3})\n",
    "s"
   ]
  },
  {
   "cell_type": "code",
   "execution_count": 50,
   "id": "570358f2-78e3-427c-b917-d5a7c277cca3",
   "metadata": {},
   "outputs": [
    {
     "data": {
      "text/plain": [
       "{1, 2, 3}"
      ]
     },
     "execution_count": 50,
     "metadata": {},
     "output_type": "execute_result"
    }
   ],
   "source": [
    "s1 = {1,2,3}\n",
    "s1"
   ]
  },
  {
   "cell_type": "code",
   "execution_count": 52,
   "id": "283c3b32-2550-4080-a5bb-9b7f9e53982a",
   "metadata": {},
   "outputs": [
    {
     "data": {
      "text/plain": [
       "{1, 2, 3}"
      ]
     },
     "execution_count": 52,
     "metadata": {},
     "output_type": "execute_result"
    }
   ],
   "source": [
    "s2 = {1,2,3,1}\n",
    "s2 #중복을 제외한 것들을 꺼낸다"
   ]
  },
  {
   "cell_type": "code",
   "execution_count": 61,
   "id": "a69de207-c0bb-4819-aa6a-730b46eff3c2",
   "metadata": {},
   "outputs": [
    {
     "data": {
      "text/plain": [
       "[1, 2, 3, 1, 2, 3]"
      ]
     },
     "execution_count": 61,
     "metadata": {},
     "output_type": "execute_result"
    }
   ],
   "source": [
    "l2 = [1,2,3]\n",
    "l2 = l2*2\n",
    "l2"
   ]
  },
  {
   "cell_type": "code",
   "execution_count": 62,
   "id": "f6158427-5cc8-40a1-82dd-64dc9129bf43",
   "metadata": {},
   "outputs": [
    {
     "data": {
      "text/plain": [
       "{1, 2, 3}"
      ]
     },
     "execution_count": 62,
     "metadata": {},
     "output_type": "execute_result"
    }
   ],
   "source": [
    "#set으로 중복을 제거한다\n",
    "s3 = set(l2)\n",
    "s3"
   ]
  },
  {
   "cell_type": "code",
   "execution_count": 63,
   "id": "81fa8a0b-3223-43d3-802a-58cbc72bd244",
   "metadata": {},
   "outputs": [
    {
     "data": {
      "text/plain": [
       "[1, 2, 3, 1, 2, 3, 4, 5, 6]"
      ]
     },
     "execution_count": 63,
     "metadata": {},
     "output_type": "execute_result"
    }
   ],
   "source": [
    "l3 = l2+[4,5,6]\n",
    "l3"
   ]
  },
  {
   "cell_type": "code",
   "execution_count": 64,
   "id": "3090b46d-2760-4803-8e32-6ddae400b0a8",
   "metadata": {},
   "outputs": [
    {
     "data": {
      "text/plain": [
       "[1, 2, 3, 1, 2, 3, [4, 5, 6]]"
      ]
     },
     "execution_count": 64,
     "metadata": {},
     "output_type": "execute_result"
    }
   ],
   "source": [
    "l2.append([4,5,6])\n",
    "l2"
   ]
  },
  {
   "cell_type": "code",
   "execution_count": 81,
   "id": "1324a03a-4e3d-4e4e-b67b-9981fa789022",
   "metadata": {},
   "outputs": [
    {
     "data": {
      "text/plain": [
       "-1020678816333361838"
      ]
     },
     "execution_count": 81,
     "metadata": {},
     "output_type": "execute_result"
    }
   ],
   "source": [
    "hash('hi') # hash code 값 > hashing 가능 '문자열'"
   ]
  },
  {
   "cell_type": "code",
   "execution_count": 67,
   "id": "3904b397-d7be-4ebd-b687-e0d8050dc23c",
   "metadata": {},
   "outputs": [
    {
     "data": {
      "text/plain": [
       "123"
      ]
     },
     "execution_count": 67,
     "metadata": {},
     "output_type": "execute_result"
    }
   ],
   "source": [
    "hash(123) #hashing 가능 int, float, boolean"
   ]
  },
  {
   "cell_type": "code",
   "execution_count": 88,
   "id": "f7f57592-c62c-41c9-9df4-d3ed5b194363",
   "metadata": {},
   "outputs": [
    {
     "data": {
      "text/plain": [
       "{123, 'hi'}"
      ]
     },
     "execution_count": 88,
     "metadata": {},
     "output_type": "execute_result"
    }
   ],
   "source": [
    "set(['hi', 123]) #해싱으로 바뀐 값을 저장 > 집합 연산\n"
   ]
  },
  {
   "cell_type": "code",
   "execution_count": 136,
   "id": "92ca5e98-4aaa-4f9c-9e74-599c01d4ce89",
   "metadata": {
    "scrolled": true
   },
   "outputs": [
    {
     "data": {
      "text/plain": [
       "\"\\nl1 = [1,2,3]\\nhash(l1) #unhashable type: 'list'\\n\""
      ]
     },
     "execution_count": 136,
     "metadata": {},
     "output_type": "execute_result"
    }
   ],
   "source": [
    "'''\n",
    "l1 = [1,2,3]\n",
    "hash(l1) #unhashable type: 'list'\n",
    "'''"
   ]
  },
  {
   "cell_type": "code",
   "execution_count": 137,
   "id": "cb1f6e0b-327a-48bb-82d9-e38302107135",
   "metadata": {},
   "outputs": [],
   "source": [
    "#set([123,[1,2,3]])"
   ]
  },
  {
   "cell_type": "code",
   "execution_count": 70,
   "id": "b1fab77c-0f45-470a-9ac8-b4eb5133f94a",
   "metadata": {},
   "outputs": [],
   "source": [
    "#hash({1,2,3}) "
   ]
  },
  {
   "cell_type": "markdown",
   "id": "0ef7176f-9586-4591-94b7-423f08033050",
   "metadata": {},
   "source": [
    "# set 집합 연산\n",
    "\n",
    "- 교집합 & , intersection()\n",
    "- 합지합 | , union()\n",
    "- 차집합 - , difference()\n",
    "\n",
    "e.g)   \n",
    "s = set([1,2,3,4])   \n",
    "x = {2,3,4}   \n",
    "y = {3,4,5}   \n",
    "\n",
    "x & y > {3, 4}   \n",
    "s | x > {1, 2, 3, 4}   \n",
    "x - y > {2}   "
   ]
  },
  {
   "cell_type": "code",
   "execution_count": 74,
   "id": "65b4fe2b-83c8-487c-811a-5bc2181fe00d",
   "metadata": {},
   "outputs": [],
   "source": [
    "s = set([1,2,3,4])\n",
    "x = {2,3,4}\n",
    "y = {3,4,5}"
   ]
  },
  {
   "cell_type": "code",
   "execution_count": 92,
   "id": "2d289a81-2788-4526-8e86-e40466a2b400",
   "metadata": {},
   "outputs": [
    {
     "data": {
      "text/plain": [
       "{3, 4}"
      ]
     },
     "execution_count": 92,
     "metadata": {},
     "output_type": "execute_result"
    }
   ],
   "source": [
    "x & y"
   ]
  },
  {
   "cell_type": "code",
   "execution_count": 80,
   "id": "b098806b-ca48-4aba-ad7e-bd7927945780",
   "metadata": {},
   "outputs": [
    {
     "data": {
      "text/plain": [
       "{1, 2, 3, 4}"
      ]
     },
     "execution_count": 80,
     "metadata": {},
     "output_type": "execute_result"
    }
   ],
   "source": [
    "s | x\n",
    "s.union(x)"
   ]
  },
  {
   "cell_type": "code",
   "execution_count": 78,
   "id": "36258a30-55c8-438d-b00c-e44b63f77cbf",
   "metadata": {},
   "outputs": [
    {
     "data": {
      "text/plain": [
       "{2}"
      ]
     },
     "execution_count": 78,
     "metadata": {},
     "output_type": "execute_result"
    }
   ],
   "source": [
    "x - y"
   ]
  },
  {
   "cell_type": "code",
   "execution_count": 94,
   "id": "6265054e-fa78-4f49-99fd-ba2586673435",
   "metadata": {},
   "outputs": [
    {
     "data": {
      "text/plain": [
       "110"
      ]
     },
     "execution_count": 94,
     "metadata": {},
     "output_type": "execute_result"
    }
   ],
   "source": [
    "#1. 리스트 numbers가 다음과 같을 때, 첫 번째 원소와 마지막 원소의 합을 구하는 코드를 작성하세요.\n",
    "\n",
    "numbers = [10, 20,  30,  40,  50,  60, 70, 80, 90, 100]\n",
    "\n",
    "result = numbers[0]+numbers[-1]\n",
    "result"
   ]
  },
  {
   "cell_type": "code",
   "execution_count": 97,
   "id": "e08785ed-0a5a-4a61-b723-1bf5f846f753",
   "metadata": {},
   "outputs": [
    {
     "data": {
      "text/plain": [
       "['red', 'green', 'blue', 'orange', 'black']"
      ]
     },
     "execution_count": 97,
     "metadata": {},
     "output_type": "execute_result"
    }
   ],
   "source": [
    "#2. 리스트 colors가 다음과 같을 때, 첫 3개 원소와 마지막 2개 원소를 슬라이싱을 사용하여 출력하는 코드를 작성하세요.\n",
    "colors = [\"red\", \"green\", \"blue\", \"yellow\", \"purple\", \"orange\", \"black\"]\n",
    "\n",
    "result = colors[:3]+colors[-2:]\n",
    "result"
   ]
  },
  {
   "cell_type": "code",
   "execution_count": 127,
   "id": "8323606a-ea22-4c0c-b8b6-bb7d06f3a7fb",
   "metadata": {},
   "outputs": [
    {
     "data": {
      "text/plain": [
       "'korean'"
      ]
     },
     "execution_count": 127,
     "metadata": {},
     "output_type": "execute_result"
    }
   ],
   "source": [
    "#3.다음 리스트에서 \"korean\"이라는 문자열을 찾아 출력하는 코드를 작성하세요. - indexing\n",
    "\n",
    "list_a = [\n",
    "    [1, 2, 3],\n",
    "    [\"red\", \"green\", \"blue\"],\n",
    "    [False, \"korean\", True]\n",
    "]\n",
    "\n",
    "result = list_a[-1][1]\n",
    "result"
   ]
  },
  {
   "cell_type": "code",
   "execution_count": 129,
   "id": "0b109fd4-cae5-4b5c-b580-4eb0a041c267",
   "metadata": {},
   "outputs": [
    {
     "name": "stdout",
     "output_type": "stream",
     "text": [
      "korean\n"
     ]
    }
   ],
   "source": [
    "for sub in list_a:\n",
    "    for item in sub:\n",
    "        if item == \"korean\":\n",
    "            print(item)"
   ]
  },
  {
   "cell_type": "code",
   "execution_count": 101,
   "id": "19f8883e-2f10-486a-b756-8c6cff208937",
   "metadata": {},
   "outputs": [
    {
     "data": {
      "text/plain": [
       "[1, 2, 3, 4, 5, 6]"
      ]
     },
     "execution_count": 101,
     "metadata": {},
     "output_type": "execute_result"
    }
   ],
   "source": [
    "#4. 리스트 list_a과 list_b가 다음과 같을 때, 두 리스트를 합쳐서 새로운 리스트 list_c를 만드는 코드를 작성하세요.\n",
    "\n",
    "list_a = [1, 2, 3]\n",
    "list_b = [4, 5, 6]\n",
    "\n",
    "list_c = list_a+list_b\n",
    "list_c"
   ]
  },
  {
   "cell_type": "code",
   "execution_count": 105,
   "id": "fc750092-2ca7-4cfa-bae5-4b2fbffe1438",
   "metadata": {},
   "outputs": [
    {
     "data": {
      "text/plain": [
       "('apple', 'blueberry', 'cherry')"
      ]
     },
     "execution_count": 105,
     "metadata": {},
     "output_type": "execute_result"
    }
   ],
   "source": [
    "#5. 아래의 튜플 tuple_a에서 \"banana\"를 \"blueberry\"로 변경하는 코드를 작성하세요.\n",
    "\n",
    "tuple_a = (\"apple\", \"banana\", \"cherry\")\n",
    "lst_a = list(tuple_a)\n",
    "lst_a[1] = 'blueberry'\n",
    "tuple_a = tuple(lst_a)\n",
    "tuple_a"
   ]
  },
  {
   "cell_type": "code",
   "execution_count": 109,
   "id": "d39be6ae-19a1-4e8b-913c-25a4d857f2fa",
   "metadata": {},
   "outputs": [
    {
     "data": {
      "text/plain": [
       "((5, 10, 15), tuple)"
      ]
     },
     "execution_count": 109,
     "metadata": {},
     "output_type": "execute_result"
    }
   ],
   "source": [
    "# 6. 변수 a, b, c의 값을 사용하여 튜플 tuple_a를 생성하고 출력하는 코드를 작성하세요.\n",
    "a = 5\n",
    "b = 10\n",
    "c = 15\n",
    "\n",
    "tuple_a = (a,b,c)\n",
    "tuple_a, type(tuple_a)"
   ]
  },
  {
   "cell_type": "code",
   "execution_count": 112,
   "id": "0e457fe6-478f-4fb4-8d64-ce4cf4161141",
   "metadata": {},
   "outputs": [
    {
     "data": {
      "text/plain": [
       "(92, 19)"
      ]
     },
     "execution_count": 112,
     "metadata": {},
     "output_type": "execute_result"
    }
   ],
   "source": [
    "#7. 튜플 numbers가 주어졌을 때, 튜플의 최대값과 최소값을 출력하는 코드를 작성하세요.\n",
    "\n",
    "numbers = (92, 89, 72, 31, 71, 33, 19)\n",
    "\n",
    "max_nums = max(numbers)\n",
    "min_nums = min(numbers)\n",
    "\n",
    "max_nums, min_nums"
   ]
  },
  {
   "cell_type": "code",
   "execution_count": 119,
   "id": "b573cde4-68b8-4c7c-b6c6-b0fa2f164409",
   "metadata": {},
   "outputs": [
    {
     "name": "stdout",
     "output_type": "stream",
     "text": [
      "name: Alice\n",
      "age: 24\n",
      "major: Computer Science\n"
     ]
    }
   ],
   "source": [
    "#8. dict 타입의 student(변수명)를 생성하고, 아래의 키-값 쌍을 추가하는 코드를 작성하세요.\n",
    "student = {\"name\": \"Alice\",\n",
    "           \"age\": 24,\n",
    "           \"major\": \"Computer Science\"}\n",
    "\n",
    "#9. 위에서 생성한 student에서, 모든 키와 값을 출력하는 코드를 작성하세요\n",
    "for key, value in student.items():\n",
    "    print(f\"{key}: {value}\")\n",
    "\n",
    "#10. 위에서 생성한 student에서, age(나이)를 26으로 변경하세요\n",
    "student[\"age\"] = 26\n"
   ]
  },
  {
   "cell_type": "code",
   "execution_count": 131,
   "id": "522104f9-e7fd-4653-949c-297906b8c443",
   "metadata": {},
   "outputs": [
    {
     "name": "stdout",
     "output_type": "stream",
     "text": [
      "이름 리스트: ['Alice', 'Bob', 'Charlie']\n",
      "나이 튜플: (24, 22, 23)\n"
     ]
    }
   ],
   "source": [
    "#11. 다음 딕셔너리 students에서 name의 값을 리스트(name_list)로, age의 값을 튜플(age_tuple) 만드는 코드를 작성하세요\n",
    "\n",
    "students = {\n",
    "    \"student1\": {\"name\": \"Alice\", \"age\": 24},\n",
    "    \"student2\": {\"name\": \"Bob\", \"age\": 22},\n",
    "    \"student3\": {\"name\": \"Charlie\", \"age\": 23}\n",
    "}\n",
    "\n",
    "# name 값을 리스트로\n",
    "name_list = []\n",
    "age_lst = []\n",
    "for info in students.values():\n",
    "    name_list.append(info[\"name\"])\n",
    "    age_lst.append(info[\"age\"])\n",
    "# name_list = [info[\"name\"] for info in students.values()]\n",
    "\n",
    "# age 값을 튜플로\n",
    "age_tuple = tuple(age_lst)\n",
    "\n",
    "print(\"이름 리스트:\", name_list)\n",
    "print(\"나이 튜플:\", age_tuple)"
   ]
  },
  {
   "cell_type": "code",
   "execution_count": 135,
   "id": "893ece7b-df9a-4d41-b395-b4c0eb97de24",
   "metadata": {},
   "outputs": [
    {
     "data": {
      "text/plain": [
       "(['Alice', 'Bob', 'Charlie'], (24, 22, 23))"
      ]
     },
     "execution_count": 135,
     "metadata": {},
     "output_type": "execute_result"
    }
   ],
   "source": [
    "name_list2 = []\n",
    "age_lst2 = []\n",
    "for key in students.keys():\n",
    "    stu = students[key]\n",
    "    name_list2.append(stu[\"name\"])\n",
    "    age_lst2.append(stu[\"age\"])\n",
    "\n",
    "age_tuple2 = tuple(age_lst2)\n",
    "name_list2, age_tuple2"
   ]
  },
  {
   "cell_type": "code",
   "execution_count": null,
   "id": "6080588f-dde6-4225-b9dc-53b542f47979",
   "metadata": {},
   "outputs": [],
   "source": []
  }
 ],
 "metadata": {
  "kernelspec": {
   "display_name": "Python 3 (ipykernel)",
   "language": "python",
   "name": "python3"
  },
  "language_info": {
   "codemirror_mode": {
    "name": "ipython",
    "version": 3
   },
   "file_extension": ".py",
   "mimetype": "text/x-python",
   "name": "python",
   "nbconvert_exporter": "python",
   "pygments_lexer": "ipython3",
   "version": "3.12.1"
  }
 },
 "nbformat": 4,
 "nbformat_minor": 5
}
