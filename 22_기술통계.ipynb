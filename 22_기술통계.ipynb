{
 "cells": [
  {
   "cell_type": "code",
   "execution_count": 1,
   "id": "3affdde0",
   "metadata": {},
   "outputs": [],
   "source": [
    "# pip install scipy"
   ]
  },
  {
   "cell_type": "code",
   "execution_count": 2,
   "id": "ae76fd2d",
   "metadata": {},
   "outputs": [
    {
     "name": "stdout",
     "output_type": "stream",
     "text": [
      "30.0\n"
     ]
    }
   ],
   "source": [
    "import numpy as np\n",
    "# 산술평균\n",
    "data = [10, 20, 30, 40, 50]\n",
    "mean_value = np.mean(data)\n",
    "print(mean_value)  # 30.0"
   ]
  },
  {
   "cell_type": "code",
   "execution_count": 3,
   "id": "84c3fe7f",
   "metadata": {},
   "outputs": [
    {
     "data": {
      "text/plain": [
       "np.float64(26.051710846973528)"
      ]
     },
     "execution_count": 3,
     "metadata": {},
     "output_type": "execute_result"
    }
   ],
   "source": [
    "# 기하평균 \n",
    "from scipy.stats import hmean, gmean\n",
    "gmean(data)"
   ]
  },
  {
   "cell_type": "code",
   "execution_count": 4,
   "id": "0eb9072e",
   "metadata": {},
   "outputs": [
    {
     "data": {
      "text/plain": [
       "np.float64(21.8978102189781)"
      ]
     },
     "execution_count": 4,
     "metadata": {},
     "output_type": "execute_result"
    }
   ],
   "source": [
    "#조홮 평균\n",
    "hmean(data)"
   ]
  },
  {
   "cell_type": "code",
   "execution_count": 5,
   "id": "2fd65909",
   "metadata": {},
   "outputs": [
    {
     "data": {
      "text/plain": [
       "np.float64(5800.0)"
      ]
     },
     "execution_count": 5,
     "metadata": {},
     "output_type": "execute_result"
    }
   ],
   "source": [
    "# 가중평균 (weighted mean)\n",
    "# 5천원짜리 상품 8개와 9천원짜리 상품 2개를 구입했을 때 평균 구매값은\n",
    "(5000 * 8 + 9000 * 2) / (8 + 2)\n",
    "\n",
    "# 가격, 개수 \n",
    "prices = [5000, 9000]\n",
    "counts = [8, 2]\n",
    "\n",
    "np.average(prices, weights=counts)"
   ]
  },
  {
   "cell_type": "code",
   "execution_count": 6,
   "id": "8a0fb66c",
   "metadata": {},
   "outputs": [],
   "source": [
    "# 대표값 - 중앙값 \n"
   ]
  },
  {
   "cell_type": "code",
   "execution_count": 7,
   "id": "586ef65f",
   "metadata": {},
   "outputs": [
    {
     "data": {
      "text/plain": [
       "[10, 20, 30, 40, 50]"
      ]
     },
     "execution_count": 7,
     "metadata": {},
     "output_type": "execute_result"
    }
   ],
   "source": [
    "data"
   ]
  },
  {
   "cell_type": "code",
   "execution_count": 8,
   "id": "b4e388b6",
   "metadata": {},
   "outputs": [
    {
     "data": {
      "text/plain": [
       "(np.float64(75.0), np.float64(80.0), np.float64(85.0))"
      ]
     },
     "execution_count": 8,
     "metadata": {},
     "output_type": "execute_result"
    }
   ],
   "source": [
    "import numpy as np\n",
    "scores = [65,75,80,85,95]\n",
    "p25 = np.percentile(scores, 25) #Q1\n",
    "p50 = np.percentile(scores, 50) #median\n",
    "p75 = np.percentile(scores, 75) #Q3\n",
    "\n",
    "p25, p50, p75"
   ]
  },
  {
   "cell_type": "code",
   "execution_count": 9,
   "id": "75d4eab4",
   "metadata": {},
   "outputs": [],
   "source": [
    "# IQR : Q3 - Q1\n",
    "scores = [65,75,80,85,95]"
   ]
  },
  {
   "cell_type": "markdown",
   "id": "0394f569",
   "metadata": {},
   "source": [
    "중앙값, 분위수는 개수를 중요시하는 통계량 \n",
    "이상값/극단적인 값이 중요하지 않다 "
   ]
  },
  {
   "cell_type": "code",
   "execution_count": 10,
   "id": "caf2fdd8",
   "metadata": {},
   "outputs": [
    {
     "name": "stdout",
     "output_type": "stream",
     "text": [
      "0    3\n",
      "dtype: int64\n"
     ]
    }
   ],
   "source": [
    "# 최빈값 \n",
    "import pandas as pd\n",
    "\n",
    "data = pd.Series([1, 2, 2, 3, 3, 3, 4, 4])\n",
    "mode_value = data.mode()\n",
    "print(mode_value)  # 3 (가장 많이 등장한 값)"
   ]
  },
  {
   "cell_type": "markdown",
   "id": "1aef2b0d",
   "metadata": {},
   "source": [
    "범위의 계산 > 변동성을 측정하는 일반\n",
    "지표 > 극단적인 값에 민감 \n",
    "\n",
    "- 최대/최소 2개의 값만 사용\n",
    "- 개별점수들이 다른 정수들과 얼마나 차이가 있나 \n",
    "- 실제 데이터가 어떤 값들로 구성되어있는지를 설명할 수 있다 "
   ]
  },
  {
   "cell_type": "code",
   "execution_count": null,
   "id": "064ef6ec",
   "metadata": {},
   "outputs": [
    {
     "name": "stdout",
     "output_type": "stream",
     "text": [
      "40\n"
     ]
    }
   ],
   "source": [
    "\n",
    "data = [10, 20, 30, 40, 50]\n",
    "range_value = max(data) - min(data)\n",
    "print(range_value)  # 40"
   ]
  },
  {
   "cell_type": "code",
   "execution_count": 19,
   "id": "0ad12a28",
   "metadata": {},
   "outputs": [
    {
     "data": {
      "text/plain": [
       "<matplotlib.collections.PathCollection at 0x24a9e32ce90>"
      ]
     },
     "execution_count": 19,
     "metadata": {},
     "output_type": "execute_result"
    },
    {
     "data": {
      "image/png": "[encoded data removed]",
      "text/plain": [
       "<Figure size 640x480 with 1 Axes>"
      ]
     },
     "metadata": {},
     "output_type": "display_data"
    }
   ],
   "source": [
    "import matplotlib.pyplot as plt \n",
    "plt.scatter(data, np.zeros_like(data))"
   ]
  },
  {
   "cell_type": "code",
   "execution_count": 21,
   "id": "1f5afc4d",
   "metadata": {},
   "outputs": [
    {
     "data": {
      "text/html": [
       "<div>\n",
       "<style scoped>\n",
       "    .dataframe tbody tr th:only-of-type {\n",
       "        vertical-align: middle;\n",
       "    }\n",
       "\n",
       "    .dataframe tbody tr th {\n",
       "        vertical-align: top;\n",
       "    }\n",
       "\n",
       "    .dataframe thead th {\n",
       "        text-align: right;\n",
       "    }\n",
       "</style>\n",
       "<table border=\"1\" class=\"dataframe\">\n",
       "  <thead>\n",
       "    <tr style=\"text-align: right;\">\n",
       "      <th></th>\n",
       "      <th>sepal_length</th>\n",
       "      <th>sepal_width</th>\n",
       "      <th>petal_length</th>\n",
       "      <th>petal_width</th>\n",
       "      <th>species</th>\n",
       "    </tr>\n",
       "  </thead>\n",
       "  <tbody>\n",
       "    <tr>\n",
       "      <th>0</th>\n",
       "      <td>5.1</td>\n",
       "      <td>3.5</td>\n",
       "      <td>1.4</td>\n",
       "      <td>0.2</td>\n",
       "      <td>setosa</td>\n",
       "    </tr>\n",
       "    <tr>\n",
       "      <th>1</th>\n",
       "      <td>4.9</td>\n",
       "      <td>3.0</td>\n",
       "      <td>1.4</td>\n",
       "      <td>0.2</td>\n",
       "      <td>setosa</td>\n",
       "    </tr>\n",
       "    <tr>\n",
       "      <th>2</th>\n",
       "      <td>4.7</td>\n",
       "      <td>3.2</td>\n",
       "      <td>1.3</td>\n",
       "      <td>0.2</td>\n",
       "      <td>setosa</td>\n",
       "    </tr>\n",
       "    <tr>\n",
       "      <th>3</th>\n",
       "      <td>4.6</td>\n",
       "      <td>3.1</td>\n",
       "      <td>1.5</td>\n",
       "      <td>0.2</td>\n",
       "      <td>setosa</td>\n",
       "    </tr>\n",
       "    <tr>\n",
       "      <th>4</th>\n",
       "      <td>5.0</td>\n",
       "      <td>3.6</td>\n",
       "      <td>1.4</td>\n",
       "      <td>0.2</td>\n",
       "      <td>setosa</td>\n",
       "    </tr>\n",
       "  </tbody>\n",
       "</table>\n",
       "</div>"
      ],
      "text/plain": [
       "   sepal_length  sepal_width  petal_length  petal_width species\n",
       "0           5.1          3.5           1.4          0.2  setosa\n",
       "1           4.9          3.0           1.4          0.2  setosa\n",
       "2           4.7          3.2           1.3          0.2  setosa\n",
       "3           4.6          3.1           1.5          0.2  setosa\n",
       "4           5.0          3.6           1.4          0.2  setosa"
      ]
     },
     "execution_count": 21,
     "metadata": {},
     "output_type": "execute_result"
    }
   ],
   "source": [
    "import seaborn as sns\n",
    "vp_df = sns.load_dataset('iris')\n",
    "vp_df.head()"
   ]
  },
  {
   "cell_type": "code",
   "execution_count": 27,
   "id": "2315f27b",
   "metadata": {},
   "outputs": [
    {
     "name": "stdout",
     "output_type": "stream",
     "text": [
      "sepal_length range: 3.6000000000000005\n",
      "sepal_width range: 2.4000000000000004\n",
      "petal_length range: 5.9\n",
      "petal_width range: 2.4\n"
     ]
    }
   ],
   "source": [
    "# sepal_legth의 범위\n",
    "vp_df['sepal_length'].max() - vp_df['sepal_length'].min()\n",
    "\n",
    "for col in vp_df.select_dtypes(include='number').columns:\n",
    "     col_range = vp_df[col].max() - vp_df[col].min()\n",
    "     print(f'{col} range: {col_range}')\n"
   ]
  },
  {
   "cell_type": "markdown",
   "id": "8de2770d",
   "metadata": {},
   "source": [
    "변동성이 가장 큰 속성은 petal_length입니다.   \n",
    "petal_length와 petal_width가 sepal_length와 \n",
    "sepal_width 보다 상대적으로 변동성이 큽니다.\n",
    "\n",
    "모델 생성시에 다루어야하는 속성으로 볼 수 있습니다. "
   ]
  },
  {
   "cell_type": "code",
   "execution_count": 36,
   "id": "4fa21270",
   "metadata": {},
   "outputs": [
    {
     "data": {
      "text/plain": [
       "Text(0.5, 1.0, 'petal_length vs petal_width')"
      ]
     },
     "execution_count": 36,
     "metadata": {},
     "output_type": "execute_result"
    },
    {
     "data": {
      "image/png": "[encoded data removed]",
      "text/plain": [
       "<Figure size 640x480 with 1 Axes>"
      ]
     },
     "metadata": {},
     "output_type": "display_data"
    }
   ],
   "source": [
    "# petal_length와 petal_width\n",
    "plt.scatter(vp_df['petal_length'], vp_df['petal_width'])\n",
    "plt.xlabel('petal_length')\n",
    "plt.ylabel('petal_width')\n",
    "plt.title('petal_length vs petal_width')"
   ]
  },
  {
   "cell_type": "code",
   "execution_count": 37,
   "id": "89852a81",
   "metadata": {},
   "outputs": [
    {
     "data": {
      "text/plain": [
       "Text(0.5, 1.0, 'sepal_length vs sepal_width')"
      ]
     },
     "execution_count": 37,
     "metadata": {},
     "output_type": "execute_result"
    },
    {
     "data": {
      "image/png": "[encoded data removed]",
      "text/plain": [
       "<Figure size 640x480 with 1 Axes>"
      ]
     },
     "metadata": {},
     "output_type": "display_data"
    }
   ],
   "source": [
    "# sepal_length, sepal_width\n",
    "plt.scatter(vp_df['sepal_length'], vp_df['sepal_width'])\n",
    "plt.xlabel('sepal_length')\n",
    "plt.ylabel('sepal_width')\n",
    "plt.title('sepal_length vs sepal_width')"
   ]
  },
  {
   "cell_type": "markdown",
   "id": "9f13bb39",
   "metadata": {},
   "source": [
    "산포도를 이용해 극단적인 다른 데이터(이상치)가 있는지를 확인해야 한다."
   ]
  },
  {
   "cell_type": "markdown",
   "id": "108040f8",
   "metadata": {},
   "source": [
    "# 분산 variance \n"
   ]
  },
  {
   "cell_type": "code",
   "execution_count": null,
   "id": "a0d8b965",
   "metadata": {},
   "outputs": [
    {
     "name": "stdout",
     "output_type": "stream",
     "text": [
      "200.0\n"
     ]
    }
   ],
   "source": [
    "data = [10,20,30,40,50]\n",
    "variance_value = np.var(data)\n",
    "print(variance_value)\n",
    "# 분산 값이 크면 평균과 각각의 값들이 멀리있다\n",
    "\n"
   ]
  },
  {
   "cell_type": "code",
   "execution_count": null,
   "id": "b4fe7363",
   "metadata": {},
   "outputs": [
    {
     "name": "stdout",
     "output_type": "stream",
     "text": [
      "14.142135623730951\n"
     ]
    }
   ],
   "source": [
    "# std\n",
    "import numpy as np\n",
    "\n",
    "std_dev = np.std(data)\n",
    "print(std_dev) "
   ]
  },
  {
   "cell_type": "code",
   "execution_count": 44,
   "id": "37aa958b",
   "metadata": {},
   "outputs": [],
   "source": [
    "# sd의 비교\n",
    "import numpy as np\n",
    "import matplotlib.pyplot as plt\n",
    "\n",
    "# 평균과 표준편차 설정\n",
    "mu = 100\n",
    "sd1 = 10\n",
    "sd2 = 50\n",
    "\n",
    "# 정규분포 데이터 생성\n",
    "data1 = np.random.normal(mu, sd1, 10000)\n",
    "data2 = np.random.normal(mu, sd2, 10000)"
   ]
  },
  {
   "cell_type": "code",
   "execution_count": 48,
   "id": "edc23a3a",
   "metadata": {},
   "outputs": [
    {
     "data": {
      "text/plain": [
       "(array([139., 191., 277., 315., 493., 549., 616., 751., 762., 812., 756.,\n",
       "        732., 724., 579., 512., 469., 335., 225., 182., 124.,  87.,  50.,\n",
       "         53.]),\n",
       " array([  0.,  10.,  20.,  30.,  40.,  50.,  60.,  70.,  80.,  90., 100.,\n",
       "        110., 120., 130., 140., 150., 160., 170., 180., 190., 200., 210.,\n",
       "        220., 230.]),\n",
       " <BarContainer object of 23 artists>)"
      ]
     },
     "execution_count": 48,
     "metadata": {},
     "output_type": "execute_result"
    },
    {
     "data": {
      "image/png": "[encoded data removed]",
      "text/plain": [
       "<Figure size 640x480 with 1 Axes>"
      ]
     },
     "metadata": {},
     "output_type": "display_data"
    }
   ],
   "source": [
    "# histogram\n",
    "bins = np.arange(0,240,10)\n",
    "plt.hist(data1, bins=bins, color='red', alpha=0.5)\n",
    "plt.hist(data2, bins=bins, color='blue', alpha=0.5)"
   ]
  },
  {
   "cell_type": "code",
   "execution_count": 57,
   "id": "13dc00bc",
   "metadata": {},
   "outputs": [
    {
     "data": {
      "text/plain": [
       "<matplotlib.lines.Line2D at 0x24aa40379b0>"
      ]
     },
     "execution_count": 57,
     "metadata": {},
     "output_type": "execute_result"
    },
    {
     "data": {
      "image/png": "[encoded data removed]",
      "text/plain": [
       "<Figure size 640x480 with 1 Axes>"
      ]
     },
     "metadata": {},
     "output_type": "display_data"
    }
   ],
   "source": [
    "# iris dataset 표준편자 비교\n",
    "# histogram\n",
    "data1 = vp_df['petal_length']\n",
    "data2 = vp_df['petal_width']\n",
    "data3 = vp_df['sepal_length']\n",
    "data4 = vp_df['sepal_width']\n",
    "# 공통 x축 범위 설정\n",
    "bins = np.linspace(\n",
    "    min(data1.min(), data2.min(), data3.min(), data4.min()),\n",
    "    max(data1.max(), data2.max(), data3.max(), data4.max()),\n",
    "    20\n",
    ")\n",
    "plt.hist(vp_df['petal_length'], bins=bins, color='red', alpha=0.5, label='petal_length')\n",
    "plt.hist(vp_df['petal_width'], bins=bins, color='blue', alpha=0.5, label='petal_width')\n",
    "plt.hist(vp_df['sepal_length'], bins=bins, color='green', alpha=0.5, label='sepal_length')\n",
    "plt.hist(vp_df['sepal_width'], bins=bins, color='yellow', alpha=0.5, label='sepal_width')\n",
    "\n",
    "plt.axvline(vp_df['petal_length'].mean(), color='red', linestyle='--')\n",
    "plt.axvline(vp_df['petal_width'].mean(), color='blue', linestyle='--')\n",
    "plt.axvline(vp_df['sepal_length'].mean(), color='green', linestyle='--')\n",
    "plt.axvline(vp_df['sepal_width'].mean(), color='yellow', linestyle='--')"
   ]
  },
  {
   "cell_type": "code",
   "execution_count": 59,
   "id": "5414cbc5",
   "metadata": {},
   "outputs": [
    {
     "data": {
      "text/html": [
       "<div>\n",
       "<style scoped>\n",
       "    .dataframe tbody tr th:only-of-type {\n",
       "        vertical-align: middle;\n",
       "    }\n",
       "\n",
       "    .dataframe tbody tr th {\n",
       "        vertical-align: top;\n",
       "    }\n",
       "\n",
       "    .dataframe thead th {\n",
       "        text-align: right;\n",
       "    }\n",
       "</style>\n",
       "<table border=\"1\" class=\"dataframe\">\n",
       "  <thead>\n",
       "    <tr style=\"text-align: right;\">\n",
       "      <th></th>\n",
       "      <th>Q1</th>\n",
       "      <th>Q3</th>\n",
       "      <th>IQR</th>\n",
       "    </tr>\n",
       "  </thead>\n",
       "  <tbody>\n",
       "    <tr>\n",
       "      <th>sepal_length</th>\n",
       "      <td>5.1</td>\n",
       "      <td>6.4</td>\n",
       "      <td>1.3</td>\n",
       "    </tr>\n",
       "    <tr>\n",
       "      <th>sepal_width</th>\n",
       "      <td>2.8</td>\n",
       "      <td>3.3</td>\n",
       "      <td>0.5</td>\n",
       "    </tr>\n",
       "    <tr>\n",
       "      <th>petal_length</th>\n",
       "      <td>1.6</td>\n",
       "      <td>5.1</td>\n",
       "      <td>3.5</td>\n",
       "    </tr>\n",
       "    <tr>\n",
       "      <th>petal_width</th>\n",
       "      <td>0.3</td>\n",
       "      <td>1.8</td>\n",
       "      <td>1.5</td>\n",
       "    </tr>\n",
       "  </tbody>\n",
       "</table>\n",
       "</div>"
      ],
      "text/plain": [
       "               Q1   Q3  IQR\n",
       "sepal_length  5.1  6.4  1.3\n",
       "sepal_width   2.8  3.3  0.5\n",
       "petal_length  1.6  5.1  3.5\n",
       "petal_width   0.3  1.8  1.5"
      ]
     },
     "execution_count": 59,
     "metadata": {},
     "output_type": "execute_result"
    }
   ],
   "source": [
    "numeric_df = vp_df.select_dtypes(include=['float64', 'int'])\n",
    "\n",
    "Q1 = numeric_df.quantile(0.25)\n",
    "Q3 = numeric_df.quantile(0.75)\n",
    "IQR = Q3 - Q1\n",
    "\n",
    "summ = pd.DataFrame({'Q1' : Q1,\n",
    "                     'Q3' : Q3,\n",
    "                     'IQR' : IQR})\n",
    "summ"
   ]
  },
  {
   "cell_type": "markdown",
   "id": "dffafb68",
   "metadata": {},
   "source": [
    "가장 분산이 큰 변수 : petal_length   \n",
    "가장 분산이 작은 변수: sepal_width   \n",
    "품종을 분류할 떄, petal_length가 민감하게 작용할 것이다.    \n",
    "식별력이 크다.   \n",
    "** IQR > 이상치의 허용범위가 크다    \n"
   ]
  },
  {
   "cell_type": "markdown",
   "id": "8ea657c4",
   "metadata": {},
   "source": [
    "# 분포의 모양, 형태\n",
    "\n",
    "- 모양이 정규분포인지   \n",
    "- 치우쳐져 있는가 / 좌/우, 위/아래\n",
    "- 특이한 패턴이 있는가 / 쌍봉"
   ]
  },
  {
   "cell_type": "markdown",
   "id": "8e0e2564",
   "metadata": {},
   "source": []
  },
  {
   "cell_type": "code",
   "execution_count": 62,
   "id": "aa4c7703",
   "metadata": {},
   "outputs": [
    {
     "data": {
      "text/html": [
       "<div>\n",
       "<style scoped>\n",
       "    .dataframe tbody tr th:only-of-type {\n",
       "        vertical-align: middle;\n",
       "    }\n",
       "\n",
       "    .dataframe tbody tr th {\n",
       "        vertical-align: top;\n",
       "    }\n",
       "\n",
       "    .dataframe thead th {\n",
       "        text-align: right;\n",
       "    }\n",
       "</style>\n",
       "<table border=\"1\" class=\"dataframe\">\n",
       "  <thead>\n",
       "    <tr style=\"text-align: right;\">\n",
       "      <th></th>\n",
       "      <th>A</th>\n",
       "      <th>B</th>\n",
       "      <th>C</th>\n",
       "      <th>D</th>\n",
       "      <th>E</th>\n",
       "    </tr>\n",
       "  </thead>\n",
       "  <tbody>\n",
       "    <tr>\n",
       "      <th>0</th>\n",
       "      <td>47</td>\n",
       "      <td>10</td>\n",
       "      <td>31</td>\n",
       "      <td>25</td>\n",
       "      <td>20</td>\n",
       "    </tr>\n",
       "    <tr>\n",
       "      <th>1</th>\n",
       "      <td>2</td>\n",
       "      <td>11</td>\n",
       "      <td>31</td>\n",
       "      <td>25</td>\n",
       "      <td>21</td>\n",
       "    </tr>\n",
       "    <tr>\n",
       "      <th>2</th>\n",
       "      <td>44</td>\n",
       "      <td>14</td>\n",
       "      <td>15</td>\n",
       "      <td>26</td>\n",
       "      <td>21</td>\n",
       "    </tr>\n",
       "    <tr>\n",
       "      <th>3</th>\n",
       "      <td>41</td>\n",
       "      <td>14</td>\n",
       "      <td>16</td>\n",
       "      <td>26</td>\n",
       "      <td>21</td>\n",
       "    </tr>\n",
       "    <tr>\n",
       "      <th>4</th>\n",
       "      <td>7</td>\n",
       "      <td>30</td>\n",
       "      <td>17</td>\n",
       "      <td>27</td>\n",
       "      <td>24</td>\n",
       "    </tr>\n",
       "    <tr>\n",
       "      <th>5</th>\n",
       "      <td>6</td>\n",
       "      <td>30</td>\n",
       "      <td>16</td>\n",
       "      <td>29</td>\n",
       "      <td>24</td>\n",
       "    </tr>\n",
       "    <tr>\n",
       "      <th>6</th>\n",
       "      <td>35</td>\n",
       "      <td>32</td>\n",
       "      <td>15</td>\n",
       "      <td>29</td>\n",
       "      <td>23</td>\n",
       "    </tr>\n",
       "    <tr>\n",
       "      <th>7</th>\n",
       "      <td>38</td>\n",
       "      <td>33</td>\n",
       "      <td>19</td>\n",
       "      <td>28</td>\n",
       "      <td>20</td>\n",
       "    </tr>\n",
       "    <tr>\n",
       "      <th>8</th>\n",
       "      <td>35</td>\n",
       "      <td>34</td>\n",
       "      <td>18</td>\n",
       "      <td>29</td>\n",
       "      <td>21</td>\n",
       "    </tr>\n",
       "    <tr>\n",
       "      <th>9</th>\n",
       "      <td>36</td>\n",
       "      <td>32</td>\n",
       "      <td>16</td>\n",
       "      <td>27</td>\n",
       "      <td>20</td>\n",
       "    </tr>\n",
       "  </tbody>\n",
       "</table>\n",
       "</div>"
      ],
      "text/plain": [
       "    A   B   C   D   E\n",
       "0  47  10  31  25  20\n",
       "1   2  11  31  25  21\n",
       "2  44  14  15  26  21\n",
       "3  41  14  16  26  21\n",
       "4   7  30  17  27  24\n",
       "5   6  30  16  29  24\n",
       "6  35  32  15  29  23\n",
       "7  38  33  19  28  20\n",
       "8  35  34  18  29  21\n",
       "9  36  32  16  27  20"
      ]
     },
     "execution_count": 62,
     "metadata": {},
     "output_type": "execute_result"
    }
   ],
   "source": [
    "import pandas as pd\n",
    "import numpy as np\n",
    "\n",
    "# 데이터 입력\n",
    "data = [\n",
    "    [47, 10, 31, 25, 20],\n",
    "    [2, 11, 31, 25, 21],\n",
    "    [44, 14, 15, 26, 21],\n",
    "    [41, 14, 16, 26, 21],\n",
    "    [7, 30, 17, 27, 24],\n",
    "    [6, 30, 16, 29, 24],\n",
    "    [35, 32, 15, 29, 23],\n",
    "    [38, 33, 19, 28, 20],\n",
    "    [35, 34, 18, 29, 21],\n",
    "    [36, 32, 16, 27, 20],\n",
    "]\n",
    "\n",
    "# DataFrame으로 변환\n",
    "df = pd.DataFrame(data, columns=['A', 'B', 'C', 'D', 'E'])\n",
    "df"
   ]
  },
  {
   "cell_type": "markdown",
   "id": "d2ca7f72",
   "metadata": {},
   "source": [
    "- 각 변수의 분포 형태 : 5개의 변수\n",
    "- 값의 범위, 도수가 많은 구간 (count) 빈도 \n",
    "- 이상치 유무 "
   ]
  },
  {
   "cell_type": "code",
   "execution_count": 65,
   "id": "1e926ae2",
   "metadata": {},
   "outputs": [
    {
     "data": {
      "image/png": "[encoded data removed]",
      "text/plain": [
       "<Figure size 640x480 with 1 Axes>"
      ]
     },
     "metadata": {},
     "output_type": "display_data"
    }
   ],
   "source": [
    "# 각 속성별로 히스토그램\n",
    "for col in df.columns:\n",
    "    plt.hist(df[col])"
   ]
  },
  {
   "cell_type": "code",
   "execution_count": 69,
   "id": "d4af06eb",
   "metadata": {},
   "outputs": [
    {
     "data": {
      "text/plain": [
       "(np.float64(-1.3955358863990055),\n",
       " np.float64(-1.336067405231553),\n",
       " np.float64(-0.5735679489249765),\n",
       " np.float64(0.18097631752246768))"
      ]
     },
     "execution_count": 69,
     "metadata": {},
     "output_type": "execute_result"
    }
   ],
   "source": [
    "from scipy.stats import kurtosis\n",
    "data1 = vp_df['petal_length']\n",
    "data2 = vp_df['petal_width']\n",
    "data3 = vp_df['sepal_length']\n",
    "data4 = vp_df['sepal_width']\n",
    "\n",
    "kurtosis_value1 = kurtosis(data1)\n",
    "kurtosis_value2 = kurtosis(data2)\n",
    "kurtosis_value3 = kurtosis(data3)\n",
    "kurtosis_value4 = kurtosis(data4)\n",
    "\n",
    "kurtosis_value1, kurtosis_value2,kurtosis_value3, kurtosis_value4"
   ]
  },
  {
   "cell_type": "markdown",
   "id": "8a99bc44",
   "metadata": {},
   "source": [
    "0: 정규 분포   \n",
    "양수 첨도: 정규분포보다 그만큼 뾰족하다 > 꼬리가 두껍다 (길다)   \n",
    "음수 첨도: 정규분포보다 그만큼 눌려있다 > 꼬리가 얇다 (짧다)   \n",
    ":데이터가 평균 주변에 고르다 "
   ]
  },
  {
   "cell_type": "code",
   "execution_count": null,
   "id": "e434673d",
   "metadata": {},
   "outputs": [],
   "source": [
    "양의 정도 > 3, 정규분포보다 뾰족하고, 꼬리가 두꺼워서 극단적인 값이 더 많다\n",
    "\n",
    "음의 정도 < 3, 정규분포보다 평평하고, 꼬리가 알아서 극단적인 값이 덜 발생한다 "
   ]
  },
  {
   "cell_type": "code",
   "execution_count": null,
   "id": "6f032aa7",
   "metadata": {},
   "outputs": [
    {
     "name": "stdout",
     "output_type": "stream",
     "text": [
      "1.1384199576606167\n"
     ]
    }
   ],
   "source": [
    "from scipy.stats import skew\n",
    "\n",
    "data = [10, 20, 30, 40, 100]  # 오른쪽으로 치우친 데이터\n",
    "skew_value = skew(data)\n",
    "print(skew_value)  # 양수 (오른쪽 꼬리)\n",
    "\n",
    "# negative - 불량률, 시험 점수 \n",
    "# 보고서에 쓸 내용 없으면 기술 통계라도 쓰기 "
   ]
  }
 ],
 "metadata": {
  "kernelspec": {
   "display_name": "hipython",
   "language": "python",
   "name": "python3"
  },
  "language_info": {
   "codemirror_mode": {
    "name": "ipython",
    "version": 3
   },
   "file_extension": ".py",
   "mimetype": "text/x-python",
   "name": "python",
   "nbconvert_exporter": "python",
   "pygments_lexer": "ipython3",
   "version": "3.12.9"
  }
 },
 "nbformat": 4,
 "nbformat_minor": 5
}
