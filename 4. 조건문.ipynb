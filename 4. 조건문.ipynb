{
 "cells": [
  {
   "cell_type": "code",
   "execution_count": 1,
   "id": "a59eb770-ac5b-4bf9-91f0-8f1aba5f317d",
   "metadata": {},
   "outputs": [
    {
     "data": {
      "text/plain": [
       "False"
      ]
     },
     "execution_count": 1,
     "metadata": {},
     "output_type": "execute_result"
    }
   ],
   "source": [
    "# 연산자\n",
    "2+3 #산술연산자\n",
    "a=2 #대입연산자\n",
    "a>2 #비교연산자"
   ]
  },
  {
   "cell_type": "code",
   "execution_count": 2,
   "id": "830c3083-b291-4326-9432-013117770d6c",
   "metadata": {},
   "outputs": [
    {
     "data": {
      "text/plain": [
       "(2, 2, 2, 2)"
      ]
     },
     "execution_count": 2,
     "metadata": {},
     "output_type": "execute_result"
    }
   ],
   "source": [
    "b=c=d=a\n",
    "\n",
    "b,c,d,a"
   ]
  },
  {
   "cell_type": "code",
   "execution_count": 4,
   "id": "6f85b155-6bbb-492c-a961-365033990b2d",
   "metadata": {},
   "outputs": [
    {
     "data": {
      "text/plain": [
       "True"
      ]
     },
     "execution_count": 4,
     "metadata": {},
     "output_type": "execute_result"
    }
   ],
   "source": [
    "id(b) == id(c) #비교연산자"
   ]
  },
  {
   "cell_type": "markdown",
   "id": "eba9f55e-c085-43b5-abd2-3a2e9c6c6033",
   "metadata": {},
   "source": [
    "# 조건문 :  \n",
    "\n",
    "- 비교연산자를 이용한 부울값이 출력되어야 한다.\n",
    "- 이후 영역 표시는 들여쓰기로 맞추어야 한다"
   ]
  },
  {
   "cell_type": "code",
   "execution_count": 7,
   "id": "184686fd-c3c3-45ff-bc79-698a6aaffa46",
   "metadata": {},
   "outputs": [
    {
     "name": "stdout",
     "output_type": "stream",
     "text": [
      "fail\n"
     ]
    }
   ],
   "source": [
    "kor_score = 80\n",
    "\n",
    "if kor_score>90:     #if kor_score>90: print(\"pass\")\n",
    "    print('pass')\n",
    "else:\n",
    "    print('fail')"
   ]
  },
  {
   "cell_type": "code",
   "execution_count": 8,
   "id": "41e9e0f8-0cfd-4b57-bee5-b9d4a1a04d19",
   "metadata": {},
   "outputs": [
    {
     "name": "stdout",
     "output_type": "stream",
     "text": [
      "fail\n"
     ]
    }
   ],
   "source": [
    "# 힌줄로 작성 \n",
    "# 'True일때 실행문' if 조건식 else 'False일때 실행문'\n",
    "print('pass') if kor_score>90 else print('fail')"
   ]
  },
  {
   "cell_type": "code",
   "execution_count": 9,
   "id": "1b6e18ae-7806-4575-a1e5-c0e505f7a925",
   "metadata": {},
   "outputs": [
    {
     "ename": "SyntaxError",
     "evalue": "invalid syntax (1525010446.py, line 2)",
     "output_type": "error",
     "traceback": [
      "  \u001b[36mCell\u001b[39m\u001b[36m \u001b[39m\u001b[32mIn[9]\u001b[39m\u001b[32m, line 2\u001b[39m\n\u001b[31m    \u001b[39m\u001b[31m>= 90\u001b[39m\n    ^\n\u001b[31mSyntaxError\u001b[39m\u001b[31m:\u001b[39m invalid syntax\n"
     ]
    }
   ],
   "source": [
    "#수우미양가\n",
    ">= 90\n"
   ]
  },
  {
   "cell_type": "code",
   "execution_count": 11,
   "id": "579eb11d-a6ab-4330-8a8c-16cb0f4e1964",
   "metadata": {},
   "outputs": [
    {
     "name": "stdin",
     "output_type": "stream",
     "text": [
      "점수를 입력하세요. 숫자로요..  50\n"
     ]
    },
    {
     "name": "stdout",
     "output_type": "stream",
     "text": [
      "가\n"
     ]
    }
   ],
   "source": [
    "score = int(input(\"점수를 입력하세요. 숫자로요.. \"))\n",
    "\n",
    "#중첩 if문 or nested if\n",
    "if score>= 90:\n",
    "    print('수')\n",
    "else: #89~\n",
    "    if score >= 80:\n",
    "        print(\"우\")\n",
    "    else:\n",
    "        if score >= 70:\n",
    "            print(\"미\")\n",
    "        else: \n",
    "            if score >= 80:\n",
    "                print(\"양\")\n",
    "            else:\n",
    "                print(\"가\")\n",
    "        \n",
    "        "
   ]
  },
  {
   "cell_type": "code",
   "execution_count": 13,
   "id": "04a2beb9-9b2a-40d7-816d-5bb9714864d6",
   "metadata": {},
   "outputs": [
    {
     "name": "stdin",
     "output_type": "stream",
     "text": [
      "점수를 입력하세요:  50\n"
     ]
    },
    {
     "name": "stdout",
     "output_type": "stream",
     "text": [
      "가\n"
     ]
    }
   ],
   "source": [
    "score = int(input(\"점수를 입력하세요: \"))\n",
    "\n",
    "if score >=90:\n",
    "    print(\"수\")\n",
    "elif score >= 80:\n",
    "    print(\"우\")\n",
    "elif score >= 70:\n",
    "    print(\"미\")\n",
    "else:\n",
    "    print(\"가\")"
   ]
  },
  {
   "cell_type": "code",
   "execution_count": 16,
   "id": "b5fc1af1-fa8f-46bd-b04a-e928ce1bdf41",
   "metadata": {},
   "outputs": [
    {
     "name": "stdin",
     "output_type": "stream",
     "text": [
      "수식을 입력하세요: e.g) 2 * 50 2+50\n"
     ]
    },
    {
     "ename": "ValueError",
     "evalue": "not enough values to unpack (expected 3, got 1)",
     "output_type": "error",
     "traceback": [
      "\u001b[31m---------------------------------------------------------------------------\u001b[39m",
      "\u001b[31mValueError\u001b[39m                                Traceback (most recent call last)",
      "\u001b[36mCell\u001b[39m\u001b[36m \u001b[39m\u001b[32mIn[16]\u001b[39m\u001b[32m, line 2\u001b[39m\n\u001b[32m      1\u001b[39m formula = \u001b[38;5;28minput\u001b[39m(\u001b[33m\"\u001b[39m\u001b[33m수식을 입력하세요: e.g) 2 * 50\u001b[39m\u001b[33m\"\u001b[39m)\n\u001b[32m----> \u001b[39m\u001b[32m2\u001b[39m num1, opr, num2 = formula.split()\n\u001b[32m      4\u001b[39m num1, opr, num\n",
      "\u001b[31mValueError\u001b[39m: not enough values to unpack (expected 3, got 1)"
     ]
    }
   ],
   "source": [
    "formula = input(\"수식을 입력하세요: e.g) 2 * 50\")\n",
    "num1, opr, num2 = formula.split()\n"
   ]
  },
  {
   "cell_type": "code",
   "execution_count": 27,
   "id": "39379fb6-812a-43d1-9dcb-cb26bc673adc",
   "metadata": {},
   "outputs": [
    {
     "name": "stdin",
     "output_type": "stream",
     "text": [
      "수식을 입력하세요: e.g) 2 * 50 5 d 5\n"
     ]
    },
    {
     "name": "stdout",
     "output_type": "stream",
     "text": [
      "지원하지 않는 연산자입니다.\n"
     ]
    }
   ],
   "source": [
    "formula = input(\"수식을 입력하세요: e.g) 2 * 50\")\n",
    "num1, opr, num2 = formula.split()\n",
    "\n",
    "num1 = float(num1)\n",
    "num2 = float(num2)\n",
    "\n",
    "opr_list = [\"+\",\"-\",\"*\", '/', '%', '**']# 연산자\n",
    "\n",
    "if opr =='+':\n",
    "    result = num1 + num2\n",
    "elif opr =='-':\n",
    "    result = num1 - num2\n",
    "elif opr =='*':\n",
    "    result = num1 * num2\n",
    "elif opr =='/':\n",
    "    result = num1 / num2\n",
    "elif opr =='%':\n",
    "    result = num1 % num2\n",
    "elif opr =='**':\n",
    "    result = num1 ** num2\n",
    "else:\n",
    "    result = None\n",
    "\n",
    "if result == None:\n",
    "    print(\"지원하지 않는 연산자입니다.\")\n",
    "else:\n",
    "    print(f\"{num1} {opr} {num2} = {result}\")"
   ]
  },
  {
   "cell_type": "code",
   "execution_count": 33,
   "id": "633bd57b-718b-4d18-a70a-638a68a0a498",
   "metadata": {},
   "outputs": [
    {
     "name": "stdin",
     "output_type": "stream",
     "text": [
      "수식을 입력하세요: e.g) 2 * 50 5 - 2\n"
     ]
    },
    {
     "name": "stdout",
     "output_type": "stream",
     "text": [
      "5.0 - 2.0 = 3.0\n"
     ]
    }
   ],
   "source": [
    "formula = input(\"수식을 입력하세요: e.g) 2 * 50\")\n",
    "num1, opr, num2 = formula.split()\n",
    "\n",
    "num1 = float(num1)\n",
    "num2 = float(num2)\n",
    "\n",
    "opr_list = [\"+\",\"-\",\"*\", '/', '%', '**']# 연산자\n",
    "\n",
    "if opr not in opr_list:\n",
    "    print(\"지원하지 않는 연산자입니다.\")\n",
    "else:\n",
    "    if opr =='+':\n",
    "        result = num1 + num2\n",
    "    elif opr =='-':\n",
    "        result = num1 - num2\n",
    "    elif opr =='*':\n",
    "        result = num1 * num2\n",
    "    elif opr =='/':\n",
    "        result = num1 / num2\n",
    "    elif opr =='%':\n",
    "        result = num1 % num2\n",
    "    elif opr =='**':\n",
    "        result = num1 ** num2\n",
    "    print(f\"{num1} {opr} {num2} = {result}\")"
   ]
  },
  {
   "cell_type": "code",
   "execution_count": 37,
   "id": "5af73bda-f40f-4563-863e-8b6728eeaeca",
   "metadata": {},
   "outputs": [
    {
     "name": "stdout",
     "output_type": "stream",
     "text": [
      "odd\n"
     ]
    }
   ],
   "source": [
    "# 1줄로 쓰기\n",
    "\n",
    "num = 7\n",
    "#if num % 2: print('even') else print(\"odd\")\n",
    "\n",
    "print('even' if num % 2 == 0 else 'odd')"
   ]
  },
  {
   "cell_type": "code",
   "execution_count": 40,
   "id": "04a8d3c5-dd2c-481a-bedd-f1daa59644ed",
   "metadata": {},
   "outputs": [
    {
     "name": "stdout",
     "output_type": "stream",
     "text": [
      "쉽시다\n"
     ]
    }
   ],
   "source": [
    "#졸려 = True - 쉽시다, 화이팅\n",
    "\n",
    "text = \"졸려\"\n",
    "print('쉽시다' if text == '졸려' else '화이팅')"
   ]
  },
  {
   "cell_type": "code",
   "execution_count": 46,
   "id": "12226988-3aed-4c53-89a4-f004502ba3be",
   "metadata": {},
   "outputs": [
    {
     "name": "stdout",
     "output_type": "stream",
     "text": [
      "화이팅\n"
     ]
    }
   ],
   "source": [
    "졸려 = False\n",
    "# action = '쉽시다' if 졸려 == True else '화이팅'\n",
    "action = '쉽시다' if 졸려 else '화이팅'\n",
    "print(action)"
   ]
  },
  {
   "cell_type": "code",
   "execution_count": 53,
   "id": "82b5ec0d-ecbd-4242-adb4-dac2d7e35e1f",
   "metadata": {},
   "outputs": [
    {
     "data": {
      "text/plain": [
       "'패'"
      ]
     },
     "execution_count": 53,
     "metadata": {},
     "output_type": "execute_result"
    }
   ],
   "source": [
    "player = '가위'\n",
    "computer = '바위'\n",
    "# result = '승' '패' '무승부'\n",
    "result = '승' if player == '가위' and computer == '보' else \\\n",
    "'무승부' if player == computer else '패'\n",
    "result"
   ]
  },
  {
   "cell_type": "code",
   "execution_count": 58,
   "id": "8b81eef6-345c-4090-a7ca-5afb6f91f6ae",
   "metadata": {},
   "outputs": [
    {
     "data": {
      "text/plain": [
       "'D'"
      ]
     },
     "execution_count": 58,
     "metadata": {},
     "output_type": "execute_result"
    }
   ],
   "source": [
    "# 학점  A,B,C,d\n",
    "score = 3\n",
    "\n",
    "result = \"A\" if score>=90 else \"B\" if score >=80 else \\\n",
    "    \"C\" if  score >= 70 else \"D\"\n",
    "\n",
    "result"
   ]
  },
  {
   "cell_type": "markdown",
   "id": "19cffdaa-c863-4a2e-b34d-4070aabd5949",
   "metadata": {},
   "source": [
    "# break, continue, pass"
   ]
  },
  {
   "cell_type": "code",
   "execution_count": 57,
   "id": "c2dd0e9f-1c0d-478a-89c2-e09cda027df3",
   "metadata": {},
   "outputs": [
    {
     "name": "stdout",
     "output_type": "stream",
     "text": [
      "현재 검사 중인 숫자: 1\n",
      "현재 검사 중인 숫자: 3\n",
      "현재 검사 중인 숫자: 5\n",
      "현재 검사 중인 숫자: 7\n",
      "9를 찾았습니다!\n"
     ]
    }
   ],
   "source": [
    "# break\n",
    "numbers = [1, 3, 5, 7, 9, 11, 13, 15]\n",
    "search_number = 9\n",
    "\n",
    "for num in numbers:\n",
    "    if num == search_number:\n",
    "        print(f\"{search_number}를 찾았습니다!\")\n",
    "        break\n",
    "    print(f\"현재 검사 중인 숫자: {num}\")\n"
   ]
  },
  {
   "cell_type": "code",
   "execution_count": 61,
   "id": "18b0ea9a-795a-49cc-881c-e8d23fce1fa6",
   "metadata": {},
   "outputs": [
    {
     "name": "stdout",
     "output_type": "stream",
     "text": [
      "2\n",
      "4\n",
      "6\n",
      "8\n",
      "10\n"
     ]
    }
   ],
   "source": [
    "# continue\n",
    "for i in range(1, 11):\n",
    "    if i % 2 != 0:  # 홀수인 경우\n",
    "        continue\n",
    "    print(i)  # 짝수만 출력"
   ]
  },
  {
   "cell_type": "code",
   "execution_count": 64,
   "id": "8ef35ba9-cbdf-4f75-9cd9-29be6c9b0bf3",
   "metadata": {},
   "outputs": [],
   "source": [
    "# pass\n",
    "condition =  True #False\n",
    "if condition:\n",
    "    pass  # 나중에 구현할 예정\n",
    "else:\n",
    "    print(\"else 구문 실행\")"
   ]
  },
  {
   "cell_type": "code",
   "execution_count": 7,
   "id": "6deb1b36-ec39-48f2-a020-8f3da31b63e6",
   "metadata": {},
   "outputs": [
    {
     "name": "stdout",
     "output_type": "stream",
     "text": [
      "음수\n"
     ]
    },
    {
     "data": {
      "text/plain": [
       "'음수'"
      ]
     },
     "execution_count": 7,
     "metadata": {},
     "output_type": "execute_result"
    }
   ],
   "source": [
    "# 1. 변수 number가 주어졌을 때, 숫자가 양수인지 음수인지 또는 0인지 판별하고, 해당 결과를 출력하는 코드를 작성하세요.\n",
    "number = -10\n",
    "\n",
    "if number==0:\n",
    "    print(\"0\")\n",
    "elif number>0:\n",
    "    print(\"양수\")\n",
    "else:\n",
    "    print(\"음수\")\n",
    "\n",
    "result = \"0\" if number==0 else \"양수\" if number>0 else \"음수\"\n",
    "\n",
    "result"
   ]
  },
  {
   "cell_type": "code",
   "execution_count": 8,
   "id": "dde4fb9e-8923-4f8c-be14-4a3c9228dcfc",
   "metadata": {},
   "outputs": [
    {
     "data": {
      "text/plain": [
       "'even'"
      ]
     },
     "execution_count": 8,
     "metadata": {},
     "output_type": "execute_result"
    }
   ],
   "source": [
    "#2. 변수 number가 주어졌을 때, 숫자가 짝수인지 홀수인지 판별하고, 해당 결과를 출력하는 코드를 작성하세요.\n",
    "\n",
    "number = 52\n",
    "result = 'even' if number%2==0 else 'odd'\n",
    "result"
   ]
  },
  {
   "cell_type": "markdown",
   "id": "d98c3f76-e011-4c52-9ff7-5aa48b956b09",
   "metadata": {},
   "source": [
    "3.변수 score가 주어졌을 때, 다음 기준에 따라 학점을 출력하는 코드를 작성하세요.\n",
    "90점 이상: A\n",
    "80점 이상 90점 미만: B\n",
    "70점 이상 80점 미만: C\n",
    "70점 미만: F"
   ]
  },
  {
   "cell_type": "code",
   "execution_count": 11,
   "id": "89b368fe-163c-4c1f-9657-b98d1d6ca7bf",
   "metadata": {},
   "outputs": [
    {
     "data": {
      "text/plain": [
       "'F'"
      ]
     },
     "execution_count": 11,
     "metadata": {},
     "output_type": "execute_result"
    }
   ],
   "source": [
    "score = 50\n",
    "result = 'A' if score>=90 else 'B' if score>=80 else 'C'if score>=70 else 'F'\n",
    "result"
   ]
  },
  {
   "cell_type": "markdown",
   "id": "89ed343c-c600-4dff-b934-68bede52c3a7",
   "metadata": {},
   "source": [
    "4. 변수 price와 is_discount가 주어졌을 때, is_discount가 True이면 가격에 10% 할인을 적용하고, 그렇지 않으면 원래 가격을 출력하는 코드를 작성하세요.\n"
   ]
  },
  {
   "cell_type": "code",
   "execution_count": 17,
   "id": "3be5609f-54e7-4674-8f46-21c691a8d01c",
   "metadata": {},
   "outputs": [
    {
     "name": "stdout",
     "output_type": "stream",
     "text": [
      "90.0\n"
     ]
    },
    {
     "data": {
      "text/plain": [
       "90.0"
      ]
     },
     "execution_count": 17,
     "metadata": {},
     "output_type": "execute_result"
    }
   ],
   "source": [
    "price = 100\n",
    "is_discount = True #boolean\n",
    "\n",
    "if is_discount:\n",
    "    price = price*0.9\n",
    "print(price)\n",
    "\n",
    "price = 100\n",
    "result = price*0.9 if is_discount else price\n",
    "result"
   ]
  },
  {
   "cell_type": "code",
   "execution_count": 18,
   "id": "11993551-2ead-4344-8b4b-53b7c20bd917",
   "metadata": {},
   "outputs": [
    {
     "name": "stdout",
     "output_type": "stream",
     "text": [
      "1\n",
      "2\n",
      "3\n",
      "4\n",
      "5\n",
      "6\n",
      "7\n",
      "8\n",
      "9\n",
      "10\n"
     ]
    }
   ],
   "source": [
    "# 5. 반복문을 사용하여 1부터 10까지의 숫자를 출력하는 코드를 작성하세요.\n",
    "for i in range(1,11):\n",
    "    print(i)"
   ]
  },
  {
   "cell_type": "code",
   "execution_count": 24,
   "id": "07db7fa6-5269-4632-86e3-d8ca5a34597b",
   "metadata": {},
   "outputs": [
    {
     "name": "stdout",
     "output_type": "stream",
     "text": [
      "2\n",
      "4\n",
      "6\n",
      "8\n",
      "10\n"
     ]
    }
   ],
   "source": [
    "#6. only even\n",
    "for i in range(1,11):\n",
    "    if i%2==0:\n",
    "        print(i)"
   ]
  },
  {
   "cell_type": "code",
   "execution_count": 21,
   "id": "d5288867-3418-43f7-ac89-53511ed62faf",
   "metadata": {},
   "outputs": [
    {
     "name": "stdout",
     "output_type": "stream",
     "text": [
      "2\n",
      "4\n",
      "6\n",
      "8\n",
      "10\n"
     ]
    }
   ],
   "source": [
    "for i in range(2,11,2):\n",
    "    print(i)"
   ]
  },
  {
   "cell_type": "code",
   "execution_count": 26,
   "id": "ac689eab-ce5d-4bc2-b5d4-51a492d66503",
   "metadata": {},
   "outputs": [
    {
     "data": {
      "text/plain": [
       "[2, 4, 6, 8, 10]"
      ]
     },
     "execution_count": 26,
     "metadata": {},
     "output_type": "execute_result"
    }
   ],
   "source": [
    "[i for i in range(1,11) if i%2==0]"
   ]
  },
  {
   "cell_type": "code",
   "execution_count": 51,
   "id": "d554540a-409e-4b20-95d2-e15991cd8d0d",
   "metadata": {},
   "outputs": [
    {
     "name": "stdout",
     "output_type": "stream",
     "text": [
      "target inside items\n"
     ]
    }
   ],
   "source": [
    "items = [\"apple\", \"banana\", \"cherry\"]\n",
    "target = \"apple\"\n",
    "\n",
    "for item in items:\n",
    "    if target == item:\n",
    "        found = True\n",
    "        break\n",
    "\n",
    "if found:\n",
    "    print('target inside items')\n",
    "else:\n",
    "    print('target not inside items')"
   ]
  },
  {
   "cell_type": "code",
   "execution_count": 58,
   "id": "212a073b-ac07-41ab-b1e6-e39812d5fcd7",
   "metadata": {},
   "outputs": [
    {
     "name": "stdout",
     "output_type": "stream",
     "text": [
      "target inside items\n"
     ]
    }
   ],
   "source": [
    "found = [True for item in items if target == item]\n",
    "\n",
    "if found.count(True) > 0: \n",
    "    print('target inside items')\n",
    "else:\n",
    "    print('target not inside items')\n",
    "    "
   ]
  },
  {
   "cell_type": "code",
   "execution_count": 63,
   "id": "65d5463a-5038-4e38-b26c-8014d72ae428",
   "metadata": {},
   "outputs": [
    {
     "name": "stdout",
     "output_type": "stream",
     "text": [
      "target inside items\n"
     ]
    }
   ],
   "source": [
    "#리스트 값이 없으니까 False가 나오고 값이 있으니까 \n",
    "found = True if [item for item in items if target == item] else False\n",
    "\n",
    "if found==True: \n",
    "    print('target inside items')\n",
    "else:\n",
    "    print('target not inside items')\n",
    "    "
   ]
  },
  {
   "cell_type": "code",
   "execution_count": 62,
   "id": "ede33a78-5e9e-41b3-ad61-e3d6c66ccd9a",
   "metadata": {},
   "outputs": [
    {
     "data": {
      "text/plain": [
       "(False, True)"
      ]
     },
     "execution_count": 62,
     "metadata": {},
     "output_type": "execute_result"
    }
   ],
   "source": [
    "lst_1 = []\n",
    "lst_2 = [1,2,3,]\n",
    "\n",
    "bool(lst_1), bool(lst_2)"
   ]
  },
  {
   "cell_type": "markdown",
   "id": "f73838b7-3ea1-425e-8b36-1c4fac11ecdd",
   "metadata": {},
   "source": [
    "10. 휴대폰 번호 앞자리에 따라 통신사는 아래와 같이 구분된다.\n",
    "사용자로부터 휴대전화 번호를 입력 받고, 통신사를 출력하는 프로그램을 작성하라.\n",
    "번호 통신사\n",
    "011 SKT\n",
    "016 KT\n",
    "019 LGU\n",
    "010 알수없음\n",
    "\n",
    ">> 휴대전화 번호 입력: 011-345-1922\n",
    "당신은 SKT 사용자입니다.\n"
   ]
  },
  {
   "cell_type": "code",
   "execution_count": 76,
   "id": "134d806b-1984-4782-939a-9d6c8774bc75",
   "metadata": {},
   "outputs": [
    {
     "name": "stdin",
     "output_type": "stream",
     "text": [
      "휴대폰 번호를 입력하세요:  010-8565643\n"
     ]
    },
    {
     "name": "stdout",
     "output_type": "stream",
     "text": [
      "당신은 알수없음의 사용자입니다.\n"
     ]
    }
   ],
   "source": [
    "phone_number = input('휴대폰 번호를 입력하세요: ')\n",
    "\n",
    "#if '-' in phone_number:\n",
    "#    number = phone_number.split('-')[0]\n",
    "#else:\n",
    "#    number = phone_number[:3]\n",
    "\n",
    "number = phone_number.split('-')[0] if '-' in phone_number else phone_number[:3]\n",
    "\n",
    "tel_com= {\n",
    "    '011' : 'SKT',\n",
    "    '016' : 'KT',\n",
    "    '019' : 'LGU',\n",
    "    '010' : '알수없음'}\n",
    "\n",
    "com = tel_com.get(number, '못 찾음')\n",
    "print(f'당신은 {com}의 사용자입니다.')"
   ]
  },
  {
   "cell_type": "markdown",
   "id": "6f2af6e5-878a-4c50-bc00-4212224144e0",
   "metadata": {},
   "source": [
    "11. 주민등록번호는 13자리로 구성되는데 마지막 자리수는 주민등록번호의 유효성을 체크하는데 사용된다.   \n",
    "먼저 앞에서부터 12자리의 숫자에 2, 3, 4, 5, 6, 7, 8, 9, 2, 3, 4, 5를 차례로 곱한 뒤 그 값을 전부 더한다.   \n",
    "연산 결과 값을 11로 나누면 나머지가 나오는데 11에서 나머지를 뺀 값이 주민등록번호의 마지막 번호가 된다.   \n",
    "  8 2 1 0 1 0 - 1 6 3 5 2 1 0   \n",
    "x 2 3 4 5 6 7   8 9 2 3 4 5    \n",
    "-----------------------------\n",
    "1차 계산: (8*2 + 2*3 + 1*4 + 0*5 + 1*6 + 0*7 + 1*8 + 6*9 + 3*2 + 5*3 + 2*4 + 1*5) = (128 % 11) = 7   \n",
    "2차 계산: 11 -7 = 4   \n",
    "\n",
    ">> 주민등록번호: 821010-1635210   \n",
    "유효하지 않은 주민등록번호입니다.    "
   ]
  },
  {
   "cell_type": "code",
   "execution_count": 122,
   "id": "1ac75068-d912-4217-9ad3-ddca25204d23",
   "metadata": {},
   "outputs": [
    {
     "name": "stdin",
     "output_type": "stream",
     "text": [
      "주민번호를 입력하세요:  031114-4052618\n"
     ]
    },
    {
     "name": "stdout",
     "output_type": "stream",
     "text": [
      "유효하지 않은 주민등록번호입니다.\n"
     ]
    }
   ],
   "source": [
    "#입력\n",
    "nat_id = input('주민번호를 입력하세요: ')\n",
    "nat_id = list(nat_id.replace('-',''))\n",
    "\n",
    "#자릿수 체크\n",
    "if len(nat_id) != 13:\n",
    "    print(\"잘못된 형식의 번호입니다. \")\n",
    "else:\n",
    "    num_lst = [2, 3, 4, 5, 6, 7, 8, 9, 2, 3, 4, 5]\n",
    "    total = 0\n",
    "    \n",
    "    for i in range(12):\n",
    "        total += int(nat_id[i]) * num_lst[i]\n",
    "    last_digit = (11 - (total%11)) % 10\n",
    "    \n",
    "    if last_digit == int(nat_id[-1]):\n",
    "        print(\"유효한 주민등록번호입니다.\")\n",
    "    else:\n",
    "        print(\"유효하지 않은 주민등록번호입니다.\")"
   ]
  },
  {
   "cell_type": "code",
   "execution_count": 118,
   "id": "93bbaa4e-4c28-4bb5-b7c5-b34aa1b20fb0",
   "metadata": {},
   "outputs": [
    {
     "name": "stdin",
     "output_type": "stream",
     "text": [
      "주민번호를 입력하세요:  1234567891234\n"
     ]
    }
   ],
   "source": [
    "nat_id = ''\n",
    "while True:\n",
    "    #입력\n",
    "    nat_id = input('주민번호를 입력하세요: ')\n",
    "    \n",
    "    #자릿수 체크\n",
    "    if len(nat_id) != 13 or not nat_id.isdigit():\n",
    "        print(\"잘못된 형식의 번호입니다. \")\n",
    "    else:\n",
    "        break"
   ]
  },
  {
   "cell_type": "code",
   "execution_count": 123,
   "id": "4e56f787-94ab-4981-aa99-f38cfc13834d",
   "metadata": {},
   "outputs": [
    {
     "name": "stdout",
     "output_type": "stream",
     "text": [
      "유효하지 않은 주민등록번호입니다.\n"
     ]
    }
   ],
   "source": [
    "weights = list(range(2,10)) + list(range(2,6))\n",
    "#유효성체크\n",
    "total = 0\n",
    "for i in range(12):\n",
    "    total += int(nat_id[i])*weights[i]\n",
    "remain = (11 - (total%11)) % 10\n",
    "if nat_id[-1] == remain:\n",
    "    print(\"유효한 주민등록번호입니다.\")\n",
    "else:\n",
    "    print(\"유효하지 않은 주민등록번호입니다.\")"
   ]
  },
  {
   "cell_type": "code",
   "execution_count": null,
   "id": "65d1bd7b-688c-4109-b82c-ed509f1d4cb5",
   "metadata": {},
   "outputs": [],
   "source": []
  },
  {
   "cell_type": "markdown",
   "id": "ace5e2e1-4666-4984-ae3d-4323003296a5",
   "metadata": {},
   "source": [
    "아래 코드는 비트코인의 가격 정보를 딕셔너리로 가져오는 코드이다.   \n",
    "import requests   \n",
    "btc = requests.get(\"https://api.bithumb.com/public/ticker/\").json()['data']   \n",
    "btc 딕셔너리 안에는 시가, 종가, 최고가, 최저가 등이 저장되어 있다.   \n",
    "최고가와 최저가의 차이를 변동폭으로 정의할 때 (시가 + 변동폭)이 최고가 보다 높을 경우 \"상승장\",   \n",
    "그렇지 않은 경우 \"하락장\" 문자열을 출력하라.   \n",
    "\n",
    "Key Name\tDescription   \n",
    "opening_price\t최근 24시간 내 시작 거래금액   \n",
    "closing_price\t최근 24시간 내 마지막 거래금액   \n",
    "min_price\t최근 24시간 내 최저 거래금액   \n",
    "max_price\t최근 24시간 내 최고 거래금액   \n",
    " "
   ]
  },
  {
   "cell_type": "code",
   "execution_count": 134,
   "id": "79a7b025-c280-43bf-9dd7-dd2cac7189b5",
   "metadata": {},
   "outputs": [
    {
     "name": "stdout",
     "output_type": "stream",
     "text": [
      "상승장\n"
     ]
    }
   ],
   "source": [
    "import requests   \n",
    "btc = requests.get(\"https://api.bithumb.com/public/ticker/\").json()['data'] \n",
    "btc\n",
    "#변동폭\n",
    "opening_price = float(btc['opening_price'])\n",
    "max_price = float(btc['max_price'])\n",
    "min_price = float(btc['min_price'])\n",
    "diff = max_price - min_price\n",
    "\n",
    "if opening_price + diff > max_price:\n",
    "    print('상승장')\n",
    "else:\n",
    "    print('하락장')"
   ]
  },
  {
   "cell_type": "markdown",
   "id": "a72d8a22-0fc9-443d-a623-8277420e69e9",
   "metadata": {},
   "source": [
    "14. 리스트에는 3일 간의 ohlc 데이터가 저장돼 있다. 시가에 매수해서 종가에 매도 했을 경우 총 수익금을 계산하라.\n",
    "\n",
    "```\n",
    "ohlc = [[\"open\", \"high\", \"low\", \"close\"],\n",
    "        [100, 110, 70, 100],\n",
    "        [200, 210, 180, 190],\n",
    "        [300, 310, 300, 310]]\n",
    "   ```\n",
    "\n",
    "1일차 수익 0원 (100 - 100), 2일차 수익 -10원 (190 - 200), 3일차 수익 10원 (310 - 300) 이다.\n",
    "\n",
    "`\n",
    "0\n",
    "`"
   ]
  },
  {
   "cell_type": "code",
   "execution_count": 141,
   "id": "9b5d0bb9-8814-4cc9-9762-b8aa082c2e3b",
   "metadata": {},
   "outputs": [
    {
     "name": "stdout",
     "output_type": "stream",
     "text": [
      "1일차 수익 0원 (100 - 100)이다.\n",
      "2일차 수익 -10원 (190 - 200)이다.\n",
      "3일차 수익 10원 (310 - 300)이다.\n",
      "총 수익은 0이다.\n"
     ]
    }
   ],
   "source": [
    "ohlc = [[\"open\", \"high\", \"low\", \"close\"],\n",
    "        [100, 110, 70, 100],\n",
    "        [200, 210, 180, 190],\n",
    "        [300, 310, 300, 310]]\n",
    "\n",
    "total = 0\n",
    "for i in range(1,4):\n",
    "    open_price = ohlc[i][0]\n",
    "    \n",
    "    close_price = ohlc[i][3]\n",
    "    profit = close_price - open_price\n",
    "    total += profit\n",
    "    print(f'{i}일차 수익 {profit}원 ({close_price} - {open_price})이다.')\n",
    "print(f\"총 수익은 {total}이다.\")\n",
    "          "
   ]
  },
  {
   "cell_type": "code",
   "execution_count": 142,
   "id": "d90bb99a-4c8a-4eb6-b23f-32785de39392",
   "metadata": {},
   "outputs": [
    {
     "name": "stdout",
     "output_type": "stream",
     "text": [
      "1\n",
      "2\n",
      "3\n",
      "4\n",
      "5\n"
     ]
    }
   ],
   "source": [
    "count = 1\n",
    "\n",
    "while count <= 5:\n",
    "    print(count)\n",
    "    count += 1\n"
   ]
  },
  {
   "cell_type": "code",
   "execution_count": 143,
   "id": "4e3ed728-086f-412a-9df0-d3205c413b94",
   "metadata": {},
   "outputs": [
    {
     "name": "stdin",
     "output_type": "stream",
     "text": [
      "문자를 입력하세요 (exit 입력 시 종료):  dddd\n"
     ]
    },
    {
     "name": "stdout",
     "output_type": "stream",
     "text": [
      "입력한 값: dddd\n"
     ]
    },
    {
     "name": "stdin",
     "output_type": "stream",
     "text": [
      "문자를 입력하세요 (exit 입력 시 종료):  exit\n"
     ]
    },
    {
     "name": "stdout",
     "output_type": "stream",
     "text": [
      "입력한 값: exit\n"
     ]
    }
   ],
   "source": [
    "user_input = \"\"\n",
    "\n",
    "while user_input != \"exit\":\n",
    "    user_input = input(\"문자를 입력하세요 (exit 입력 시 종료): \")\n",
    "    print(f\"입력한 값: {user_input}\")\n"
   ]
  },
  {
   "cell_type": "code",
   "execution_count": 144,
   "id": "4e57b3d1-ee67-4099-b052-7bf36693f2ed",
   "metadata": {},
   "outputs": [
    {
     "name": "stdin",
     "output_type": "stream",
     "text": [
      "종료하려면 exit 입력:  exit\n"
     ]
    },
    {
     "name": "stdout",
     "output_type": "stream",
     "text": [
      "프로그램 종료!\n"
     ]
    }
   ],
   "source": [
    "# 종료조건이 있는 무한루프\n",
    "while True:\n",
    "    user_input = input(\"종료하려면 exit 입력: \")\n",
    "    if user_input == \"exit\":\n",
    "        print(\"프로그램 종료!\")\n",
    "        break\n"
   ]
  },
  {
   "cell_type": "code",
   "execution_count": null,
   "id": "c533fcaf-f458-4f4c-9824-d8afc473daaa",
   "metadata": {},
   "outputs": [],
   "source": []
  }
 ],
 "metadata": {
  "kernelspec": {
   "display_name": "Python 3 (ipykernel)",
   "language": "python",
   "name": "python3"
  },
  "language_info": {
   "codemirror_mode": {
    "name": "ipython",
    "version": 3
   },
   "file_extension": ".py",
   "mimetype": "text/x-python",
   "name": "python",
   "nbconvert_exporter": "python",
   "pygments_lexer": "ipython3",
   "version": "3.12.1"
  }
 },
 "nbformat": 4,
 "nbformat_minor": 5
}
