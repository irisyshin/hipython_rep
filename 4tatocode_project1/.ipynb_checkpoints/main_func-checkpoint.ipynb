{
 "cells": [
  {
   "cell_type": "code",
   "execution_count": 2,
   "id": "370160ee-612a-44d2-a7d0-f65babcea94a",
   "metadata": {
    "scrolled": true
   },
   "outputs": [],
   "source": [
    "import code_src.menu as menu"
   ]
  },
  {
   "cell_type": "code",
   "execution_count": null,
   "id": "3287f331-c2d1-4418-a91a-cfaef78b5d5e",
   "metadata": {},
   "outputs": [
    {
     "name": "stdout",
     "output_type": "stream",
     "text": [
      "****************************************\n",
      "어서오세요, ‘요렇게’에 오신 것을 환영합니다:)\n",
      "Menu\t\t\t\tPrice\n",
      "------------------------------\n",
      "요거트 아이스크림(250g)\t3,000\n",
      "------------------------------\n",
      "\n",
      "No. Topping\t\tPrice\n",
      "------------------------------\n",
      "1     바나나       \t4,000\n",
      "2     딸기        \t5,000\n",
      "3     벌집꿀       \t7,000\n",
      "4     그레놀라      \t7,000\n",
      "5     초코쉘       \t7,000\n",
      "6     요거트 아이스크림 \t3,000\n",
      "------------------------------\n",
      "****************************************\n",
      "\n",
      "========================================\n",
      "현재 장바구니\n",
      "1. 요거트 아이스크림 x 1 = 3,000원\n",
      "----------------------------------------\n",
      "Total = 3,000원\n",
      "메뉴를 확정하려면 o\n",
      "메뉴를 삭제하려면 d\n",
      "메뉴를 추가하려면 a\n",
      "메뉴를 취소하려면 c\n"
     ]
    },
    {
     "name": "stdin",
     "output_type": "stream",
     "text": [
      "알파벳을 입력해주세요 :  f\n"
     ]
    },
    {
     "name": "stdout",
     "output_type": "stream",
     "text": [
      "입력이 올바르지 않습니다.\n",
      "\n",
      "========================================\n",
      "현재 장바구니\n",
      "1. 요거트 아이스크림 x 1 = 3,000원\n",
      "----------------------------------------\n",
      "Total = 3,000원\n",
      "메뉴를 확정하려면 o\n",
      "메뉴를 삭제하려면 d\n",
      "메뉴를 추가하려면 a\n",
      "메뉴를 취소하려면 c\n"
     ]
    },
    {
     "name": "stdin",
     "output_type": "stream",
     "text": [
      "알파벳을 입력해주세요 :  e\n"
     ]
    },
    {
     "name": "stdout",
     "output_type": "stream",
     "text": [
      "입력이 올바르지 않습니다.\n",
      "\n",
      "========================================\n",
      "현재 장바구니\n",
      "1. 요거트 아이스크림 x 1 = 3,000원\n",
      "----------------------------------------\n",
      "Total = 3,000원\n",
      "메뉴를 확정하려면 o\n",
      "메뉴를 삭제하려면 d\n",
      "메뉴를 추가하려면 a\n",
      "메뉴를 취소하려면 c\n"
     ]
    },
    {
     "name": "stdin",
     "output_type": "stream",
     "text": [
      "알파벳을 입력해주세요 :  c\n"
     ]
    },
    {
     "name": "stdout",
     "output_type": "stream",
     "text": [
      "주문이 취소됩니다.\n",
      "초기화면으로 돌아갑니다.\n",
      "****************************************\n",
      "어서오세요, ‘요렇게’에 오신 것을 환영합니다:)\n",
      "Menu\t\t\t\tPrice\n",
      "------------------------------\n",
      "요거트 아이스크림(250g)\t3,000\n",
      "------------------------------\n",
      "\n",
      "No. Topping\t\tPrice\n",
      "------------------------------\n",
      "1     바나나       \t4,000\n",
      "2     딸기        \t5,000\n",
      "3     벌집꿀       \t7,000\n",
      "4     그레놀라      \t7,000\n",
      "5     초코쉘       \t7,000\n",
      "6     요거트 아이스크림 \t3,000\n",
      "------------------------------\n",
      "****************************************\n",
      "\n",
      "========================================\n",
      "현재 장바구니\n",
      "1. 요거트 아이스크림 x 1 = 3,000원\n",
      "----------------------------------------\n",
      "Total = 3,000원\n",
      "메뉴를 확정하려면 o\n",
      "메뉴를 삭제하려면 d\n",
      "메뉴를 추가하려면 a\n",
      "메뉴를 취소하려면 c\n"
     ]
    }
   ],
   "source": [
    "def main():\n",
    "    num_order = 1\n",
    "    while True:\n",
    "        menu.display_menu()\n",
    "        cart = [{'name': menu.menu_list[5]['name'], 'price': menu.menu_list[5]['price'], 'quantity': 1}]\n",
    "        total_price = 3000\n",
    "        while True:\n",
    "            menu.display_cart(cart, total_price)\n",
    "            choice = menu.select_pro()\n",
    "\n",
    "            if choice == 'o':\n",
    "                break\n",
    "            elif choice == 'd':\n",
    "                total_price = menu.del_menu(cart, total_price)\n",
    "            elif choice == 'a':\n",
    "                total_price = menu.add_menu(cart, total_price)\n",
    "            elif choice == 'c':\n",
    "                print(\"주문이 취소됩니다.\")\n",
    "                menu.end_screen_delay()\n",
    "                break\n",
    "            elif choice == '99':\n",
    "                print(\"관리자 중지입니다.\")\n",
    "                return\n",
    "            else:\n",
    "                print(\"입력이 올바르지 않습니다.\")\n",
    "\n",
    "        if choice in ['c', '99']:\n",
    "            continue\n",
    "        if total_price == 0:\n",
    "            print(\"장바구니가 비어있습니다.\")\n",
    "            menu.end_screen_delay()\n",
    "            continue\n",
    "\n",
    "        if menu.pay_deci() == 'y':\n",
    "            menu.pay_screen(total_price, num_order)\n",
    "            num_order += 1\n",
    "        menu.end_screen_delay()\n",
    "\n",
    "main()"
   ]
  },
  {
   "cell_type": "code",
   "execution_count": null,
   "id": "6322f5bc-806d-4fc5-818d-6fc97b18c98b",
   "metadata": {},
   "outputs": [],
   "source": []
  }
 ],
 "metadata": {
  "kernelspec": {
   "display_name": "Python 3 (ipykernel)",
   "language": "python",
   "name": "python3"
  },
  "language_info": {
   "codemirror_mode": {
    "name": "ipython",
    "version": 3
   },
   "file_extension": ".py",
   "mimetype": "text/x-python",
   "name": "python",
   "nbconvert_exporter": "python",
   "pygments_lexer": "ipython3",
   "version": "3.12.1"
  }
 },
 "nbformat": 4,
 "nbformat_minor": 5
}
