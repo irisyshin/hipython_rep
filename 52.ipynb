{
 "cells": [
  {
   "cell_type": "code",
   "execution_count": 1,
   "id": "c0e4f267",
   "metadata": {},
   "outputs": [],
   "source": [
    "html = \"\"\"\n",
    "<html>\n",
    "<head><title>HTML Sample</title>\n",
    "</head>\n",
    "<body>\n",
    "    <h1>Hello CSS</h1>\n",
    "    <div id=\"subject\">선택자</div>\n",
    "    <div class=\"contents\">선택자를 어떻게 작성하느냐에 따라\n",
    "      <span>다른 <b>요소가 반환</b></span> 됩니다.</div>\n",
    "    <div>CSS 선택자는 다양한 곳에서 <b>활용</b>됩니다.</div>\n",
    "</body>\n",
    "</html>\n",
    "\"\"\""
   ]
  },
  {
   "cell_type": "code",
   "execution_count": 2,
   "id": "88b6d260",
   "metadata": {},
   "outputs": [
    {
     "data": {
      "text/plain": [
       "'\\n<html>\\n<head><title>HTML Sample</title>\\n</head>\\n<body>\\n    <h1>Hello CSS</h1>\\n    <div id=\"subject\">선택자</div>\\n    <div class=\"contents\">선택자를 어떻게 작성하느냐에 따라\\n      <span>다른 <b>요소가 반환</b></span> 됩니다.</div>\\n    <div>CSS 선택자는 다양한 곳에서 <b>활용</b>됩니다.</div>\\n</body>\\n</html>\\n'"
      ]
     },
     "execution_count": 2,
     "metadata": {},
     "output_type": "execute_result"
    }
   ],
   "source": [
    "html"
   ]
  },
  {
   "cell_type": "code",
   "execution_count": 5,
   "id": "00dc2bdb",
   "metadata": {},
   "outputs": [
    {
     "data": {
      "text/plain": [
       "\n",
       "<html>\n",
       "<head><title>HTML Sample</title>\n",
       "</head>\n",
       "<body>\n",
       "<h1>Hello CSS</h1>\n",
       "<div id=\"subject\">선택자</div>\n",
       "<div class=\"contents\">선택자를 어떻게 작성하느냐에 따라\n",
       "      <span>다른 <b>요소가 반환</b></span> 됩니다.</div>\n",
       "<div>CSS 선택자는 다양한 곳에서 <b>활용</b>됩니다.</div>\n",
       "</body>\n",
       "</html>"
      ]
     },
     "execution_count": 5,
     "metadata": {},
     "output_type": "execute_result"
    }
   ],
   "source": [
    "from bs4 import BeautifulSoup\n",
    "soup = BeautifulSoup(html, 'html.parser')\n",
    "soup"
   ]
  },
  {
   "cell_type": "code",
   "execution_count": 7,
   "id": "2a563429",
   "metadata": {},
   "outputs": [
    {
     "data": {
      "text/plain": [
       "'Hello CSS'"
      ]
     },
     "execution_count": 7,
     "metadata": {},
     "output_type": "execute_result"
    }
   ],
   "source": [
    "el = soup.select_one('h1')\n",
    "el.text"
   ]
  },
  {
   "cell_type": "code",
   "execution_count": 10,
   "id": "299be65b",
   "metadata": {},
   "outputs": [
    {
     "data": {
      "text/plain": [
       "[<div id=\"subject\">선택자</div>,\n",
       " <div class=\"contents\">선택자를 어떻게 작성하느냐에 따라\n",
       "       <span>다른 <b>요소가 반환</b></span> 됩니다.</div>,\n",
       " <div>CSS 선택자는 다양한 곳에서 <b>활용</b>됩니다.</div>]"
      ]
     },
     "execution_count": 10,
     "metadata": {},
     "output_type": "execute_result"
    }
   ],
   "source": [
    "div_el = soup.select('div')\n",
    "div_el"
   ]
  },
  {
   "cell_type": "code",
   "execution_count": 11,
   "id": "11e2da32",
   "metadata": {},
   "outputs": [
    {
     "data": {
      "text/plain": [
       "[<h1>Hello CSS</h1>, <span>다른 <b>요소가 반환</b></span>]"
      ]
     },
     "execution_count": 11,
     "metadata": {},
     "output_type": "execute_result"
    }
   ],
   "source": [
    "soup.select('h1, span')"
   ]
  },
  {
   "cell_type": "code",
   "execution_count": 12,
   "id": "16bc840e",
   "metadata": {},
   "outputs": [
    {
     "data": {
      "text/plain": [
       "[<b>요소가 반환</b>, <b>활용</b>]"
      ]
     },
     "execution_count": 12,
     "metadata": {},
     "output_type": "execute_result"
    }
   ],
   "source": [
    "#div > span > b\n",
    "soup.select('div b')"
   ]
  },
  {
   "cell_type": "code",
   "execution_count": 14,
   "id": "17361f30",
   "metadata": {},
   "outputs": [
    {
     "data": {
      "text/plain": [
       "<b>활용</b>"
      ]
     },
     "execution_count": 14,
     "metadata": {},
     "output_type": "execute_result"
    }
   ],
   "source": [
    "soup.select_one('div > b')"
   ]
  },
  {
   "cell_type": "code",
   "execution_count": null,
   "id": "236730c7",
   "metadata": {},
   "outputs": [
    {
     "data": {
      "text/plain": [
       "[<div class=\"contents\">선택자를 어떻게 작성하느냐에 따라\n",
       "       <span>다른 <b>요소가 반환</b></span> 됩니다.</div>]"
      ]
     },
     "execution_count": 15,
     "metadata": {},
     "output_type": "execute_result"
    }
   ],
   "source": [
    "soup.select('.contents') # class 선택자"
   ]
  },
  {
   "cell_type": "code",
   "execution_count": 16,
   "id": "d64453d0",
   "metadata": {},
   "outputs": [
    {
     "data": {
      "text/plain": [
       "'\\n<html>\\n<head><title>HTML Sample</title>\\n</head>\\n<body>\\n    <h1>Hello CSS</h1>\\n    <div id=\"subject\">선택자</div>\\n    <div class=\"contents\">선택자를 어떻게 작성하느냐에 따라\\n      <span>다른 <b>요소가 반환</b></span> 됩니다.</div>\\n    <div>CSS 선택자는 다양한 곳에서 <b>활용</b>됩니다.</div>\\n</body>\\n</html>\\n'"
      ]
     },
     "execution_count": 16,
     "metadata": {},
     "output_type": "execute_result"
    }
   ],
   "source": [
    "html"
   ]
  },
  {
   "cell_type": "code",
   "execution_count": null,
   "id": "945ad226",
   "metadata": {},
   "outputs": [
    {
     "data": {
      "text/plain": [
       "[<div id=\"subject\">선택자</div>]"
      ]
     },
     "execution_count": 17,
     "metadata": {},
     "output_type": "execute_result"
    }
   ],
   "source": [
    "# 아이디 선택자\n",
    "soup.select('#subject')\n",
    "\n",
    "# 속설 선택자 \n",
    "soup.select('[class]')"
   ]
  },
  {
   "cell_type": "code",
   "execution_count": 18,
   "id": "f68800b9",
   "metadata": {},
   "outputs": [
    {
     "name": "stdout",
     "output_type": "stream",
     "text": [
      "123\n"
     ]
    }
   ],
   "source": [
    "import re\n",
    "pattern = re.compile(r'\\d+')  # 숫자이면서 1개 이상 반복되는 것\n",
    "match = pattern.match('123abc')\n",
    "if match:\n",
    "    print(match.group())  "
   ]
  },
  {
   "cell_type": "code",
   "execution_count": null,
   "id": "ca3b1dbe",
   "metadata": {},
   "outputs": [
    {
     "name": "stdout",
     "output_type": "stream",
     "text": [
      "['010-222-3333', '02-5678-9988']\n",
      "['grovy04@gmail.com']\n"
     ]
    }
   ],
   "source": [
    "import re\n",
    "contents = 'hello grovy04@gmail.com 010-222-3333 world 02-5678-9988'\n",
    "\n",
    "# 패턴 정하기 \n",
    "# raw, 위의 예에서 전화번호를 찾는 패턴\n",
    "pattern = re.compile(r'\\d{2,3}-\\d{3,4}-\\d{4}') \n",
    "\n",
    "# re.findall(phone_pattern, contents)와 같음\n",
    "phone_list = phone_pattern.findall(contents)  \n",
    "\n",
    "print(phone_list)\n",
    "\n",
    "# 이메일 패턴\n",
    "email_pattern = re.compile(r'[a-zA-Z0-9._%+-]+@[a-zA-Z0-9.-]+\\.[a-zA-Z]{2,}') \n",
    "\n",
    "email_list = re.findall(email_pattern, contents)\n",
    "print(email_list)"
   ]
  },
  {
   "cell_type": "code",
   "execution_count": 20,
   "id": "b38b1d82",
   "metadata": {},
   "outputs": [],
   "source": [
    "# Selenium: 웹 브라우저 자동화 \n",
    "import selenium"
   ]
  },
  {
   "cell_type": "code",
   "execution_count": 22,
   "id": "b8f9c1df",
   "metadata": {},
   "outputs": [],
   "source": [
    "from selenium import webdriver\n",
    "driver = webdriver.Chrome()\n",
    "driver.get('https://www.python.org/')"
   ]
  },
  {
   "cell_type": "code",
   "execution_count": 23,
   "id": "b0f0262d",
   "metadata": {},
   "outputs": [],
   "source": [
    "driver.close()"
   ]
  },
  {
   "cell_type": "code",
   "execution_count": null,
   "id": "5a27770e",
   "metadata": {},
   "outputs": [],
   "source": [
    "res = requests.get('http://localhost:5500/html/sample.html')\n",
    "print(res.status_code)\n",
    "print(res.text)"
   ]
  }
 ],
 "metadata": {
  "kernelspec": {
   "display_name": "webcrawl_env",
   "language": "python",
   "name": "python3"
  },
  "language_info": {
   "codemirror_mode": {
    "name": "ipython",
    "version": 3
   },
   "file_extension": ".py",
   "mimetype": "text/x-python",
   "name": "python",
   "nbconvert_exporter": "python",
   "pygments_lexer": "ipython3",
   "version": "3.10.18"
  }
 },
 "nbformat": 4,
 "nbformat_minor": 5
}
