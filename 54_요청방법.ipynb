{
 "cells": [
  {
   "cell_type": "code",
   "execution_count": 3,
   "id": "6a1b4b7c",
   "metadata": {},
   "outputs": [
    {
     "data": {
      "text/plain": [
       "(200,\n",
       " '{\\n  \"args\": {}, \\n  \"headers\": {\\n    \"Accept\": \"*/*\", \\n    \"Accept-Encoding\": \"gzip, deflate\", \\n    \"Host\": \"httpbin.org\", \\n    \"User-Agent\": \"python-requests/2.32.4\", \\n    \"X-Amzn-Trace-Id\": \"Root=1-68870d68-36eccad05913406d338beb74\"\\n  }, \\n  \"origin\": \"118.36.174.103\", \\n  \"url\": \"https://httpbin.org/get\"\\n}\\n')"
      ]
     },
     "execution_count": 3,
     "metadata": {},
     "output_type": "execute_result"
    }
   ],
   "source": [
    "import requests\n",
    "url = 'https://httpbin.org/get'\n",
    "response = requests.get(url)\n",
    "response.status_code, response.text"
   ]
  },
  {
   "cell_type": "code",
   "execution_count": 5,
   "id": "5cf7c0ed",
   "metadata": {},
   "outputs": [
    {
     "data": {
      "text/plain": [
       "(200,\n",
       " '{\\n  \"args\": {\\n    \"age\": \"20\", \\n    \"name\": \"iris\"\\n  }, \\n  \"headers\": {\\n    \"Accept\": \"*/*\", \\n    \"Accept-Encoding\": \"gzip, deflate\", \\n    \"Host\": \"httpbin.org\", \\n    \"User-Agent\": \"python-requests/2.32.4\", \\n    \"X-Amzn-Trace-Id\": \"Root=1-68870eab-0b0559f07fdf1b5b7efbc096\"\\n  }, \\n  \"origin\": \"118.36.174.103\", \\n  \"url\": \"https://httpbin.org/get?name=iris&age=20\"\\n}\\n')"
      ]
     },
     "execution_count": 5,
     "metadata": {},
     "output_type": "execute_result"
    }
   ],
   "source": [
    "params = {\n",
    "    'name':'iris',\n",
    "    'age': '20'\n",
    "}\n",
    "url = 'https://httpbin.org/get'\n",
    "\n",
    "response = requests.get(url, params=params)\n",
    "response.status_code, response.text"
   ]
  },
  {
   "cell_type": "code",
   "execution_count": 8,
   "id": "2fd50e20",
   "metadata": {},
   "outputs": [
    {
     "name": "stdout",
     "output_type": "stream",
     "text": [
      "{\n",
      "  \"args\": {}, \n",
      "  \"data\": \"\", \n",
      "  \"files\": {}, \n",
      "  \"form\": {\n",
      "    \"key\": \"value\"\n",
      "  }, \n",
      "  \"headers\": {\n",
      "    \"Accept\": \"*/*\", \n",
      "    \"Accept-Encoding\": \"gzip, deflate\", \n",
      "    \"Content-Length\": \"9\", \n",
      "    \"Content-Type\": \"application/x-www-form-urlencoded\", \n",
      "    \"Host\": \"httpbin.org\", \n",
      "    \"User-Agent\": \"python-requests/2.32.4\", \n",
      "    \"X-Amzn-Trace-Id\": \"Root=1-68870f1e-54632ea169cd47550af23748\"\n",
      "  }, \n",
      "  \"json\": null, \n",
      "  \"origin\": \"118.36.174.103\", \n",
      "  \"url\": \"https://httpbin.org/post\"\n",
      "}\n",
      "\n"
     ]
    }
   ],
   "source": [
    "url = 'https://httpbin.org/post'\n",
    "response = requests.post(url, data={'key': 'value'})\n",
    "print(response.text)"
   ]
  },
  {
   "cell_type": "code",
   "execution_count": 10,
   "id": "69c1149b",
   "metadata": {},
   "outputs": [
    {
     "data": {
      "text/plain": [
       "'application/x-www-form-urlencoded'"
      ]
     },
     "execution_count": 10,
     "metadata": {},
     "output_type": "execute_result"
    }
   ],
   "source": [
    "response.json()['headers']['Content-Type']"
   ]
  },
  {
   "cell_type": "code",
   "execution_count": 11,
   "id": "74a52b3d",
   "metadata": {},
   "outputs": [
    {
     "data": {
      "text/plain": [
       "'python-requests/2.32.4'"
      ]
     },
     "execution_count": 11,
     "metadata": {},
     "output_type": "execute_result"
    }
   ],
   "source": [
    "response.json()['headers']['User-Agent']"
   ]
  },
  {
   "cell_type": "code",
   "execution_count": 12,
   "id": "c24e343b",
   "metadata": {},
   "outputs": [
    {
     "name": "stdout",
     "output_type": "stream",
     "text": [
      "{\n",
      "  \"args\": {}, \n",
      "  \"data\": \"{\\\"key\\\": \\\"value\\\"}\", \n",
      "  \"files\": {}, \n",
      "  \"form\": {}, \n",
      "  \"headers\": {\n",
      "    \"Accept\": \"*/*\", \n",
      "    \"Accept-Encoding\": \"gzip, deflate\", \n",
      "    \"Content-Length\": \"16\", \n",
      "    \"Content-Type\": \"application/json\", \n",
      "    \"Host\": \"httpbin.org\", \n",
      "    \"User-Agent\": \"python-requests/2.32.4\", \n",
      "    \"X-Amzn-Trace-Id\": \"Root=1-68871019-1a67aaa519791b94399a7b5e\"\n",
      "  }, \n",
      "  \"json\": {\n",
      "    \"key\": \"value\"\n",
      "  }, \n",
      "  \"origin\": \"118.36.174.103\", \n",
      "  \"url\": \"https://httpbin.org/post\"\n",
      "}\n",
      "\n"
     ]
    }
   ],
   "source": [
    "url = 'https://httpbin.org/post'\n",
    "response = requests.post(url, json={'key': 'value'})\n",
    "print(response.text)"
   ]
  },
  {
   "cell_type": "code",
   "execution_count": null,
   "id": "ab3d2552",
   "metadata": {},
   "outputs": [],
   "source": []
  }
 ],
 "metadata": {
  "kernelspec": {
   "display_name": "webcrawl_env",
   "language": "python",
   "name": "python3"
  },
  "language_info": {
   "codemirror_mode": {
    "name": "ipython",
    "version": 3
   },
   "file_extension": ".py",
   "mimetype": "text/x-python",
   "name": "python",
   "nbconvert_exporter": "python",
   "pygments_lexer": "ipython3",
   "version": "3.10.18"
  }
 },
 "nbformat": 4,
 "nbformat_minor": 5
}
