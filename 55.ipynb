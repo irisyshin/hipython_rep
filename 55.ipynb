{
 "cells": [
  {
   "cell_type": "markdown",
   "id": "aad22558",
   "metadata": {},
   "source": [
    "도서정보객체"
   ]
  },
  {
   "cell_type": "code",
   "execution_count": 26,
   "id": "db9d34a0",
   "metadata": {},
   "outputs": [],
   "source": [
    "class Book:\n",
    "    def __init__(self, rank, title, author, price):\n",
    "        self.rank = rank\n",
    "        self.title = title\n",
    "        self.author = author\n",
    "        self.price = price\n",
    "\n",
    "    def __str__(self):\n",
    "        return f\"{self.rank}, {self.title}, {self.author}, {self.price}\"\n",
    "    \n",
    "    def to_dict(self):\n",
    "        return {'rank':self.rank, \n",
    "                'title':self.title, \n",
    "                'author':self.author, \n",
    "                'price':self.price}\n",
    "    \n",
    "    def to_list(self):\n",
    "        return [self.rank, \n",
    "                self.title, \n",
    "                self.author, \n",
    "                self.price]"
   ]
  },
  {
   "cell_type": "code",
   "execution_count": 3,
   "id": "2fe75f13",
   "metadata": {},
   "outputs": [
    {
     "data": {
      "text/plain": [
       "24"
      ]
     },
     "execution_count": 3,
     "metadata": {},
     "output_type": "execute_result"
    }
   ],
   "source": [
    "import requests\n",
    "from bs4 import BeautifulSoup\n",
    "\n",
    "url = 'https://www.yes24.com/Product/Category/BestSeller?categoryNumber=001'\n",
    "res = requests.get(url)\n",
    "soup = BeautifulSoup(res.content, 'html.parser')\n",
    "best_list_el = soup.select('#yesBestList div.item_info')\n",
    "len(best_list_el)"
   ]
  },
  {
   "cell_type": "code",
   "execution_count": 4,
   "id": "586ddd0b",
   "metadata": {},
   "outputs": [
    {
     "name": "stdout",
     "output_type": "stream",
     "text": [
      "1, 혼모노, 성해나, 16,200원\n",
      "2, 류수영의 평생 레시피, 류수영, 22,500원\n",
      "3, 가공범, 히가시노 게이고, 19,800원\n",
      "4, 돌비공포라디오 더 레드, 돌비, 17,820원\n",
      "5, 2025 큰별쌤 최태성의 별별한국사 한국사능력검정시험 심화(1,2,3급) 상, 최태성, 14,850원\n",
      "6, 박곰희 연금 부자 수업, 박곰희, 18,900원\n",
      "7, 2025 큰별쌤 최태성의 별별한국사 기출 500제 한국사능력검정시험 심화(1,2,3급), 최태성, 17,550원\n",
      "8, 단 한 줄만 내 마음에 새긴다고 해도, 나민애, 21,420원\n",
      "9, 2025 큰별쌤 최태성의 별별한국사 한국사능력검정시험 심화(1,2,3급) 하, 최태성, 14,400원\n",
      "10, ETS 토익 정기시험 기출문제집 1000 Vol. 4 RC, ETS, 17,820원\n",
      "11, ETS 토익 정기시험 기출문제집 1000 Vol. 4 LC, ETS, 17,820원\n",
      "12, 료의 생각 없는 생각, 료, 18,000원\n",
      "13, 모순, 양귀자, 11,700원\n",
      "14, 안녕이라 그랬어, 김애란, 15,120원\n",
      "15, 자몽살구클럽, 한로로, 10,800원\n",
      "16, 인생을 바꾸는 최고의 ETF, 잼투리, 22,050원\n",
      "17, 청춘의 독서, 유시민, 17,010원\n",
      "18, 소년이 온다, 한강, 13,500원\n",
      "19, 첫 여름, 완주, 김금희, 15,300원\n",
      "20, 경험의 멸종, 크리스틴 로젠, 17,820원\n",
      "21, 어른의 행복은 조용하다, 태수, 16,020원\n",
      "22, 견우와 선녀 대본집 세트, 양지훈, 41,400원\n",
      "23, 어른의 품격을 채우는 100일 필사 노트, 김종원, 18,000원\n",
      "24, 야구선수 김원중, 김원중, 18,000원\n"
     ]
    }
   ],
   "source": [
    "book_list = []\n",
    "for i, item in enumerate(best_list_el):\n",
    "    title = item.select_one('div.info_name > a').text\n",
    "    author = item.select_one(' .info_auth > a').text\n",
    "    price = item.select_one('div.info_price .txt_num').text\n",
    "    book_list.append(Book(i+1,title,author,price))\n",
    "    \n",
    "book_list\n",
    "\n",
    "for book in book_list:\n",
    "    print(book)"
   ]
  },
  {
   "cell_type": "code",
   "execution_count": 5,
   "id": "451d3616",
   "metadata": {},
   "outputs": [],
   "source": [
    "query = '''\n",
    "    CREATE TABLE IF NOT EXISTS BOOKS(\n",
    "        RANK INTEGER PRIMARY KEY,\n",
    "        TITLE TEXT,\n",
    "        AUTHOR TEXT,\n",
    "        PRICE INTEGER)'''"
   ]
  },
  {
   "cell_type": "code",
   "execution_count": 6,
   "id": "3e489b20",
   "metadata": {},
   "outputs": [],
   "source": [
    "import sqlite3\n",
    "conn = sqlite3.connect('my_database.db')\n",
    "cursor = conn.cursor()\n",
    "cursor.execute(query)\n",
    "conn.commit()\n",
    "conn.close()"
   ]
  },
  {
   "cell_type": "code",
   "execution_count": 7,
   "id": "8ad218b3",
   "metadata": {},
   "outputs": [],
   "source": [
    "conn = sqlite3.connect('my_database.db')\n",
    "cursor = conn.cursor()"
   ]
  },
  {
   "cell_type": "code",
   "execution_count": 8,
   "id": "90aa6e88",
   "metadata": {},
   "outputs": [
    {
     "ename": "IntegrityError",
     "evalue": "UNIQUE constraint failed: BOOKS.RANK",
     "output_type": "error",
     "traceback": [
      "\u001b[1;31m---------------------------------------------------------------------------\u001b[0m",
      "\u001b[1;31mIntegrityError\u001b[0m                            Traceback (most recent call last)",
      "Cell \u001b[1;32mIn[8], line 6\u001b[0m\n\u001b[0;32m      1\u001b[0m ins_query \u001b[38;5;241m=\u001b[39m \u001b[38;5;124m'''\u001b[39m\n\u001b[0;32m      2\u001b[0m \u001b[38;5;124m    INSERT INTO books (rank, title, author, price) VALUES (?,?,?,?)\u001b[39m\n\u001b[0;32m      3\u001b[0m \u001b[38;5;124m'''\u001b[39m\n\u001b[0;32m      5\u001b[0m \u001b[38;5;28;01mfor\u001b[39;00m book \u001b[38;5;129;01min\u001b[39;00m book_list:\n\u001b[1;32m----> 6\u001b[0m     \u001b[43mcursor\u001b[49m\u001b[38;5;241;43m.\u001b[39;49m\u001b[43mexecute\u001b[49m\u001b[43m(\u001b[49m\u001b[43mins_query\u001b[49m\u001b[43m,\u001b[49m\u001b[43m \u001b[49m\u001b[43mbook\u001b[49m\u001b[38;5;241;43m.\u001b[39;49m\u001b[43mto_list\u001b[49m\u001b[43m(\u001b[49m\u001b[43m)\u001b[49m\u001b[43m)\u001b[49m\n\u001b[0;32m      8\u001b[0m conn\u001b[38;5;241m.\u001b[39mcommit()\n\u001b[0;32m      9\u001b[0m conn\u001b[38;5;241m.\u001b[39mclose()\n",
      "\u001b[1;31mIntegrityError\u001b[0m: UNIQUE constraint failed: BOOKS.RANK"
     ]
    }
   ],
   "source": [
    "ins_query = '''\n",
    "    INSERT INTO books (rank, title, author, price) VALUES (?,?,?,?)\n",
    "'''\n",
    "\n",
    "for book in book_list:\n",
    "    cursor.execute(ins_query, book.to_list())\n",
    "\n",
    "conn.commit()\n",
    "conn.close()"
   ]
  },
  {
   "cell_type": "code",
   "execution_count": 29,
   "id": "a43f5f9d",
   "metadata": {},
   "outputs": [
    {
     "name": "stdout",
     "output_type": "stream",
     "text": [
      "Requirement already satisfied: pandas in c:\\users\\admin\\miniconda3\\envs\\webcrawl_env\\lib\\site-packages (2.3.1)\n",
      "Collecting mysql-connector-python\n",
      "  Downloading mysql_connector_python-9.4.0-cp310-cp310-win_amd64.whl.metadata (7.5 kB)\n",
      "Requirement already satisfied: numpy>=1.22.4 in c:\\users\\admin\\miniconda3\\envs\\webcrawl_env\\lib\\site-packages (from pandas) (2.2.6)\n",
      "Requirement already satisfied: python-dateutil>=2.8.2 in c:\\users\\admin\\miniconda3\\envs\\webcrawl_env\\lib\\site-packages (from pandas) (2.9.0.post0)\n",
      "Requirement already satisfied: pytz>=2020.1 in c:\\users\\admin\\miniconda3\\envs\\webcrawl_env\\lib\\site-packages (from pandas) (2025.2)\n",
      "Requirement already satisfied: tzdata>=2022.7 in c:\\users\\admin\\miniconda3\\envs\\webcrawl_env\\lib\\site-packages (from pandas) (2025.2)\n",
      "Requirement already satisfied: six>=1.5 in c:\\users\\admin\\miniconda3\\envs\\webcrawl_env\\lib\\site-packages (from python-dateutil>=2.8.2->pandas) (1.17.0)\n",
      "Downloading mysql_connector_python-9.4.0-cp310-cp310-win_amd64.whl (16.4 MB)\n",
      "   ---------------------------------------- 0.0/16.4 MB ? eta -:--:--\n",
      "   -------------------------- ------------- 11.0/16.4 MB 57.2 MB/s eta 0:00:01\n",
      "   ---------------------------------------- 16.4/16.4 MB 54.3 MB/s eta 0:00:00\n",
      "Installing collected packages: mysql-connector-python\n",
      "Successfully installed mysql-connector-python-9.4.0\n",
      "Note: you may need to restart the kernel to use updated packages.\n"
     ]
    }
   ],
   "source": [
    "pip install pandas mysql-connector-python\n"
   ]
  },
  {
   "cell_type": "markdown",
   "id": "cc111fb8",
   "metadata": {},
   "source": [
    "## db table에서 읽어오기\n"
   ]
  },
  {
   "cell_type": "code",
   "execution_count": 9,
   "id": "27e5fc8d",
   "metadata": {},
   "outputs": [],
   "source": [
    "def fetch_book_list_from_db():\n",
    "  conn = sqlite3.connect('my_database.db')\n",
    "  cursor= conn.cursor()\n",
    "  try:\n",
    "    cursor.execute('select * from books')\n",
    "    rows = cursor.fetchall()\n",
    "    return rows\n",
    "  finally:\n",
    "    conn.close()  "
   ]
  },
  {
   "cell_type": "code",
   "execution_count": 10,
   "id": "8ea5992d",
   "metadata": {},
   "outputs": [
    {
     "name": "stdout",
     "output_type": "stream",
     "text": [
      "(1, '혼모노', '성해나', '16,200원')\n",
      "(2, '류수영의 평생 레시피', '류수영', '22,500원')\n",
      "(3, '가공범', '히가시노 게이고', '19,800원')\n",
      "(4, '돌비공포라디오 더 레드', '돌비', '17,820원')\n",
      "(5, '2025 큰별쌤 최태성의 별별한국사 한국사능력검정시험 심화(1,2,3급) 상', '최태성', '14,850원')\n",
      "(6, '박곰희 연금 부자 수업', '박곰희', '18,900원')\n",
      "(7, '2025 큰별쌤 최태성의 별별한국사 기출 500제 한국사능력검정시험 심화(1,2,3급)', '최태성', '17,550원')\n",
      "(8, '단 한 줄만 내 마음에 새긴다고 해도', '나민애', '21,420원')\n",
      "(9, '2025 큰별쌤 최태성의 별별한국사 한국사능력검정시험 심화(1,2,3급) 하', '최태성', '14,400원')\n",
      "(10, 'ETS 토익 정기시험 기출문제집 1000 Vol. 4 RC', 'ETS', '17,820원')\n",
      "(11, 'ETS 토익 정기시험 기출문제집 1000 Vol. 4 LC', 'ETS', '17,820원')\n",
      "(12, '료의 생각 없는 생각', '료', '18,000원')\n",
      "(13, '모순', '양귀자', '11,700원')\n",
      "(14, '안녕이라 그랬어', '김애란', '15,120원')\n",
      "(15, '자몽살구클럽', '한로로', '10,800원')\n",
      "(16, '인생을 바꾸는 최고의 ETF', '잼투리', '22,050원')\n",
      "(17, '청춘의 독서', '유시민', '17,010원')\n",
      "(18, '소년이 온다', '한강', '13,500원')\n",
      "(19, '첫 여름, 완주', '김금희', '15,300원')\n",
      "(20, '경험의 멸종', '크리스틴 로젠', '17,820원')\n",
      "(21, '어른의 행복은 조용하다', '태수', '16,020원')\n",
      "(22, '견우와 선녀 대본집 세트', '양지훈', '41,400원')\n",
      "(23, '어른의 품격을 채우는 100일 필사 노트', '김종원', '18,000원')\n",
      "(24, '야구선수 김원중', '김원중', '18,000원')\n"
     ]
    }
   ],
   "source": [
    "books = fetch_book_list_from_db()\n",
    "for book in books:\n",
    "  print(book)"
   ]
  },
  {
   "cell_type": "code",
   "execution_count": 20,
   "id": "4c04deff",
   "metadata": {},
   "outputs": [],
   "source": [
    "#  SQLite에 books 테이블 생성\n",
    "import sqlite3\n",
    "\n",
    "conn = sqlite3.connect('my_database.db')\n",
    "cursor = conn.cursor()\n",
    "\n",
    "# 테이블 만들기\n",
    "cursor.execute('''\n",
    "CREATE TABLE IF NOT EXISTS books (\n",
    "    id INTEGER PRIMARY KEY,\n",
    "    title TEXT,\n",
    "    author TEXT,\n",
    "    price TEXT\n",
    ")\n",
    "''')\n",
    "\n",
    "conn.commit()"
   ]
  },
  {
   "cell_type": "code",
   "execution_count": 27,
   "id": "fa47faae",
   "metadata": {},
   "outputs": [
    {
     "ename": "AttributeError",
     "evalue": "'Book' object has no attribute 'id'",
     "output_type": "error",
     "traceback": [
      "\u001b[1;31m---------------------------------------------------------------------------\u001b[0m",
      "\u001b[1;31mAttributeError\u001b[0m                            Traceback (most recent call last)",
      "Cell \u001b[1;32mIn[27], line 41\u001b[0m\n\u001b[0;32m     37\u001b[0m \u001b[38;5;66;03m# 3. 데이터 저장\u001b[39;00m\n\u001b[0;32m     38\u001b[0m \u001b[38;5;28;01mfor\u001b[39;00m book \u001b[38;5;129;01min\u001b[39;00m book_list:\n\u001b[0;32m     39\u001b[0m     cursor\u001b[38;5;241m.\u001b[39mexecute(\n\u001b[0;32m     40\u001b[0m         \u001b[38;5;124m\"\u001b[39m\u001b[38;5;124mINSERT INTO books VALUES (?, ?, ?, ?)\u001b[39m\u001b[38;5;124m\"\u001b[39m,\n\u001b[1;32m---> 41\u001b[0m         (\u001b[43mbook\u001b[49m\u001b[38;5;241;43m.\u001b[39;49m\u001b[43mid\u001b[49m, book\u001b[38;5;241m.\u001b[39mtitle, book\u001b[38;5;241m.\u001b[39mauthor, book\u001b[38;5;241m.\u001b[39mprice)\n\u001b[0;32m     42\u001b[0m     )\n\u001b[0;32m     44\u001b[0m conn\u001b[38;5;241m.\u001b[39mcommit()\n\u001b[0;32m     45\u001b[0m conn\u001b[38;5;241m.\u001b[39mclose()\n",
      "\u001b[1;31mAttributeError\u001b[0m: 'Book' object has no attribute 'id'"
     ]
    }
   ],
   "source": [
    "# 여러페이지 가져오기 \n",
    "base_url = 'https://www.yes24.com/product/category/bestseller?categoryNumber=001&pageSize=24&pageNumber='\n",
    "page_no = 4\n",
    "book_list = []\n",
    "book_id = 1\n",
    "\n",
    "for page in range (1, page_no+1):\n",
    "    url = f'{base_url}{page}'\n",
    "    # print(url)\n",
    "    res = requests.get(url)\n",
    "    soup = BeautifulSoup(res.content, 'html.parser')\n",
    "    best_list_el = soup.select('#yesBestList div.item_info')\n",
    "    \n",
    "    #요소 추출\n",
    "    for i, item in enumerate(best_list_el):\n",
    "        title = item.select_one('div.info_name > a').text\n",
    "        author = item.select_one(' .info_auth > a').text\n",
    "        price = item.select_one('div.info_price .txt_num').text\n",
    "        book_list.append(Book(book_id,title,author,price))\n",
    "        book_id += 1\n",
    "len(book_list)\n",
    "\n",
    "# 2. SQLite 연결 및 테이블 생성\n",
    "conn = sqlite3.connect('my_database.db')\n",
    "cursor = conn.cursor()\n",
    "\n",
    "cursor.execute(\"DROP TABLE IF EXISTS books\")\n",
    "cursor.execute('''\n",
    "CREATE TABLE books (\n",
    "    id INTEGER PRIMARY KEY,\n",
    "    title TEXT,\n",
    "    author TEXT,\n",
    "    price TEXT\n",
    ")\n",
    "''')\n",
    "\n",
    "# 3. 데이터 저장\n",
    "for book in book_list:\n",
    "    cursor.execute(\n",
    "        \"INSERT INTO books VALUES (?, ?, ?, ?)\",\n",
    "        (book.id, book.title, book.author, book.price)\n",
    "    )\n",
    "\n",
    "conn.commit()\n",
    "conn.close()"
   ]
  },
  {
   "cell_type": "code",
   "execution_count": null,
   "id": "022d21b0",
   "metadata": {},
   "outputs": [],
   "source": []
  },
  {
   "cell_type": "code",
   "execution_count": null,
   "id": "98da9e9c",
   "metadata": {},
   "outputs": [
    {
     "name": "stdout",
     "output_type": "stream",
     "text": [
      "완료\n"
     ]
    }
   ],
   "source": [
    "import sqlite3\n",
    "import mysql.connector\n",
    "\n",
    "# 1. SQLite 연결\n",
    "sqlite_conn = sqlite3.connect('my_database.db')\n",
    "sqlite_cursor = sqlite_conn.cursor()\n",
    "\n",
    "# 2. MySQL 연결\n",
    "mysql_conn = mysql.connector.connect(\n",
    "    host='localhost',\n",
    "    user='root',\n",
    "    password='1234',\n",
    "    database='분석실습',\n",
    "    charset='utf8mb4'\n",
    ")\n",
    "mysql_cursor = mysql_conn.cursor()\n",
    "\n",
    "# 3. MySQL에 BOOKS 테이블이 없다면 생성\n",
    "mysql_cursor.execute('''\n",
    "CREATE TABLE IF NOT EXISTS BOOKS (\n",
    "    id INT PRIMARY KEY,\n",
    "    title VARCHAR(255),\n",
    "    author VARCHAR(255),\n",
    "    price VARCHAR(20)\n",
    ")\n",
    "''')\n",
    "\n",
    "# 4. SQLite에서 데이터 가져오기\n",
    "sqlite_cursor.execute(\"SELECT * FROM BOOKS\")\n",
    "rows = sqlite_cursor.fetchall()\n",
    "\n",
    "# 5. 데이터 삽입 (형식 맞춰서)\n",
    "for row in rows:\n",
    "    # price 문자열이면 정제 필요: '16,200원' → '16200'\n",
    "    id_, title, author, price = row\n",
    "    clean_price = price.replace(',', '').replace('원', '')\n",
    "    \n",
    "    mysql_cursor.execute(\n",
    "        \"INSERT INTO BOOKS (id, title, author, price) VALUES (%s, %s, %s, %s)\",\n",
    "        (id_, title, author, clean_price)\n",
    "    )\n",
    "\n",
    "mysql_conn.commit()\n",
    "print(\"완료\")\n"
   ]
  },
  {
   "cell_type": "code",
   "execution_count": null,
   "id": "01b8ce2c",
   "metadata": {},
   "outputs": [],
   "source": []
  }
 ],
 "metadata": {
  "kernelspec": {
   "display_name": "webcrawl_env",
   "language": "python",
   "name": "python3"
  },
  "language_info": {
   "codemirror_mode": {
    "name": "ipython",
    "version": 3
   },
   "file_extension": ".py",
   "mimetype": "text/x-python",
   "name": "python",
   "nbconvert_exporter": "python",
   "pygments_lexer": "ipython3",
   "version": "3.10.18"
  }
 },
 "nbformat": 4,
 "nbformat_minor": 5
}
