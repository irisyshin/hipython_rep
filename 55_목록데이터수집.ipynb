{
 "cells": [
  {
   "cell_type": "markdown",
   "id": "f211a347",
   "metadata": {},
   "source": [
    "# 도서 정보 객체"
   ]
  },
  {
   "cell_type": "code",
   "execution_count": 1,
   "id": "aab611b0",
   "metadata": {},
   "outputs": [],
   "source": [
    "class Book:\n",
    "    def __init__(self, rank, title, author, price):\n",
    "        self.rank = rank\n",
    "        self.title = title\n",
    "        self.author = author\n",
    "        self.price = price\n",
    "\n",
    "    def __str__(self):\n",
    "        return f\"{self.rank}, {self.title}, {self.author}, {self.price}\"\n",
    "    \n",
    "    def to_dict(self):\n",
    "        return {'rank':self.rank, \n",
    "                'title':self.title, \n",
    "                'author':self.author, \n",
    "                'price':self.price}\n",
    "    \n",
    "    def to_list(self):\n",
    "        return [self.rank, \n",
    "                self.title, \n",
    "                self.author, \n",
    "                self.price]"
   ]
  },
  {
   "cell_type": "markdown",
   "id": "24b0b401",
   "metadata": {},
   "source": [
    "#yesBestList > li:nth-child(1) > div > div.item_info"
   ]
  },
  {
   "cell_type": "code",
   "execution_count": 2,
   "id": "e270f3f6",
   "metadata": {},
   "outputs": [
    {
     "data": {
      "text/plain": [
       "24"
      ]
     },
     "execution_count": 2,
     "metadata": {},
     "output_type": "execute_result"
    }
   ],
   "source": [
    "import requests\n",
    "from bs4 import BeautifulSoup\n",
    "\n",
    "url = 'https://www.yes24.com/Product/Category/BestSeller?categoryNumber=001'\n",
    "res = requests.get(url)\n",
    "soup = BeautifulSoup(res.content, 'html.parser')\n",
    "best_list_el = soup.select('#yesBestList div.item_info')\n",
    "len(best_list_el)\n"
   ]
  },
  {
   "cell_type": "code",
   "execution_count": 3,
   "id": "4539868a",
   "metadata": {},
   "outputs": [
    {
     "data": {
      "text/plain": [
       "<div class=\"item_info\">\n",
       "<div class=\"info_row info_keynote\">\n",
       "<span class=\"gd_keynote\" id=\"spanGdKeynote\">\n",
       "<a class=\"iconC tBook\" href=\"/24/Category/More/001014?ElemNo=13&amp;ElemSeq=1&amp;Gcode=000_030_001\"><em class=\"txt\">오늘의책</em></a>\n",
       "<!-- 클래스24 상품일 경우 -->\n",
       "</span>\n",
       "<script type=\"text/javascript\">\n",
       "        if ($('#spanGdKeynote').children().length == 0) {\n",
       "            $('#spanGdKeynote').remove();\n",
       "        }\n",
       "    </script>\n",
       "</div>\n",
       "<div class=\"info_row info_name\">\n",
       "<span class=\"gd_res\">[도서]</span>\n",
       "<a class=\"gd_name\" href=\"/product/goods/143911524\" onclick=\"wiseLogV2('BS', '001_005_001', ''); \">혼모노</a>\n",
       "<a class=\"bgYUI ico_nWin\" href=\"/product/goods/143911524\" onclick=\"wiseLogV2('BS', '001_005_001', ''); \" target=\"_blank\">혼모노 새창이동</a>\n",
       "</div>\n",
       "<div class=\"info_row info_pubGrp\">\n",
       "<span class=\"authPub info_auth\" onclick=\"wiseLogV2('BS', '001_005_002', '');\">\n",
       "<a href=\"https://www.yes24.com/product/search?domain=ALL&amp;query=%25EC%2584%25B1%25ED%2595%25B4%25EB%2582%2598&amp;authorNo=253719&amp;author=성해나\" target=\"\">성해나</a> 저\n",
       "                            </span>\n",
       "<span class=\"authPub info_pub\" onclick=\"wiseLogV2('BS', '001_005_003', '');\"><a href=\"https://www.yes24.com/product/search?&amp;domain=ALL&amp;company=%ec%b0%bd%eb%b9%84&amp;query=%25EC%25B0%25BD%25EB%25B9%2584\">창비</a></span>\n",
       "<span class=\"authPub info_date\">2025년 03월</span>\n",
       "</div>\n",
       "<dl class=\"info_present\">\n",
       "<dt><em class=\"bgYUI ico_present\">구매혜택</em></dt>\n",
       "<dd>\n",
       "<a href=\"https://event.yes24.com/template?EventNo=260529\">사과 책갈피 선택가능(포인트 차감) </a>\n",
       "</dd>\n",
       "</dl>\n",
       "<div class=\"info_row info_price\">\n",
       "<span class=\"txt_sale\"><em class=\"num\">10</em>%</span>\n",
       "<strong class=\"txt_num\"><em class=\"yes_b\">16,200</em>원</strong>\n",
       "<span class=\"txt_num dash\"><em class=\"yes_m\">18,000</em>원</span>\n",
       "<span class=\"yPoint\"><em class=\"bgYUI ico_point\">포인트적립</em>900원</span>\n",
       "</div>\n",
       "<div class=\"info_row info_rating\">\n",
       "<span class=\"saleNum\">\n",
       "                                판매지수 685,977\n",
       "                            </span>\n",
       "<span class=\"rating_rvCount\">\n",
       "<a href=\"https://www.yes24.com/product/goods/143911524?ReviewYn=Y\" onclick=\"wiseLogV2('BS', '001_005_004', '');\"><em class=\"bit\">회원리뷰</em>(<em class=\"txC_blue\">354</em>건)</a>\n",
       "</span>\n",
       "<span class=\"rating_grade\">\n",
       "<span class=\"bgYUI tRating tRating_10\">리뷰 총점</span><em class=\"yes_b\">9.3</em>\n",
       "<span class=\"moreRatingArea\">\n",
       "<span class=\"moreRatingBtn\">\n",
       "<a class=\"bgYUI\" href=\"javascript:void(0);\" onclick=\"toggleLiCont(this,$('.sGLi'),event);\">정보 더 보기/감추기</a>\n",
       "</span>\n",
       "<span class=\"moreRatingLi\">\n",
       "<span class=\"moreRatingLiRow\">\n",
       "<ul class=\"yesAlertLi\">\n",
       "<li><em class=\"bl_dot bgYUI\"> </em>종이책 리뷰 (157건)</li>\n",
       "<li><em class=\"bl_dot bgYUI\"> </em>eBook 리뷰 (7건)</li>\n",
       "<li><em class=\"bl_dot bgYUI\"> </em>종이책 한줄평 (163건)</li>\n",
       "<li><em class=\"bl_dot bgYUI\"> </em>eBook 한줄평 (27건)</li>\n",
       "</ul>\n",
       "</span>\n",
       "</span>\n",
       "</span>\n",
       "</span>\n",
       "</div>\n",
       "<div class=\"info_row info_deli\" name=\"delvTextArea\"></div>\n",
       "<div class=\"info_row info_tag\">\n",
       "<span class=\"tag\">\n",
       "<a href=\"https://www.yes24.com/product/search?domain=ALL&amp;query=%25ED%2595%259C%25EA%25B5%25AD%25EB%25AC%25B8%25ED%2595%2599%25EC%259D%2598%25EB%25AF%25B8%25EB%259E%2598%25EA%25B0%2580%25EB%2590%25A0%25EC%25A0%258A%25EC%259D%2580%25EC%259E%2591%25EA%25B0%2580&amp;hashNm=%ed%95%9c%ea%b5%ad%eb%ac%b8%ed%95%99%ec%9d%98%eb%af%b8%eb%9e%98%ea%b0%80%eb%90%a0%ec%a0%8a%ec%9d%80%ec%9e%91%ea%b0%80\" onclick=\"wiseLogV2('BS', '001_005_005', ''); setTagClickExtraCode('100', '한국문학의미래가될젊은작가', '143911524','8868');\">#한국문학의미래가될젊은작가</a>\n",
       "</span>\n",
       "<span class=\"tag\">\n",
       "<a href=\"https://www.yes24.com/product/search?domain=ALL&amp;query=%25EB%25AA%25B0%25EC%259E%2585%25ED%2595%2598%25EB%258A%2594%25EB%25B2%2595&amp;hashNm=%eb%aa%b0%ec%9e%85%ed%95%98%eb%8a%94%eb%b2%95\" onclick=\"wiseLogV2('BS', '001_005_005', ''); setTagClickExtraCode('100', '몰입하는법', '143911524','6066');\">#몰입하는법</a>\n",
       "</span>\n",
       "<span class=\"tag\">\n",
       "<a href=\"https://www.yes24.com/product/search?domain=ALL&amp;query=%25ED%2598%2584%25EC%258B%25A4%25EC%259D%2584%25EA%25B7%25B8%25EB%25A0%25B8%25EC%2596%25B4%25EC%259A%2594&amp;hashNm=%ed%98%84%ec%8b%a4%ec%9d%84%ea%b7%b8%eb%a0%b8%ec%96%b4%ec%9a%94\" onclick=\"wiseLogV2('BS', '001_005_005', ''); setTagClickExtraCode('100', '현실을그렸어요', '143911524','2208');\">#현실을그렸어요</a>\n",
       "</span>\n",
       "<span class=\"tag\">\n",
       "<a href=\"https://www.yes24.com/product/search?domain=ALL&amp;query=%25EB%25B8%2594%25EB%259E%2599%25EC%25BD%2594%25EB%25AF%25B8%25EB%2594%2594&amp;hashNm=%eb%b8%94%eb%9e%99%ec%bd%94%eb%af%b8%eb%94%94\" onclick=\"wiseLogV2('BS', '001_005_005', ''); setTagClickExtraCode('100', '블랙코미디', '143911524','1722');\">#블랙코미디</a>\n",
       "</span>\n",
       "</div>\n",
       "<div class=\"info_row info_event\">\n",
       "<div class=\"event\">\n",
       "<span class=\"iconC freeD\"><em class=\"txt\">이벤트</em></span>\n",
       "<span class=\"iconC\"><em class=\"txt\">선착순</em></span>\n",
       "<span class=\"iconC\"><em class=\"txt\">사은품</em></span>\n",
       "<span class=\"iconC\"><em class=\"txt\">기획전</em></span>\n",
       "<span class=\"iconC\"><em class=\"txt\">초대</em></span>\n",
       "<span class=\"txt\"><a href=\"https://event.yes24.com/youngAuthor/2025?p=final\">2025 젊은 작가 투표 1위, 조예은!</a></span>\n",
       "<span class=\"date\">(25.07.16 ~ 25.09.01)</span>\n",
       "</div>\n",
       "</div>\n",
       "<div class=\"info_row info_relG\">\n",
       "                    관련상품 :                            <span class=\"relG\"><a href=\"/product/goods/144649045\">eBook <span class=\"relG_num\">14,400원</span></a></span>\n",
       "</div>\n",
       "</div>"
      ]
     },
     "execution_count": 3,
     "metadata": {},
     "output_type": "execute_result"
    }
   ],
   "source": [
    "best_list_el[0]"
   ]
  },
  {
   "cell_type": "code",
   "execution_count": 4,
   "id": "33117180",
   "metadata": {},
   "outputs": [
    {
     "name": "stdout",
     "output_type": "stream",
     "text": [
      "1, 혼모노, 성해나, 16,200원\n",
      "2, 류수영의 평생 레시피, 류수영, 22,500원\n",
      "3, 가공범, 히가시노 게이고, 19,800원\n",
      "4, 돌비공포라디오 더 레드, 돌비, 17,820원\n",
      "5, 2025 큰별쌤 최태성의 별별한국사 기출 500제 한국사능력검정시험 심화(1,2,3급), 최태성, 17,550원\n",
      "6, 료의 생각 없는 생각, 료, 18,000원\n",
      "7, 박곰희 연금 부자 수업, 박곰희, 18,900원\n",
      "8, 2025 큰별쌤 최태성의 별별한국사 한국사능력검정시험 심화(1,2,3급) 상, 최태성, 14,850원\n",
      "9, 단 한 줄만 내 마음에 새긴다고 해도, 나민애, 21,420원\n",
      "10, 자몽살구클럽, 한로로, 10,800원\n",
      "11, ETS 토익 정기시험 기출문제집 1000 Vol. 4 RC, ETS, 17,820원\n",
      "12, 2025 큰별쌤 최태성의 별별한국사 한국사능력검정시험 심화(1,2,3급) 하, 최태성, 14,400원\n",
      "13, ETS 토익 정기시험 기출문제집 1000 Vol. 4 LC, ETS, 17,820원\n",
      "14, 안녕이라 그랬어, 김애란, 15,120원\n",
      "15, 다크 심리학, 다크 사이드 프로젝트, 19,710원\n",
      "16, 모순, 양귀자, 11,700원\n",
      "17, 편안함의 습격, 마이클 이스터, 19,800원\n",
      "18, 어른의 행복은 조용하다, 태수, 16,020원\n",
      "19, 견우와 선녀 대본집 세트, 양지훈, 41,400원\n",
      "20, 청춘의 독서, 유시민, 17,010원\n",
      "21, 야구선수 김원중, 김원중, 18,000원\n",
      "22, 소년이 온다, 한강, 13,500원\n",
      "23, 첫 여름, 완주, 김금희, 15,300원\n",
      "24, 경험의 멸종, 크리스틴 로젠, 17,820원\n"
     ]
    }
   ],
   "source": [
    "book_list = []\n",
    "for i, item in enumerate(best_list_el):\n",
    "  title = item.select_one('div.info_name > a').text\n",
    "  author = item.select_one('.info_auth > a').text\n",
    "  price = item.select_one('div.info_price .txt_num').text\n",
    "  book_list.append(Book(i+1,title, author, price))\n",
    "  \n",
    "for book in book_list:\n",
    "  print(book)"
   ]
  },
  {
   "cell_type": "code",
   "execution_count": 5,
   "id": "f526213d",
   "metadata": {},
   "outputs": [],
   "source": [
    "query = '''\n",
    "CREATE TABLE IF NOT EXISTS BOOKS(\n",
    "  RANK INTEGER PRIMARY KEY,\n",
    "  TITLE TEXT,\n",
    "  AUTHOR TEXT,\n",
    "  PRICE INTEGER\n",
    ")\n",
    "'''"
   ]
  },
  {
   "cell_type": "code",
   "execution_count": 6,
   "id": "356c412c",
   "metadata": {},
   "outputs": [],
   "source": [
    "import sqlite3\n",
    "conn = sqlite3.connect('my_database.db')\n",
    "cursor = conn.cursor()\n",
    "cursor.execute(query)\n",
    "conn.commit()\n",
    "conn.close()"
   ]
  },
  {
   "cell_type": "code",
   "execution_count": 7,
   "id": "a2480e3c",
   "metadata": {},
   "outputs": [],
   "source": [
    "conn = sqlite3.connect('my_database.db')\n",
    "cursor = conn.cursor()"
   ]
  },
  {
   "cell_type": "code",
   "execution_count": 8,
   "id": "f8835a63",
   "metadata": {},
   "outputs": [],
   "source": [
    "ins_query = '''\n",
    "INSERT INTO books (rank, title, author, price) VALUES (?,?,?,?)\n",
    "'''\n",
    "\n",
    "for book in book_list:\n",
    "  cursor.execute(ins_query, book.to_list())\n",
    "  \n",
    "conn.commit()\n",
    "conn.close()"
   ]
  },
  {
   "cell_type": "markdown",
   "id": "7370e28f",
   "metadata": {},
   "source": [
    "# db table에서 읽어오기"
   ]
  },
  {
   "cell_type": "code",
   "execution_count": 9,
   "id": "192d4141",
   "metadata": {},
   "outputs": [],
   "source": [
    "def fetch_book_list_from_db():\n",
    "  conn = sqlite3.connect('my_database.db')\n",
    "  cursor= conn.cursor()\n",
    "  try:\n",
    "    cursor.execute('select * from books')\n",
    "    rows = cursor.fetchall()\n",
    "    return rows\n",
    "  finally:\n",
    "    conn.close()  "
   ]
  },
  {
   "cell_type": "code",
   "execution_count": 10,
   "id": "7b541a50",
   "metadata": {},
   "outputs": [
    {
     "name": "stdout",
     "output_type": "stream",
     "text": [
      "(1, '혼모노', '성해나', '16,200원')\n",
      "(2, '류수영의 평생 레시피', '류수영', '22,500원')\n",
      "(3, '가공범', '히가시노 게이고', '19,800원')\n",
      "(4, '돌비공포라디오 더 레드', '돌비', '17,820원')\n",
      "(5, '2025 큰별쌤 최태성의 별별한국사 기출 500제 한국사능력검정시험 심화(1,2,3급)', '최태성', '17,550원')\n",
      "(6, '료의 생각 없는 생각', '료', '18,000원')\n",
      "(7, '박곰희 연금 부자 수업', '박곰희', '18,900원')\n",
      "(8, '2025 큰별쌤 최태성의 별별한국사 한국사능력검정시험 심화(1,2,3급) 상', '최태성', '14,850원')\n",
      "(9, '단 한 줄만 내 마음에 새긴다고 해도', '나민애', '21,420원')\n",
      "(10, '자몽살구클럽', '한로로', '10,800원')\n",
      "(11, 'ETS 토익 정기시험 기출문제집 1000 Vol. 4 RC', 'ETS', '17,820원')\n",
      "(12, '2025 큰별쌤 최태성의 별별한국사 한국사능력검정시험 심화(1,2,3급) 하', '최태성', '14,400원')\n",
      "(13, 'ETS 토익 정기시험 기출문제집 1000 Vol. 4 LC', 'ETS', '17,820원')\n",
      "(14, '안녕이라 그랬어', '김애란', '15,120원')\n",
      "(15, '다크 심리학', '다크 사이드 프로젝트', '19,710원')\n",
      "(16, '모순', '양귀자', '11,700원')\n",
      "(17, '편안함의 습격', '마이클 이스터', '19,800원')\n",
      "(18, '어른의 행복은 조용하다', '태수', '16,020원')\n",
      "(19, '견우와 선녀 대본집 세트', '양지훈', '41,400원')\n",
      "(20, '청춘의 독서', '유시민', '17,010원')\n",
      "(21, '야구선수 김원중', '김원중', '18,000원')\n",
      "(22, '소년이 온다', '한강', '13,500원')\n",
      "(23, '첫 여름, 완주', '김금희', '15,300원')\n",
      "(24, '경험의 멸종', '크리스틴 로젠', '17,820원')\n"
     ]
    }
   ],
   "source": [
    "books = fetch_book_list_from_db()\n",
    "for book in books:\n",
    "  print(book)"
   ]
  },
  {
   "cell_type": "code",
   "execution_count": null,
   "id": "45328c31",
   "metadata": {},
   "outputs": [],
   "source": []
  },
  {
   "cell_type": "markdown",
   "id": "35bba295",
   "metadata": {},
   "source": [
    "# 여러페이지 가져오기"
   ]
  },
  {
   "cell_type": "code",
   "execution_count": 19,
   "id": "04ff24ae",
   "metadata": {},
   "outputs": [
    {
     "data": {
      "text/plain": [
       "72"
      ]
     },
     "execution_count": 19,
     "metadata": {},
     "output_type": "execute_result"
    }
   ],
   "source": [
    "base_url = 'https://www.yes24.com/product/category/bestseller?categoryNumber=001&pageSize=24&pageNumber='\n",
    "page_no = 3\n",
    "book_list = []\n",
    "\n",
    "for page in range(1, page_no+1):\n",
    "    # 페이지 연결\n",
    "    url = f'{base_url}{page}'\n",
    "    res = requests.get(url)\n",
    "    soup = BeautifulSoup(res.content, 'html.parser')\n",
    "    best_list_el = soup.select('#yesBestList div.item_info')\n",
    "    \n",
    "    # 요소 추출\n",
    "    for i, item in enumerate(best_list_el):\n",
    "        title = item.select_one('.info_name > a').text\n",
    "        author = item.select_one(\".info_auth > a\").text\n",
    "        price_el = item.select_one(\".info_price .txt_num\")\n",
    "        # price 대체하기\n",
    "        price_text = price_el.text.strip().replace(\",\", \"\").replace(\"원\", \"\") if price_el else \"0\"\n",
    "        price = int(price_text)\n",
    "        \n",
    "        rank = (page - 1) * len(best_list_el) + (i + 1)  # 고유 rank 부여\n",
    "        book_list.append(Book(rank ,title, author, price))\n",
    "len(book_list)"
   ]
  },
  {
   "cell_type": "code",
   "execution_count": 20,
   "id": "1932dea6",
   "metadata": {},
   "outputs": [
    {
     "name": "stdout",
     "output_type": "stream",
     "text": [
      "1, 혼모노, 성해나, 16200\n",
      "2, 류수영의 평생 레시피, 류수영, 22500\n",
      "3, 가공범, 히가시노 게이고, 19800\n",
      "4, 돌비공포라디오 더 레드, 돌비, 17820\n",
      "5, 2025 큰별쌤 최태성의 별별한국사 기출 500제 한국사능력검정시험 심화(1,2,3급), 최태성, 17550\n",
      "6, 료의 생각 없는 생각, 료, 18000\n",
      "7, 박곰희 연금 부자 수업, 박곰희, 18900\n",
      "8, 2025 큰별쌤 최태성의 별별한국사 한국사능력검정시험 심화(1,2,3급) 상, 최태성, 14850\n",
      "9, 단 한 줄만 내 마음에 새긴다고 해도, 나민애, 21420\n",
      "10, 자몽살구클럽, 한로로, 10800\n",
      "11, ETS 토익 정기시험 기출문제집 1000 Vol. 4 RC, ETS, 17820\n",
      "12, 2025 큰별쌤 최태성의 별별한국사 한국사능력검정시험 심화(1,2,3급) 하, 최태성, 14400\n",
      "13, ETS 토익 정기시험 기출문제집 1000 Vol. 4 LC, ETS, 17820\n",
      "14, 안녕이라 그랬어, 김애란, 15120\n",
      "15, 다크 심리학, 다크 사이드 프로젝트, 19710\n",
      "16, 모순, 양귀자, 11700\n",
      "17, 편안함의 습격, 마이클 이스터, 19800\n",
      "18, 어른의 행복은 조용하다, 태수, 16020\n",
      "19, 견우와 선녀 대본집 세트, 양지훈, 41400\n",
      "20, 청춘의 독서, 유시민, 17010\n",
      "21, 야구선수 김원중, 김원중, 18000\n",
      "22, 소년이 온다, 한강, 13500\n",
      "23, 첫 여름, 완주, 김금희, 15300\n",
      "24, 경험의 멸종, 크리스틴 로젠, 17820\n",
      "25, 인생을 바꾸는 최고의 ETF, 잼투리, 22050\n",
      "26, 푸른 사자 와니니 8, 이현, 12420\n",
      "27, 어른의 품격을 채우는 100일 필사 노트, 김종원, 18000\n",
      "28, 해커스 토익 기출 VOCA (보카), David Cho, 11610\n",
      "29, 궤도, 서맨사 하비, 15300\n",
      "30, 2026 유휘운 행정법총론 요약노트+기출문제 (요.플.), 유휘운, 31500\n",
      "31, 러닝&마라톤 무작정 따라하기, 김병현, 24750\n",
      "32, 먹어 보면 알지 : 호랑수박의 전설, 이지은, 15300\n",
      "33, 글로벌 주식 투자 빅 시프트, 메리츠증권 리서치센터, 29700\n",
      "34, 초보자를 단숨에 고수로 만드는 주식투자 핵심 수업, 이정윤, 22500\n",
      "35, 윈드 브레이커 9~10 세트, 니이 사토루, 10800\n",
      "36, 단 한 번의 삶, 김영하, 15120\n",
      "37, 2026 써니 행정법총론 기본서, 박준철, 38700\n",
      "38, 급류, 정대건, 12600\n",
      "39, 위버멘쉬, 프리드리히 니체, 16020\n",
      "40, 초역 부처의 말, 코이케 류노스케, 16020\n",
      "41, 고양이 해결사 깜냥 8, 홍민정, 12600\n",
      "42, 새로운 질서, 헨리 A. 키신저, 17820\n",
      "43, 드디어 만나는 해부학 수업, 케빈 랭포드, 17910\n",
      "44, 너에게 들려주는 꿋꿋한 말, 김종원, 16200\n",
      "45, 명탐정 코난 107 특장판, 아오야마 고쇼, 17100\n",
      "46, 노션 템플릿 상점, Rei, 19800\n",
      "47, 큰별쌤 최태성의 별별한국사 시대별 기출문제집 한국사능력검정시험 심화(1,2,3급), 최태성, 17730\n",
      "48, 듀얼 브레인, 이선 몰릭, 18900\n",
      "49, 도둑맞은 권력, 진짜 보수, 윤석만, 17820\n",
      "50, 너에게 들려주는 단단한 말, 김종원, 16200\n",
      "51, 관상진료학, 마창석, 22500\n",
      "52, 미술관에 간 할미, 할미, 18900\n",
      "53, 고전이 답했다 마땅히 가져야 할 부에 대하여, 고명환, 16020\n",
      "54, SQL 자격검정 실전문제, 한국데이터진흥원, 17460\n",
      "55, 해커스 일본어 첫걸음 : 일본어 기초 20일 독학 완성!, 해커스 일본어연구소, 12510\n",
      "56, 의사를 노리는 하이에나들, 마창석, 30000\n",
      "57, 하루 한 장 나의 어휘력을 위한 필사 노트, 유선경, 21420\n",
      "58, 사기열전 1,2 세트, 사마천, 45900\n",
      "59, 해커스 토익 RC Reading(리딩) 기본서, David Cho, 16920\n",
      "60, 여름을 한 입 베어 물었더니, 이꽃님, 11250\n",
      "61, 진조쌤 35일 기적의 수영책, 진종남, 15750\n",
      "62, 재테크농부의 올라운드 투자, 재테크농부, 20700\n",
      "63, 우리의 낙원에서 만나자, 하태완, 17550\n",
      "64, Again! 뒤집어본 영문법, 오성호, 13410\n",
      "65, 장미와 나이프, 히가시노 게이고, 16200\n",
      "66, 너를 아끼며 살아라, 나태주, 16650\n",
      "67, 넥서스, 유발 하라리, 25020\n",
      "68, 책읽는사자의 올바른 기독교 정치관, 책읽는사자, 13500\n",
      "69, 정치하는 아이들, 김기수, 15120\n",
      "70, 니체 인생수업 : 니체가 세상에 남긴 66가지 인생지혜 (리커버 에디션), 프리드리히 니체, 15750\n",
      "71, 흔한남매 이무기 3, 흔한남매, 14220\n",
      "72, 돈의 심리학 (30만 부 기념 스페셜 에디션), 모건 하우절, 17820\n"
     ]
    }
   ],
   "source": [
    "for book in book_list:\n",
    "    print(book)"
   ]
  },
  {
   "cell_type": "code",
   "execution_count": 22,
   "id": "dae18940",
   "metadata": {},
   "outputs": [],
   "source": [
    "import pymysql\n",
    "\n",
    "# DB 연결\n",
    "con = pymysql.connect(host='localhost', user='root', password='1234', db='스크랩핑실습', charset='utf8')\n",
    "cursor = con.cursor()\n",
    "\n",
    "# 테이블 생성\n",
    "create_table_sql = ''' \n",
    "CREATE TABLE IF NOT EXISTS BOOKS (\n",
    "    `RANK` INTEGER PRIMARY KEY,\n",
    "    TITLE TEXT,\n",
    "    AUTHOR TEXT, \n",
    "    PRICE INTEGER\n",
    ")\n",
    "'''\n",
    "cursor.execute(create_table_sql)\n",
    "con.commit()"
   ]
  },
  {
   "cell_type": "code",
   "execution_count": 23,
   "id": "b1f22209",
   "metadata": {},
   "outputs": [],
   "source": [
    "insert_sql = '''\n",
    "INSERT INTO BOOKS (`rank`, title, author, price)\n",
    "VALUES (%s, %s, %s, %s)\n",
    "'''\n",
    "for book in book_list:\n",
    "    cursor.execute(insert_sql, book.to_list())\n",
    "\n",
    "con.commit()"
   ]
  },
  {
   "cell_type": "code",
   "execution_count": null,
   "id": "61309270",
   "metadata": {},
   "outputs": [],
   "source": []
  }
 ],
 "metadata": {
  "kernelspec": {
   "display_name": "webcrawl_env",
   "language": "python",
   "name": "python3"
  },
  "language_info": {
   "codemirror_mode": {
    "name": "ipython",
    "version": 3
   },
   "file_extension": ".py",
   "mimetype": "text/x-python",
   "name": "python",
   "nbconvert_exporter": "python",
   "pygments_lexer": "ipython3",
   "version": "3.10.18"
  }
 },
 "nbformat": 4,
 "nbformat_minor": 5
}
