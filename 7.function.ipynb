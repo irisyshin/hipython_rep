{
 "cells": [
  {
   "cell_type": "markdown",
   "id": "3d67a079-3685-434b-9089-e7c3e0fb32e5",
   "metadata": {},
   "source": [
    "# 함수\n",
    "\n",
    "- 인자 = 매개변수, 입력, 파라미터\n",
    "- 반환값 = 리턴값, 결과값\n",
    "- 함수이름   \n",
    "\n",
    "- 함수 정의 > 호출"
   ]
  },
  {
   "cell_type": "code",
   "execution_count": 1,
   "id": "ad8b06b2-2fdb-462b-9635-c0219dbd371c",
   "metadata": {},
   "outputs": [],
   "source": [
    "def my_func():\n",
    "    print(\"my first function\")\n",
    "    print('hi!!!!')"
   ]
  },
  {
   "cell_type": "code",
   "execution_count": 3,
   "id": "af7265be-72c9-4b0f-986a-880c4b13af0d",
   "metadata": {},
   "outputs": [
    {
     "name": "stdout",
     "output_type": "stream",
     "text": [
      "my first function\n",
      "hi!!!!\n"
     ]
    }
   ],
   "source": [
    "my_func()"
   ]
  },
  {
   "cell_type": "code",
   "execution_count": 4,
   "id": "dd192223-6e02-4aff-a5f2-35ad5aec90b7",
   "metadata": {},
   "outputs": [
    {
     "name": "stdout",
     "output_type": "stream",
     "text": [
      "my first function\n",
      "hi!!!!\n"
     ]
    }
   ],
   "source": [
    "my_func_var = my_func()"
   ]
  },
  {
   "cell_type": "code",
   "execution_count": 7,
   "id": "5a0ff1bf-36ed-4223-a468-9498cfdf1cbd",
   "metadata": {},
   "outputs": [
    {
     "name": "stdout",
     "output_type": "stream",
     "text": [
      "None\n"
     ]
    }
   ],
   "source": [
    "#return이 없음 \n",
    "print(my_func_var)"
   ]
  },
  {
   "cell_type": "code",
   "execution_count": 8,
   "id": "d22bcf3f-3732-4dc3-a1e7-dd2fb2b5d47f",
   "metadata": {},
   "outputs": [],
   "source": [
    "def my_func():\n",
    "    print(\"my first function\")\n",
    "    print('hi!!!!')\n",
    "    return '1'\n",
    "    "
   ]
  },
  {
   "cell_type": "code",
   "execution_count": 9,
   "id": "c1a1ff14-e056-42ec-a9fc-0439aef6a1e5",
   "metadata": {},
   "outputs": [],
   "source": [
    "#입력값이 있는 함수값"
   ]
  },
  {
   "cell_type": "code",
   "execution_count": 12,
   "id": "efbacc19-7f73-4186-9fd7-0382de21625f",
   "metadata": {},
   "outputs": [],
   "source": [
    "def my_calc(x):\n",
    "    print(f'(x)를 계산합니다. :')\n",
    "    z = x + 20\n",
    "    return z"
   ]
  },
  {
   "cell_type": "code",
   "execution_count": 13,
   "id": "167d87f5-8139-4212-93f6-45f4ba24de83",
   "metadata": {},
   "outputs": [
    {
     "name": "stdout",
     "output_type": "stream",
     "text": [
      "(x)를 계산합니다. :\n"
     ]
    },
    {
     "data": {
      "text/plain": [
       "60"
      ]
     },
     "execution_count": 13,
     "metadata": {},
     "output_type": "execute_result"
    }
   ],
   "source": [
    "my_calc(40)"
   ]
  },
  {
   "cell_type": "code",
   "execution_count": 15,
   "id": "e7cc2a0f-9081-4d32-8311-340bd7726aad",
   "metadata": {},
   "outputs": [],
   "source": [
    "def my_calc2(x,y):\n",
    "    print(f'(x)를 계산합니다. :')\n",
    "    z = x + y\n",
    "    return z"
   ]
  },
  {
   "cell_type": "code",
   "execution_count": 16,
   "id": "b2047682-401c-401b-9c85-8beaf9dfb933",
   "metadata": {},
   "outputs": [
    {
     "name": "stdout",
     "output_type": "stream",
     "text": [
      "(x)를 계산합니다. :\n"
     ]
    },
    {
     "data": {
      "text/plain": [
       "6"
      ]
     },
     "execution_count": 16,
     "metadata": {},
     "output_type": "execute_result"
    }
   ],
   "source": [
    "my_calc2(2,4)"
   ]
  },
  {
   "cell_type": "code",
   "execution_count": 20,
   "id": "5c4a5527-2474-42d7-a91d-effee54727a0",
   "metadata": {},
   "outputs": [
    {
     "name": "stdout",
     "output_type": "stream",
     "text": [
      "(x)를 계산합니다. :\n"
     ]
    },
    {
     "ename": "TypeError",
     "evalue": "cannot unpack non-iterable int object",
     "output_type": "error",
     "traceback": [
      "\u001b[31m---------------------------------------------------------------------------\u001b[39m",
      "\u001b[31mTypeError\u001b[39m                                 Traceback (most recent call last)",
      "\u001b[36mCell\u001b[39m\u001b[36m \u001b[39m\u001b[32mIn[20]\u001b[39m\u001b[32m, line 1\u001b[39m\n\u001b[32m----> \u001b[39m\u001b[32m1\u001b[39m func_result1, f2 = my_calc2(\u001b[32m10\u001b[39m, \u001b[32m10\u001b[39m) \u001b[38;5;66;03m# unpacking\u001b[39;00m\n\u001b[32m      2\u001b[39m func_result1\n",
      "\u001b[31mTypeError\u001b[39m: cannot unpack non-iterable int object"
     ]
    }
   ],
   "source": [
    "func_result1, f2 = my_calc2(10, 10) # unpacking\n",
    "func_result1\n"
   ]
  },
  {
   "cell_type": "code",
   "execution_count": 23,
   "id": "9224e230-6208-40bf-bff4-39e5a7c02008",
   "metadata": {},
   "outputs": [],
   "source": [
    "def my_calc3(a, lst1):\n",
    "    a += 1\n",
    "    lst1.append(a)\n",
    "    return a\n",
    "    "
   ]
  },
  {
   "cell_type": "code",
   "execution_count": 25,
   "id": "ae481ed2-3adc-45fa-84b2-9f8a1077e4ec",
   "metadata": {},
   "outputs": [
    {
     "data": {
      "text/plain": [
       "11"
      ]
     },
     "execution_count": 25,
     "metadata": {},
     "output_type": "execute_result"
    }
   ],
   "source": [
    "my_calc3(10,[1,2,3])"
   ]
  },
  {
   "cell_type": "markdown",
   "id": "89b9c50a-c1f5-4e3f-8d87-56a3d068beaf",
   "metadata": {},
   "source": [
    "함수의 매개변수 목록은 변수명이 매개변수 명이다.\n",
    "애개변수명을 이용한 호출은 매개변수의 순서와 무관하다. \n"
   ]
  },
  {
   "cell_type": "markdown",
   "id": "dbce8034-22c6-46e6-a555-f7eac528ef91",
   "metadata": {},
   "source": [
    "## 입력값의 타입: 수치형 vs 리스트 객페현\n",
    "\n",
    "수치형 : 값에 의한 전달 call by value   \n",
    "객체형 : 값의 전달 call by reference > 같은 객체를 다룬다"
   ]
  },
  {
   "cell_type": "code",
   "execution_count": 27,
   "id": "4887a8cf-23d1-42b8-93be-90f2371dd0b4",
   "metadata": {},
   "outputs": [
    {
     "name": "stdout",
     "output_type": "stream",
     "text": [
      "hello, 신윤서님!\n"
     ]
    }
   ],
   "source": [
    "def greeting(name, greeting='hello'):\n",
    "    print(f'{greeting}, {name}님!')\n",
    "\n",
    "greeting('신윤서')"
   ]
  },
  {
   "cell_type": "code",
   "execution_count": 31,
   "id": "0584c585-91dc-4688-b2a9-05d90b633b67",
   "metadata": {},
   "outputs": [],
   "source": [
    "#가변인자\n",
    "# *안 붙어있는건 필수!!!!, * 붙어있는게 가장 마지막에 \n",
    "def sum_all(arg1, arg2, *args):\n",
    "    return sum(args)"
   ]
  },
  {
   "cell_type": "code",
   "execution_count": 32,
   "id": "c2756a73-343c-47fc-975d-b1e212000432",
   "metadata": {},
   "outputs": [
    {
     "data": {
      "text/plain": [
       "29"
      ]
     },
     "execution_count": 32,
     "metadata": {},
     "output_type": "execute_result"
    }
   ],
   "source": [
    "sum_all(2,6,5,8,6,2)"
   ]
  },
  {
   "cell_type": "code",
   "execution_count": 33,
   "id": "a497ead1-8f4e-437c-a9f6-6a8ec0758434",
   "metadata": {},
   "outputs": [],
   "source": [
    "#** dictionary 형식의 args\n",
    "def print_info(**kwargs):\n",
    "    for k, v in kwargs.items():\n",
    "        print(f'{k}: {v}')"
   ]
  },
  {
   "cell_type": "code",
   "execution_count": 34,
   "id": "ecf6ec36-1fd7-46f4-a7d3-d5b8a6a71bef",
   "metadata": {},
   "outputs": [],
   "source": [
    "#요일 구하는 함수 정의\n",
    "#입력: yyyy.mm.dd\n",
    "#출력: '월요일'\n",
    "# 함수명: 요일찾기()"
   ]
  },
  {
   "cell_type": "code",
   "execution_count": 47,
   "id": "793e9b11-6ddd-4e59-b7f1-1afebce2ff0c",
   "metadata": {},
   "outputs": [
    {
     "name": "stdout",
     "output_type": "stream",
     "text": [
      "731312\n",
      "월요일\n"
     ]
    }
   ],
   "source": [
    "# 날짜 - 연,월,일 year=2025 month=06 day=05\n",
    "year=2003\n",
    "month=4\n",
    "day=7\n",
    "total_days = 0\n",
    "#년도일수 : 입력년도-1*365\n",
    "#윤년인지 체크 (2월 29일)\n",
    "\n",
    "for i in range(1,year):\n",
    "    #윤년 400으로 나누어 나머지가 0, 4로 나누어 나머지가 0\n",
    "    #평년 100 나누어 나머지가 0\n",
    "    if i%400 == 0 :\n",
    "        total_days += 366\n",
    "    elif i%100 ==0:\n",
    "        total_days += 365\n",
    "    elif i%4 ==0:\n",
    "        total_days += 366\n",
    "    else:\n",
    "        total_days += 365\n",
    "        \n",
    "    \n",
    "#월일수 : 입력한 월 -1*30\n",
    "month_days = [0,31,28,31,30,31,30,31,31,30,31,30,31]\n",
    "for m in range(1, month):\n",
    "    total_days += month_days[m]\n",
    "\n",
    "#올해가 윤년인지 체크\n",
    "if month>2:\n",
    "    if year%400 == 0 :\n",
    "        total_days += 1\n",
    "    elif year%100 ==0:\n",
    "        total_days += 0\n",
    "    elif year%4 ==0:\n",
    "        total_days += 1\n",
    "    else:\n",
    "        total_days += 0\n",
    "    \n",
    "#일수 입력한 일 \n",
    "total_days += day\n",
    "print(total_days)\n",
    "\n",
    "#요일 생성기\n",
    "remain_days = total_days%7\n",
    "if remain_days ==1:\n",
    "    print('월요일')\n",
    "elif remain_days ==2:\n",
    "    print('화요일')\n",
    "elif remain_days ==3:\n",
    "    print('수요일')\n",
    "elif remain_days ==4:\n",
    "    print('목요일')\n",
    "elif remain_days ==5:\n",
    "    print('금요일')\n",
    "elif remain_days ==6:\n",
    "    print('토요일')\n",
    "else:\n",
    "    print('일요일')\n"
   ]
  },
  {
   "cell_type": "code",
   "execution_count": 1,
   "id": "001615ed-0c19-473b-af6a-c536e61e2135",
   "metadata": {},
   "outputs": [
    {
     "name": "stdout",
     "output_type": "stream",
     "text": [
      "안녕하세요, 민수님!\n",
      "반갑습니다, 영희님!\n"
     ]
    }
   ],
   "source": [
    "def greet(name, greeting=\"안녕하세요\"):\n",
    "    print(f\"{greeting}, {name}님!\")\n",
    "\n",
    "greet(\"민수\")  # 기본값 사용\n",
    "greet(\"영희\", \"반갑습니다\")  # 새로운 값 전달"
   ]
  },
  {
   "cell_type": "markdown",
   "id": "0a5228f4-5394-4d68-88c5-ba5545d47f22",
   "metadata": {},
   "source": [
    "# lambda\n",
    "\n",
    "- 선언   \n",
    "lambda <매개변수> : 코드\n",
    "- 호출   \n",
    "(lambda <매개변수> : 코드) (매개변수값)"
   ]
  },
  {
   "cell_type": "code",
   "execution_count": 1,
   "id": "1222d2a2-c4e5-429c-9f97-a6ea19277e9c",
   "metadata": {},
   "outputs": [],
   "source": [
    "def aaa(a):\n",
    "    result = a+1\n",
    "    return result"
   ]
  },
  {
   "cell_type": "code",
   "execution_count": 2,
   "id": "949ef6c9-cf29-4bd7-897d-5120215aabea",
   "metadata": {},
   "outputs": [
    {
     "data": {
      "text/plain": [
       "<function __main__.<lambda>(a)>"
      ]
     },
     "execution_count": 2,
     "metadata": {},
     "output_type": "execute_result"
    }
   ],
   "source": [
    "lambda a : a+1"
   ]
  },
  {
   "cell_type": "code",
   "execution_count": 3,
   "id": "3d6c2212-3542-4943-b8aa-911b80f36d15",
   "metadata": {},
   "outputs": [
    {
     "data": {
      "text/plain": [
       "3"
      ]
     },
     "execution_count": 3,
     "metadata": {},
     "output_type": "execute_result"
    }
   ],
   "source": [
    "(lambda a : a+1) (2) #lambda의 정의 즉시 호출"
   ]
  },
  {
   "cell_type": "code",
   "execution_count": 5,
   "id": "2dc700fb-4450-4aa0-96a2-7eaac279da22",
   "metadata": {},
   "outputs": [
    {
     "data": {
      "text/plain": [
       "(4, 51)"
      ]
     },
     "execution_count": 5,
     "metadata": {},
     "output_type": "execute_result"
    }
   ],
   "source": [
    "my_lambda = lambda a : a+1 #람다의 재정의\n",
    "my_lambda(3), my_lambda(50)"
   ]
  },
  {
   "cell_type": "code",
   "execution_count": 6,
   "id": "7568ad81-7d9e-4bc1-96b4-21aa30f24000",
   "metadata": {},
   "outputs": [
    {
     "data": {
      "text/plain": [
       "5"
      ]
     },
     "execution_count": 6,
     "metadata": {},
     "output_type": "execute_result"
    }
   ],
   "source": [
    "def sum1(a,b):\n",
    "    return a+b\n",
    "sum1(2,3)"
   ]
  },
  {
   "cell_type": "code",
   "execution_count": 7,
   "id": "bcb8795e-99c5-420d-8913-12a1d99b90b6",
   "metadata": {},
   "outputs": [
    {
     "data": {
      "text/plain": [
       "5"
      ]
     },
     "execution_count": 7,
     "metadata": {},
     "output_type": "execute_result"
    }
   ],
   "source": [
    "(lambda a,b : a+b) (2,3)"
   ]
  },
  {
   "cell_type": "code",
   "execution_count": 9,
   "id": "345ae8a4-8587-4ded-a869-f587ba900648",
   "metadata": {},
   "outputs": [],
   "source": [
    "def calc_func(a,b, opr_func):\n",
    "    result = opr_func(a,b)\n",
    "    return result"
   ]
  },
  {
   "cell_type": "code",
   "execution_count": 13,
   "id": "54f8d3ac-d75b-444b-90ad-364c7efbaba4",
   "metadata": {},
   "outputs": [
    {
     "data": {
      "text/plain": [
       "3"
      ]
     },
     "execution_count": 13,
     "metadata": {},
     "output_type": "execute_result"
    }
   ],
   "source": [
    "calc_func(1,2, lambda x,y: x+y) #사칙연산 "
   ]
  },
  {
   "cell_type": "code",
   "execution_count": 14,
   "id": "bc1577c5-38b6-480d-8bc0-07f0242da49d",
   "metadata": {},
   "outputs": [
    {
     "data": {
      "text/plain": [
       "2"
      ]
     },
     "execution_count": 14,
     "metadata": {},
     "output_type": "execute_result"
    }
   ],
   "source": [
    "calc_func(1,2, lambda x,y: x*y)"
   ]
  },
  {
   "cell_type": "code",
   "execution_count": 15,
   "id": "b10624a8-9b6e-432f-9cfd-7fa857f81bac",
   "metadata": {},
   "outputs": [
    {
     "data": {
      "text/plain": [
       "0.5"
      ]
     },
     "execution_count": 15,
     "metadata": {},
     "output_type": "execute_result"
    }
   ],
   "source": [
    "calc_func(1,2, lambda x,y: x/y)"
   ]
  },
  {
   "cell_type": "code",
   "execution_count": 18,
   "id": "45f5ddce-bdf7-4fb0-9893-3b92d6097c04",
   "metadata": {},
   "outputs": [
    {
     "data": {
      "text/plain": [
       "['APPLE', 'BANANA', 'CHERRY']"
      ]
     },
     "execution_count": 18,
     "metadata": {},
     "output_type": "execute_result"
    }
   ],
   "source": [
    "#map 함수\n",
    "#어떤 리스트에 있는 값을 하나씩 꺼내서 변환\n",
    "fruits = ['apple', 'banana', 'cherry']\n",
    "#str.upper \n",
    "list(map(str.upper, fruits))"
   ]
  },
  {
   "cell_type": "code",
   "execution_count": 19,
   "id": "033b1ee5-bdd2-4102-a10c-353b2b5031c0",
   "metadata": {},
   "outputs": [
    {
     "data": {
      "text/plain": [
       "['1', '2', '3', '4', '5']"
      ]
     },
     "execution_count": 19,
     "metadata": {},
     "output_type": "execute_result"
    }
   ],
   "source": [
    "str_num = '12345'\n",
    "list(str_num)"
   ]
  },
  {
   "cell_type": "code",
   "execution_count": 22,
   "id": "e4a06fe5-0fd4-4b0f-9e26-7f0bdc4d79a0",
   "metadata": {},
   "outputs": [
    {
     "data": {
      "text/plain": [
       "[1, 2, 3, 4, 5]"
      ]
     },
     "execution_count": 22,
     "metadata": {},
     "output_type": "execute_result"
    }
   ],
   "source": [
    "numbers = list(map(int, str_num))\n",
    "numbers"
   ]
  },
  {
   "cell_type": "code",
   "execution_count": 24,
   "id": "e8d83a51-37b4-4c79-bc5d-ab7a645d56cb",
   "metadata": {},
   "outputs": [
    {
     "data": {
      "text/plain": [
       "[1, 4, 9, 16, 25]"
      ]
     },
     "execution_count": 24,
     "metadata": {},
     "output_type": "execute_result"
    }
   ],
   "source": [
    "list(map(lambda x: x**2, numbers))"
   ]
  },
  {
   "cell_type": "code",
   "execution_count": 34,
   "id": "8c7032b0-27c0-4eb8-9295-7bf920732ac2",
   "metadata": {},
   "outputs": [
    {
     "data": {
      "text/plain": [
       "[12, 15, 18]"
      ]
     },
     "execution_count": 34,
     "metadata": {},
     "output_type": "execute_result"
    }
   ],
   "source": [
    "kor_score = [1,2,3]\n",
    "eng_score = [4,5,6]\n",
    "math_score = [7,8,9]\n",
    "list(map(lambda x,y,z: x+y+z, kor_score, eng_score, math_score))"
   ]
  },
  {
   "cell_type": "code",
   "execution_count": 37,
   "id": "65561b33-cb95-4383-82a2-44b2d2c156d2",
   "metadata": {},
   "outputs": [
    {
     "name": "stdout",
     "output_type": "stream",
     "text": [
      "[12, 15, 18] [7, 8, 9] [1, 2, 3] [4.0, 5.0, 6.0]\n"
     ]
    }
   ],
   "source": [
    "kor_score = [1,2,3]\n",
    "eng_score = [4,5,6]\n",
    "math_score = [7,8,9]\n",
    "sum_score = list(map(lambda s: sum(s), zip(kor_score, eng_score, math_score)))\n",
    "max_score = list(map(lambda s: max(s), zip(kor_score, eng_score, math_score)))\n",
    "min_score = list(map(lambda s: min(s), zip(kor_score, eng_score, math_score)))\n",
    "avg_score = list(map(lambda s: sum(s)/3, zip(kor_score, eng_score, math_score)))\n",
    "print(sum_score, max_score, min_score, avg_score)"
   ]
  },
  {
   "cell_type": "code",
   "execution_count": null,
   "id": "e0d4faae-5a5f-4ead-bcef-5b34edf37aac",
   "metadata": {},
   "outputs": [],
   "source": []
  }
 ],
 "metadata": {
  "kernelspec": {
   "display_name": "Python 3 (ipykernel)",
   "language": "python",
   "name": "python3"
  },
  "language_info": {
   "codemirror_mode": {
    "name": "ipython",
    "version": 3
   },
   "file_extension": ".py",
   "mimetype": "text/x-python",
   "name": "python",
   "nbconvert_exporter": "python",
   "pygments_lexer": "ipython3",
   "version": "3.12.1"
  }
 },
 "nbformat": 4,
 "nbformat_minor": 5
}
