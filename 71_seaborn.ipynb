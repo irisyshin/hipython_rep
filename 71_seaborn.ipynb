{
 "cells": [
  {
   "cell_type": "code",
   "execution_count": 1,
   "id": "f05d2fe3",
   "metadata": {},
   "outputs": [
    {
     "name": "stderr",
     "output_type": "stream",
     "text": [
      "2025-08-18 11:51:48.570 WARNING streamlit.runtime.scriptrunner_utils.script_run_context: Thread 'MainThread': missing ScriptRunContext! This warning can be ignored when running in bare mode.\n",
      "2025-08-18 11:51:48.702 \n",
      "  \u001b[33m\u001b[1mWarning:\u001b[0m to view this Streamlit app on a browser, run it with the following\n",
      "  command:\n",
      "\n",
      "    streamlit run c:\\Users\\Admin\\miniconda3\\envs\\streamlit_env\\lib\\site-packages\\ipykernel_launcher.py [ARGUMENTS]\n",
      "2025-08-18 11:51:48.702 Thread 'MainThread': missing ScriptRunContext! This warning can be ignored when running in bare mode.\n",
      "2025-08-18 11:51:48.703 Thread 'MainThread': missing ScriptRunContext! This warning can be ignored when running in bare mode.\n"
     ]
    }
   ],
   "source": [
    "import streamlit as st\n",
    "st.write(\"Hello, Streamlit!\")"
   ]
  },
  {
   "cell_type": "code",
   "execution_count": 2,
   "id": "ef1694b2",
   "metadata": {},
   "outputs": [],
   "source": [
    "import seaborn as sns\n",
    "import matplotlib.pyplot as plt\n",
    "%matplotlib inline"
   ]
  },
  {
   "cell_type": "code",
   "execution_count": 3,
   "id": "abde22fe",
   "metadata": {},
   "outputs": [
    {
     "data": {
      "text/plain": [
       "['anagrams',\n",
       " 'anscombe',\n",
       " 'attention',\n",
       " 'brain_networks',\n",
       " 'car_crashes',\n",
       " 'diamonds',\n",
       " 'dots',\n",
       " 'dowjones',\n",
       " 'exercise',\n",
       " 'flights',\n",
       " 'fmri',\n",
       " 'geyser',\n",
       " 'glue',\n",
       " 'healthexp',\n",
       " 'iris',\n",
       " 'mpg',\n",
       " 'penguins',\n",
       " 'planets',\n",
       " 'seaice',\n",
       " 'taxis',\n",
       " 'tips',\n",
       " 'titanic']"
      ]
     },
     "execution_count": 3,
     "metadata": {},
     "output_type": "execute_result"
    }
   ],
   "source": [
    "sns.get_dataset_names()\n"
   ]
  },
  {
   "cell_type": "code",
   "execution_count": 4,
   "id": "289e66b6",
   "metadata": {},
   "outputs": [
    {
     "data": {
      "text/html": [
       "<div>\n",
       "<style scoped>\n",
       "    .dataframe tbody tr th:only-of-type {\n",
       "        vertical-align: middle;\n",
       "    }\n",
       "\n",
       "    .dataframe tbody tr th {\n",
       "        vertical-align: top;\n",
       "    }\n",
       "\n",
       "    .dataframe thead th {\n",
       "        text-align: right;\n",
       "    }\n",
       "</style>\n",
       "<table border=\"1\" class=\"dataframe\">\n",
       "  <thead>\n",
       "    <tr style=\"text-align: right;\">\n",
       "      <th></th>\n",
       "      <th>total_bill</th>\n",
       "      <th>tip</th>\n",
       "      <th>sex</th>\n",
       "      <th>smoker</th>\n",
       "      <th>day</th>\n",
       "      <th>time</th>\n",
       "      <th>size</th>\n",
       "    </tr>\n",
       "  </thead>\n",
       "  <tbody>\n",
       "    <tr>\n",
       "      <th>0</th>\n",
       "      <td>16.99</td>\n",
       "      <td>1.01</td>\n",
       "      <td>Female</td>\n",
       "      <td>No</td>\n",
       "      <td>Sun</td>\n",
       "      <td>Dinner</td>\n",
       "      <td>2</td>\n",
       "    </tr>\n",
       "    <tr>\n",
       "      <th>1</th>\n",
       "      <td>10.34</td>\n",
       "      <td>1.66</td>\n",
       "      <td>Male</td>\n",
       "      <td>No</td>\n",
       "      <td>Sun</td>\n",
       "      <td>Dinner</td>\n",
       "      <td>3</td>\n",
       "    </tr>\n",
       "    <tr>\n",
       "      <th>2</th>\n",
       "      <td>21.01</td>\n",
       "      <td>3.50</td>\n",
       "      <td>Male</td>\n",
       "      <td>No</td>\n",
       "      <td>Sun</td>\n",
       "      <td>Dinner</td>\n",
       "      <td>3</td>\n",
       "    </tr>\n",
       "    <tr>\n",
       "      <th>3</th>\n",
       "      <td>23.68</td>\n",
       "      <td>3.31</td>\n",
       "      <td>Male</td>\n",
       "      <td>No</td>\n",
       "      <td>Sun</td>\n",
       "      <td>Dinner</td>\n",
       "      <td>2</td>\n",
       "    </tr>\n",
       "    <tr>\n",
       "      <th>4</th>\n",
       "      <td>24.59</td>\n",
       "      <td>3.61</td>\n",
       "      <td>Female</td>\n",
       "      <td>No</td>\n",
       "      <td>Sun</td>\n",
       "      <td>Dinner</td>\n",
       "      <td>4</td>\n",
       "    </tr>\n",
       "  </tbody>\n",
       "</table>\n",
       "</div>"
      ],
      "text/plain": [
       "   total_bill   tip     sex smoker  day    time  size\n",
       "0       16.99  1.01  Female     No  Sun  Dinner     2\n",
       "1       10.34  1.66    Male     No  Sun  Dinner     3\n",
       "2       21.01  3.50    Male     No  Sun  Dinner     3\n",
       "3       23.68  3.31    Male     No  Sun  Dinner     2\n",
       "4       24.59  3.61  Female     No  Sun  Dinner     4"
      ]
     },
     "execution_count": 4,
     "metadata": {},
     "output_type": "execute_result"
    }
   ],
   "source": [
    "df = sns.load_dataset('tips')\n",
    "df.head()"
   ]
  },
  {
   "cell_type": "markdown",
   "id": "748f744e",
   "metadata": {},
   "source": [
    "# scatter\n"
   ]
  },
  {
   "cell_type": "markdown",
   "id": "ee42b973",
   "metadata": {},
   "source": [
    "- tldtjld"
   ]
  },
  {
   "cell_type": "code",
   "execution_count": 5,
   "id": "068bb49b",
   "metadata": {},
   "outputs": [
    {
     "data": {
      "image/png": "[encoded data removed]",
      "text/plain": [
       "<Figure size 640x480 with 1 Axes>"
      ]
     },
     "metadata": {},
     "output_type": "display_data"
    }
   ],
   "source": [
    "sns.scatterplot(x=df['total_bill'], y=df['tip'], hue=df['sex'], size=df['size'])\n",
    "plt.show()"
   ]
  },
  {
   "cell_type": "code",
   "execution_count": 6,
   "id": "f9acf25a",
   "metadata": {},
   "outputs": [
    {
     "name": "stdout",
     "output_type": "stream",
     "text": [
      "<class 'pandas.core.frame.DataFrame'>\n",
      "RangeIndex: 8867 entries, 0 to 8866\n",
      "Data columns (total 8 columns):\n",
      " #   Column                  Non-Null Count  Dtype  \n",
      "---  ------                  --------------  -----  \n",
      " 0   Unnamed: 0              8867 non-null   int64  \n",
      " 1   Entity                  8867 non-null   object \n",
      " 2   Code                    8867 non-null   object \n",
      " 3   Year                    8867 non-null   int64  \n",
      " 4   Cellular Subscription   8867 non-null   float64\n",
      " 5   Internet Users(%)       8867 non-null   float64\n",
      " 6   No. of Internet Users   8867 non-null   int64  \n",
      " 7   Broadband Subscription  8867 non-null   float64\n",
      "dtypes: float64(3), int64(3), object(2)\n",
      "memory usage: 554.3+ KB\n"
     ]
    }
   ],
   "source": [
    "import pandas as pd\n",
    "df = pd.read_csv('./data/global_internet_users.csv')\n",
    "df.info()\n",
    "# 6. 우리가 궁금해야하는 사용자 숫자 "
   ]
  },
  {
   "cell_type": "code",
   "execution_count": 27,
   "id": "b1dd528d",
   "metadata": {},
   "outputs": [
    {
     "data": {
      "text/plain": [
       "<Axes: xlabel='Year', ylabel='No. of Internet Users'>"
      ]
     },
     "execution_count": 27,
     "metadata": {},
     "output_type": "execute_result"
    },
    {
     "data": {
      "image/png": "[encoded data removed]",
      "text/plain": [
       "<Figure size 640x480 with 1 Axes>"
      ]
     },
     "metadata": {},
     "output_type": "display_data"
    }
   ],
   "source": [
    "# scatter \n",
    "# 인터넷 사용자 데이터\n",
    "\n",
    "sns.scatterplot(x='Year', y='No. of Internet Users', data=df)\n",
    "\n",
    "# le9: 값을 축소, 지수형으로 표시 \n",
    "# 95년 특별해보임, 구체화할 필요가 있어보임 \n",
    "# Entity "
   ]
  },
  {
   "cell_type": "code",
   "execution_count": 8,
   "id": "e7748fe8",
   "metadata": {},
   "outputs": [],
   "source": [
    "# 연도별 사용자 - 국가/지역 별로 구분해서 시각화 "
   ]
  },
  {
   "cell_type": "code",
   "execution_count": 9,
   "id": "23302ae1",
   "metadata": {},
   "outputs": [
    {
     "data": {
      "text/plain": [
       "array(['Afghanistan', 'Albania', 'Algeria', 'American Samoa', 'Andorra',\n",
       "       'Angola', 'Antigua and Barbuda', 'Argentina', 'Armenia', 'Aruba',\n",
       "       'Australia', 'Austria', 'Azerbaijan', 'Bahamas', 'Bahrain',\n",
       "       'Bangladesh', 'Barbados', 'Belarus', 'Belgium', 'Belize', 'Benin',\n",
       "       'Bermuda', 'Bhutan', 'Bolivia', 'Bosnia and Herzegovina',\n",
       "       'Botswana', 'Brazil', 'British Virgin Islands', 'Brunei',\n",
       "       'Bulgaria', 'Burkina Faso', 'Burundi', 'Cambodia', 'Cameroon',\n",
       "       'Canada', 'Cape Verde', 'Cayman Islands',\n",
       "       'Central African Republic', 'Chad', 'Chile', 'China', 'Colombia',\n",
       "       'Comoros', 'Congo', 'Costa Rica', \"Cote d'Ivoire\", 'Croatia',\n",
       "       'Cuba', 'Curacao', 'Cyprus', 'Czechia',\n",
       "       'Democratic Republic of Congo', 'Denmark', 'Djibouti', 'Dominica',\n",
       "       'Dominican Republic', 'East Asia and Pacific', 'Ecuador', 'Egypt',\n",
       "       'El Salvador', 'Equatorial Guinea', 'Eritrea', 'Estonia',\n",
       "       'Eswatini', 'Ethiopia', 'Europe and Central Asia',\n",
       "       'European Union', 'Faeroe Islands', 'Fiji', 'Finland', 'France',\n",
       "       'French Polynesia', 'Gabon', 'Gambia', 'Georgia', 'Germany',\n",
       "       'Ghana', 'Gibraltar', 'Greece', 'Greenland', 'Grenada', 'Guam',\n",
       "       'Guatemala', 'Guinea', 'Guinea-Bissau', 'Guyana', 'Haiti',\n",
       "       'High income', 'Honduras', 'Hong Kong', 'Hungary', 'Iceland',\n",
       "       'India', 'Indonesia', 'Iran', 'Iraq', 'Ireland', 'Israel', 'Italy',\n",
       "       'Jamaica', 'Japan', 'Jordan', 'Kazakhstan', 'Kenya', 'Kiribati',\n",
       "       'Kosovo', 'Kuwait', 'Kyrgyzstan', 'Laos',\n",
       "       'Latin America and Caribbean', 'Latvia', 'Lebanon', 'Lesotho',\n",
       "       'Liberia', 'Libya', 'Liechtenstein', 'Lithuania',\n",
       "       'Low and middle income', 'Low income', 'Lower middle income',\n",
       "       'Luxembourg', 'Macao', 'Madagascar', 'Malawi', 'Malaysia',\n",
       "       'Maldives', 'Mali', 'Malta', 'Marshall Islands', 'Mauritania',\n",
       "       'Mauritius', 'Mexico', 'Micronesia (country)',\n",
       "       'Middle East and North Africa', 'Middle income', 'Moldova',\n",
       "       'Monaco', 'Mongolia', 'Montenegro', 'Morocco', 'Mozambique',\n",
       "       'Myanmar', 'Namibia', 'Nauru', 'Nepal', 'Netherlands',\n",
       "       'New Caledonia', 'New Zealand', 'Nicaragua', 'Niger', 'Nigeria',\n",
       "       'North America', 'North Korea', 'North Macedonia',\n",
       "       'Northern Mariana Islands', 'Norway', 'Oman', 'Pakistan', 'Palau',\n",
       "       'Palestine', 'Panama', 'Papua New Guinea', 'Paraguay', 'Peru',\n",
       "       'Philippines', 'Poland', 'Portugal', 'Puerto Rico', 'Qatar',\n",
       "       'Romania', 'Russia', 'Rwanda', 'Saint Kitts and Nevis',\n",
       "       'Saint Lucia', 'Saint Vincent and the Grenadines', 'Samoa',\n",
       "       'San Marino', 'Sao Tome and Principe', 'Saudi Arabia', 'Senegal',\n",
       "       'Serbia', 'Seychelles', 'Sierra Leone', 'Singapore',\n",
       "       'Sint Maarten (Dutch part)', 'Slovakia', 'Slovenia',\n",
       "       'Solomon Islands', 'Somalia', 'South Africa', 'South Asia',\n",
       "       'South Korea', 'South Sudan', 'Spain', 'Sri Lanka',\n",
       "       'Sub-Saharan Africa', 'Sudan', 'Suriname', 'Sweden', 'Switzerland',\n",
       "       'Syria', 'Tajikistan', 'Tanzania', 'Thailand', 'Timor', 'Togo',\n",
       "       'Tonga', 'Trinidad and Tobago', 'Tunisia', 'Turkey',\n",
       "       'Turkmenistan', 'Turks and Caicos Islands', 'Tuvalu', 'Uganda',\n",
       "       'Ukraine', 'United Arab Emirates', 'United Kingdom',\n",
       "       'United States', 'United States Virgin Islands',\n",
       "       'Upper middle income', 'Uruguay', 'Uzbekistan', 'Vanuatu',\n",
       "       'Venezuela', 'Vietnam', 'World', 'Yemen', 'Zambia', 'Zimbabwe'],\n",
       "      dtype=object)"
      ]
     },
     "execution_count": 9,
     "metadata": {},
     "output_type": "execute_result"
    }
   ],
   "source": [
    "df['Entity']\n",
    "df.Entity.unique() # 국가"
   ]
  },
  {
   "cell_type": "code",
   "execution_count": 10,
   "id": "8f30ed72",
   "metadata": {},
   "outputs": [
    {
     "data": {
      "text/html": [
       "<div>\n",
       "<style scoped>\n",
       "    .dataframe tbody tr th:only-of-type {\n",
       "        vertical-align: middle;\n",
       "    }\n",
       "\n",
       "    .dataframe tbody tr th {\n",
       "        vertical-align: top;\n",
       "    }\n",
       "\n",
       "    .dataframe thead th {\n",
       "        text-align: right;\n",
       "    }\n",
       "</style>\n",
       "<table border=\"1\" class=\"dataframe\">\n",
       "  <thead>\n",
       "    <tr style=\"text-align: right;\">\n",
       "      <th></th>\n",
       "      <th>Unnamed: 0</th>\n",
       "      <th>Entity</th>\n",
       "      <th>Code</th>\n",
       "      <th>Year</th>\n",
       "      <th>Cellular Subscription</th>\n",
       "      <th>Internet Users(%)</th>\n",
       "      <th>No. of Internet Users</th>\n",
       "      <th>Broadband Subscription</th>\n",
       "    </tr>\n",
       "  </thead>\n",
       "  <tbody>\n",
       "    <tr>\n",
       "      <th>1579</th>\n",
       "      <td>1579</td>\n",
       "      <td>China</td>\n",
       "      <td>CHN</td>\n",
       "      <td>1980</td>\n",
       "      <td>0.0</td>\n",
       "      <td>0.0</td>\n",
       "      <td>0</td>\n",
       "      <td>0.0</td>\n",
       "    </tr>\n",
       "    <tr>\n",
       "      <th>1580</th>\n",
       "      <td>1580</td>\n",
       "      <td>China</td>\n",
       "      <td>CHN</td>\n",
       "      <td>1981</td>\n",
       "      <td>0.0</td>\n",
       "      <td>0.0</td>\n",
       "      <td>0</td>\n",
       "      <td>0.0</td>\n",
       "    </tr>\n",
       "    <tr>\n",
       "      <th>1581</th>\n",
       "      <td>1581</td>\n",
       "      <td>China</td>\n",
       "      <td>CHN</td>\n",
       "      <td>1982</td>\n",
       "      <td>0.0</td>\n",
       "      <td>0.0</td>\n",
       "      <td>0</td>\n",
       "      <td>0.0</td>\n",
       "    </tr>\n",
       "    <tr>\n",
       "      <th>1582</th>\n",
       "      <td>1582</td>\n",
       "      <td>China</td>\n",
       "      <td>CHN</td>\n",
       "      <td>1983</td>\n",
       "      <td>0.0</td>\n",
       "      <td>0.0</td>\n",
       "      <td>0</td>\n",
       "      <td>0.0</td>\n",
       "    </tr>\n",
       "    <tr>\n",
       "      <th>1583</th>\n",
       "      <td>1583</td>\n",
       "      <td>China</td>\n",
       "      <td>CHN</td>\n",
       "      <td>1984</td>\n",
       "      <td>0.0</td>\n",
       "      <td>0.0</td>\n",
       "      <td>0</td>\n",
       "      <td>0.0</td>\n",
       "    </tr>\n",
       "  </tbody>\n",
       "</table>\n",
       "</div>"
      ],
      "text/plain": [
       "      Unnamed: 0 Entity Code  Year  Cellular Subscription  Internet Users(%)  \\\n",
       "1579        1579  China  CHN  1980                    0.0                0.0   \n",
       "1580        1580  China  CHN  1981                    0.0                0.0   \n",
       "1581        1581  China  CHN  1982                    0.0                0.0   \n",
       "1582        1582  China  CHN  1983                    0.0                0.0   \n",
       "1583        1583  China  CHN  1984                    0.0                0.0   \n",
       "\n",
       "      No. of Internet Users  Broadband Subscription  \n",
       "1579                      0                     0.0  \n",
       "1580                      0                     0.0  \n",
       "1581                      0                     0.0  \n",
       "1582                      0                     0.0  \n",
       "1583                      0                     0.0  "
      ]
     },
     "execution_count": 10,
     "metadata": {},
     "output_type": "execute_result"
    }
   ],
   "source": [
    "entities  = ['China', 'India', 'Finland']\n",
    "# country별로 보는 df 다시 만들기 \n",
    "df_country = df.loc[df['Entity'].isin(entities)]\n",
    "df_country[:5]"
   ]
  },
  {
   "cell_type": "code",
   "execution_count": 11,
   "id": "d3ff29e8",
   "metadata": {},
   "outputs": [
    {
     "data": {
      "text/plain": [
       "<Axes: xlabel='Year', ylabel='No. of Internet Users'>"
      ]
     },
     "execution_count": 11,
     "metadata": {},
     "output_type": "execute_result"
    },
    {
     "data": {
      "image/png": "[encoded data removed]",
      "text/plain": [
       "<Figure size 640x480 with 1 Axes>"
      ]
     },
     "metadata": {},
     "output_type": "display_data"
    }
   ],
   "source": [
    "sns.scatterplot(x='Year', y='No. of Internet Users', data=df_country,\n",
    "                hue='Entity', hue_order=['India', 'Finland', 'China'],\n",
    "                markers=['o','^','X'], s=100, style='Entity')\n",
    "\n",
    "# makers: 다른 도형으로 표현, style이 없으면 마킹 모양 안바뀔수있음 "
   ]
  },
  {
   "cell_type": "code",
   "execution_count": 12,
   "id": "10a2c2d8",
   "metadata": {},
   "outputs": [],
   "source": [
    "# express 쉽게 그릴 수 있음 \n",
    "# seaborn plotly 비교 "
   ]
  },
  {
   "cell_type": "code",
   "execution_count": 13,
   "id": "03ff8987",
   "metadata": {},
   "outputs": [],
   "source": [
    "import plotly.express as px\n",
    "import plotly.graph_objects as go\n"
   ]
  },
  {
   "cell_type": "code",
   "execution_count": 14,
   "id": "a0ba2111",
   "metadata": {},
   "outputs": [
    {
     "data": {
      "application/vnd.plotly.v1+json": {
       "config": {
        "plotlyServerURL": "https://plot.ly"
       },
       "data": [
        {
         "hovertemplate": "Year=%{x}<br>No. of Internet Users=%{y}<extra></extra>",
         "legendgroup": "",
         "marker": {
          "color": "#000001",
          "symbol": "circle"
         },
         "mode": "markers",
         "name": "",
         "orientation": "v",
         "showlegend": false,
         "type": "scatter",
         "x": {
          "bdata": "vAe9B74HvwfAB8EHwgfDB8QHxQfGB8cHyAfJB8oHywfMB80HzgfPB9AH0QfSB9MH1AfVB9YH1wfYB9kH2gfbB9wH3QfeB98H4AfhB+IH4wfkB7wHvQe+B78HwAfBB8IHwwfEB8UHxgfHB8gHyQfKB8sHzAfNB84HzwfQB9EH0gfTB9QH1QfWB9cH2AfZB9oH2wfcB90H3gffB+AH4QfiB+MH5Ae8B70Hvge/B8AHwQfCB8MHxAfFB8YHxwfIB8kHygfLB8wHzQfOB88H0AfRB9IH0wfUB9UH1gfXB9gH2QfaB9sH3AfdB94H3wfgB+EH4gfjB+QH",
          "dtype": "i2"
         },
         "xaxis": "x",
         "y": {
          "bdata": "AAAAAAAAAAAAAAAAAAAAAAAAAAAAAAAAAAAAAAAAAAAAAAAAAAAAAAAAAAAAAAAAAAAAAOEHAAAWNwAAxOsAAKpzAgBYHgYArRAgAMuphwCXjFYB4KEAAno/ggMBVcMEa4OkBesQoQY3bjwIw1maDDkQ6xFHQxEXuh2QG/EF+x5qcnQif+mQJb9LjCcQAckpABZ0LIDfpC0frQAy3jhVNtrmyzsAAAAAAAAAAAAAAAAAAAAAAAAAAAAAAAAAAAAAAAAAAAAAAAAAAAAAIE4AALIRAQCjcwEAVvwBAPjQAwCD1QoAGx8NAOVCDwDcAxQAa3QZAHprHQCVHyIAh4oxAHAPNwDNvzkAyZ47ABYDQABPMEEA99VDABMzQwC5G0cASO9IAL4/SgDI8ksAKhxIAOhBSAAyikkA/INJACfPSgD7fksAP8RNAAAAAAAAAAAAAAAAAAAAAAAAAAAAAAAAAAAAAAAAAAAAAAAAAAAAAAAAAAAAAAAAAPIDAADlBwAAficAAPjbAwCp8wYA09IKACmrFQATYSsAmEtVAGOvbABAuwEBpo0fAXqfVgGIvaQBP+D1AboNzQLMgCYDCPi7AwbFiwUYaYwHsaFuCJo8dwlB2IQKqJ2/C+xIKg2OvLAOf9liEL7BPBjpFcoj",
          "dtype": "i4"
         },
         "yaxis": "y"
        }
       ],
       "layout": {
        "height": 400,
        "legend": {
         "tracegroupgap": 0
        },
        "margin": {
         "t": 60
        },
        "template": {
         "data": {
          "candlestick": [
           {
            "decreasing": {
             "line": {
              "color": "#000033"
             }
            },
            "increasing": {
             "line": {
              "color": "#000032"
             }
            },
            "type": "candlestick"
           }
          ],
          "contour": [
           {
            "colorscale": [
             [
              0,
              "#000011"
             ],
             [
              0.1111111111111111,
              "#000012"
             ],
             [
              0.2222222222222222,
              "#000013"
             ],
             [
              0.3333333333333333,
              "#000014"
             ],
             [
              0.4444444444444444,
              "#000015"
             ],
             [
              0.5555555555555556,
              "#000016"
             ],
             [
              0.6666666666666666,
              "#000017"
             ],
             [
              0.7777777777777778,
              "#000018"
             ],
             [
              0.8888888888888888,
              "#000019"
             ],
             [
              1,
              "#000020"
             ]
            ],
            "type": "contour"
           }
          ],
          "contourcarpet": [
           {
            "colorscale": [
             [
              0,
              "#000011"
             ],
             [
              0.1111111111111111,
              "#000012"
             ],
             [
              0.2222222222222222,
              "#000013"
             ],
             [
              0.3333333333333333,
              "#000014"
             ],
             [
              0.4444444444444444,
              "#000015"
             ],
             [
              0.5555555555555556,
              "#000016"
             ],
             [
              0.6666666666666666,
              "#000017"
             ],
             [
              0.7777777777777778,
              "#000018"
             ],
             [
              0.8888888888888888,
              "#000019"
             ],
             [
              1,
              "#000020"
             ]
            ],
            "type": "contourcarpet"
           }
          ],
          "heatmap": [
           {
            "colorscale": [
             [
              0,
              "#000011"
             ],
             [
              0.1111111111111111,
              "#000012"
             ],
             [
              0.2222222222222222,
              "#000013"
             ],
             [
              0.3333333333333333,
              "#000014"
             ],
             [
              0.4444444444444444,
              "#000015"
             ],
             [
              0.5555555555555556,
              "#000016"
             ],
             [
              0.6666666666666666,
              "#000017"
             ],
             [
              0.7777777777777778,
              "#000018"
             ],
             [
              0.8888888888888888,
              "#000019"
             ],
             [
              1,
              "#000020"
             ]
            ],
            "type": "heatmap"
           }
          ],
          "histogram2d": [
           {
            "colorscale": [
             [
              0,
              "#000011"
             ],
             [
              0.1111111111111111,
              "#000012"
             ],
             [
              0.2222222222222222,
              "#000013"
             ],
             [
              0.3333333333333333,
              "#000014"
             ],
             [
              0.4444444444444444,
              "#000015"
             ],
             [
              0.5555555555555556,
              "#000016"
             ],
             [
              0.6666666666666666,
              "#000017"
             ],
             [
              0.7777777777777778,
              "#000018"
             ],
             [
              0.8888888888888888,
              "#000019"
             ],
             [
              1,
              "#000020"
             ]
            ],
            "type": "histogram2d"
           }
          ],
          "icicle": [
           {
            "textfont": {
             "color": "white"
            },
            "type": "icicle"
           }
          ],
          "sankey": [
           {
            "textfont": {
             "color": "#000036"
            },
            "type": "sankey"
           }
          ],
          "scatter": [
           {
            "marker": {
             "line": {
              "width": 0
             }
            },
            "type": "scatter"
           }
          ],
          "table": [
           {
            "cells": {
             "fill": {
              "color": "#000038"
             },
             "font": {
              "color": "#000037"
             },
             "line": {
              "color": "#000039"
             }
            },
            "header": {
             "fill": {
              "color": "#000040"
             },
             "font": {
              "color": "#000036"
             },
             "line": {
              "color": "#000039"
             }
            },
            "type": "table"
           }
          ],
          "waterfall": [
           {
            "connector": {
             "line": {
              "color": "#000036",
              "width": 2
             }
            },
            "decreasing": {
             "marker": {
              "color": "#000033"
             }
            },
            "increasing": {
             "marker": {
              "color": "#000032"
             }
            },
            "totals": {
             "marker": {
              "color": "#000034"
             }
            },
            "type": "waterfall"
           }
          ]
         },
         "layout": {
          "coloraxis": {
           "colorscale": [
            [
             0,
             "#000011"
            ],
            [
             0.1111111111111111,
             "#000012"
            ],
            [
             0.2222222222222222,
             "#000013"
            ],
            [
             0.3333333333333333,
             "#000014"
            ],
            [
             0.4444444444444444,
             "#000015"
            ],
            [
             0.5555555555555556,
             "#000016"
            ],
            [
             0.6666666666666666,
             "#000017"
            ],
            [
             0.7777777777777778,
             "#000018"
            ],
            [
             0.8888888888888888,
             "#000019"
            ],
            [
             1,
             "#000020"
            ]
           ]
          },
          "colorscale": {
           "diverging": [
            [
             0,
             "#000021"
            ],
            [
             0.1,
             "#000022"
            ],
            [
             0.2,
             "#000023"
            ],
            [
             0.3,
             "#000024"
            ],
            [
             0.4,
             "#000025"
            ],
            [
             0.5,
             "#000026"
            ],
            [
             0.6,
             "#000027"
            ],
            [
             0.7,
             "#000028"
            ],
            [
             0.8,
             "#000029"
            ],
            [
             0.9,
             "#000030"
            ],
            [
             1,
             "#000031"
            ]
           ],
           "sequential": [
            [
             0,
             "#000011"
            ],
            [
             0.1111111111111111,
             "#000012"
            ],
            [
             0.2222222222222222,
             "#000013"
            ],
            [
             0.3333333333333333,
             "#000014"
            ],
            [
             0.4444444444444444,
             "#000015"
            ],
            [
             0.5555555555555556,
             "#000016"
            ],
            [
             0.6666666666666666,
             "#000017"
            ],
            [
             0.7777777777777778,
             "#000018"
            ],
            [
             0.8888888888888888,
             "#000019"
            ],
            [
             1,
             "#000020"
            ]
           ],
           "sequentialminus": [
            [
             0,
             "#000011"
            ],
            [
             0.1111111111111111,
             "#000012"
            ],
            [
             0.2222222222222222,
             "#000013"
            ],
            [
             0.3333333333333333,
             "#000014"
            ],
            [
             0.4444444444444444,
             "#000015"
            ],
            [
             0.5555555555555556,
             "#000016"
            ],
            [
             0.6666666666666666,
             "#000017"
            ],
            [
             0.7777777777777778,
             "#000018"
            ],
            [
             0.8888888888888888,
             "#000019"
            ],
            [
             1,
             "#000020"
            ]
           ]
          },
          "colorway": [
           "#000001",
           "#000002",
           "#000003",
           "#000004",
           "#000005",
           "#000006",
           "#000007",
           "#000008",
           "#000009",
           "#000010"
          ]
         }
        },
        "width": 400,
        "xaxis": {
         "anchor": "y",
         "domain": [
          0,
          1
         ],
         "title": {
          "text": "Year"
         }
        },
        "yaxis": {
         "anchor": "x",
         "domain": [
          0,
          1
         ],
         "title": {
          "text": "No. of Internet Users"
         }
        }
       }
      }
     },
     "metadata": {},
     "output_type": "display_data"
    }
   ],
   "source": [
    "fig = px.scatter(\n",
    "    data_frame=df_country, x='Year', y='No. of Internet Users', width=400, height=400\n",
    ")\n",
    "fig.show()\n",
    "\n",
    "# 카메라 -> 다운로드 "
   ]
  },
  {
   "cell_type": "code",
   "execution_count": 22,
   "id": "006ec498",
   "metadata": {},
   "outputs": [
    {
     "data": {
      "application/vnd.plotly.v1+json": {
       "config": {
        "plotlyServerURL": "https://plot.ly"
       },
       "data": [
        {
         "hovertemplate": "Entity=China<br>Year=%{x}<br>No. of Internet Users=%{y}<extra></extra>",
         "legendgroup": "China",
         "marker": {
          "color": "rgb(228,26,28)",
          "symbol": "circle"
         },
         "mode": "markers",
         "name": "China",
         "orientation": "v",
         "showlegend": true,
         "type": "scatter",
         "x": {
          "bdata": "vAe9B74HvwfAB8EHwgfDB8QHxQfGB8cHyAfJB8oHywfMB80HzgfPB9AH0QfSB9MH1AfVB9YH1wfYB9kH2gfbB9wH3QfeB98H4AfhB+IH4wfkBw==",
          "dtype": "i2"
         },
         "xaxis": "x",
         "y": {
          "bdata": "AAAAAAAAAAAAAAAAAAAAAAAAAAAAAAAAAAAAAAAAAAAAAAAAAAAAAAAAAAAAAAAAAAAAAOEHAAAWNwAAxOsAAKpzAgBYHgYArRAgAMuphwCXjFYB4KEAAno/ggMBVcMEa4OkBesQoQY3bjwIw1maDDkQ6xFHQxEXuh2QG/EF+x5qcnQif+mQJb9LjCcQAckpABZ0LIDfpC0frQAy3jhVNtrmyzs=",
          "dtype": "i4"
         },
         "yaxis": "y"
        },
        {
         "hovertemplate": "Entity=Finland<br>Year=%{x}<br>No. of Internet Users=%{y}<extra></extra>",
         "legendgroup": "Finland",
         "marker": {
          "color": "rgb(55,126,184)",
          "symbol": "diamond"
         },
         "mode": "markers",
         "name": "Finland",
         "orientation": "v",
         "showlegend": true,
         "type": "scatter",
         "x": {
          "bdata": "vAe9B74HvwfAB8EHwgfDB8QHxQfGB8cHyAfJB8oHywfMB80HzgfPB9AH0QfSB9MH1AfVB9YH1wfYB9kH2gfbB9wH3QfeB98H4AfhB+IH4wfkBw==",
          "dtype": "i2"
         },
         "xaxis": "x",
         "y": {
          "bdata": "AAAAAAAAAAAAAAAAAAAAAAAAAAAAAAAAAAAAAAAAAAAAAAAAAAAAACBOAACyEQEAo3MBAFb8AQD40AMAg9UKABsfDQDlQg8A3AMUAGt0GQB6ax0AlR8iAIeKMQBwDzcAzb85AMmeOwAWA0AATzBBAPfVQwATM0MAuRtHAEjvSAC+P0oAyPJLACocSADoQUgAMopJAPyDSQAnz0oA+35LAD/ETQA=",
          "dtype": "i4"
         },
         "yaxis": "y"
        },
        {
         "hovertemplate": "Entity=India<br>Year=%{x}<br>No. of Internet Users=%{y}<extra></extra>",
         "legendgroup": "India",
         "marker": {
          "color": "rgb(77,175,74)",
          "symbol": "square"
         },
         "mode": "markers",
         "name": "India",
         "orientation": "v",
         "showlegend": true,
         "type": "scatter",
         "x": {
          "bdata": "vAe9B74HvwfAB8EHwgfDB8QHxQfGB8cHyAfJB8oHywfMB80HzgfPB9AH0QfSB9MH1AfVB9YH1wfYB9kH2gfbB9wH3QfeB98H4AfhB+IH4wfkBw==",
          "dtype": "i2"
         },
         "xaxis": "x",
         "y": {
          "bdata": "AAAAAAAAAAAAAAAAAAAAAAAAAAAAAAAAAAAAAAAAAAAAAAAAAAAAAAAAAAAAAAAA8gMAAOUHAAB+JwAA+NsDAKnzBgDT0goAKasVABNhKwCYS1UAY69sAEC7AQGmjR8Bep9WAYi9pAE/4PUBug3NAsyAJgMI+LsDBsWLBRhpjAexoW4Imjx3CUHYhAqonb8L7EgqDY68sA5/2WIQvsE8GOkVyiM=",
          "dtype": "i4"
         },
         "yaxis": "y"
        }
       ],
       "layout": {
        "height": 400,
        "legend": {
         "title": {
          "text": "Entity"
         },
         "tracegroupgap": 0
        },
        "margin": {
         "t": 60
        },
        "template": {
         "data": {
          "candlestick": [
           {
            "decreasing": {
             "line": {
              "color": "#000033"
             }
            },
            "increasing": {
             "line": {
              "color": "#000032"
             }
            },
            "type": "candlestick"
           }
          ],
          "contour": [
           {
            "colorscale": [
             [
              0,
              "#000011"
             ],
             [
              0.1111111111111111,
              "#000012"
             ],
             [
              0.2222222222222222,
              "#000013"
             ],
             [
              0.3333333333333333,
              "#000014"
             ],
             [
              0.4444444444444444,
              "#000015"
             ],
             [
              0.5555555555555556,
              "#000016"
             ],
             [
              0.6666666666666666,
              "#000017"
             ],
             [
              0.7777777777777778,
              "#000018"
             ],
             [
              0.8888888888888888,
              "#000019"
             ],
             [
              1,
              "#000020"
             ]
            ],
            "type": "contour"
           }
          ],
          "contourcarpet": [
           {
            "colorscale": [
             [
              0,
              "#000011"
             ],
             [
              0.1111111111111111,
              "#000012"
             ],
             [
              0.2222222222222222,
              "#000013"
             ],
             [
              0.3333333333333333,
              "#000014"
             ],
             [
              0.4444444444444444,
              "#000015"
             ],
             [
              0.5555555555555556,
              "#000016"
             ],
             [
              0.6666666666666666,
              "#000017"
             ],
             [
              0.7777777777777778,
              "#000018"
             ],
             [
              0.8888888888888888,
              "#000019"
             ],
             [
              1,
              "#000020"
             ]
            ],
            "type": "contourcarpet"
           }
          ],
          "heatmap": [
           {
            "colorscale": [
             [
              0,
              "#000011"
             ],
             [
              0.1111111111111111,
              "#000012"
             ],
             [
              0.2222222222222222,
              "#000013"
             ],
             [
              0.3333333333333333,
              "#000014"
             ],
             [
              0.4444444444444444,
              "#000015"
             ],
             [
              0.5555555555555556,
              "#000016"
             ],
             [
              0.6666666666666666,
              "#000017"
             ],
             [
              0.7777777777777778,
              "#000018"
             ],
             [
              0.8888888888888888,
              "#000019"
             ],
             [
              1,
              "#000020"
             ]
            ],
            "type": "heatmap"
           }
          ],
          "histogram2d": [
           {
            "colorscale": [
             [
              0,
              "#000011"
             ],
             [
              0.1111111111111111,
              "#000012"
             ],
             [
              0.2222222222222222,
              "#000013"
             ],
             [
              0.3333333333333333,
              "#000014"
             ],
             [
              0.4444444444444444,
              "#000015"
             ],
             [
              0.5555555555555556,
              "#000016"
             ],
             [
              0.6666666666666666,
              "#000017"
             ],
             [
              0.7777777777777778,
              "#000018"
             ],
             [
              0.8888888888888888,
              "#000019"
             ],
             [
              1,
              "#000020"
             ]
            ],
            "type": "histogram2d"
           }
          ],
          "icicle": [
           {
            "textfont": {
             "color": "white"
            },
            "type": "icicle"
           }
          ],
          "sankey": [
           {
            "textfont": {
             "color": "#000036"
            },
            "type": "sankey"
           }
          ],
          "scatter": [
           {
            "marker": {
             "line": {
              "width": 0
             }
            },
            "type": "scatter"
           }
          ],
          "table": [
           {
            "cells": {
             "fill": {
              "color": "#000038"
             },
             "font": {
              "color": "#000037"
             },
             "line": {
              "color": "#000039"
             }
            },
            "header": {
             "fill": {
              "color": "#000040"
             },
             "font": {
              "color": "#000036"
             },
             "line": {
              "color": "#000039"
             }
            },
            "type": "table"
           }
          ],
          "waterfall": [
           {
            "connector": {
             "line": {
              "color": "#000036",
              "width": 2
             }
            },
            "decreasing": {
             "marker": {
              "color": "#000033"
             }
            },
            "increasing": {
             "marker": {
              "color": "#000032"
             }
            },
            "totals": {
             "marker": {
              "color": "#000034"
             }
            },
            "type": "waterfall"
           }
          ]
         },
         "layout": {
          "coloraxis": {
           "colorscale": [
            [
             0,
             "#000011"
            ],
            [
             0.1111111111111111,
             "#000012"
            ],
            [
             0.2222222222222222,
             "#000013"
            ],
            [
             0.3333333333333333,
             "#000014"
            ],
            [
             0.4444444444444444,
             "#000015"
            ],
            [
             0.5555555555555556,
             "#000016"
            ],
            [
             0.6666666666666666,
             "#000017"
            ],
            [
             0.7777777777777778,
             "#000018"
            ],
            [
             0.8888888888888888,
             "#000019"
            ],
            [
             1,
             "#000020"
            ]
           ]
          },
          "colorscale": {
           "diverging": [
            [
             0,
             "#000021"
            ],
            [
             0.1,
             "#000022"
            ],
            [
             0.2,
             "#000023"
            ],
            [
             0.3,
             "#000024"
            ],
            [
             0.4,
             "#000025"
            ],
            [
             0.5,
             "#000026"
            ],
            [
             0.6,
             "#000027"
            ],
            [
             0.7,
             "#000028"
            ],
            [
             0.8,
             "#000029"
            ],
            [
             0.9,
             "#000030"
            ],
            [
             1,
             "#000031"
            ]
           ],
           "sequential": [
            [
             0,
             "#000011"
            ],
            [
             0.1111111111111111,
             "#000012"
            ],
            [
             0.2222222222222222,
             "#000013"
            ],
            [
             0.3333333333333333,
             "#000014"
            ],
            [
             0.4444444444444444,
             "#000015"
            ],
            [
             0.5555555555555556,
             "#000016"
            ],
            [
             0.6666666666666666,
             "#000017"
            ],
            [
             0.7777777777777778,
             "#000018"
            ],
            [
             0.8888888888888888,
             "#000019"
            ],
            [
             1,
             "#000020"
            ]
           ],
           "sequentialminus": [
            [
             0,
             "#000011"
            ],
            [
             0.1111111111111111,
             "#000012"
            ],
            [
             0.2222222222222222,
             "#000013"
            ],
            [
             0.3333333333333333,
             "#000014"
            ],
            [
             0.4444444444444444,
             "#000015"
            ],
            [
             0.5555555555555556,
             "#000016"
            ],
            [
             0.6666666666666666,
             "#000017"
            ],
            [
             0.7777777777777778,
             "#000018"
            ],
            [
             0.8888888888888888,
             "#000019"
            ],
            [
             1,
             "#000020"
            ]
           ]
          },
          "colorway": [
           "#000001",
           "#000002",
           "#000003",
           "#000004",
           "#000005",
           "#000006",
           "#000007",
           "#000008",
           "#000009",
           "#000010"
          ]
         }
        },
        "width": 400,
        "xaxis": {
         "anchor": "y",
         "domain": [
          0,
          1
         ],
         "title": {
          "text": "Year"
         }
        },
        "yaxis": {
         "anchor": "x",
         "domain": [
          0,
          1
         ],
         "title": {
          "text": "No. of Internet Users"
         }
        }
       }
      }
     },
     "metadata": {},
     "output_type": "display_data"
    }
   ],
   "source": [
    "color=px.colors.qualitative.Set1\n",
    "px.scatter(\n",
    "    data_frame=df_country, x='Year', y='No. of Internet Users', \n",
    "    width=400, height=400, color='Entity', color_discrete_sequence=px.colors.qualitative.Set1, symbol='Entity'\n",
    ")"
   ]
  },
  {
   "cell_type": "markdown",
   "id": "3a289be4",
   "metadata": {},
   "source": [
    "산점도는 데이터의 양에 따라 효과가 달라진다.    \n",
    "size 그룹간의 차이 식별이 어려워질 수 있다.    \n",
    "최대 2개 정도만 구분    \n",
    "- hue, style   "
   ]
  },
  {
   "cell_type": "code",
   "execution_count": 16,
   "id": "2bb06001",
   "metadata": {},
   "outputs": [],
   "source": [
    "# regplot"
   ]
  },
  {
   "cell_type": "code",
   "execution_count": null,
   "id": "f6d7a0d7",
   "metadata": {},
   "outputs": [
    {
     "data": {
      "text/html": [
       "<div>\n",
       "<style scoped>\n",
       "    .dataframe tbody tr th:only-of-type {\n",
       "        vertical-align: middle;\n",
       "    }\n",
       "\n",
       "    .dataframe tbody tr th {\n",
       "        vertical-align: top;\n",
       "    }\n",
       "\n",
       "    .dataframe thead th {\n",
       "        text-align: right;\n",
       "    }\n",
       "</style>\n",
       "<table border=\"1\" class=\"dataframe\">\n",
       "  <thead>\n",
       "    <tr style=\"text-align: right;\">\n",
       "      <th></th>\n",
       "      <th>total_bill</th>\n",
       "      <th>tip</th>\n",
       "      <th>sex</th>\n",
       "      <th>smoker</th>\n",
       "      <th>day</th>\n",
       "      <th>time</th>\n",
       "      <th>size</th>\n",
       "    </tr>\n",
       "  </thead>\n",
       "  <tbody>\n",
       "    <tr>\n",
       "      <th>0</th>\n",
       "      <td>16.99</td>\n",
       "      <td>1.01</td>\n",
       "      <td>Female</td>\n",
       "      <td>No</td>\n",
       "      <td>Sun</td>\n",
       "      <td>Dinner</td>\n",
       "      <td>2</td>\n",
       "    </tr>\n",
       "    <tr>\n",
       "      <th>1</th>\n",
       "      <td>10.34</td>\n",
       "      <td>1.66</td>\n",
       "      <td>Male</td>\n",
       "      <td>No</td>\n",
       "      <td>Sun</td>\n",
       "      <td>Dinner</td>\n",
       "      <td>3</td>\n",
       "    </tr>\n",
       "    <tr>\n",
       "      <th>2</th>\n",
       "      <td>21.01</td>\n",
       "      <td>3.50</td>\n",
       "      <td>Male</td>\n",
       "      <td>No</td>\n",
       "      <td>Sun</td>\n",
       "      <td>Dinner</td>\n",
       "      <td>3</td>\n",
       "    </tr>\n",
       "    <tr>\n",
       "      <th>3</th>\n",
       "      <td>23.68</td>\n",
       "      <td>3.31</td>\n",
       "      <td>Male</td>\n",
       "      <td>No</td>\n",
       "      <td>Sun</td>\n",
       "      <td>Dinner</td>\n",
       "      <td>2</td>\n",
       "    </tr>\n",
       "    <tr>\n",
       "      <th>4</th>\n",
       "      <td>24.59</td>\n",
       "      <td>3.61</td>\n",
       "      <td>Female</td>\n",
       "      <td>No</td>\n",
       "      <td>Sun</td>\n",
       "      <td>Dinner</td>\n",
       "      <td>4</td>\n",
       "    </tr>\n",
       "  </tbody>\n",
       "</table>\n",
       "</div>"
      ],
      "text/plain": [
       "   total_bill   tip     sex smoker  day    time  size\n",
       "0       16.99  1.01  Female     No  Sun  Dinner     2\n",
       "1       10.34  1.66    Male     No  Sun  Dinner     3\n",
       "2       21.01  3.50    Male     No  Sun  Dinner     3\n",
       "3       23.68  3.31    Male     No  Sun  Dinner     2\n",
       "4       24.59  3.61  Female     No  Sun  Dinner     4"
      ]
     },
     "execution_count": 17,
     "metadata": {},
     "output_type": "execute_result"
    }
   ],
   "source": [
    "tip_df = sns.load_dataset('tips')\n",
    "tip_df.head()"
   ]
  },
  {
   "cell_type": "markdown",
   "id": "181f6884",
   "metadata": {},
   "source": [
    "색칠해진 면 -> 오차구간을 함께 볼 수 있다. CI 속성 "
   ]
  },
  {
   "cell_type": "code",
   "execution_count": 18,
   "id": "24de77b9",
   "metadata": {},
   "outputs": [
    {
     "data": {
      "text/plain": [
       "<Axes: xlabel='total_bill', ylabel='tip'>"
      ]
     },
     "execution_count": 18,
     "metadata": {},
     "output_type": "execute_result"
    },
    {
     "data": {
      "image/png": "[encoded data removed]",
      "text/plain": [
       "<Figure size 640x480 with 1 Axes>"
      ]
     },
     "metadata": {},
     "output_type": "display_data"
    }
   ],
   "source": [
    "sns.regplot(x=tip_df['total_bill'], y=tip_df['tip'], scatter=False)"
   ]
  },
  {
   "cell_type": "code",
   "execution_count": 20,
   "id": "50e5ec25",
   "metadata": {},
   "outputs": [
    {
     "data": {
      "text/plain": [
       "<Axes: xlabel='size', ylabel='tip'>"
      ]
     },
     "execution_count": 20,
     "metadata": {},
     "output_type": "execute_result"
    },
    {
     "data": {
      "image/png": "[encoded data removed]",
      "text/plain": [
       "<Figure size 640x480 with 1 Axes>"
      ]
     },
     "metadata": {},
     "output_type": "display_data"
    }
   ],
   "source": [
    "#size, tip으로 regpolt \n",
    "sns.regplot(x=tip_df['size'], y=tip_df['tip'], scatter=False)"
   ]
  },
  {
   "cell_type": "code",
   "execution_count": 24,
   "id": "a277ab62",
   "metadata": {},
   "outputs": [
    {
     "data": {
      "application/vnd.plotly.v1+json": {
       "config": {
        "plotlyServerURL": "https://plot.ly"
       },
       "data": [
        {
         "hovertemplate": "smoker=No<br>total_bill=%{x}<br>tip=%{y}<extra></extra>",
         "legendgroup": "No",
         "marker": {
          "color": "blue",
          "symbol": "circle"
         },
         "mode": "markers",
         "name": "No",
         "orientation": "v",
         "showlegend": true,
         "type": "scatter",
         "x": {
          "bdata": "PQrXo3D9MECuR+F6FK4kQMP1KFyPAjVArkfhehSuN0DXo3A9Cpc4QArXo3A9SjlACtejcD2KIUDhehSuR+E6QBSuR+F6FC5Aj8L1KFyPLUAK16NwPYokQOF6FK5HoUFA16NwPQrXLkCuR+F6FG4yQClcj8L1qC1AFK5H4XqUNUApXI/C9agkQArXo3A9SjBAuB6F61H4MEBmZmZmZqY0QOxRuB6F6zFACtejcD1KNEAK16NwPYovQPYoXI/CtUNAUrgehevRM0CPwvUoXM8xQD0K16NwvSpA4XoUrkdhKUAzMzMzM7M1QGZmZmZmpjNAmpmZmZkZI0CamZmZmVkyQB+F61G4Hi5AcT0K16OwNEBI4XoUrscxQI/C9ShcDzhAj8L1KFxPMECuR+F6FO4wQHE9CtejsDJAhetRuB5FP0AK16NwPQowQPYoXI/CdTFA4XoUrkfhK0Bcj8L1KFwjQGZmZmZmZj5ACtejcD1KMkB7FK5H4To2QDMzMzMzM0BAzczMzMyMPEAK16NwPQoyQBSuR+F6FClAFK5H4XqUJEBI4XoUrmdBQOF6FK5H4SNAj8L1KFyPOUA9CtejcH0zQClcj8L1aDpAw/UoXI8iSEDXo3A9CpcxQBSuR+F6FDRAMzMzMzNzMEB7FK5H4To0QArXo3A9CihAUrgehesRMUD2KFyPwnUtQIXrUbgeBSVAMzMzMzMzO0DD9Shcj8I2QArXo3A9SjFAKVyPwvWoMECkcD0K1yMkQPYoXI/C9S9ACtejcD1qQUCPwvUoXA8qQEjhehSuRzJA9ihcj8K1OEApXI/C9Sg1QD0K16NwfTZAAAAAAADANkDsUbgehesoQOxRuB6F6zRAPQrXo3A9MkAAAAAAAAAsQAAAAAAAAB1AKVyPwvUIQ0AzMzMzM/M3QPYoXI/CtTlAj8L1KFxPMUCuR+F6FO49QM3MzMzMTCVAXI/C9SjcKEAUrkfhehQ4QOF6FK5HYSdA16NwPQrXKkCF61G4HoUsQGZmZmZm5i9A9ihcj8L1KEDNzMzMzMw9QArXo3A9CiFACtejcD0KLUDD9Shcj8ImQFK4HoXr0TZAFK5H4XoUM0CF61G4HkU0QNejcD0KVyZAhetRuB6FKEDD9Shcj0IyQIXrUbgeBSFAKVyPwvWoJEDNzMzMzEwsQFK4HoXrUSpAuB6F61F4MUBmZmZmZiZBQLgehetRmERAzczMzMwMO0CuR+F6FG4wQDMzMzMzsyBApHA9CtejMkA9CtejcL0nQI/C9ShcjyNACtejcD0KHkCkcD0K1yMsQMP1KFyPQipAw/UoXI9CMUDNzMzMzIw4QIXrUbgexTNAmpmZmZnZPUD2KFyPwhVIQAAAAAAAADlASOF6FK7HKkA9CtejcH0wQAAAAAAAgDVAUrgehetRKUD2KFyPwjUwQB+F61G4nitAhetRuB6FOEDD9Shcj8I0QPYoXI/CtT9AcT0K16OwNEA9CtejcD0eQArXo3A9KkhA9ihcj8L1L0AzMzMzM3M0QI/C9ShcjypAuB6F61E4J0AK16NwPYolQKRwPQrXIyRACtejcD3qQUBI4XoUrgc9QFK4HoXr0TFASOF6FK7HMkA=",
          "dtype": "f8"
         },
         "xaxis": "x",
         "y": {
          "bdata": "KVyPwvUo8D+PwvUoXI/6PwAAAAAAAAxAexSuR+F6CkDhehSuR+EMQNejcD0K1xJAAAAAAAAAAED2KFyPwvUIQFyPwvUoXP8/16NwPQrXCUBcj8L1KFz7PwAAAAAAABRAH4XrUbge+T8AAAAAAAAIQClcj8L1KAhAXI/C9ShcD0C4HoXrUbj6P65H4XoUrg1AAAAAAAAADEDNzMzMzMwKQFK4HoXrURBAAAAAAAAABkDXo3A9CtcBQFK4HoXrUR5AcT0K16NwCUC4HoXrUbgCQAAAAAAAAABAAAAAAAAAAEAzMzMzMzMRQAAAAAAAAAhAMzMzMzMz9z8AAAAAAAAEQAAAAAAAAAhAmpmZmZmZA0ApXI/C9SgKQM3MzMzMzAxAAAAAAAAAAECPwvUoXI8IQHsUrkfhegJAAAAAAAAAFEDsUbgehesBQFK4HoXrUQRAexSuR+F6CEAfhetRuB71P2ZmZmZmZhZAAAAAAAAACEAAAAAAAAAUQAAAAAAAABhAZmZmZmZmAEAAAAAAAAAIQAAAAAAAAARAzczMzMzMBEDNzMzMzMwUQPYoXI/C9fg/XI/C9ShcEUAUrkfhehQMQAAAAAAAAPg/7FG4HoXrGkAfhetRuB4FQDMzMzMzMwlAw/UoXI/CA0AUrkfhehQAQIXrUbgehf8/AAAAAAAACECamZmZmZkBQAAAAAAAAPQ/AAAAAAAAEEAAAAAAAAAIQK5H4XoUrgVAMzMzMzMzC0BI4XoUrkf9Pz0K16NwPQBArkfhehSuFEAAAAAAAAAAQAAAAAAAABBAZmZmZmZmF0AAAAAAAAAIQAAAAAAAAAxAAAAAAAAACkAAAAAAAAD4P1K4HoXrURBAFK5H4XoUDkAAAAAAAAAIQAAAAAAAAPA/AAAAAAAAEEBmZmZmZmYEQAAAAAAAABBAAAAAAAAADEBI4XoUrkcUQAAAAAAAAPg/zczMzMzM/D9cj8L1KFwHQHsUrkfhegJA4XoUrkfh+j8AAAAAAAAEQAAAAAAAAABAKVyPwvUoBEDNzMzMzMwQQK5H4XoUrvc/AAAAAAAAAEAAAAAAAAAAQHE9CtejcAFAAAAAAAAA+D+kcD0K16MGQAAAAAAAAPg/AAAAAAAAAEAAAAAAAAAKQAAAAAAAAPQ/AAAAAAAAAEAAAAAAAAAAQAAAAAAAAAZAAAAAAAAADEDNzMzMzMwaQAAAAAAAABRAAAAAAAAAFEBmZmZmZmYCQAAAAAAAAPg/w/UoXI/C9T8UrkfhehT6P65H4XoUrvs/AAAAAAAAAEAAAAAAAAAEQAAAAAAAAABA7FG4HoXrBUAAAAAAAAAAQAAAAAAAAABAj8L1KFyPFEAAAAAAAAAUQAAAAAAAAA5A4XoUrkfhBEAAAAAAAAAAQAAAAAAAAAxAAAAAAAAABEAAAAAAAAAAQAAAAAAAAABA16NwPQrXC0DsUbgehesBQAAAAAAAABJAAAAAAAAAFEAK16NwPQr3PwAAAAAAACJAAAAAAAAACEAAAAAAAAAIQMP1KFyPwgVAH4XrUbgeC0CF61G4HoX3PwAAAAAAAPQ/rkfhehSuEkCuR+F6FK4XQAAAAAAAAPw/AAAAAAAACEA=",
          "dtype": "f8"
         },
         "yaxis": "y"
        },
        {
         "hovertemplate": "<b>OLS trendline</b><br>tip = 0.137156 * total_bill + 0.360069<br>R<sup>2</sup>=0.675984<br><br>smoker=No<br>total_bill=%{x}<br>tip=%{y} <b>(trend)</b><extra></extra>",
         "legendgroup": "No",
         "marker": {
          "color": "blue",
          "symbol": "circle"
         },
         "mode": "lines",
         "name": "No",
         "showlegend": false,
         "type": "scatter",
         "x": {
          "bdata": "AAAAAAAAHUAK16NwPQoeQD0K16NwPR5AMzMzMzOzIECF61G4HgUhQArXo3A9CiFACtejcD2KIUCamZmZmRkjQFyPwvUoXCNAj8L1KFyPI0DhehSuR+EjQKRwPQrXIyRApHA9CtcjJEAK16NwPYokQBSuR+F6lCRAKVyPwvWoJEApXI/C9agkQK5H4XoUriRAhetRuB4FJUDNzMzMzEwlQArXo3A9iiVA16NwPQpXJkDD9Shcj8ImQLgehetROCdA4XoUrkdhJ0A9CtejcL0nQArXo3A9CihAhetRuB6FKEBcj8L1KNwoQOxRuB6F6yhA9ihcj8L1KEAUrkfhehQpQFK4HoXrUSlA4XoUrkdhKUCPwvUoXA8qQMP1KFyPQipAUrgehetRKkCPwvUoXI8qQD0K16NwvSpASOF6FK7HKkDXo3A9CtcqQB+F61G4nitA4XoUrkfhK0AAAAAAAAAsQKRwPQrXIyxAzczMzMxMLECF61G4HoUsQArXo3A9Ci1A9ihcj8J1LUCPwvUoXI8tQClcj8L1qC1AFK5H4XoULkAfhetRuB4uQNejcD0K1y5ACtejcD2KL0BmZmZmZuYvQPYoXI/C9S9A9ihcj8L1L0AK16NwPQowQPYoXI/CNTBACtejcD1KMECPwvUoXE8wQK5H4XoUbjBAMzMzMzNzMEA9CtejcH0wQClcj8L1qDBArkfhehTuMEC4HoXrUfgwQD0K16Nw/TBAUrgehesRMUDD9Shcj0IxQArXo3A9SjFAj8L1KFxPMUD2KFyPwnUxQLgehetReDFA16NwPQqXMUBI4XoUrscxQI/C9ShczzFAUrgehevRMUDsUbgehesxQArXo3A9CjJAPQrXo3A9MkDD9Shcj0IyQEjhehSuRzJACtejcD1KMkCamZmZmVkyQK5H4XoUbjJApHA9CtejMkBxPQrXo7AyQEjhehSuxzJAFK5H4XoUM0A9CtejcH0zQGZmZmZmpjNAhetRuB7FM0BSuB6F69EzQBSuR+F6FDRAexSuR+E6NECF61G4HkU0QArXo3A9SjRAMzMzMzNzNEBmZmZmZqY0QHE9CtejsDRAcT0K16OwNEDD9Shcj8I0QOxRuB6F6zRAw/UoXI8CNUApXI/C9Sg1QAAAAAAAgDVAFK5H4XqUNUAzMzMzM7M1QHsUrkfhOjZAPQrXo3B9NkAAAAAAAMA2QMP1KFyPwjZAUrgehevRNkCuR+F6FK43QDMzMzMz8zdAj8L1KFwPOEAUrkfhehQ4QIXrUbgehThAzczMzMyMOEDXo3A9Cpc4QPYoXI/CtThAAAAAAAAAOUAK16NwPUo5QI/C9ShcjzlA9ihcj8K1OUApXI/C9Wg6QOF6FK5H4TpAzczMzMwMO0AzMzMzMzM7QM3MzMzMjDxASOF6FK4HPUDNzMzMzMw9QJqZmZmZ2T1ArkfhehTuPUBmZmZmZmY+QIXrUbgeRT9A9ihcj8K1P0AzMzMzMzNAQGZmZmZmJkFASOF6FK5nQUAK16NwPWpBQOF6FK5HoUFACtejcD3qQUApXI/C9QhDQPYoXI/CtUNAuB6F61GYRED2KFyPwhVIQMP1KFyPIkhACtejcD0qSEA=",
          "dtype": "f8"
         },
         "xaxis": "x",
         "y": {
          "bdata": "SAYMu9Kr9T/8WcmC4z32P8b9Hm76WfY/oBlo9MoV+D/AJXrlrW/4P4JGixRMdfg/cnk3rb4B+T+MdG8E8bf6P2QeTmj5APs/+GX5Pic5+z8YcgswCpP7P/Ib6pMS3Ps/8hvqkxLc+z8Yq0BBbkz8P5zsYp+qV/w/pG+nWyNu/D+kb6dbI278P2aQuIrBc/w/SL3bqkLT/D/kh8s96SH9P/oQmXJTZf0/SC9GzQpG/j8y362pBLz+P57QN+Q6Pf8/rtbAXCxq/z9SJPWrS8//P9gH+zbIEQBA75DIazJVAEBgJ9r78oQAQIPYc0JgjQBARfmEcf6SAECKW7j+2KMAQBYgHxmOxQBAOdG4X/vNAEAa/tt/fC0BQOWhMWuTSQFAB1PLsQBSAUCTFzLMtXMBQPwq/5/9jAFAvksQz5uSAUDh/KkVCZsBQKf7d6uVCAJAlFBn3RktAkDasppq9D0CQIGlVg+eUQJAiSibyxZoAkCzXHnO/IYCQI0GWDIF0AJAgt6LIAILA0BmsDaWDRkDQEuC4QsZJwNAQFoV+hViA0ACeyYptGcDQKXIWnjTzANA54UGsCMvBEC5rKBXs2EEQNxdOp4gagRA3F06niBqBEAiwG0r+3oEQJNWf7u7qgRAmtnDdzTBBEBc+tSm0sYEQOi+O8GH6ARAqt9M8CXuBEAuIW9OYvkEQJ+3gN4iKQVA2fHnWfp0BUBdMwq4NoAFQB9UG+fUhQVAJ9dfo02cBUBajoJirNEFQHw/HKkZ2gVAPmAt2LffBUDt1S052gkGQE5mtlCpDAZA2ioda14uBkAN4j8qvWMGQC+T2XAqbAZAkCNiiPluBkBbx7dzEIsGQOaLHo7FrAZAedPJZPPkBkA89NqTkeoGQP4U7MIv8AZAXqV02v7yBkClB6hn2QMHQKyK7CNSGgdAoWIgEk9VB0CGNMuHWmMHQO9HmFuifAdASzOZHefQB0DUUnjiEUQIQONYAVsDcQhAbx1odbiSCEBU7xLrw6AIQC2Z8U7M6QhA3Q7yr+4TCUBgUBQOKx8JQCJxJT3JJAlAMneutbpRCUDFvlmM6IkJQEoAfOoklQlASgB86iSVCUDx8jePzqgJQAH5wAfA1QlAaQyO2wfvCUAYgo48KhkKQPmusVyreApAADL2GCSPCkCM9lwz2bAKQKHaohK5RQtAeoSBdsGOC0BULmDaydcLQLW+6PGY2gtA+iAcf3PrC0CPofxmBd0MQMnbY+LcKA1A8w9C5cJHDUC1MFMUYU0NQGEBzB/5yA1AhLJlZmbRDUAI9IfEotwNQJS47t5X/g1AkBNnic1PDkCMbt8zQ6EOQMaoRq8a7Q5Adh5HED0XD0D6mJ5/3dsPQGSN2GjxLxBAnFjhsNFHEEBzk2Hh4lwQQAal45V9GhFAHS6xyuddEUCz5LrUDMoRQKZNkI8S0RFAKo+y7U7cEUAQ0LuWUR4SQItYcBaCmBJA4cAsHE7WEkDyNRTINjcTQO/JwYMQQhRAmSvcW7GJFED5u2RzgIwUQB7cXO3kyBRA6u4QDPMYFUBYGdBXjVMWQOsqUgwoERdAcRQIr78JGECo6DTEEt4bQI263zke7BtAr2t5gIv0G0A=",
          "dtype": "f8"
         },
         "yaxis": "y"
        },
        {
         "hovertemplate": "smoker=Yes<br>total_bill=%{x}<br>tip=%{y}<extra></extra>",
         "legendgroup": "Yes",
         "marker": {
          "color": "red",
          "symbol": "circle"
         },
         "mode": "markers",
         "name": "Yes",
         "orientation": "v",
         "showlegend": true,
         "type": "scatter",
         "x": {
          "bdata": "4XoUrkcBQ0B7FK5H4XomQArXo3A9SjRAH4XrUbieK0AK16NwPQomQArXo3A9SjJAj8L1KFyPCECF61G4HgUuQFyPwvUo3DpASOF6FK5HOUDsUbgehesxQHE9CtejcDNA16NwPQpXQEC4HoXrUfg8QAAAAAAAABdAUrgehetRMED2KFyPwhVEQEjhehSuRztAj8L1KFwPKEDD9ShcjwI1QDMzMzMzsyZAw/UoXI/CLkBmZmZmZiZGQOxRuB6FazZAuB6F61G4LkA9CtejcH00QPYoXI/CNTlAH4XrUbieLEAAAAAAAAAwQMP1KFyPgjFArkfhehQuJUDD9Shcj0IlQEjhehSuZ0lAH4XrUbieL0AAAAAAAAAdQJqZmZmZ2T9AUrgehevRMEAzMzMzM3NAQKRwPQrX4zFA9ihcj8L1LEAzMzMzMzMjQHE9CtejUEFAMzMzMzNTQUAUrkfhelQ3QM3MzMzMrEZA7FG4HoUrN0BmZmZmZkZEQGZmZmZm5jRA9ihcj8J1PkBmZmZmZiYyQJqZmZmZGTdA4XoUrkdhL0CPwvUoXM8zQHE9CtejcDxA9ihcj8L1LkAUrkfhepQwQK5H4XoUriRArkfhehSORUAAAAAAAAAqQIXrUbgeBStA9ihcj8K1MkB7FK5H4XopQAAAAAAAACpAZmZmZmZmMEBI4XoUroc0QLgehetReDBA16NwPQqXOkA9CtejcF1DQIXrUbgeRThAhetRuB6FKUCPwvUoXA8+QKRwPQrX4zlACtejcD2KKkDsUbgehSs8QM3MzMzMzClAZmZmZmYmPECuR+F6FC4nQPYoXI/C9R5ApHA9CtcjPkBSuB6F61EoQNejcD0K1ypAKVyPwvUoIUDXo3A9CtcqQIXrUbgeRTBArkfhehQuJEAfhetRuB42QMP1KFyPAjhA4XoUrkdhL0CPwvUoXA8vQDMzMzMzMylACtejcD1qQECuR+F6FC47QOxRuB6FqzZA",
          "dtype": "f8"
         },
         "xaxis": "x",
         "y": {
          "bdata": "AAAAAAAACEApXI/C9Sj8P65H4XoUrglAAAAAAAAAAECuR+F6FK7/PxSuR+F6FA5AAAAAAAAA8D+4HoXrUbgAQB+F61G4HglAAAAAAAAAFECkcD0K16MIQAAAAAAAAAhAAAAAAAAAFEAAAAAAAAAIQAAAAAAAAPA/MzMzMzMzEUDsUbgehesSQAAAAAAAABBAAAAAAAAA+D8AAAAAAAAIQAAAAAAAAARAAAAAAAAACEAAAAAAAAAEQNejcD0K1wtAPQrXo3A9+j89CtejcD0QQClcj8L1KBFAAAAAAAAAEEAAAAAAAAAAQAAAAAAAAAhAw/UoXI/C+T8AAAAAAAAAQAAAAAAAACRASOF6FK5HCUCamZmZmZkUQHE9CtejcAlAAAAAAAAAEEDhehSuR+EIQAAAAAAAAABAAAAAAAAAAEAAAAAAAAAQQGZmZmZmZgxAcT0K16NwDUCamZmZmZkWQAAAAAAAAAxAAAAAAAAAGkAAAAAAAAAIQAAAAAAAAAxAAAAAAAAAAEAAAAAAAAAMQAAAAAAAABBAAAAAAAAA+D/D9Shcj8IQQHsUrkfhegRAKVyPwvUoAEAAAAAAAAAQQAAAAAAAAABAAAAAAAAAFEAAAAAAAAAAQAAAAAAAAABAAAAAAAAAEEAUrkfhehQAQAAAAAAAAABAAAAAAAAABEAAAAAAAAAQQNejcD0K1wlASOF6FK5HC0AAAAAAAAAIQD0K16NwPQBA16NwPQrXAUAAAAAAAAAAQKRwPQrXoxRAAAAAAAAABEAAAAAAAAAaQJqZmZmZmfE/AAAAAAAACEAAAAAAAAD4PwrXo3A9Cvc/uB6F61G4CECamZmZmZkBQNejcD0K1wtAuB6F61G4/j9I4XoUrkf5PwAAAAAAAARAAAAAAAAAAEAK16NwPQoHQAAAAAAAAABAAAAAAAAACEAAAAAAAAAIQAAAAAAAAPA/uB6F61G48j8AAAAAAAAAQAAAAAAAAABA",
          "dtype": "f8"
         },
         "yaxis": "y"
        },
        {
         "hovertemplate": "<b>OLS trendline</b><br>tip = 0.0695902 * total_bill + 1.56427<br>R<sup>2</sup>=0.238357<br><br>smoker=Yes<br>total_bill=%{x}<br>tip=%{y} <b>(trend)</b><extra></extra>",
         "legendgroup": "Yes",
         "marker": {
          "color": "red",
          "symbol": "circle"
         },
         "mode": "lines",
         "name": "Yes",
         "showlegend": false,
         "type": "scatter",
         "x": {
          "bdata": "j8L1KFyPCEAAAAAAAAAXQAAAAAAAAB1A9ihcj8L1HkApXI/C9SghQDMzMzMzMyNArkfhehQuJECuR+F6FK4kQK5H4XoULiVAw/UoXI9CJUAK16NwPQomQHsUrkfheiZAMzMzMzOzJkCuR+F6FC4nQI/C9ShcDyhAUrgehetRKEAzMzMzMzMpQHsUrkfheilAhetRuB6FKUDNzMzMzMwpQAAAAAAAACpAAAAAAAAAKkAK16NwPYoqQNejcD0K1ypA16NwPQrXKkCF61G4HgUrQB+F61G4nitAH4XrUbieLED2KFyPwvUsQIXrUbgeBS5AuB6F61G4LkDD9Shcj8IuQPYoXI/C9S5Aj8L1KFwPL0DhehSuR2EvQOF6FK5HYS9AH4XrUbieL0AAAAAAAAAwQIXrUbgeRTBAUrgehetRMEBmZmZmZmYwQLgehetReDBAFK5H4XqUMEBSuB6F69EwQMP1KFyPgjFApHA9CtfjMUDsUbgehesxQGZmZmZmJjJACtejcD1KMkD2KFyPwrUyQHE9CtejcDNAj8L1KFzPM0AK16NwPUo0QD0K16NwfTRASOF6FK6HNEBmZmZmZuY0QMP1KFyPAjVAH4XrUbgeNkDsUbgehWs2QOxRuB6FqzZAmpmZmZkZN0DsUbgehSs3QBSuR+F6VDdAw/UoXI8COECF61G4HkU4QPYoXI/CNTlASOF6FK5HOUCkcD0K1+M5QNejcD0KlzpAXI/C9SjcOkCuR+F6FC47QEjhehSuRztAZmZmZmYmPEDsUbgehSs8QHE9CtejcDxAuB6F61H4PECPwvUoXA8+QKRwPQrXIz5A9ihcj8J1PkCamZmZmdk/QNejcD0KV0BACtejcD1qQEAzMzMzM3NAQHE9CtejUEFAMzMzMzNTQUDhehSuRwFDQD0K16NwXUNA9ihcj8IVREBmZmZmZkZEQK5H4XoUjkVAZmZmZmYmRkDNzMzMzKxGQEjhehSuZ0lA",
          "dtype": "f8"
         },
         "xaxis": "x",
         "y": {
          "bdata": "nflIT1Vy/D9eZoeQPm7/P8xN0j7njABACjzzC73SAEAF+b20dEoBQFyVj7jT2wFAmYOwhakhAkC08nLZSkUCQM5hNS3saAJAqSHFlp9uAkBCsP7bNKYCQHhPlaCPxQJAE5/gAj3VAkA2Hj98cfcCQKJcbAUnNgNAKox/HK5IA0CWyqylY4cDQBXqI5dXmwNAA8rrSzGeA0CC6WI9JbIDQCZJSsVlwANAJklKxWXAA0AumNTN4OYDQKSnr5lB/ANApKevmUH8A0BSFzNHFQkEQD426d7WMwRAchRuhhl7BEDWAxEHVJMEQO6xwT3d3gRArIBrGb8QBUCaYDPOmBMFQD7AGlbZIQVAEHAOmvkoBUB+b01Axz8FQH5vTUDHPwVAD6/8fOFQBUBgfmey9WsFQGjN8bpwkgVAOn3l/pCZBUDw/ATS96QFQLCMwMrxrgVAS9wLLZ++BUBvW2qm0+AFQPQIWoMqQwZAl6cv7lJ5BkB8d1t9mX0GQKgGVhxhngZAKCbNDVWyBkCmhDLiMO4GQAbysSg7VgdAsqAjufaKB0D5nuCrX88HQEFer7vg6wdAHB4/JZTxB0DIzLC1TyYIQGQc/Bf9NQhAZyhRyS/UCEBTRwdh8f4IQG62ybSSIglA4gSTY9tfCUCilE5c1WkJQA6UjQKjgAlAnlEZBY3hCUCusD8zmwYKQE7N8WOTjApADl2tXI2WCkDdin1mfe0KQFoo0R1BUQtAYndbJrx3C0A7dtlyV6ULQODVwPqXswtAwGK3MpYvDECuQn/nbzIMQLWRCfDqWAxAzj+6JnSkDEDka0cjzT8NQJrrZvYzSw1AdOrkQs94DUB2NSjX6T4OQHwCj6U0tQ5A8hFqcZXKDkCwoSVqj9QOQHzLrv8eyw9AaKt2tPjND0Csz9Cra9YQQGGO3mG6CRFAywv6zVdwEUAc22QDbIsRQITWXDXZQRJAYRyX96WWEkB+0hXBeOESQLG4qKWNZhRA",
          "dtype": "f8"
         },
         "yaxis": "y"
        }
       ],
       "layout": {
        "height": 400,
        "legend": {
         "title": {
          "text": "smoker"
         },
         "tracegroupgap": 0
        },
        "margin": {
         "t": 60
        },
        "template": {
         "data": {
          "candlestick": [
           {
            "decreasing": {
             "line": {
              "color": "#000033"
             }
            },
            "increasing": {
             "line": {
              "color": "#000032"
             }
            },
            "type": "candlestick"
           }
          ],
          "contour": [
           {
            "colorscale": [
             [
              0,
              "#000011"
             ],
             [
              0.1111111111111111,
              "#000012"
             ],
             [
              0.2222222222222222,
              "#000013"
             ],
             [
              0.3333333333333333,
              "#000014"
             ],
             [
              0.4444444444444444,
              "#000015"
             ],
             [
              0.5555555555555556,
              "#000016"
             ],
             [
              0.6666666666666666,
              "#000017"
             ],
             [
              0.7777777777777778,
              "#000018"
             ],
             [
              0.8888888888888888,
              "#000019"
             ],
             [
              1,
              "#000020"
             ]
            ],
            "type": "contour"
           }
          ],
          "contourcarpet": [
           {
            "colorscale": [
             [
              0,
              "#000011"
             ],
             [
              0.1111111111111111,
              "#000012"
             ],
             [
              0.2222222222222222,
              "#000013"
             ],
             [
              0.3333333333333333,
              "#000014"
             ],
             [
              0.4444444444444444,
              "#000015"
             ],
             [
              0.5555555555555556,
              "#000016"
             ],
             [
              0.6666666666666666,
              "#000017"
             ],
             [
              0.7777777777777778,
              "#000018"
             ],
             [
              0.8888888888888888,
              "#000019"
             ],
             [
              1,
              "#000020"
             ]
            ],
            "type": "contourcarpet"
           }
          ],
          "heatmap": [
           {
            "colorscale": [
             [
              0,
              "#000011"
             ],
             [
              0.1111111111111111,
              "#000012"
             ],
             [
              0.2222222222222222,
              "#000013"
             ],
             [
              0.3333333333333333,
              "#000014"
             ],
             [
              0.4444444444444444,
              "#000015"
             ],
             [
              0.5555555555555556,
              "#000016"
             ],
             [
              0.6666666666666666,
              "#000017"
             ],
             [
              0.7777777777777778,
              "#000018"
             ],
             [
              0.8888888888888888,
              "#000019"
             ],
             [
              1,
              "#000020"
             ]
            ],
            "type": "heatmap"
           }
          ],
          "histogram2d": [
           {
            "colorscale": [
             [
              0,
              "#000011"
             ],
             [
              0.1111111111111111,
              "#000012"
             ],
             [
              0.2222222222222222,
              "#000013"
             ],
             [
              0.3333333333333333,
              "#000014"
             ],
             [
              0.4444444444444444,
              "#000015"
             ],
             [
              0.5555555555555556,
              "#000016"
             ],
             [
              0.6666666666666666,
              "#000017"
             ],
             [
              0.7777777777777778,
              "#000018"
             ],
             [
              0.8888888888888888,
              "#000019"
             ],
             [
              1,
              "#000020"
             ]
            ],
            "type": "histogram2d"
           }
          ],
          "icicle": [
           {
            "textfont": {
             "color": "white"
            },
            "type": "icicle"
           }
          ],
          "sankey": [
           {
            "textfont": {
             "color": "#000036"
            },
            "type": "sankey"
           }
          ],
          "scatter": [
           {
            "marker": {
             "line": {
              "width": 0
             }
            },
            "type": "scatter"
           }
          ],
          "table": [
           {
            "cells": {
             "fill": {
              "color": "#000038"
             },
             "font": {
              "color": "#000037"
             },
             "line": {
              "color": "#000039"
             }
            },
            "header": {
             "fill": {
              "color": "#000040"
             },
             "font": {
              "color": "#000036"
             },
             "line": {
              "color": "#000039"
             }
            },
            "type": "table"
           }
          ],
          "waterfall": [
           {
            "connector": {
             "line": {
              "color": "#000036",
              "width": 2
             }
            },
            "decreasing": {
             "marker": {
              "color": "#000033"
             }
            },
            "increasing": {
             "marker": {
              "color": "#000032"
             }
            },
            "totals": {
             "marker": {
              "color": "#000034"
             }
            },
            "type": "waterfall"
           }
          ]
         },
         "layout": {
          "coloraxis": {
           "colorscale": [
            [
             0,
             "#000011"
            ],
            [
             0.1111111111111111,
             "#000012"
            ],
            [
             0.2222222222222222,
             "#000013"
            ],
            [
             0.3333333333333333,
             "#000014"
            ],
            [
             0.4444444444444444,
             "#000015"
            ],
            [
             0.5555555555555556,
             "#000016"
            ],
            [
             0.6666666666666666,
             "#000017"
            ],
            [
             0.7777777777777778,
             "#000018"
            ],
            [
             0.8888888888888888,
             "#000019"
            ],
            [
             1,
             "#000020"
            ]
           ]
          },
          "colorscale": {
           "diverging": [
            [
             0,
             "#000021"
            ],
            [
             0.1,
             "#000022"
            ],
            [
             0.2,
             "#000023"
            ],
            [
             0.3,
             "#000024"
            ],
            [
             0.4,
             "#000025"
            ],
            [
             0.5,
             "#000026"
            ],
            [
             0.6,
             "#000027"
            ],
            [
             0.7,
             "#000028"
            ],
            [
             0.8,
             "#000029"
            ],
            [
             0.9,
             "#000030"
            ],
            [
             1,
             "#000031"
            ]
           ],
           "sequential": [
            [
             0,
             "#000011"
            ],
            [
             0.1111111111111111,
             "#000012"
            ],
            [
             0.2222222222222222,
             "#000013"
            ],
            [
             0.3333333333333333,
             "#000014"
            ],
            [
             0.4444444444444444,
             "#000015"
            ],
            [
             0.5555555555555556,
             "#000016"
            ],
            [
             0.6666666666666666,
             "#000017"
            ],
            [
             0.7777777777777778,
             "#000018"
            ],
            [
             0.8888888888888888,
             "#000019"
            ],
            [
             1,
             "#000020"
            ]
           ],
           "sequentialminus": [
            [
             0,
             "#000011"
            ],
            [
             0.1111111111111111,
             "#000012"
            ],
            [
             0.2222222222222222,
             "#000013"
            ],
            [
             0.3333333333333333,
             "#000014"
            ],
            [
             0.4444444444444444,
             "#000015"
            ],
            [
             0.5555555555555556,
             "#000016"
            ],
            [
             0.6666666666666666,
             "#000017"
            ],
            [
             0.7777777777777778,
             "#000018"
            ],
            [
             0.8888888888888888,
             "#000019"
            ],
            [
             1,
             "#000020"
            ]
           ]
          },
          "colorway": [
           "#000001",
           "#000002",
           "#000003",
           "#000004",
           "#000005",
           "#000006",
           "#000007",
           "#000008",
           "#000009",
           "#000010"
          ]
         }
        },
        "width": 400,
        "xaxis": {
         "anchor": "y",
         "domain": [
          0,
          1
         ],
         "title": {
          "text": "total_bill"
         }
        },
        "yaxis": {
         "anchor": "x",
         "domain": [
          0,
          1
         ],
         "title": {
          "text": "tip"
         }
        }
       }
      }
     },
     "metadata": {},
     "output_type": "display_data"
    }
   ],
   "source": [
    "import plotly.express as px\n",
    "\n",
    "px.scatter(\n",
    "    tip_df, x='total_bill', y='tip',\n",
    "    color='smoker',               # 범주형 색상 매핑\n",
    "    trendline='ols',\n",
    "    color_discrete_map={'Yes':'red', 'No':'blue'},  # 색 직접 지정\n",
    "    width=400, height=400\n",
    ")"
   ]
  },
  {
   "cell_type": "code",
   "execution_count": null,
   "id": "dff00008",
   "metadata": {},
   "outputs": [],
   "source": [
    "# lineplot\n",
    "(x,y) 점들을 이어주는 "
   ]
  },
  {
   "cell_type": "code",
   "execution_count": 30,
   "id": "e055305d",
   "metadata": {},
   "outputs": [
    {
     "name": "stderr",
     "output_type": "stream",
     "text": [
      "C:\\Users\\Admin\\AppData\\Local\\Temp\\ipykernel_2036\\1561906832.py:1: FutureWarning:\n",
      "\n",
      "\n",
      "\n",
      "The `ci` parameter is deprecated. Use `errorbar=('ci', 97)` for the same effect.\n",
      "\n",
      "\n"
     ]
    },
    {
     "data": {
      "text/plain": [
       "<Axes: xlabel='size', ylabel='tip'>"
      ]
     },
     "execution_count": 30,
     "metadata": {},
     "output_type": "execute_result"
    },
    {
     "data": {
      "image/png": "[encoded data removed]",
      "text/plain": [
       "<Figure size 640x480 with 1 Axes>"
      ]
     },
     "metadata": {},
     "output_type": "display_data"
    }
   ],
   "source": [
    "sns.lineplot(x='size', y='tip', data=tip_df, ci=97)\n",
    "# 색칠되어있는 부분, 오차 범위\n",
    "# 팁을 많이 준다 아닌다에서 규칙서을 찾기 어렵다\n"
   ]
  },
  {
   "cell_type": "code",
   "execution_count": null,
   "id": "d983e039",
   "metadata": {},
   "outputs": [],
   "source": []
  },
  {
   "cell_type": "code",
   "execution_count": 28,
   "id": "69dacb6a",
   "metadata": {},
   "outputs": [
    {
     "data": {
      "text/html": [
       "<div>\n",
       "<style scoped>\n",
       "    .dataframe tbody tr th:only-of-type {\n",
       "        vertical-align: middle;\n",
       "    }\n",
       "\n",
       "    .dataframe tbody tr th {\n",
       "        vertical-align: top;\n",
       "    }\n",
       "\n",
       "    .dataframe thead th {\n",
       "        text-align: right;\n",
       "    }\n",
       "</style>\n",
       "<table border=\"1\" class=\"dataframe\">\n",
       "  <thead>\n",
       "    <tr style=\"text-align: right;\">\n",
       "      <th></th>\n",
       "      <th>Unnamed: 0</th>\n",
       "      <th>Entity</th>\n",
       "      <th>Code</th>\n",
       "      <th>Year</th>\n",
       "      <th>Cellular Subscription</th>\n",
       "      <th>Internet Users(%)</th>\n",
       "      <th>No. of Internet Users</th>\n",
       "      <th>Broadband Subscription</th>\n",
       "    </tr>\n",
       "  </thead>\n",
       "  <tbody>\n",
       "    <tr>\n",
       "      <th>1579</th>\n",
       "      <td>1579</td>\n",
       "      <td>China</td>\n",
       "      <td>CHN</td>\n",
       "      <td>1980</td>\n",
       "      <td>0.0</td>\n",
       "      <td>0.0</td>\n",
       "      <td>0</td>\n",
       "      <td>0.0</td>\n",
       "    </tr>\n",
       "    <tr>\n",
       "      <th>1580</th>\n",
       "      <td>1580</td>\n",
       "      <td>China</td>\n",
       "      <td>CHN</td>\n",
       "      <td>1981</td>\n",
       "      <td>0.0</td>\n",
       "      <td>0.0</td>\n",
       "      <td>0</td>\n",
       "      <td>0.0</td>\n",
       "    </tr>\n",
       "    <tr>\n",
       "      <th>1581</th>\n",
       "      <td>1581</td>\n",
       "      <td>China</td>\n",
       "      <td>CHN</td>\n",
       "      <td>1982</td>\n",
       "      <td>0.0</td>\n",
       "      <td>0.0</td>\n",
       "      <td>0</td>\n",
       "      <td>0.0</td>\n",
       "    </tr>\n",
       "    <tr>\n",
       "      <th>1582</th>\n",
       "      <td>1582</td>\n",
       "      <td>China</td>\n",
       "      <td>CHN</td>\n",
       "      <td>1983</td>\n",
       "      <td>0.0</td>\n",
       "      <td>0.0</td>\n",
       "      <td>0</td>\n",
       "      <td>0.0</td>\n",
       "    </tr>\n",
       "    <tr>\n",
       "      <th>1583</th>\n",
       "      <td>1583</td>\n",
       "      <td>China</td>\n",
       "      <td>CHN</td>\n",
       "      <td>1984</td>\n",
       "      <td>0.0</td>\n",
       "      <td>0.0</td>\n",
       "      <td>0</td>\n",
       "      <td>0.0</td>\n",
       "    </tr>\n",
       "  </tbody>\n",
       "</table>\n",
       "</div>"
      ],
      "text/plain": [
       "      Unnamed: 0 Entity Code  Year  Cellular Subscription  Internet Users(%)  \\\n",
       "1579        1579  China  CHN  1980                    0.0                0.0   \n",
       "1580        1580  China  CHN  1981                    0.0                0.0   \n",
       "1581        1581  China  CHN  1982                    0.0                0.0   \n",
       "1582        1582  China  CHN  1983                    0.0                0.0   \n",
       "1583        1583  China  CHN  1984                    0.0                0.0   \n",
       "\n",
       "      No. of Internet Users  Broadband Subscription  \n",
       "1579                      0                     0.0  \n",
       "1580                      0                     0.0  \n",
       "1581                      0                     0.0  \n",
       "1582                      0                     0.0  \n",
       "1583                      0                     0.0  "
      ]
     },
     "execution_count": 28,
     "metadata": {},
     "output_type": "execute_result"
    }
   ],
   "source": [
    "entities  = ['China', 'India', 'Finland']\n",
    "# country별로 보는 df 다시 만들기 \n",
    "df_country = df.loc[df['Entity'].isin(entities)]\n",
    "df_country[:5]"
   ]
  },
  {
   "cell_type": "code",
   "execution_count": 33,
   "id": "82f47b55",
   "metadata": {},
   "outputs": [
    {
     "data": {
      "text/plain": [
       "<Axes: xlabel='Year', ylabel='No. of Internet Users'>"
      ]
     },
     "execution_count": 33,
     "metadata": {},
     "output_type": "execute_result"
    },
    {
     "data": {
      "image/png": "[encoded data removed]",
      "text/plain": [
       "<Figure size 640x480 with 1 Axes>"
      ]
     },
     "metadata": {},
     "output_type": "display_data"
    }
   ],
   "source": [
    "sns.lineplot(\n",
    "    x='Year', y='No. of Internet Users', data=df_country, hue='Entity'\n",
    ")\n",
    "sns.scatterplot(x='Year', y='No. of Internet Users', data=df_country, hue='Entity',legend=False)\n",
    "# legend=False 해주면 한쪽 entity만 나옴 "
   ]
  },
  {
   "cell_type": "code",
   "execution_count": 34,
   "id": "a8cb8605",
   "metadata": {},
   "outputs": [],
   "source": [
    "# scatter+line : 추세 "
   ]
  },
  {
   "cell_type": "code",
   "execution_count": 35,
   "id": "035316dc",
   "metadata": {},
   "outputs": [
    {
     "data": {
      "application/vnd.plotly.v1+json": {
       "config": {
        "plotlyServerURL": "https://plot.ly"
       },
       "data": [
        {
         "hovertemplate": "Entity=China<br>Year=%{x}<br>No. of Internet Users=%{y}<extra></extra>",
         "legendgroup": "China",
         "line": {
          "color": "#000001",
          "dash": "solid"
         },
         "marker": {
          "symbol": "circle"
         },
         "mode": "lines+markers",
         "name": "China",
         "orientation": "v",
         "showlegend": true,
         "type": "scatter",
         "x": {
          "bdata": "vAe9B74HvwfAB8EHwgfDB8QHxQfGB8cHyAfJB8oHywfMB80HzgfPB9AH0QfSB9MH1AfVB9YH1wfYB9kH2gfbB9wH3QfeB98H4AfhB+IH4wfkBw==",
          "dtype": "i2"
         },
         "xaxis": "x",
         "y": {
          "bdata": "AAAAAAAAAAAAAAAAAAAAAAAAAAAAAAAAAAAAAAAAAAAAAAAAAAAAAAAAAAAAAAAAAAAAAOEHAAAWNwAAxOsAAKpzAgBYHgYArRAgAMuphwCXjFYB4KEAAno/ggMBVcMEa4OkBesQoQY3bjwIw1maDDkQ6xFHQxEXuh2QG/EF+x5qcnQif+mQJb9LjCcQAckpABZ0LIDfpC0frQAy3jhVNtrmyzs=",
          "dtype": "i4"
         },
         "yaxis": "y"
        },
        {
         "hovertemplate": "Entity=Finland<br>Year=%{x}<br>No. of Internet Users=%{y}<extra></extra>",
         "legendgroup": "Finland",
         "line": {
          "color": "#000002",
          "dash": "dot"
         },
         "marker": {
          "symbol": "diamond"
         },
         "mode": "lines+markers",
         "name": "Finland",
         "orientation": "v",
         "showlegend": true,
         "type": "scatter",
         "x": {
          "bdata": "vAe9B74HvwfAB8EHwgfDB8QHxQfGB8cHyAfJB8oHywfMB80HzgfPB9AH0QfSB9MH1AfVB9YH1wfYB9kH2gfbB9wH3QfeB98H4AfhB+IH4wfkBw==",
          "dtype": "i2"
         },
         "xaxis": "x",
         "y": {
          "bdata": "AAAAAAAAAAAAAAAAAAAAAAAAAAAAAAAAAAAAAAAAAAAAAAAAAAAAACBOAACyEQEAo3MBAFb8AQD40AMAg9UKABsfDQDlQg8A3AMUAGt0GQB6ax0AlR8iAIeKMQBwDzcAzb85AMmeOwAWA0AATzBBAPfVQwATM0MAuRtHAEjvSAC+P0oAyPJLACocSADoQUgAMopJAPyDSQAnz0oA+35LAD/ETQA=",
          "dtype": "i4"
         },
         "yaxis": "y"
        },
        {
         "hovertemplate": "Entity=India<br>Year=%{x}<br>No. of Internet Users=%{y}<extra></extra>",
         "legendgroup": "India",
         "line": {
          "color": "#000003",
          "dash": "dash"
         },
         "marker": {
          "symbol": "square"
         },
         "mode": "lines+markers",
         "name": "India",
         "orientation": "v",
         "showlegend": true,
         "type": "scatter",
         "x": {
          "bdata": "vAe9B74HvwfAB8EHwgfDB8QHxQfGB8cHyAfJB8oHywfMB80HzgfPB9AH0QfSB9MH1AfVB9YH1wfYB9kH2gfbB9wH3QfeB98H4AfhB+IH4wfkBw==",
          "dtype": "i2"
         },
         "xaxis": "x",
         "y": {
          "bdata": "AAAAAAAAAAAAAAAAAAAAAAAAAAAAAAAAAAAAAAAAAAAAAAAAAAAAAAAAAAAAAAAA8gMAAOUHAAB+JwAA+NsDAKnzBgDT0goAKasVABNhKwCYS1UAY69sAEC7AQGmjR8Bep9WAYi9pAE/4PUBug3NAsyAJgMI+LsDBsWLBRhpjAexoW4Imjx3CUHYhAqonb8L7EgqDY68sA5/2WIQvsE8GOkVyiM=",
          "dtype": "i4"
         },
         "yaxis": "y"
        }
       ],
       "layout": {
        "height": 400,
        "legend": {
         "title": {
          "text": "Entity"
         },
         "tracegroupgap": 0
        },
        "margin": {
         "t": 60
        },
        "template": {
         "data": {
          "candlestick": [
           {
            "decreasing": {
             "line": {
              "color": "#000033"
             }
            },
            "increasing": {
             "line": {
              "color": "#000032"
             }
            },
            "type": "candlestick"
           }
          ],
          "contour": [
           {
            "colorscale": [
             [
              0,
              "#000011"
             ],
             [
              0.1111111111111111,
              "#000012"
             ],
             [
              0.2222222222222222,
              "#000013"
             ],
             [
              0.3333333333333333,
              "#000014"
             ],
             [
              0.4444444444444444,
              "#000015"
             ],
             [
              0.5555555555555556,
              "#000016"
             ],
             [
              0.6666666666666666,
              "#000017"
             ],
             [
              0.7777777777777778,
              "#000018"
             ],
             [
              0.8888888888888888,
              "#000019"
             ],
             [
              1,
              "#000020"
             ]
            ],
            "type": "contour"
           }
          ],
          "contourcarpet": [
           {
            "colorscale": [
             [
              0,
              "#000011"
             ],
             [
              0.1111111111111111,
              "#000012"
             ],
             [
              0.2222222222222222,
              "#000013"
             ],
             [
              0.3333333333333333,
              "#000014"
             ],
             [
              0.4444444444444444,
              "#000015"
             ],
             [
              0.5555555555555556,
              "#000016"
             ],
             [
              0.6666666666666666,
              "#000017"
             ],
             [
              0.7777777777777778,
              "#000018"
             ],
             [
              0.8888888888888888,
              "#000019"
             ],
             [
              1,
              "#000020"
             ]
            ],
            "type": "contourcarpet"
           }
          ],
          "heatmap": [
           {
            "colorscale": [
             [
              0,
              "#000011"
             ],
             [
              0.1111111111111111,
              "#000012"
             ],
             [
              0.2222222222222222,
              "#000013"
             ],
             [
              0.3333333333333333,
              "#000014"
             ],
             [
              0.4444444444444444,
              "#000015"
             ],
             [
              0.5555555555555556,
              "#000016"
             ],
             [
              0.6666666666666666,
              "#000017"
             ],
             [
              0.7777777777777778,
              "#000018"
             ],
             [
              0.8888888888888888,
              "#000019"
             ],
             [
              1,
              "#000020"
             ]
            ],
            "type": "heatmap"
           }
          ],
          "histogram2d": [
           {
            "colorscale": [
             [
              0,
              "#000011"
             ],
             [
              0.1111111111111111,
              "#000012"
             ],
             [
              0.2222222222222222,
              "#000013"
             ],
             [
              0.3333333333333333,
              "#000014"
             ],
             [
              0.4444444444444444,
              "#000015"
             ],
             [
              0.5555555555555556,
              "#000016"
             ],
             [
              0.6666666666666666,
              "#000017"
             ],
             [
              0.7777777777777778,
              "#000018"
             ],
             [
              0.8888888888888888,
              "#000019"
             ],
             [
              1,
              "#000020"
             ]
            ],
            "type": "histogram2d"
           }
          ],
          "icicle": [
           {
            "textfont": {
             "color": "white"
            },
            "type": "icicle"
           }
          ],
          "sankey": [
           {
            "textfont": {
             "color": "#000036"
            },
            "type": "sankey"
           }
          ],
          "scatter": [
           {
            "marker": {
             "line": {
              "width": 0
             }
            },
            "type": "scatter"
           }
          ],
          "table": [
           {
            "cells": {
             "fill": {
              "color": "#000038"
             },
             "font": {
              "color": "#000037"
             },
             "line": {
              "color": "#000039"
             }
            },
            "header": {
             "fill": {
              "color": "#000040"
             },
             "font": {
              "color": "#000036"
             },
             "line": {
              "color": "#000039"
             }
            },
            "type": "table"
           }
          ],
          "waterfall": [
           {
            "connector": {
             "line": {
              "color": "#000036",
              "width": 2
             }
            },
            "decreasing": {
             "marker": {
              "color": "#000033"
             }
            },
            "increasing": {
             "marker": {
              "color": "#000032"
             }
            },
            "totals": {
             "marker": {
              "color": "#000034"
             }
            },
            "type": "waterfall"
           }
          ]
         },
         "layout": {
          "coloraxis": {
           "colorscale": [
            [
             0,
             "#000011"
            ],
            [
             0.1111111111111111,
             "#000012"
            ],
            [
             0.2222222222222222,
             "#000013"
            ],
            [
             0.3333333333333333,
             "#000014"
            ],
            [
             0.4444444444444444,
             "#000015"
            ],
            [
             0.5555555555555556,
             "#000016"
            ],
            [
             0.6666666666666666,
             "#000017"
            ],
            [
             0.7777777777777778,
             "#000018"
            ],
            [
             0.8888888888888888,
             "#000019"
            ],
            [
             1,
             "#000020"
            ]
           ]
          },
          "colorscale": {
           "diverging": [
            [
             0,
             "#000021"
            ],
            [
             0.1,
             "#000022"
            ],
            [
             0.2,
             "#000023"
            ],
            [
             0.3,
             "#000024"
            ],
            [
             0.4,
             "#000025"
            ],
            [
             0.5,
             "#000026"
            ],
            [
             0.6,
             "#000027"
            ],
            [
             0.7,
             "#000028"
            ],
            [
             0.8,
             "#000029"
            ],
            [
             0.9,
             "#000030"
            ],
            [
             1,
             "#000031"
            ]
           ],
           "sequential": [
            [
             0,
             "#000011"
            ],
            [
             0.1111111111111111,
             "#000012"
            ],
            [
             0.2222222222222222,
             "#000013"
            ],
            [
             0.3333333333333333,
             "#000014"
            ],
            [
             0.4444444444444444,
             "#000015"
            ],
            [
             0.5555555555555556,
             "#000016"
            ],
            [
             0.6666666666666666,
             "#000017"
            ],
            [
             0.7777777777777778,
             "#000018"
            ],
            [
             0.8888888888888888,
             "#000019"
            ],
            [
             1,
             "#000020"
            ]
           ],
           "sequentialminus": [
            [
             0,
             "#000011"
            ],
            [
             0.1111111111111111,
             "#000012"
            ],
            [
             0.2222222222222222,
             "#000013"
            ],
            [
             0.3333333333333333,
             "#000014"
            ],
            [
             0.4444444444444444,
             "#000015"
            ],
            [
             0.5555555555555556,
             "#000016"
            ],
            [
             0.6666666666666666,
             "#000017"
            ],
            [
             0.7777777777777778,
             "#000018"
            ],
            [
             0.8888888888888888,
             "#000019"
            ],
            [
             1,
             "#000020"
            ]
           ]
          },
          "colorway": [
           "#000001",
           "#000002",
           "#000003",
           "#000004",
           "#000005",
           "#000006",
           "#000007",
           "#000008",
           "#000009",
           "#000010"
          ]
         }
        },
        "width": 400,
        "xaxis": {
         "anchor": "y",
         "domain": [
          0,
          1
         ],
         "title": {
          "text": "Year"
         }
        },
        "yaxis": {
         "anchor": "x",
         "domain": [
          0,
          1
         ],
         "title": {
          "text": "No. of Internet Users"
         }
        }
       }
      }
     },
     "metadata": {},
     "output_type": "display_data"
    }
   ],
   "source": [
    "px.line(\n",
    "    data_frame=df_country, x='Year', y='No. of Internet Users',\n",
    "    width=400, height=400, line_dash='Entity', color='Entity', symbol='Entity'\n",
    ")"
   ]
  },
  {
   "cell_type": "code",
   "execution_count": null,
   "id": "ce595634",
   "metadata": {},
   "outputs": [],
   "source": [
    "# boxplot \n",
    "이상치 탐지, 통계량 확인, 분포 확인  "
   ]
  },
  {
   "cell_type": "code",
   "execution_count": 36,
   "id": "d30c9abb",
   "metadata": {},
   "outputs": [
    {
     "name": "stdout",
     "output_type": "stream",
     "text": [
      "<class 'pandas.core.frame.DataFrame'>\n",
      "RangeIndex: 3395 entries, 0 to 3394\n",
      "Data columns (total 24 columns):\n",
      " #   Column          Non-Null Count  Dtype  \n",
      "---  ------          --------------  -----  \n",
      " 0   sessionId       3395 non-null   int64  \n",
      " 1   kwhTotal        3395 non-null   float64\n",
      " 2   dollars         3395 non-null   float64\n",
      " 3   created         3395 non-null   object \n",
      " 4   ended           3395 non-null   object \n",
      " 5   startTime       3395 non-null   int64  \n",
      " 6   endTime         3395 non-null   int64  \n",
      " 7   chargeTimeHrs   3395 non-null   float64\n",
      " 8   weekday         3395 non-null   object \n",
      " 9   platform        3395 non-null   object \n",
      " 10  distance        2330 non-null   float64\n",
      " 11  userId          3395 non-null   int64  \n",
      " 12  stationId       3395 non-null   int64  \n",
      " 13  locationId      3395 non-null   int64  \n",
      " 14  managerVehicle  3395 non-null   int64  \n",
      " 15  facilityType    3395 non-null   int64  \n",
      " 16  Mon             3395 non-null   int64  \n",
      " 17  Tues            3395 non-null   int64  \n",
      " 18  Wed             3395 non-null   int64  \n",
      " 19  Thurs           3395 non-null   int64  \n",
      " 20  Fri             3395 non-null   int64  \n",
      " 21  Sat             3395 non-null   int64  \n",
      " 22  Sun             3395 non-null   int64  \n",
      " 23  reportedZip     3395 non-null   int64  \n",
      "dtypes: float64(4), int64(16), object(4)\n",
      "memory usage: 636.7+ KB\n"
     ]
    }
   ],
   "source": [
    "# EV_charge.csv -> google drive에 있음 \n",
    "ev_df = pd.read_csv('./data/EV_charge.csv')\n",
    "ev_df.info()"
   ]
  },
  {
   "cell_type": "code",
   "execution_count": null,
   "id": "f93106e4",
   "metadata": {},
   "outputs": [
    {
     "data": {
      "text/plain": [
       "<Axes: xlabel='weekday', ylabel='kwhTotal'>"
      ]
     },
     "execution_count": 37,
     "metadata": {},
     "output_type": "execute_result"
    },
    {
     "data": {
      "image/png": "[encoded data removed]",
      "text/plain": [
       "<Figure size 640x480 with 1 Axes>"
      ]
     },
     "metadata": {},
     "output_type": "display_data"
    }
   ],
   "source": [
    "sns.boxplot(x='weekday', y='kwhTotal', data=ev_df)"
   ]
  },
  {
   "cell_type": "code",
   "execution_count": 39,
   "id": "6b9734cb",
   "metadata": {},
   "outputs": [
    {
     "name": "stderr",
     "output_type": "stream",
     "text": [
      "c:\\Users\\Admin\\miniconda3\\envs\\streamlit_env\\lib\\site-packages\\seaborn\\categorical.py:3399: UserWarning:\n",
      "\n",
      "74.8% of the points cannot be placed; you may want to decrease the size of the markers or use stripplot.\n",
      "\n",
      "c:\\Users\\Admin\\miniconda3\\envs\\streamlit_env\\lib\\site-packages\\seaborn\\categorical.py:3399: UserWarning:\n",
      "\n",
      "77.3% of the points cannot be placed; you may want to decrease the size of the markers or use stripplot.\n",
      "\n",
      "c:\\Users\\Admin\\miniconda3\\envs\\streamlit_env\\lib\\site-packages\\seaborn\\categorical.py:3399: UserWarning:\n",
      "\n",
      "73.4% of the points cannot be placed; you may want to decrease the size of the markers or use stripplot.\n",
      "\n",
      "c:\\Users\\Admin\\miniconda3\\envs\\streamlit_env\\lib\\site-packages\\seaborn\\categorical.py:3399: UserWarning:\n",
      "\n",
      "78.0% of the points cannot be placed; you may want to decrease the size of the markers or use stripplot.\n",
      "\n",
      "c:\\Users\\Admin\\miniconda3\\envs\\streamlit_env\\lib\\site-packages\\seaborn\\categorical.py:3399: UserWarning:\n",
      "\n",
      "76.1% of the points cannot be placed; you may want to decrease the size of the markers or use stripplot.\n",
      "\n",
      "c:\\Users\\Admin\\miniconda3\\envs\\streamlit_env\\lib\\site-packages\\seaborn\\categorical.py:3399: UserWarning:\n",
      "\n",
      "14.5% of the points cannot be placed; you may want to decrease the size of the markers or use stripplot.\n",
      "\n"
     ]
    },
    {
     "data": {
      "text/plain": [
       "<Axes: xlabel='weekday', ylabel='kwhTotal'>"
      ]
     },
     "execution_count": 39,
     "metadata": {},
     "output_type": "execute_result"
    },
    {
     "name": "stderr",
     "output_type": "stream",
     "text": [
      "c:\\Users\\Admin\\miniconda3\\envs\\streamlit_env\\lib\\site-packages\\seaborn\\categorical.py:3399: UserWarning:\n",
      "\n",
      "73.5% of the points cannot be placed; you may want to decrease the size of the markers or use stripplot.\n",
      "\n",
      "c:\\Users\\Admin\\miniconda3\\envs\\streamlit_env\\lib\\site-packages\\seaborn\\categorical.py:3399: UserWarning:\n",
      "\n",
      "76.0% of the points cannot be placed; you may want to decrease the size of the markers or use stripplot.\n",
      "\n",
      "c:\\Users\\Admin\\miniconda3\\envs\\streamlit_env\\lib\\site-packages\\seaborn\\categorical.py:3399: UserWarning:\n",
      "\n",
      "72.6% of the points cannot be placed; you may want to decrease the size of the markers or use stripplot.\n",
      "\n",
      "c:\\Users\\Admin\\miniconda3\\envs\\streamlit_env\\lib\\site-packages\\seaborn\\categorical.py:3399: UserWarning:\n",
      "\n",
      "76.5% of the points cannot be placed; you may want to decrease the size of the markers or use stripplot.\n",
      "\n",
      "c:\\Users\\Admin\\miniconda3\\envs\\streamlit_env\\lib\\site-packages\\seaborn\\categorical.py:3399: UserWarning:\n",
      "\n",
      "75.3% of the points cannot be placed; you may want to decrease the size of the markers or use stripplot.\n",
      "\n",
      "c:\\Users\\Admin\\miniconda3\\envs\\streamlit_env\\lib\\site-packages\\seaborn\\categorical.py:3399: UserWarning:\n",
      "\n",
      "12.9% of the points cannot be placed; you may want to decrease the size of the markers or use stripplot.\n",
      "\n"
     ]
    },
    {
     "data": {
      "image/png": "[encoded data removed]",
      "text/plain": [
       "<Figure size 640x480 with 1 Axes>"
      ]
     },
     "metadata": {},
     "output_type": "display_data"
    }
   ],
   "source": [
    "# 원본 데이터 + 통계량을 같이 표현한다 > boxplot + stripplot\n",
    "sns.boxplot(x='weekday', y='kwhTotal', data=ev_df)\n",
    "sns.stripplot(x='weekday', y='kwhTotal', data=ev_df)\n",
    "sns.swarmplot(x='weekday', y='kwhTotal', data=ev_df, color='grey', alpha=0.4)\n",
    "# alph: 투명도\n",
    "# 일요일에는 생각보다 충전을 많이 하지 않는구나를 알 수 있음 \n",
    "# boxplot만 믿고 해석하면 안된다"
   ]
  },
  {
   "cell_type": "code",
   "execution_count": 40,
   "id": "21d2c9af",
   "metadata": {},
   "outputs": [],
   "source": [
    "# boxplot: 만능이 아니다\n",
    "# swarmplot: 값이 겹치지 않는다 -> 분포를 잘 보여준다. 성능 저하 고려 "
   ]
  },
  {
   "cell_type": "code",
   "execution_count": 51,
   "id": "35eceb10",
   "metadata": {},
   "outputs": [
    {
     "data": {
      "text/plain": [
       "<Axes: xlabel='weekday', ylabel='kwhTotal'>"
      ]
     },
     "execution_count": 51,
     "metadata": {},
     "output_type": "execute_result"
    },
    {
     "data": {
      "image/png": "[encoded data removed]",
      "text/plain": [
       "<Figure size 640x480 with 1 Axes>"
      ]
     },
     "metadata": {},
     "output_type": "display_data"
    }
   ],
   "source": [
    "weekday_order=['Mon','Tue','Wed','Thu','Fri','Sat','Sun']\n",
    "sns.boxplot(x='weekday', y='kwhTotal', data=ev_df, hue='platform', order=weekday_order)\n"
   ]
  },
  {
   "cell_type": "code",
   "execution_count": null,
   "id": "b3679b3a",
   "metadata": {},
   "outputs": [],
   "source": [
    "# order for px \n",
    "# 키로 이렇게 넣어야 사용가능 \n",
    "weekday_order = {'weekday': weekday_order}"
   ]
  },
  {
   "cell_type": "code",
   "execution_count": 54,
   "id": "8cb93609",
   "metadata": {},
   "outputs": [
    {
     "data": {
      "application/vnd.plotly.v1+json": {
       "config": {
        "plotlyServerURL": "https://plot.ly"
       },
       "data": [
        {
         "alignmentgroup": "True",
         "boxpoints": "all",
         "hovertemplate": "weekday=%{x}<br>kwhTotal=%{y}<extra></extra>",
         "legendgroup": "Mon",
         "marker": {
          "color": "rgb(102,194,165)"
         },
         "name": "Mon",
         "notched": false,
         "offsetgroup": "Mon",
         "orientation": "v",
         "showlegend": true,
         "type": "box",
         "x": [
          "Mon",
          "Mon",
          "Mon",
          "Mon",
          "Mon",
          "Mon",
          "Mon",
          "Mon",
          "Mon",
          "Mon",
          "Mon",
          "Mon",
          "Mon",
          "Mon",
          "Mon",
          "Mon",
          "Mon",
          "Mon",
          "Mon",
          "Mon",
          "Mon",
          "Mon",
          "Mon",
          "Mon",
          "Mon",
          "Mon",
          "Mon",
          "Mon",
          "Mon",
          "Mon",
          "Mon",
          "Mon",
          "Mon",
          "Mon",
          "Mon",
          "Mon",
          "Mon",
          "Mon",
          "Mon",
          "Mon",
          "Mon",
          "Mon",
          "Mon",
          "Mon",
          "Mon",
          "Mon",
          "Mon",
          "Mon",
          "Mon",
          "Mon",
          "Mon",
          "Mon",
          "Mon",
          "Mon",
          "Mon",
          "Mon",
          "Mon",
          "Mon",
          "Mon",
          "Mon",
          "Mon",
          "Mon",
          "Mon",
          "Mon",
          "Mon",
          "Mon",
          "Mon",
          "Mon",
          "Mon",
          "Mon",
          "Mon",
          "Mon",
          "Mon",
          "Mon",
          "Mon",
          "Mon",
          "Mon",
          "Mon",
          "Mon",
          "Mon",
          "Mon",
          "Mon",
          "Mon",
          "Mon",
          "Mon",
          "Mon",
          "Mon",
          "Mon",
          "Mon",
          "Mon",
          "Mon",
          "Mon",
          "Mon",
          "Mon",
          "Mon",
          "Mon",
          "Mon",
          "Mon",
          "Mon",
          "Mon",
          "Mon",
          "Mon",
          "Mon",
          "Mon",
          "Mon",
          "Mon",
          "Mon",
          "Mon",
          "Mon",
          "Mon",
          "Mon",
          "Mon",
          "Mon",
          "Mon",
          "Mon",
          "Mon",
          "Mon",
          "Mon",
          "Mon",
          "Mon",
          "Mon",
          "Mon",
          "Mon",
          "Mon",
          "Mon",
          "Mon",
          "Mon",
          "Mon",
          "Mon",
          "Mon",
          "Mon",
          "Mon",
          "Mon",
          "Mon",
          "Mon",
          "Mon",
          "Mon",
          "Mon",
          "Mon",
          "Mon",
          "Mon",
          "Mon",
          "Mon",
          "Mon",
          "Mon",
          "Mon",
          "Mon",
          "Mon",
          "Mon",
          "Mon",
          "Mon",
          "Mon",
          "Mon",
          "Mon",
          "Mon",
          "Mon",
          "Mon",
          "Mon",
          "Mon",
          "Mon",
          "Mon",
          "Mon",
          "Mon",
          "Mon",
          "Mon",
          "Mon",
          "Mon",
          "Mon",
          "Mon",
          "Mon",
          "Mon",
          "Mon",
          "Mon",
          "Mon",
          "Mon",
          "Mon",
          "Mon",
          "Mon",
          "Mon",
          "Mon",
          "Mon",
          "Mon",
          "Mon",
          "Mon",
          "Mon",
          "Mon",
          "Mon",
          "Mon",
          "Mon",
          "Mon",
          "Mon",
          "Mon",
          "Mon",
          "Mon",
          "Mon",
          "Mon",
          "Mon",
          "Mon",
          "Mon",
          "Mon",
          "Mon",
          "Mon",
          "Mon",
          "Mon",
          "Mon",
          "Mon",
          "Mon",
          "Mon",
          "Mon",
          "Mon",
          "Mon",
          "Mon",
          "Mon",
          "Mon",
          "Mon",
          "Mon",
          "Mon",
          "Mon",
          "Mon",
          "Mon",
          "Mon",
          "Mon",
          "Mon",
          "Mon",
          "Mon",
          "Mon",
          "Mon",
          "Mon",
          "Mon",
          "Mon",
          "Mon",
          "Mon",
          "Mon",
          "Mon",
          "Mon",
          "Mon",
          "Mon",
          "Mon",
          "Mon",
          "Mon",
          "Mon",
          "Mon",
          "Mon",
          "Mon",
          "Mon",
          "Mon",
          "Mon",
          "Mon",
          "Mon",
          "Mon",
          "Mon",
          "Mon",
          "Mon",
          "Mon",
          "Mon",
          "Mon",
          "Mon",
          "Mon",
          "Mon",
          "Mon",
          "Mon",
          "Mon",
          "Mon",
          "Mon",
          "Mon",
          "Mon",
          "Mon",
          "Mon",
          "Mon",
          "Mon",
          "Mon",
          "Mon",
          "Mon",
          "Mon",
          "Mon",
          "Mon",
          "Mon",
          "Mon",
          "Mon",
          "Mon",
          "Mon",
          "Mon",
          "Mon",
          "Mon",
          "Mon",
          "Mon",
          "Mon",
          "Mon",
          "Mon",
          "Mon",
          "Mon",
          "Mon",
          "Mon",
          "Mon",
          "Mon",
          "Mon",
          "Mon",
          "Mon",
          "Mon",
          "Mon",
          "Mon",
          "Mon",
          "Mon",
          "Mon",
          "Mon",
          "Mon",
          "Mon",
          "Mon",
          "Mon",
          "Mon",
          "Mon",
          "Mon",
          "Mon",
          "Mon",
          "Mon",
          "Mon",
          "Mon",
          "Mon",
          "Mon",
          "Mon",
          "Mon",
          "Mon",
          "Mon",
          "Mon",
          "Mon",
          "Mon",
          "Mon",
          "Mon",
          "Mon",
          "Mon",
          "Mon",
          "Mon",
          "Mon",
          "Mon",
          "Mon",
          "Mon",
          "Mon",
          "Mon",
          "Mon",
          "Mon",
          "Mon",
          "Mon",
          "Mon",
          "Mon",
          "Mon",
          "Mon",
          "Mon",
          "Mon",
          "Mon",
          "Mon",
          "Mon",
          "Mon",
          "Mon",
          "Mon",
          "Mon",
          "Mon",
          "Mon",
          "Mon",
          "Mon",
          "Mon",
          "Mon",
          "Mon",
          "Mon",
          "Mon",
          "Mon",
          "Mon",
          "Mon",
          "Mon",
          "Mon",
          "Mon",
          "Mon",
          "Mon",
          "Mon",
          "Mon",
          "Mon",
          "Mon",
          "Mon",
          "Mon",
          "Mon",
          "Mon",
          "Mon",
          "Mon",
          "Mon",
          "Mon",
          "Mon",
          "Mon",
          "Mon",
          "Mon",
          "Mon",
          "Mon",
          "Mon",
          "Mon",
          "Mon",
          "Mon",
          "Mon",
          "Mon",
          "Mon",
          "Mon",
          "Mon",
          "Mon",
          "Mon",
          "Mon",
          "Mon",
          "Mon",
          "Mon",
          "Mon",
          "Mon",
          "Mon",
          "Mon",
          "Mon",
          "Mon",
          "Mon",
          "Mon",
          "Mon",
          "Mon",
          "Mon",
          "Mon",
          "Mon",
          "Mon",
          "Mon",
          "Mon",
          "Mon",
          "Mon",
          "Mon",
          "Mon",
          "Mon",
          "Mon",
          "Mon",
          "Mon",
          "Mon",
          "Mon",
          "Mon",
          "Mon",
          "Mon",
          "Mon",
          "Mon",
          "Mon",
          "Mon",
          "Mon",
          "Mon",
          "Mon",
          "Mon",
          "Mon",
          "Mon",
          "Mon",
          "Mon",
          "Mon",
          "Mon",
          "Mon",
          "Mon",
          "Mon",
          "Mon",
          "Mon",
          "Mon",
          "Mon",
          "Mon",
          "Mon",
          "Mon",
          "Mon",
          "Mon",
          "Mon",
          "Mon",
          "Mon",
          "Mon",
          "Mon",
          "Mon",
          "Mon",
          "Mon",
          "Mon",
          "Mon",
          "Mon",
          "Mon",
          "Mon",
          "Mon",
          "Mon",
          "Mon",
          "Mon",
          "Mon",
          "Mon",
          "Mon",
          "Mon",
          "Mon",
          "Mon",
          "Mon",
          "Mon",
          "Mon",
          "Mon",
          "Mon",
          "Mon",
          "Mon",
          "Mon",
          "Mon",
          "Mon",
          "Mon",
          "Mon",
          "Mon",
          "Mon",
          "Mon",
          "Mon",
          "Mon",
          "Mon",
          "Mon",
          "Mon",
          "Mon",
          "Mon",
          "Mon",
          "Mon",
          "Mon",
          "Mon",
          "Mon",
          "Mon",
          "Mon",
          "Mon",
          "Mon",
          "Mon",
          "Mon",
          "Mon",
          "Mon",
          "Mon",
          "Mon",
          "Mon",
          "Mon",
          "Mon",
          "Mon",
          "Mon",
          "Mon",
          "Mon",
          "Mon",
          "Mon",
          "Mon",
          "Mon",
          "Mon",
          "Mon",
          "Mon",
          "Mon",
          "Mon",
          "Mon",
          "Mon",
          "Mon",
          "Mon",
          "Mon",
          "Mon",
          "Mon",
          "Mon",
          "Mon",
          "Mon",
          "Mon",
          "Mon",
          "Mon",
          "Mon",
          "Mon",
          "Mon",
          "Mon",
          "Mon",
          "Mon",
          "Mon",
          "Mon",
          "Mon",
          "Mon",
          "Mon",
          "Mon",
          "Mon",
          "Mon",
          "Mon",
          "Mon",
          "Mon",
          "Mon",
          "Mon",
          "Mon",
          "Mon",
          "Mon",
          "Mon",
          "Mon",
          "Mon",
          "Mon",
          "Mon",
          "Mon",
          "Mon",
          "Mon",
          "Mon",
          "Mon",
          "Mon",
          "Mon",
          "Mon",
          "Mon",
          "Mon",
          "Mon",
          "Mon",
          "Mon",
          "Mon",
          "Mon",
          "Mon",
          "Mon",
          "Mon",
          "Mon",
          "Mon",
          "Mon",
          "Mon",
          "Mon",
          "Mon",
          "Mon",
          "Mon",
          "Mon",
          "Mon",
          "Mon",
          "Mon",
          "Mon",
          "Mon",
          "Mon",
          "Mon",
          "Mon",
          "Mon",
          "Mon",
          "Mon",
          "Mon",
          "Mon"
         ],
         "x0": " ",
         "xaxis": "x",
         "y": {
          "bdata": "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",
          "dtype": "f8"
         },
         "y0": " ",
         "yaxis": "y"
        },
        {
         "alignmentgroup": "True",
         "boxpoints": "all",
         "hovertemplate": "weekday=%{x}<br>kwhTotal=%{y}<extra></extra>",
         "legendgroup": "Tue",
         "marker": {
          "color": "rgb(252,141,98)"
         },
         "name": "Tue",
         "notched": false,
         "offsetgroup": "Tue",
         "orientation": "v",
         "showlegend": true,
         "type": "box",
         "x": [
          "Tue",
          "Tue",
          "Tue",
          "Tue",
          "Tue",
          "Tue",
          "Tue",
          "Tue",
          "Tue",
          "Tue",
          "Tue",
          "Tue",
          "Tue",
          "Tue",
          "Tue",
          "Tue",
          "Tue",
          "Tue",
          "Tue",
          "Tue",
          "Tue",
          "Tue",
          "Tue",
          "Tue",
          "Tue",
          "Tue",
          "Tue",
          "Tue",
          "Tue",
          "Tue",
          "Tue",
          "Tue",
          "Tue",
          "Tue",
          "Tue",
          "Tue",
          "Tue",
          "Tue",
          "Tue",
          "Tue",
          "Tue",
          "Tue",
          "Tue",
          "Tue",
          "Tue",
          "Tue",
          "Tue",
          "Tue",
          "Tue",
          "Tue",
          "Tue",
          "Tue",
          "Tue",
          "Tue",
          "Tue",
          "Tue",
          "Tue",
          "Tue",
          "Tue",
          "Tue",
          "Tue",
          "Tue",
          "Tue",
          "Tue",
          "Tue",
          "Tue",
          "Tue",
          "Tue",
          "Tue",
          "Tue",
          "Tue",
          "Tue",
          "Tue",
          "Tue",
          "Tue",
          "Tue",
          "Tue",
          "Tue",
          "Tue",
          "Tue",
          "Tue",
          "Tue",
          "Tue",
          "Tue",
          "Tue",
          "Tue",
          "Tue",
          "Tue",
          "Tue",
          "Tue",
          "Tue",
          "Tue",
          "Tue",
          "Tue",
          "Tue",
          "Tue",
          "Tue",
          "Tue",
          "Tue",
          "Tue",
          "Tue",
          "Tue",
          "Tue",
          "Tue",
          "Tue",
          "Tue",
          "Tue",
          "Tue",
          "Tue",
          "Tue",
          "Tue",
          "Tue",
          "Tue",
          "Tue",
          "Tue",
          "Tue",
          "Tue",
          "Tue",
          "Tue",
          "Tue",
          "Tue",
          "Tue",
          "Tue",
          "Tue",
          "Tue",
          "Tue",
          "Tue",
          "Tue",
          "Tue",
          "Tue",
          "Tue",
          "Tue",
          "Tue",
          "Tue",
          "Tue",
          "Tue",
          "Tue",
          "Tue",
          "Tue",
          "Tue",
          "Tue",
          "Tue",
          "Tue",
          "Tue",
          "Tue",
          "Tue",
          "Tue",
          "Tue",
          "Tue",
          "Tue",
          "Tue",
          "Tue",
          "Tue",
          "Tue",
          "Tue",
          "Tue",
          "Tue",
          "Tue",
          "Tue",
          "Tue",
          "Tue",
          "Tue",
          "Tue",
          "Tue",
          "Tue",
          "Tue",
          "Tue",
          "Tue",
          "Tue",
          "Tue",
          "Tue",
          "Tue",
          "Tue",
          "Tue",
          "Tue",
          "Tue",
          "Tue",
          "Tue",
          "Tue",
          "Tue",
          "Tue",
          "Tue",
          "Tue",
          "Tue",
          "Tue",
          "Tue",
          "Tue",
          "Tue",
          "Tue",
          "Tue",
          "Tue",
          "Tue",
          "Tue",
          "Tue",
          "Tue",
          "Tue",
          "Tue",
          "Tue",
          "Tue",
          "Tue",
          "Tue",
          "Tue",
          "Tue",
          "Tue",
          "Tue",
          "Tue",
          "Tue",
          "Tue",
          "Tue",
          "Tue",
          "Tue",
          "Tue",
          "Tue",
          "Tue",
          "Tue",
          "Tue",
          "Tue",
          "Tue",
          "Tue",
          "Tue",
          "Tue",
          "Tue",
          "Tue",
          "Tue",
          "Tue",
          "Tue",
          "Tue",
          "Tue",
          "Tue",
          "Tue",
          "Tue",
          "Tue",
          "Tue",
          "Tue",
          "Tue",
          "Tue",
          "Tue",
          "Tue",
          "Tue",
          "Tue",
          "Tue",
          "Tue",
          "Tue",
          "Tue",
          "Tue",
          "Tue",
          "Tue",
          "Tue",
          "Tue",
          "Tue",
          "Tue",
          "Tue",
          "Tue",
          "Tue",
          "Tue",
          "Tue",
          "Tue",
          "Tue",
          "Tue",
          "Tue",
          "Tue",
          "Tue",
          "Tue",
          "Tue",
          "Tue",
          "Tue",
          "Tue",
          "Tue",
          "Tue",
          "Tue",
          "Tue",
          "Tue",
          "Tue",
          "Tue",
          "Tue",
          "Tue",
          "Tue",
          "Tue",
          "Tue",
          "Tue",
          "Tue",
          "Tue",
          "Tue",
          "Tue",
          "Tue",
          "Tue",
          "Tue",
          "Tue",
          "Tue",
          "Tue",
          "Tue",
          "Tue",
          "Tue",
          "Tue",
          "Tue",
          "Tue",
          "Tue",
          "Tue",
          "Tue",
          "Tue",
          "Tue",
          "Tue",
          "Tue",
          "Tue",
          "Tue",
          "Tue",
          "Tue",
          "Tue",
          "Tue",
          "Tue",
          "Tue",
          "Tue",
          "Tue",
          "Tue",
          "Tue",
          "Tue",
          "Tue",
          "Tue",
          "Tue",
          "Tue",
          "Tue",
          "Tue",
          "Tue",
          "Tue",
          "Tue",
          "Tue",
          "Tue",
          "Tue",
          "Tue",
          "Tue",
          "Tue",
          "Tue",
          "Tue",
          "Tue",
          "Tue",
          "Tue",
          "Tue",
          "Tue",
          "Tue",
          "Tue",
          "Tue",
          "Tue",
          "Tue",
          "Tue",
          "Tue",
          "Tue",
          "Tue",
          "Tue",
          "Tue",
          "Tue",
          "Tue",
          "Tue",
          "Tue",
          "Tue",
          "Tue",
          "Tue",
          "Tue",
          "Tue",
          "Tue",
          "Tue",
          "Tue",
          "Tue",
          "Tue",
          "Tue",
          "Tue",
          "Tue",
          "Tue",
          "Tue",
          "Tue",
          "Tue",
          "Tue",
          "Tue",
          "Tue",
          "Tue",
          "Tue",
          "Tue",
          "Tue",
          "Tue",
          "Tue",
          "Tue",
          "Tue",
          "Tue",
          "Tue",
          "Tue",
          "Tue",
          "Tue",
          "Tue",
          "Tue",
          "Tue",
          "Tue",
          "Tue",
          "Tue",
          "Tue",
          "Tue",
          "Tue",
          "Tue",
          "Tue",
          "Tue",
          "Tue",
          "Tue",
          "Tue",
          "Tue",
          "Tue",
          "Tue",
          "Tue",
          "Tue",
          "Tue",
          "Tue",
          "Tue",
          "Tue",
          "Tue",
          "Tue",
          "Tue",
          "Tue",
          "Tue",
          "Tue",
          "Tue",
          "Tue",
          "Tue",
          "Tue",
          "Tue",
          "Tue",
          "Tue",
          "Tue",
          "Tue",
          "Tue",
          "Tue",
          "Tue",
          "Tue",
          "Tue",
          "Tue",
          "Tue",
          "Tue",
          "Tue",
          "Tue",
          "Tue",
          "Tue",
          "Tue",
          "Tue",
          "Tue",
          "Tue",
          "Tue",
          "Tue",
          "Tue",
          "Tue",
          "Tue",
          "Tue",
          "Tue",
          "Tue",
          "Tue",
          "Tue",
          "Tue",
          "Tue",
          "Tue",
          "Tue",
          "Tue",
          "Tue",
          "Tue",
          "Tue",
          "Tue",
          "Tue",
          "Tue",
          "Tue",
          "Tue",
          "Tue",
          "Tue",
          "Tue",
          "Tue",
          "Tue",
          "Tue",
          "Tue",
          "Tue",
          "Tue",
          "Tue",
          "Tue",
          "Tue",
          "Tue",
          "Tue",
          "Tue",
          "Tue",
          "Tue",
          "Tue",
          "Tue",
          "Tue",
          "Tue",
          "Tue",
          "Tue",
          "Tue",
          "Tue",
          "Tue",
          "Tue",
          "Tue",
          "Tue",
          "Tue",
          "Tue",
          "Tue",
          "Tue",
          "Tue",
          "Tue",
          "Tue",
          "Tue",
          "Tue",
          "Tue",
          "Tue",
          "Tue",
          "Tue",
          "Tue",
          "Tue",
          "Tue",
          "Tue",
          "Tue",
          "Tue",
          "Tue",
          "Tue",
          "Tue",
          "Tue",
          "Tue",
          "Tue",
          "Tue",
          "Tue",
          "Tue",
          "Tue",
          "Tue",
          "Tue",
          "Tue",
          "Tue",
          "Tue",
          "Tue",
          "Tue",
          "Tue",
          "Tue",
          "Tue",
          "Tue",
          "Tue",
          "Tue",
          "Tue",
          "Tue",
          "Tue",
          "Tue",
          "Tue",
          "Tue",
          "Tue",
          "Tue",
          "Tue",
          "Tue",
          "Tue",
          "Tue",
          "Tue",
          "Tue",
          "Tue",
          "Tue",
          "Tue",
          "Tue",
          "Tue",
          "Tue",
          "Tue",
          "Tue",
          "Tue",
          "Tue",
          "Tue",
          "Tue",
          "Tue",
          "Tue",
          "Tue",
          "Tue",
          "Tue",
          "Tue",
          "Tue",
          "Tue",
          "Tue",
          "Tue",
          "Tue",
          "Tue",
          "Tue",
          "Tue",
          "Tue",
          "Tue",
          "Tue",
          "Tue",
          "Tue",
          "Tue",
          "Tue",
          "Tue",
          "Tue",
          "Tue",
          "Tue",
          "Tue",
          "Tue",
          "Tue",
          "Tue",
          "Tue",
          "Tue",
          "Tue",
          "Tue",
          "Tue",
          "Tue",
          "Tue",
          "Tue",
          "Tue",
          "Tue",
          "Tue",
          "Tue",
          "Tue",
          "Tue",
          "Tue",
          "Tue",
          "Tue",
          "Tue",
          "Tue",
          "Tue",
          "Tue",
          "Tue",
          "Tue",
          "Tue",
          "Tue",
          "Tue",
          "Tue",
          "Tue",
          "Tue",
          "Tue",
          "Tue",
          "Tue",
          "Tue",
          "Tue",
          "Tue",
          "Tue",
          "Tue",
          "Tue",
          "Tue",
          "Tue",
          "Tue",
          "Tue",
          "Tue",
          "Tue",
          "Tue"
         ],
         "x0": " ",
         "xaxis": "x",
         "y": {
          "bdata": "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",
          "dtype": "f8"
         },
         "y0": " ",
         "yaxis": "y"
        },
        {
         "alignmentgroup": "True",
         "boxpoints": "all",
         "hovertemplate": "weekday=%{x}<br>kwhTotal=%{y}<extra></extra>",
         "legendgroup": "Wed",
         "marker": {
          "color": "rgb(141,160,203)"
         },
         "name": "Wed",
         "notched": false,
         "offsetgroup": "Wed",
         "orientation": "v",
         "showlegend": true,
         "type": "box",
         "x": [
          "Wed",
          "Wed",
          "Wed",
          "Wed",
          "Wed",
          "Wed",
          "Wed",
          "Wed",
          "Wed",
          "Wed",
          "Wed",
          "Wed",
          "Wed",
          "Wed",
          "Wed",
          "Wed",
          "Wed",
          "Wed",
          "Wed",
          "Wed",
          "Wed",
          "Wed",
          "Wed",
          "Wed",
          "Wed",
          "Wed",
          "Wed",
          "Wed",
          "Wed",
          "Wed",
          "Wed",
          "Wed",
          "Wed",
          "Wed",
          "Wed",
          "Wed",
          "Wed",
          "Wed",
          "Wed",
          "Wed",
          "Wed",
          "Wed",
          "Wed",
          "Wed",
          "Wed",
          "Wed",
          "Wed",
          "Wed",
          "Wed",
          "Wed",
          "Wed",
          "Wed",
          "Wed",
          "Wed",
          "Wed",
          "Wed",
          "Wed",
          "Wed",
          "Wed",
          "Wed",
          "Wed",
          "Wed",
          "Wed",
          "Wed",
          "Wed",
          "Wed",
          "Wed",
          "Wed",
          "Wed",
          "Wed",
          "Wed",
          "Wed",
          "Wed",
          "Wed",
          "Wed",
          "Wed",
          "Wed",
          "Wed",
          "Wed",
          "Wed",
          "Wed",
          "Wed",
          "Wed",
          "Wed",
          "Wed",
          "Wed",
          "Wed",
          "Wed",
          "Wed",
          "Wed",
          "Wed",
          "Wed",
          "Wed",
          "Wed",
          "Wed",
          "Wed",
          "Wed",
          "Wed",
          "Wed",
          "Wed",
          "Wed",
          "Wed",
          "Wed",
          "Wed",
          "Wed",
          "Wed",
          "Wed",
          "Wed",
          "Wed",
          "Wed",
          "Wed",
          "Wed",
          "Wed",
          "Wed",
          "Wed",
          "Wed",
          "Wed",
          "Wed",
          "Wed",
          "Wed",
          "Wed",
          "Wed",
          "Wed",
          "Wed",
          "Wed",
          "Wed",
          "Wed",
          "Wed",
          "Wed",
          "Wed",
          "Wed",
          "Wed",
          "Wed",
          "Wed",
          "Wed",
          "Wed",
          "Wed",
          "Wed",
          "Wed",
          "Wed",
          "Wed",
          "Wed",
          "Wed",
          "Wed",
          "Wed",
          "Wed",
          "Wed",
          "Wed",
          "Wed",
          "Wed",
          "Wed",
          "Wed",
          "Wed",
          "Wed",
          "Wed",
          "Wed",
          "Wed",
          "Wed",
          "Wed",
          "Wed",
          "Wed",
          "Wed",
          "Wed",
          "Wed",
          "Wed",
          "Wed",
          "Wed",
          "Wed",
          "Wed",
          "Wed",
          "Wed",
          "Wed",
          "Wed",
          "Wed",
          "Wed",
          "Wed",
          "Wed",
          "Wed",
          "Wed",
          "Wed",
          "Wed",
          "Wed",
          "Wed",
          "Wed",
          "Wed",
          "Wed",
          "Wed",
          "Wed",
          "Wed",
          "Wed",
          "Wed",
          "Wed",
          "Wed",
          "Wed",
          "Wed",
          "Wed",
          "Wed",
          "Wed",
          "Wed",
          "Wed",
          "Wed",
          "Wed",
          "Wed",
          "Wed",
          "Wed",
          "Wed",
          "Wed",
          "Wed",
          "Wed",
          "Wed",
          "Wed",
          "Wed",
          "Wed",
          "Wed",
          "Wed",
          "Wed",
          "Wed",
          "Wed",
          "Wed",
          "Wed",
          "Wed",
          "Wed",
          "Wed",
          "Wed",
          "Wed",
          "Wed",
          "Wed",
          "Wed",
          "Wed",
          "Wed",
          "Wed",
          "Wed",
          "Wed",
          "Wed",
          "Wed",
          "Wed",
          "Wed",
          "Wed",
          "Wed",
          "Wed",
          "Wed",
          "Wed",
          "Wed",
          "Wed",
          "Wed",
          "Wed",
          "Wed",
          "Wed",
          "Wed",
          "Wed",
          "Wed",
          "Wed",
          "Wed",
          "Wed",
          "Wed",
          "Wed",
          "Wed",
          "Wed",
          "Wed",
          "Wed",
          "Wed",
          "Wed",
          "Wed",
          "Wed",
          "Wed",
          "Wed",
          "Wed",
          "Wed",
          "Wed",
          "Wed",
          "Wed",
          "Wed",
          "Wed",
          "Wed",
          "Wed",
          "Wed",
          "Wed",
          "Wed",
          "Wed",
          "Wed",
          "Wed",
          "Wed",
          "Wed",
          "Wed",
          "Wed",
          "Wed",
          "Wed",
          "Wed",
          "Wed",
          "Wed",
          "Wed",
          "Wed",
          "Wed",
          "Wed",
          "Wed",
          "Wed",
          "Wed",
          "Wed",
          "Wed",
          "Wed",
          "Wed",
          "Wed",
          "Wed",
          "Wed",
          "Wed",
          "Wed",
          "Wed",
          "Wed",
          "Wed",
          "Wed",
          "Wed",
          "Wed",
          "Wed",
          "Wed",
          "Wed",
          "Wed",
          "Wed",
          "Wed",
          "Wed",
          "Wed",
          "Wed",
          "Wed",
          "Wed",
          "Wed",
          "Wed",
          "Wed",
          "Wed",
          "Wed",
          "Wed",
          "Wed",
          "Wed",
          "Wed",
          "Wed",
          "Wed",
          "Wed",
          "Wed",
          "Wed",
          "Wed",
          "Wed",
          "Wed",
          "Wed",
          "Wed",
          "Wed",
          "Wed",
          "Wed",
          "Wed",
          "Wed",
          "Wed",
          "Wed",
          "Wed",
          "Wed",
          "Wed",
          "Wed",
          "Wed",
          "Wed",
          "Wed",
          "Wed",
          "Wed",
          "Wed",
          "Wed",
          "Wed",
          "Wed",
          "Wed",
          "Wed",
          "Wed",
          "Wed",
          "Wed",
          "Wed",
          "Wed",
          "Wed",
          "Wed",
          "Wed",
          "Wed",
          "Wed",
          "Wed",
          "Wed",
          "Wed",
          "Wed",
          "Wed",
          "Wed",
          "Wed",
          "Wed",
          "Wed",
          "Wed",
          "Wed",
          "Wed",
          "Wed",
          "Wed",
          "Wed",
          "Wed",
          "Wed",
          "Wed",
          "Wed",
          "Wed",
          "Wed",
          "Wed",
          "Wed",
          "Wed",
          "Wed",
          "Wed",
          "Wed",
          "Wed",
          "Wed",
          "Wed",
          "Wed",
          "Wed",
          "Wed",
          "Wed",
          "Wed",
          "Wed",
          "Wed",
          "Wed",
          "Wed",
          "Wed",
          "Wed",
          "Wed",
          "Wed",
          "Wed",
          "Wed",
          "Wed",
          "Wed",
          "Wed",
          "Wed",
          "Wed",
          "Wed",
          "Wed",
          "Wed",
          "Wed",
          "Wed",
          "Wed",
          "Wed",
          "Wed",
          "Wed",
          "Wed",
          "Wed",
          "Wed",
          "Wed",
          "Wed",
          "Wed",
          "Wed",
          "Wed",
          "Wed",
          "Wed",
          "Wed",
          "Wed",
          "Wed",
          "Wed",
          "Wed",
          "Wed",
          "Wed",
          "Wed",
          "Wed",
          "Wed",
          "Wed",
          "Wed",
          "Wed",
          "Wed",
          "Wed",
          "Wed",
          "Wed",
          "Wed",
          "Wed",
          "Wed",
          "Wed",
          "Wed",
          "Wed",
          "Wed",
          "Wed",
          "Wed",
          "Wed",
          "Wed",
          "Wed",
          "Wed",
          "Wed",
          "Wed",
          "Wed",
          "Wed",
          "Wed",
          "Wed",
          "Wed",
          "Wed",
          "Wed",
          "Wed",
          "Wed",
          "Wed",
          "Wed",
          "Wed",
          "Wed",
          "Wed",
          "Wed",
          "Wed",
          "Wed",
          "Wed",
          "Wed",
          "Wed",
          "Wed",
          "Wed",
          "Wed",
          "Wed",
          "Wed",
          "Wed",
          "Wed",
          "Wed",
          "Wed",
          "Wed",
          "Wed",
          "Wed",
          "Wed",
          "Wed",
          "Wed",
          "Wed",
          "Wed",
          "Wed",
          "Wed",
          "Wed",
          "Wed",
          "Wed",
          "Wed",
          "Wed",
          "Wed",
          "Wed",
          "Wed",
          "Wed",
          "Wed",
          "Wed",
          "Wed",
          "Wed",
          "Wed",
          "Wed",
          "Wed",
          "Wed",
          "Wed",
          "Wed",
          "Wed",
          "Wed",
          "Wed",
          "Wed",
          "Wed",
          "Wed",
          "Wed",
          "Wed",
          "Wed",
          "Wed",
          "Wed",
          "Wed",
          "Wed",
          "Wed",
          "Wed",
          "Wed",
          "Wed",
          "Wed",
          "Wed",
          "Wed",
          "Wed",
          "Wed",
          "Wed",
          "Wed",
          "Wed",
          "Wed",
          "Wed",
          "Wed",
          "Wed",
          "Wed",
          "Wed",
          "Wed",
          "Wed",
          "Wed",
          "Wed",
          "Wed",
          "Wed",
          "Wed",
          "Wed",
          "Wed",
          "Wed",
          "Wed",
          "Wed",
          "Wed",
          "Wed",
          "Wed",
          "Wed",
          "Wed",
          "Wed",
          "Wed",
          "Wed",
          "Wed",
          "Wed",
          "Wed",
          "Wed",
          "Wed",
          "Wed",
          "Wed",
          "Wed",
          "Wed",
          "Wed",
          "Wed",
          "Wed",
          "Wed",
          "Wed",
          "Wed",
          "Wed",
          "Wed",
          "Wed",
          "Wed",
          "Wed",
          "Wed",
          "Wed",
          "Wed",
          "Wed",
          "Wed",
          "Wed",
          "Wed",
          "Wed",
          "Wed",
          "Wed",
          "Wed",
          "Wed",
          "Wed",
          "Wed",
          "Wed",
          "Wed",
          "Wed",
          "Wed",
          "Wed",
          "Wed",
          "Wed",
          "Wed",
          "Wed",
          "Wed",
          "Wed",
          "Wed",
          "Wed",
          "Wed",
          "Wed",
          "Wed",
          "Wed",
          "Wed",
          "Wed",
          "Wed",
          "Wed",
          "Wed",
          "Wed",
          "Wed",
          "Wed",
          "Wed",
          "Wed",
          "Wed",
          "Wed",
          "Wed",
          "Wed",
          "Wed",
          "Wed",
          "Wed",
          "Wed",
          "Wed",
          "Wed",
          "Wed",
          "Wed",
          "Wed",
          "Wed",
          "Wed",
          "Wed",
          "Wed",
          "Wed",
          "Wed",
          "Wed",
          "Wed",
          "Wed",
          "Wed",
          "Wed",
          "Wed",
          "Wed",
          "Wed",
          "Wed",
          "Wed",
          "Wed",
          "Wed",
          "Wed",
          "Wed",
          "Wed",
          "Wed",
          "Wed",
          "Wed",
          "Wed",
          "Wed",
          "Wed",
          "Wed",
          "Wed",
          "Wed",
          "Wed",
          "Wed",
          "Wed",
          "Wed",
          "Wed",
          "Wed",
          "Wed",
          "Wed",
          "Wed",
          "Wed",
          "Wed",
          "Wed",
          "Wed",
          "Wed",
          "Wed",
          "Wed",
          "Wed",
          "Wed",
          "Wed",
          "Wed",
          "Wed",
          "Wed",
          "Wed",
          "Wed",
          "Wed"
         ],
         "x0": " ",
         "xaxis": "x",
         "y": {
          "bdata": "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",
          "dtype": "f8"
         },
         "y0": " ",
         "yaxis": "y"
        },
        {
         "alignmentgroup": "True",
         "boxpoints": "all",
         "hovertemplate": "weekday=%{x}<br>kwhTotal=%{y}<extra></extra>",
         "legendgroup": "Thu",
         "marker": {
          "color": "rgb(231,138,195)"
         },
         "name": "Thu",
         "notched": false,
         "offsetgroup": "Thu",
         "orientation": "v",
         "showlegend": true,
         "type": "box",
         "x": [
          "Thu",
          "Thu",
          "Thu",
          "Thu",
          "Thu",
          "Thu",
          "Thu",
          "Thu",
          "Thu",
          "Thu",
          "Thu",
          "Thu",
          "Thu",
          "Thu",
          "Thu",
          "Thu",
          "Thu",
          "Thu",
          "Thu",
          "Thu",
          "Thu",
          "Thu",
          "Thu",
          "Thu",
          "Thu",
          "Thu",
          "Thu",
          "Thu",
          "Thu",
          "Thu",
          "Thu",
          "Thu",
          "Thu",
          "Thu",
          "Thu",
          "Thu",
          "Thu",
          "Thu",
          "Thu",
          "Thu",
          "Thu",
          "Thu",
          "Thu",
          "Thu",
          "Thu",
          "Thu",
          "Thu",
          "Thu",
          "Thu",
          "Thu",
          "Thu",
          "Thu",
          "Thu",
          "Thu",
          "Thu",
          "Thu",
          "Thu",
          "Thu",
          "Thu",
          "Thu",
          "Thu",
          "Thu",
          "Thu",
          "Thu",
          "Thu",
          "Thu",
          "Thu",
          "Thu",
          "Thu",
          "Thu",
          "Thu",
          "Thu",
          "Thu",
          "Thu",
          "Thu",
          "Thu",
          "Thu",
          "Thu",
          "Thu",
          "Thu",
          "Thu",
          "Thu",
          "Thu",
          "Thu",
          "Thu",
          "Thu",
          "Thu",
          "Thu",
          "Thu",
          "Thu",
          "Thu",
          "Thu",
          "Thu",
          "Thu",
          "Thu",
          "Thu",
          "Thu",
          "Thu",
          "Thu",
          "Thu",
          "Thu",
          "Thu",
          "Thu",
          "Thu",
          "Thu",
          "Thu",
          "Thu",
          "Thu",
          "Thu",
          "Thu",
          "Thu",
          "Thu",
          "Thu",
          "Thu",
          "Thu",
          "Thu",
          "Thu",
          "Thu",
          "Thu",
          "Thu",
          "Thu",
          "Thu",
          "Thu",
          "Thu",
          "Thu",
          "Thu",
          "Thu",
          "Thu",
          "Thu",
          "Thu",
          "Thu",
          "Thu",
          "Thu",
          "Thu",
          "Thu",
          "Thu",
          "Thu",
          "Thu",
          "Thu",
          "Thu",
          "Thu",
          "Thu",
          "Thu",
          "Thu",
          "Thu",
          "Thu",
          "Thu",
          "Thu",
          "Thu",
          "Thu",
          "Thu",
          "Thu",
          "Thu",
          "Thu",
          "Thu",
          "Thu",
          "Thu",
          "Thu",
          "Thu",
          "Thu",
          "Thu",
          "Thu",
          "Thu",
          "Thu",
          "Thu",
          "Thu",
          "Thu",
          "Thu",
          "Thu",
          "Thu",
          "Thu",
          "Thu",
          "Thu",
          "Thu",
          "Thu",
          "Thu",
          "Thu",
          "Thu",
          "Thu",
          "Thu",
          "Thu",
          "Thu",
          "Thu",
          "Thu",
          "Thu",
          "Thu",
          "Thu",
          "Thu",
          "Thu",
          "Thu",
          "Thu",
          "Thu",
          "Thu",
          "Thu",
          "Thu",
          "Thu",
          "Thu",
          "Thu",
          "Thu",
          "Thu",
          "Thu",
          "Thu",
          "Thu",
          "Thu",
          "Thu",
          "Thu",
          "Thu",
          "Thu",
          "Thu",
          "Thu",
          "Thu",
          "Thu",
          "Thu",
          "Thu",
          "Thu",
          "Thu",
          "Thu",
          "Thu",
          "Thu",
          "Thu",
          "Thu",
          "Thu",
          "Thu",
          "Thu",
          "Thu",
          "Thu",
          "Thu",
          "Thu",
          "Thu",
          "Thu",
          "Thu",
          "Thu",
          "Thu",
          "Thu",
          "Thu",
          "Thu",
          "Thu",
          "Thu",
          "Thu",
          "Thu",
          "Thu",
          "Thu",
          "Thu",
          "Thu",
          "Thu",
          "Thu",
          "Thu",
          "Thu",
          "Thu",
          "Thu",
          "Thu",
          "Thu",
          "Thu",
          "Thu",
          "Thu",
          "Thu",
          "Thu",
          "Thu",
          "Thu",
          "Thu",
          "Thu",
          "Thu",
          "Thu",
          "Thu",
          "Thu",
          "Thu",
          "Thu",
          "Thu",
          "Thu",
          "Thu",
          "Thu",
          "Thu",
          "Thu",
          "Thu",
          "Thu",
          "Thu",
          "Thu",
          "Thu",
          "Thu",
          "Thu",
          "Thu",
          "Thu",
          "Thu",
          "Thu",
          "Thu",
          "Thu",
          "Thu",
          "Thu",
          "Thu",
          "Thu",
          "Thu",
          "Thu",
          "Thu",
          "Thu",
          "Thu",
          "Thu",
          "Thu",
          "Thu",
          "Thu",
          "Thu",
          "Thu",
          "Thu",
          "Thu",
          "Thu",
          "Thu",
          "Thu",
          "Thu",
          "Thu",
          "Thu",
          "Thu",
          "Thu",
          "Thu",
          "Thu",
          "Thu",
          "Thu",
          "Thu",
          "Thu",
          "Thu",
          "Thu",
          "Thu",
          "Thu",
          "Thu",
          "Thu",
          "Thu",
          "Thu",
          "Thu",
          "Thu",
          "Thu",
          "Thu",
          "Thu",
          "Thu",
          "Thu",
          "Thu",
          "Thu",
          "Thu",
          "Thu",
          "Thu",
          "Thu",
          "Thu",
          "Thu",
          "Thu",
          "Thu",
          "Thu",
          "Thu",
          "Thu",
          "Thu",
          "Thu",
          "Thu",
          "Thu",
          "Thu",
          "Thu",
          "Thu",
          "Thu",
          "Thu",
          "Thu",
          "Thu",
          "Thu",
          "Thu",
          "Thu",
          "Thu",
          "Thu",
          "Thu",
          "Thu",
          "Thu",
          "Thu",
          "Thu",
          "Thu",
          "Thu",
          "Thu",
          "Thu",
          "Thu",
          "Thu",
          "Thu",
          "Thu",
          "Thu",
          "Thu",
          "Thu",
          "Thu",
          "Thu",
          "Thu",
          "Thu",
          "Thu",
          "Thu",
          "Thu",
          "Thu",
          "Thu",
          "Thu",
          "Thu",
          "Thu",
          "Thu",
          "Thu",
          "Thu",
          "Thu",
          "Thu",
          "Thu",
          "Thu",
          "Thu",
          "Thu",
          "Thu",
          "Thu",
          "Thu",
          "Thu",
          "Thu",
          "Thu",
          "Thu",
          "Thu",
          "Thu",
          "Thu",
          "Thu",
          "Thu",
          "Thu",
          "Thu",
          "Thu",
          "Thu",
          "Thu",
          "Thu",
          "Thu",
          "Thu",
          "Thu",
          "Thu",
          "Thu",
          "Thu",
          "Thu",
          "Thu",
          "Thu",
          "Thu",
          "Thu",
          "Thu",
          "Thu",
          "Thu",
          "Thu",
          "Thu",
          "Thu",
          "Thu",
          "Thu",
          "Thu",
          "Thu",
          "Thu",
          "Thu",
          "Thu",
          "Thu",
          "Thu",
          "Thu",
          "Thu",
          "Thu",
          "Thu",
          "Thu",
          "Thu",
          "Thu",
          "Thu",
          "Thu",
          "Thu",
          "Thu",
          "Thu",
          "Thu",
          "Thu",
          "Thu",
          "Thu",
          "Thu",
          "Thu",
          "Thu",
          "Thu",
          "Thu",
          "Thu",
          "Thu",
          "Thu",
          "Thu",
          "Thu",
          "Thu",
          "Thu",
          "Thu",
          "Thu",
          "Thu",
          "Thu",
          "Thu",
          "Thu",
          "Thu",
          "Thu",
          "Thu",
          "Thu",
          "Thu",
          "Thu",
          "Thu",
          "Thu",
          "Thu",
          "Thu",
          "Thu",
          "Thu",
          "Thu",
          "Thu",
          "Thu",
          "Thu",
          "Thu",
          "Thu",
          "Thu",
          "Thu",
          "Thu",
          "Thu",
          "Thu",
          "Thu",
          "Thu",
          "Thu",
          "Thu",
          "Thu",
          "Thu",
          "Thu",
          "Thu",
          "Thu",
          "Thu",
          "Thu",
          "Thu",
          "Thu",
          "Thu",
          "Thu",
          "Thu",
          "Thu",
          "Thu",
          "Thu",
          "Thu",
          "Thu",
          "Thu",
          "Thu",
          "Thu",
          "Thu",
          "Thu",
          "Thu",
          "Thu",
          "Thu",
          "Thu",
          "Thu",
          "Thu",
          "Thu",
          "Thu",
          "Thu",
          "Thu",
          "Thu",
          "Thu",
          "Thu",
          "Thu",
          "Thu",
          "Thu",
          "Thu",
          "Thu",
          "Thu",
          "Thu",
          "Thu",
          "Thu",
          "Thu",
          "Thu",
          "Thu",
          "Thu",
          "Thu",
          "Thu",
          "Thu",
          "Thu",
          "Thu",
          "Thu",
          "Thu",
          "Thu",
          "Thu",
          "Thu",
          "Thu",
          "Thu",
          "Thu",
          "Thu",
          "Thu",
          "Thu",
          "Thu",
          "Thu",
          "Thu",
          "Thu",
          "Thu",
          "Thu",
          "Thu",
          "Thu",
          "Thu",
          "Thu",
          "Thu",
          "Thu",
          "Thu",
          "Thu",
          "Thu",
          "Thu",
          "Thu",
          "Thu",
          "Thu",
          "Thu",
          "Thu",
          "Thu",
          "Thu",
          "Thu",
          "Thu",
          "Thu",
          "Thu",
          "Thu",
          "Thu",
          "Thu",
          "Thu",
          "Thu",
          "Thu",
          "Thu",
          "Thu",
          "Thu",
          "Thu",
          "Thu",
          "Thu",
          "Thu",
          "Thu",
          "Thu",
          "Thu",
          "Thu",
          "Thu",
          "Thu",
          "Thu",
          "Thu",
          "Thu",
          "Thu",
          "Thu",
          "Thu",
          "Thu",
          "Thu",
          "Thu",
          "Thu",
          "Thu",
          "Thu",
          "Thu",
          "Thu",
          "Thu",
          "Thu",
          "Thu",
          "Thu",
          "Thu",
          "Thu",
          "Thu",
          "Thu",
          "Thu",
          "Thu",
          "Thu",
          "Thu",
          "Thu",
          "Thu",
          "Thu",
          "Thu",
          "Thu",
          "Thu",
          "Thu",
          "Thu",
          "Thu",
          "Thu",
          "Thu",
          "Thu",
          "Thu",
          "Thu",
          "Thu",
          "Thu",
          "Thu",
          "Thu",
          "Thu",
          "Thu",
          "Thu",
          "Thu",
          "Thu",
          "Thu",
          "Thu",
          "Thu",
          "Thu",
          "Thu",
          "Thu",
          "Thu",
          "Thu",
          "Thu",
          "Thu",
          "Thu",
          "Thu",
          "Thu",
          "Thu",
          "Thu",
          "Thu",
          "Thu",
          "Thu",
          "Thu",
          "Thu",
          "Thu",
          "Thu",
          "Thu",
          "Thu",
          "Thu",
          "Thu",
          "Thu",
          "Thu",
          "Thu",
          "Thu",
          "Thu",
          "Thu",
          "Thu",
          "Thu",
          "Thu",
          "Thu",
          "Thu",
          "Thu",
          "Thu",
          "Thu",
          "Thu",
          "Thu",
          "Thu",
          "Thu",
          "Thu",
          "Thu",
          "Thu",
          "Thu",
          "Thu",
          "Thu",
          "Thu",
          "Thu",
          "Thu",
          "Thu",
          "Thu",
          "Thu",
          "Thu",
          "Thu",
          "Thu",
          "Thu",
          "Thu",
          "Thu",
          "Thu",
          "Thu",
          "Thu",
          "Thu",
          "Thu",
          "Thu",
          "Thu",
          "Thu",
          "Thu",
          "Thu",
          "Thu"
         ],
         "x0": " ",
         "xaxis": "x",
         "y": {
          "bdata": "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",
          "dtype": "f8"
         },
         "y0": " ",
         "yaxis": "y"
        },
        {
         "alignmentgroup": "True",
         "boxpoints": "all",
         "hovertemplate": "weekday=%{x}<br>kwhTotal=%{y}<extra></extra>",
         "legendgroup": "Fri",
         "marker": {
          "color": "rgb(166,216,84)"
         },
         "name": "Fri",
         "notched": false,
         "offsetgroup": "Fri",
         "orientation": "v",
         "showlegend": true,
         "type": "box",
         "x": [
          "Fri",
          "Fri",
          "Fri",
          "Fri",
          "Fri",
          "Fri",
          "Fri",
          "Fri",
          "Fri",
          "Fri",
          "Fri",
          "Fri",
          "Fri",
          "Fri",
          "Fri",
          "Fri",
          "Fri",
          "Fri",
          "Fri",
          "Fri",
          "Fri",
          "Fri",
          "Fri",
          "Fri",
          "Fri",
          "Fri",
          "Fri",
          "Fri",
          "Fri",
          "Fri",
          "Fri",
          "Fri",
          "Fri",
          "Fri",
          "Fri",
          "Fri",
          "Fri",
          "Fri",
          "Fri",
          "Fri",
          "Fri",
          "Fri",
          "Fri",
          "Fri",
          "Fri",
          "Fri",
          "Fri",
          "Fri",
          "Fri",
          "Fri",
          "Fri",
          "Fri",
          "Fri",
          "Fri",
          "Fri",
          "Fri",
          "Fri",
          "Fri",
          "Fri",
          "Fri",
          "Fri",
          "Fri",
          "Fri",
          "Fri",
          "Fri",
          "Fri",
          "Fri",
          "Fri",
          "Fri",
          "Fri",
          "Fri",
          "Fri",
          "Fri",
          "Fri",
          "Fri",
          "Fri",
          "Fri",
          "Fri",
          "Fri",
          "Fri",
          "Fri",
          "Fri",
          "Fri",
          "Fri",
          "Fri",
          "Fri",
          "Fri",
          "Fri",
          "Fri",
          "Fri",
          "Fri",
          "Fri",
          "Fri",
          "Fri",
          "Fri",
          "Fri",
          "Fri",
          "Fri",
          "Fri",
          "Fri",
          "Fri",
          "Fri",
          "Fri",
          "Fri",
          "Fri",
          "Fri",
          "Fri",
          "Fri",
          "Fri",
          "Fri",
          "Fri",
          "Fri",
          "Fri",
          "Fri",
          "Fri",
          "Fri",
          "Fri",
          "Fri",
          "Fri",
          "Fri",
          "Fri",
          "Fri",
          "Fri",
          "Fri",
          "Fri",
          "Fri",
          "Fri",
          "Fri",
          "Fri",
          "Fri",
          "Fri",
          "Fri",
          "Fri",
          "Fri",
          "Fri",
          "Fri",
          "Fri",
          "Fri",
          "Fri",
          "Fri",
          "Fri",
          "Fri",
          "Fri",
          "Fri",
          "Fri",
          "Fri",
          "Fri",
          "Fri",
          "Fri",
          "Fri",
          "Fri",
          "Fri",
          "Fri",
          "Fri",
          "Fri",
          "Fri",
          "Fri",
          "Fri",
          "Fri",
          "Fri",
          "Fri",
          "Fri",
          "Fri",
          "Fri",
          "Fri",
          "Fri",
          "Fri",
          "Fri",
          "Fri",
          "Fri",
          "Fri",
          "Fri",
          "Fri",
          "Fri",
          "Fri",
          "Fri",
          "Fri",
          "Fri",
          "Fri",
          "Fri",
          "Fri",
          "Fri",
          "Fri",
          "Fri",
          "Fri",
          "Fri",
          "Fri",
          "Fri",
          "Fri",
          "Fri",
          "Fri",
          "Fri",
          "Fri",
          "Fri",
          "Fri",
          "Fri",
          "Fri",
          "Fri",
          "Fri",
          "Fri",
          "Fri",
          "Fri",
          "Fri",
          "Fri",
          "Fri",
          "Fri",
          "Fri",
          "Fri",
          "Fri",
          "Fri",
          "Fri",
          "Fri",
          "Fri",
          "Fri",
          "Fri",
          "Fri",
          "Fri",
          "Fri",
          "Fri",
          "Fri",
          "Fri",
          "Fri",
          "Fri",
          "Fri",
          "Fri",
          "Fri",
          "Fri",
          "Fri",
          "Fri",
          "Fri",
          "Fri",
          "Fri",
          "Fri",
          "Fri",
          "Fri",
          "Fri",
          "Fri",
          "Fri",
          "Fri",
          "Fri",
          "Fri",
          "Fri",
          "Fri",
          "Fri",
          "Fri",
          "Fri",
          "Fri",
          "Fri",
          "Fri",
          "Fri",
          "Fri",
          "Fri",
          "Fri",
          "Fri",
          "Fri",
          "Fri",
          "Fri",
          "Fri",
          "Fri",
          "Fri",
          "Fri",
          "Fri",
          "Fri",
          "Fri",
          "Fri",
          "Fri",
          "Fri",
          "Fri",
          "Fri",
          "Fri",
          "Fri",
          "Fri",
          "Fri",
          "Fri",
          "Fri",
          "Fri",
          "Fri",
          "Fri",
          "Fri",
          "Fri",
          "Fri",
          "Fri",
          "Fri",
          "Fri",
          "Fri",
          "Fri",
          "Fri",
          "Fri",
          "Fri",
          "Fri",
          "Fri",
          "Fri",
          "Fri",
          "Fri",
          "Fri",
          "Fri",
          "Fri",
          "Fri",
          "Fri",
          "Fri",
          "Fri",
          "Fri",
          "Fri",
          "Fri",
          "Fri",
          "Fri",
          "Fri",
          "Fri",
          "Fri",
          "Fri",
          "Fri",
          "Fri",
          "Fri",
          "Fri",
          "Fri",
          "Fri",
          "Fri",
          "Fri",
          "Fri",
          "Fri",
          "Fri",
          "Fri",
          "Fri",
          "Fri",
          "Fri",
          "Fri",
          "Fri",
          "Fri",
          "Fri",
          "Fri",
          "Fri",
          "Fri",
          "Fri",
          "Fri",
          "Fri",
          "Fri",
          "Fri",
          "Fri",
          "Fri",
          "Fri",
          "Fri",
          "Fri",
          "Fri",
          "Fri",
          "Fri",
          "Fri",
          "Fri",
          "Fri",
          "Fri",
          "Fri",
          "Fri",
          "Fri",
          "Fri",
          "Fri",
          "Fri",
          "Fri",
          "Fri",
          "Fri",
          "Fri",
          "Fri",
          "Fri",
          "Fri",
          "Fri",
          "Fri",
          "Fri",
          "Fri",
          "Fri",
          "Fri",
          "Fri",
          "Fri",
          "Fri",
          "Fri",
          "Fri",
          "Fri",
          "Fri",
          "Fri",
          "Fri",
          "Fri",
          "Fri",
          "Fri",
          "Fri",
          "Fri",
          "Fri",
          "Fri",
          "Fri",
          "Fri",
          "Fri",
          "Fri",
          "Fri",
          "Fri",
          "Fri",
          "Fri",
          "Fri",
          "Fri",
          "Fri",
          "Fri",
          "Fri",
          "Fri",
          "Fri",
          "Fri",
          "Fri",
          "Fri",
          "Fri",
          "Fri",
          "Fri",
          "Fri",
          "Fri",
          "Fri",
          "Fri",
          "Fri",
          "Fri",
          "Fri",
          "Fri",
          "Fri",
          "Fri",
          "Fri",
          "Fri",
          "Fri",
          "Fri",
          "Fri",
          "Fri",
          "Fri",
          "Fri",
          "Fri",
          "Fri",
          "Fri",
          "Fri",
          "Fri",
          "Fri",
          "Fri",
          "Fri",
          "Fri",
          "Fri",
          "Fri",
          "Fri",
          "Fri",
          "Fri",
          "Fri",
          "Fri",
          "Fri",
          "Fri",
          "Fri",
          "Fri",
          "Fri",
          "Fri",
          "Fri",
          "Fri",
          "Fri",
          "Fri",
          "Fri",
          "Fri",
          "Fri",
          "Fri",
          "Fri",
          "Fri",
          "Fri",
          "Fri",
          "Fri",
          "Fri",
          "Fri",
          "Fri",
          "Fri",
          "Fri",
          "Fri",
          "Fri",
          "Fri",
          "Fri",
          "Fri",
          "Fri",
          "Fri",
          "Fri",
          "Fri",
          "Fri",
          "Fri",
          "Fri",
          "Fri",
          "Fri",
          "Fri",
          "Fri",
          "Fri",
          "Fri",
          "Fri",
          "Fri",
          "Fri",
          "Fri",
          "Fri",
          "Fri",
          "Fri",
          "Fri",
          "Fri",
          "Fri",
          "Fri",
          "Fri",
          "Fri",
          "Fri",
          "Fri",
          "Fri",
          "Fri",
          "Fri",
          "Fri",
          "Fri",
          "Fri",
          "Fri",
          "Fri",
          "Fri",
          "Fri",
          "Fri",
          "Fri",
          "Fri",
          "Fri",
          "Fri",
          "Fri",
          "Fri",
          "Fri",
          "Fri",
          "Fri",
          "Fri",
          "Fri",
          "Fri",
          "Fri",
          "Fri",
          "Fri",
          "Fri",
          "Fri",
          "Fri",
          "Fri",
          "Fri",
          "Fri",
          "Fri",
          "Fri",
          "Fri",
          "Fri",
          "Fri",
          "Fri",
          "Fri",
          "Fri",
          "Fri",
          "Fri",
          "Fri",
          "Fri",
          "Fri",
          "Fri",
          "Fri",
          "Fri",
          "Fri",
          "Fri",
          "Fri",
          "Fri",
          "Fri",
          "Fri",
          "Fri",
          "Fri",
          "Fri",
          "Fri",
          "Fri",
          "Fri",
          "Fri",
          "Fri",
          "Fri",
          "Fri",
          "Fri",
          "Fri",
          "Fri",
          "Fri",
          "Fri",
          "Fri",
          "Fri",
          "Fri",
          "Fri",
          "Fri",
          "Fri",
          "Fri",
          "Fri",
          "Fri",
          "Fri",
          "Fri",
          "Fri",
          "Fri",
          "Fri",
          "Fri",
          "Fri",
          "Fri",
          "Fri",
          "Fri",
          "Fri",
          "Fri",
          "Fri",
          "Fri",
          "Fri",
          "Fri",
          "Fri",
          "Fri",
          "Fri",
          "Fri",
          "Fri",
          "Fri",
          "Fri",
          "Fri",
          "Fri",
          "Fri",
          "Fri",
          "Fri",
          "Fri",
          "Fri",
          "Fri",
          "Fri",
          "Fri",
          "Fri",
          "Fri",
          "Fri"
         ],
         "x0": " ",
         "xaxis": "x",
         "y": {
          "bdata": "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",
          "dtype": "f8"
         },
         "y0": " ",
         "yaxis": "y"
        },
        {
         "alignmentgroup": "True",
         "boxpoints": "all",
         "hovertemplate": "weekday=%{x}<br>kwhTotal=%{y}<extra></extra>",
         "legendgroup": "Sat",
         "marker": {
          "color": "rgb(255,217,47)"
         },
         "name": "Sat",
         "notched": false,
         "offsetgroup": "Sat",
         "orientation": "v",
         "showlegend": true,
         "type": "box",
         "x": [
          "Sat",
          "Sat",
          "Sat",
          "Sat",
          "Sat",
          "Sat",
          "Sat",
          "Sat",
          "Sat",
          "Sat",
          "Sat",
          "Sat",
          "Sat",
          "Sat",
          "Sat",
          "Sat",
          "Sat",
          "Sat",
          "Sat",
          "Sat",
          "Sat",
          "Sat",
          "Sat",
          "Sat",
          "Sat",
          "Sat",
          "Sat",
          "Sat",
          "Sat",
          "Sat",
          "Sat",
          "Sat",
          "Sat",
          "Sat",
          "Sat",
          "Sat",
          "Sat",
          "Sat",
          "Sat",
          "Sat",
          "Sat",
          "Sat",
          "Sat",
          "Sat",
          "Sat",
          "Sat",
          "Sat",
          "Sat",
          "Sat",
          "Sat",
          "Sat",
          "Sat",
          "Sat",
          "Sat",
          "Sat",
          "Sat",
          "Sat",
          "Sat",
          "Sat",
          "Sat",
          "Sat",
          "Sat"
         ],
         "x0": " ",
         "xaxis": "x",
         "y": {
          "bdata": "KVyPwvUoCEAAAAAAAEAxQJqZmZmZWTJArkfhehQuJ0CkcD0K1yM2QGZmZmZmJjJAH4XrUbheNECuR+F6FK43QFK4HoXrUcg/AAAAAAAAAAC4HoXrUbgeQEjhehSuRxtAuB6F61G4GkDD9Shcj8L9P3sUrkfhehRA7FG4HoXrFUDhehSuR+EaQLgehetRuBlA4XoUrkfh9j8zMzMzMzMbQClcj8L1KBtACtejcD0K/z/sUbgehesaQGZmZmZmZvY/zczMzMzMGkA9CtejcD0MQOF6FK5H4RRAw/UoXI/CG0CuR+F6FK4ZQHsUrkfhegJAzczMzMzMFkDhehSuR+EMQMP1KFyPwhpA4XoUrkfhFUBcj8L1KFwLQB+F61G4HgdA7FG4HoXrGkB7FK5H4XoAQM3MzMzMzBhA7FG4HoXr8T+kcD0K16MdQKRwPQrXo/g/pHA9CtejHkAUrkfhehQVQAAAAAAAABJArkfhehSuFkDD9Shcj8IeQLgehetRuBNASOF6FK5H8T9SuB6F61EYQI/C9ShcjxtAexSuR+F6G0BI4XoUrkcbQPYoXI/C9RpA4XoUrkfh2j/2KFyPwvX0P8P1KFyPwhJAAAAAAAAAGkDsUbgehesNQFK4HoXrURtAKVyPwvUoEECF61G4HoUZQA==",
          "dtype": "f8"
         },
         "y0": " ",
         "yaxis": "y"
        },
        {
         "alignmentgroup": "True",
         "boxpoints": "all",
         "hovertemplate": "weekday=%{x}<br>kwhTotal=%{y}<extra></extra>",
         "legendgroup": "Sun",
         "marker": {
          "color": "rgb(229,196,148)"
         },
         "name": "Sun",
         "notched": false,
         "offsetgroup": "Sun",
         "orientation": "v",
         "showlegend": true,
         "type": "box",
         "x": [
          "Sun",
          "Sun",
          "Sun",
          "Sun",
          "Sun",
          "Sun",
          "Sun",
          "Sun",
          "Sun",
          "Sun",
          "Sun",
          "Sun",
          "Sun",
          "Sun",
          "Sun",
          "Sun",
          "Sun",
          "Sun",
          "Sun",
          "Sun",
          "Sun",
          "Sun",
          "Sun",
          "Sun"
         ],
         "x0": " ",
         "xaxis": "x",
         "y": {
          "bdata": "KVyPwvWoIUC4HoXrUbgnQDMzMzMzszJAFK5H4XqUIEApXI/C9agmQB+F61G4XjRAUrgehevRKUBcj8L1KNwnQMP1KFyPQiVAj8L1KFyPGkAUrkfhehQCQK5H4XoUrhtAAAAAAAAAE0ApXI/C9SgEQClcj8L1KARAFK5H4XqUIEAUrkfhehQTQBSuR+F6FBNA7FG4HoXrDUAK16NwPQoHQBSuR+F6FAxAZmZmZmZmAkAzMzMzMzMaQKRwPQrXoxdA",
          "dtype": "f8"
         },
         "y0": " ",
         "yaxis": "y"
        }
       ],
       "layout": {
        "boxmode": "overlay",
        "height": 500,
        "legend": {
         "title": {
          "text": "weekday"
         },
         "tracegroupgap": 0
        },
        "margin": {
         "t": 60
        },
        "template": {
         "data": {
          "candlestick": [
           {
            "decreasing": {
             "line": {
              "color": "#000033"
             }
            },
            "increasing": {
             "line": {
              "color": "#000032"
             }
            },
            "type": "candlestick"
           }
          ],
          "contour": [
           {
            "colorscale": [
             [
              0,
              "#000011"
             ],
             [
              0.1111111111111111,
              "#000012"
             ],
             [
              0.2222222222222222,
              "#000013"
             ],
             [
              0.3333333333333333,
              "#000014"
             ],
             [
              0.4444444444444444,
              "#000015"
             ],
             [
              0.5555555555555556,
              "#000016"
             ],
             [
              0.6666666666666666,
              "#000017"
             ],
             [
              0.7777777777777778,
              "#000018"
             ],
             [
              0.8888888888888888,
              "#000019"
             ],
             [
              1,
              "#000020"
             ]
            ],
            "type": "contour"
           }
          ],
          "contourcarpet": [
           {
            "colorscale": [
             [
              0,
              "#000011"
             ],
             [
              0.1111111111111111,
              "#000012"
             ],
             [
              0.2222222222222222,
              "#000013"
             ],
             [
              0.3333333333333333,
              "#000014"
             ],
             [
              0.4444444444444444,
              "#000015"
             ],
             [
              0.5555555555555556,
              "#000016"
             ],
             [
              0.6666666666666666,
              "#000017"
             ],
             [
              0.7777777777777778,
              "#000018"
             ],
             [
              0.8888888888888888,
              "#000019"
             ],
             [
              1,
              "#000020"
             ]
            ],
            "type": "contourcarpet"
           }
          ],
          "heatmap": [
           {
            "colorscale": [
             [
              0,
              "#000011"
             ],
             [
              0.1111111111111111,
              "#000012"
             ],
             [
              0.2222222222222222,
              "#000013"
             ],
             [
              0.3333333333333333,
              "#000014"
             ],
             [
              0.4444444444444444,
              "#000015"
             ],
             [
              0.5555555555555556,
              "#000016"
             ],
             [
              0.6666666666666666,
              "#000017"
             ],
             [
              0.7777777777777778,
              "#000018"
             ],
             [
              0.8888888888888888,
              "#000019"
             ],
             [
              1,
              "#000020"
             ]
            ],
            "type": "heatmap"
           }
          ],
          "histogram2d": [
           {
            "colorscale": [
             [
              0,
              "#000011"
             ],
             [
              0.1111111111111111,
              "#000012"
             ],
             [
              0.2222222222222222,
              "#000013"
             ],
             [
              0.3333333333333333,
              "#000014"
             ],
             [
              0.4444444444444444,
              "#000015"
             ],
             [
              0.5555555555555556,
              "#000016"
             ],
             [
              0.6666666666666666,
              "#000017"
             ],
             [
              0.7777777777777778,
              "#000018"
             ],
             [
              0.8888888888888888,
              "#000019"
             ],
             [
              1,
              "#000020"
             ]
            ],
            "type": "histogram2d"
           }
          ],
          "icicle": [
           {
            "textfont": {
             "color": "white"
            },
            "type": "icicle"
           }
          ],
          "sankey": [
           {
            "textfont": {
             "color": "#000036"
            },
            "type": "sankey"
           }
          ],
          "scatter": [
           {
            "marker": {
             "line": {
              "width": 0
             }
            },
            "type": "scatter"
           }
          ],
          "table": [
           {
            "cells": {
             "fill": {
              "color": "#000038"
             },
             "font": {
              "color": "#000037"
             },
             "line": {
              "color": "#000039"
             }
            },
            "header": {
             "fill": {
              "color": "#000040"
             },
             "font": {
              "color": "#000036"
             },
             "line": {
              "color": "#000039"
             }
            },
            "type": "table"
           }
          ],
          "waterfall": [
           {
            "connector": {
             "line": {
              "color": "#000036",
              "width": 2
             }
            },
            "decreasing": {
             "marker": {
              "color": "#000033"
             }
            },
            "increasing": {
             "marker": {
              "color": "#000032"
             }
            },
            "totals": {
             "marker": {
              "color": "#000034"
             }
            },
            "type": "waterfall"
           }
          ]
         },
         "layout": {
          "coloraxis": {
           "colorscale": [
            [
             0,
             "#000011"
            ],
            [
             0.1111111111111111,
             "#000012"
            ],
            [
             0.2222222222222222,
             "#000013"
            ],
            [
             0.3333333333333333,
             "#000014"
            ],
            [
             0.4444444444444444,
             "#000015"
            ],
            [
             0.5555555555555556,
             "#000016"
            ],
            [
             0.6666666666666666,
             "#000017"
            ],
            [
             0.7777777777777778,
             "#000018"
            ],
            [
             0.8888888888888888,
             "#000019"
            ],
            [
             1,
             "#000020"
            ]
           ]
          },
          "colorscale": {
           "diverging": [
            [
             0,
             "#000021"
            ],
            [
             0.1,
             "#000022"
            ],
            [
             0.2,
             "#000023"
            ],
            [
             0.3,
             "#000024"
            ],
            [
             0.4,
             "#000025"
            ],
            [
             0.5,
             "#000026"
            ],
            [
             0.6,
             "#000027"
            ],
            [
             0.7,
             "#000028"
            ],
            [
             0.8,
             "#000029"
            ],
            [
             0.9,
             "#000030"
            ],
            [
             1,
             "#000031"
            ]
           ],
           "sequential": [
            [
             0,
             "#000011"
            ],
            [
             0.1111111111111111,
             "#000012"
            ],
            [
             0.2222222222222222,
             "#000013"
            ],
            [
             0.3333333333333333,
             "#000014"
            ],
            [
             0.4444444444444444,
             "#000015"
            ],
            [
             0.5555555555555556,
             "#000016"
            ],
            [
             0.6666666666666666,
             "#000017"
            ],
            [
             0.7777777777777778,
             "#000018"
            ],
            [
             0.8888888888888888,
             "#000019"
            ],
            [
             1,
             "#000020"
            ]
           ],
           "sequentialminus": [
            [
             0,
             "#000011"
            ],
            [
             0.1111111111111111,
             "#000012"
            ],
            [
             0.2222222222222222,
             "#000013"
            ],
            [
             0.3333333333333333,
             "#000014"
            ],
            [
             0.4444444444444444,
             "#000015"
            ],
            [
             0.5555555555555556,
             "#000016"
            ],
            [
             0.6666666666666666,
             "#000017"
            ],
            [
             0.7777777777777778,
             "#000018"
            ],
            [
             0.8888888888888888,
             "#000019"
            ],
            [
             1,
             "#000020"
            ]
           ]
          },
          "colorway": [
           "#000001",
           "#000002",
           "#000003",
           "#000004",
           "#000005",
           "#000006",
           "#000007",
           "#000008",
           "#000009",
           "#000010"
          ]
         }
        },
        "width": 500,
        "xaxis": {
         "anchor": "y",
         "categoryarray": [
          "Mon",
          "Tue",
          "Wed",
          "Thu",
          "Fri",
          "Sat",
          "Sun"
         ],
         "categoryorder": "array",
         "domain": [
          0,
          1
         ],
         "title": {
          "text": "weekday"
         }
        },
        "yaxis": {
         "anchor": "x",
         "domain": [
          0,
          1
         ],
         "title": {
          "text": "kwhTotal"
         }
        }
       }
      }
     },
     "metadata": {},
     "output_type": "display_data"
    }
   ],
   "source": [
    "# plotly boxplot\n",
    "px.box(\n",
    "    data_frame=ev_df, x='weekday', y='kwhTotal',\n",
    "    width=500, height=500, points='all', category_orders=weekday_order,  color='weekday',          \n",
    "    color_discrete_sequence=px.colors.qualitative.Set2\n",
    ")"
   ]
  },
  {
   "cell_type": "markdown",
   "id": "1f7d29c5",
   "metadata": {},
   "source": [
    "# 바이올린플롯 \n",
    "박스플롯 + 전체 분포 모양 density 확인\n",
    "중앙값 + 어디에 많이 몰려있나 피크가 어디인가?"
   ]
  },
  {
   "cell_type": "code",
   "execution_count": 55,
   "id": "2fabe6a5",
   "metadata": {},
   "outputs": [
    {
     "data": {
      "text/plain": [
       "<Axes: xlabel='size', ylabel='tip'>"
      ]
     },
     "execution_count": 55,
     "metadata": {},
     "output_type": "execute_result"
    },
    {
     "data": {
      "image/png": "[encoded data removed]",
      "text/plain": [
       "<Figure size 640x480 with 1 Axes>"
      ]
     },
     "metadata": {},
     "output_type": "display_data"
    }
   ],
   "source": [
    "sns.boxplot(x='size', y='tip', data = tip_df)"
   ]
  },
  {
   "cell_type": "code",
   "execution_count": 56,
   "id": "5dde4aee",
   "metadata": {},
   "outputs": [
    {
     "data": {
      "text/plain": [
       "<Axes: xlabel='size', ylabel='tip'>"
      ]
     },
     "execution_count": 56,
     "metadata": {},
     "output_type": "execute_result"
    },
    {
     "data": {
      "image/png": "[encoded data removed]",
      "text/plain": [
       "<Figure size 640x480 with 1 Axes>"
      ]
     },
     "metadata": {},
     "output_type": "display_data"
    }
   ],
   "source": [
    "sns.violinplot(x='size', y='tip', data = tip_df)"
   ]
  },
  {
   "cell_type": "markdown",
   "id": "93c067cf",
   "metadata": {},
   "source": [
    "## barplot \n",
    "직선으로 오차구간 : 에러바가 클수록 변동성이 크다 \n",
    "막대의 크기 차이가 크지 않다 > 거의 비슷하다, 평균의 차이가 유믜미하지 않다.\n",
    "추가 분석 필요 - 단일 변수로 설명력이 부족/ 총액, 시간대, 성별들"
   ]
  },
  {
   "cell_type": "code",
   "execution_count": 58,
   "id": "71cf205f",
   "metadata": {},
   "outputs": [
    {
     "data": {
      "text/plain": [
       "<Axes: xlabel='size', ylabel='tip'>"
      ]
     },
     "execution_count": 58,
     "metadata": {},
     "output_type": "execute_result"
    },
    {
     "data": {
      "image/png": "[encoded data removed]",
      "text/plain": [
       "<Figure size 640x480 with 1 Axes>"
      ]
     },
     "metadata": {},
     "output_type": "display_data"
    }
   ],
   "source": [
    "sns.barplot(x='size', y='tip', data = tip_df)"
   ]
  },
  {
   "cell_type": "markdown",
   "id": "85147f07",
   "metadata": {},
   "source": [
    "# hist\n",
    "연속형, 수치형 "
   ]
  },
  {
   "cell_type": "code",
   "execution_count": null,
   "id": "fe97610a",
   "metadata": {},
   "outputs": [],
   "source": []
  },
  {
   "cell_type": "markdown",
   "id": "c1be4247",
   "metadata": {},
   "source": [
    "# countplot\n",
    "범주형 변수의 빈도수를 표현하는 차트 "
   ]
  },
  {
   "cell_type": "code",
   "execution_count": 60,
   "id": "5e90519b",
   "metadata": {},
   "outputs": [
    {
     "data": {
      "text/plain": [
       "<Axes: xlabel='day', ylabel='count'>"
      ]
     },
     "execution_count": 60,
     "metadata": {},
     "output_type": "execute_result"
    },
    {
     "data": {
      "image/png": "[encoded data removed]",
      "text/plain": [
       "<Figure size 640x480 with 1 Axes>"
      ]
     },
     "metadata": {},
     "output_type": "display_data"
    }
   ],
   "source": [
    "sns.countplot(x=tip_df['day'])"
   ]
  },
  {
   "cell_type": "markdown",
   "id": "38fde812",
   "metadata": {},
   "source": [
    "# pointplot\n",
    "에러바가 추가된 line 차트 "
   ]
  },
  {
   "cell_type": "code",
   "execution_count": null,
   "id": "0fd5f5d7",
   "metadata": {},
   "outputs": [],
   "source": []
  }
 ],
 "metadata": {
  "kernelspec": {
   "display_name": "streamlit_env",
   "language": "python",
   "name": "python3"
  },
  "language_info": {
   "codemirror_mode": {
    "name": "ipython",
    "version": 3
   },
   "file_extension": ".py",
   "mimetype": "text/x-python",
   "name": "python",
   "nbconvert_exporter": "python",
   "pygments_lexer": "ipython3",
   "version": "3.9.23"
  }
 },
 "nbformat": 4,
 "nbformat_minor": 5
}
