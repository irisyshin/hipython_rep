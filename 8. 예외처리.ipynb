{
 "cells": [
  {
   "cell_type": "markdown",
   "id": "72c779f4-014b-432f-99dd-fd51dd40e841",
   "metadata": {},
   "source": [
    "# 예외의 종류\n",
    "\n",
    "1. 문법오류: SyntaxError, NameError, TypeError\n",
    "2. 논리오류: \n",
    "3. 예외상황"
   ]
  },
  {
   "cell_type": "markdown",
   "id": "e94892ba-3a3e-4061-afca-5bf70495e4b1",
   "metadata": {},
   "source": [
    "try:\n",
    "except\n",
    "10/0"
   ]
  },
  {
   "cell_type": "code",
   "execution_count": 6,
   "id": "ad5626a8-5ea8-4159-aa83-2a8a22d3e6d7",
   "metadata": {},
   "outputs": [],
   "source": [
    "#10/0 ZeroDivisionError                         "
   ]
  },
  {
   "cell_type": "code",
   "execution_count": 10,
   "id": "c41179fb-55ea-44cf-8c1c-59ffbd4ae465",
   "metadata": {},
   "outputs": [],
   "source": [
    "def divide(m, n):\n",
    "    return m/n"
   ]
  },
  {
   "cell_type": "code",
   "execution_count": 20,
   "id": "c737edc4-23eb-4b25-a78b-6c3e45b0cedd",
   "metadata": {},
   "outputs": [
    {
     "name": "stdout",
     "output_type": "stream",
     "text": [
      "0으로 나눌 수 없습니다. \n"
     ]
    }
   ],
   "source": [
    "result = divide(3,0)"
   ]
  },
  {
   "cell_type": "code",
   "execution_count": 24,
   "id": "61e255be-1904-4416-8bf6-fb567cd86e2c",
   "metadata": {},
   "outputs": [],
   "source": [
    "def divide(m, n):\n",
    "    try:\n",
    "        result = m/n\n",
    "        return result\n",
    "    except (ZeroDivisionError, ValueError):\n",
    "        print('0으로 나눌 수 없습니다. ')\n",
    "        return None\n",
    "    except : # 나머지 모든 에러 받기\n",
    "        print('다른 에러를 발견했습니다.')\n",
    "    return None"
   ]
  },
  {
   "cell_type": "code",
   "execution_count": 22,
   "id": "d7731f74-540a-40d2-aa31-39bb423fba91",
   "metadata": {},
   "outputs": [
    {
     "name": "stdout",
     "output_type": "stream",
     "text": [
      "정수로 변환할 수 없습니다.\n"
     ]
    }
   ],
   "source": [
    "try:\n",
    "    n = int(\"abc\")\n",
    "except ValueError:\n",
    "    print(\"정수로 변환할 수 없습니다.\")\n",
    "finally = print('0으로 나눌 수 없습니다.')"
   ]
  },
  {
   "cell_type": "code",
   "execution_count": 25,
   "id": "6615d7a1-1797-492e-96d7-31b3cb2af145",
   "metadata": {},
   "outputs": [],
   "source": [
    "# 예외 발생 시키기 "
   ]
  },
  {
   "cell_type": "code",
   "execution_count": 26,
   "id": "992b94b9-2fef-48f6-b322-a12e88828319",
   "metadata": {},
   "outputs": [
    {
     "ename": "TypeError",
     "evalue": "",
     "output_type": "error",
     "traceback": [
      "\u001b[31m---------------------------------------------------------------------------\u001b[39m",
      "\u001b[31mTypeError\u001b[39m                                 Traceback (most recent call last)",
      "\u001b[36mCell\u001b[39m\u001b[36m \u001b[39m\u001b[32mIn[26]\u001b[39m\u001b[32m, line 1\u001b[39m\n\u001b[32m----> \u001b[39m\u001b[32m1\u001b[39m \u001b[38;5;28;01mraise\u001b[39;00m \u001b[38;5;167;01mTypeError\u001b[39;00m\n",
      "\u001b[31mTypeError\u001b[39m: "
     ]
    }
   ],
   "source": [
    "raise TypeError"
   ]
  },
  {
   "cell_type": "code",
   "execution_count": 27,
   "id": "9e28a8b0-5614-4f3d-87de-bef2385371fc",
   "metadata": {},
   "outputs": [
    {
     "name": "stdout",
     "output_type": "stream",
     "text": [
      "('입력값 오류',)\n"
     ]
    }
   ],
   "source": [
    "try:\n",
    "    raise TypeError(\"입력값 오류\")\n",
    "except TypeError as e:\n",
    "    print(e.args)\n"
   ]
  },
  {
   "cell_type": "markdown",
   "id": "b5f503d8-68ac-47b6-9710-fe4adbf59071",
   "metadata": {},
   "source": [
    "# 내가 정의하는 예외\n",
    "\n",
    "1. 예외 클래스 작성 : 각 예외 상황에 맞는 메세지를 작성\n",
    "2. 호출할 때 try: except로 받아줍니다\n"
   ]
  },
  {
   "cell_type": "code",
   "execution_count": 43,
   "id": "9023bd34-7e93-4424-9068-9852c8da9865",
   "metadata": {},
   "outputs": [],
   "source": [
    "class AgeException(Exception):\n",
    "    def __init__(self,msg):\n",
    "        self._message = msg\n",
    "\n",
    "def input_age():\n",
    "    age = int(input(\"나이를 입력하세요 : \"))\n",
    "\n",
    "    if age < 0:\n",
    "        raise AgeException(\"나이는 음수입니다. \")\n",
    "    elif age >150:\n",
    "        raise AgeException(\"150세 이상???? \")\n",
    "    else:\n",
    "        return age"
   ]
  },
  {
   "cell_type": "code",
   "execution_count": 44,
   "id": "958912de-55e6-4127-b9ae-80318c1ccab7",
   "metadata": {},
   "outputs": [
    {
     "name": "stdin",
     "output_type": "stream",
     "text": [
      "나이를 입력하세요 :  258\n"
     ]
    },
    {
     "name": "stdout",
     "output_type": "stream",
     "text": [
      "150세 이상???? \n"
     ]
    }
   ],
   "source": [
    "try:\n",
    "    age = input_age()\n",
    "except AgeException as e:\n",
    "    print(e.args[0])\n",
    "\n",
    "else:\n",
    "    print(f'입력하신 나이는 {age}세 입니다.')"
   ]
  },
  {
   "cell_type": "code",
   "execution_count": null,
   "id": "c70ef667-4635-4af4-ab0e-ce9272c227ac",
   "metadata": {},
   "outputs": [],
   "source": []
  }
 ],
 "metadata": {
  "kernelspec": {
   "display_name": "Python 3 (ipykernel)",
   "language": "python",
   "name": "python3"
  },
  "language_info": {
   "codemirror_mode": {
    "name": "ipython",
    "version": 3
   },
   "file_extension": ".py",
   "mimetype": "text/x-python",
   "name": "python",
   "nbconvert_exporter": "python",
   "pygments_lexer": "ipython3",
   "version": "3.12.1"
  }
 },
 "nbformat": 4,
 "nbformat_minor": 5
}
