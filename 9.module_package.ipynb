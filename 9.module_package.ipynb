{
 "cells": [
  {
   "cell_type": "markdown",
   "id": "491bd3c5-2388-4aa1-84a3-66d892afe89d",
   "metadata": {},
   "source": [
    "모듈은 파이썬 파일이다. 확장자가 '.py' 여야 한다"
   ]
  },
  {
   "cell_type": "code",
   "execution_count": 7,
   "id": "c1682765-c523-4adc-8a21-4cfed24ba8b6",
   "metadata": {},
   "outputs": [
    {
     "name": "stdout",
     "output_type": "stream",
     "text": [
      "hello\n",
      "2nd hello\n"
     ]
    }
   ],
   "source": [
    "import first \n",
    "\n",
    "first.my_func()\n",
    "first.my_func1()"
   ]
  },
  {
   "cell_type": "code",
   "execution_count": 8,
   "id": "a47cbab6-2dd2-44c3-a815-6a35e1c5997a",
   "metadata": {},
   "outputs": [
    {
     "name": "stdout",
     "output_type": "stream",
     "text": [
      "hello\n",
      "2nd hello\n",
      "3rd hello\n"
     ]
    }
   ],
   "source": [
    "import first as fr\n",
    "\n",
    "fr.my_func()\n",
    "fr.my_func1()\n",
    "fr.my_func2()"
   ]
  },
  {
   "cell_type": "code",
   "execution_count": 9,
   "id": "728dd8d5-2d70-44f9-bbeb-7b0417d1e477",
   "metadata": {},
   "outputs": [
    {
     "name": "stdout",
     "output_type": "stream",
     "text": [
      "hello\n"
     ]
    }
   ],
   "source": [
    "import first\n",
    "\n",
    "first.my_func()"
   ]
  },
  {
   "cell_type": "code",
   "execution_count": 10,
   "id": "64414750-f8c9-43da-985b-9123e6f7cdc1",
   "metadata": {},
   "outputs": [
    {
     "data": {
      "text/plain": [
       "['__annotations__',\n",
       " '__builtins__',\n",
       " '__call__',\n",
       " '__class__',\n",
       " '__closure__',\n",
       " '__code__',\n",
       " '__defaults__',\n",
       " '__delattr__',\n",
       " '__dict__',\n",
       " '__dir__',\n",
       " '__doc__',\n",
       " '__eq__',\n",
       " '__format__',\n",
       " '__ge__',\n",
       " '__get__',\n",
       " '__getattribute__',\n",
       " '__getstate__',\n",
       " '__globals__',\n",
       " '__gt__',\n",
       " '__hash__',\n",
       " '__init__',\n",
       " '__init_subclass__',\n",
       " '__kwdefaults__',\n",
       " '__le__',\n",
       " '__lt__',\n",
       " '__module__',\n",
       " '__name__',\n",
       " '__ne__',\n",
       " '__new__',\n",
       " '__qualname__',\n",
       " '__reduce__',\n",
       " '__reduce_ex__',\n",
       " '__repr__',\n",
       " '__setattr__',\n",
       " '__sizeof__',\n",
       " '__str__',\n",
       " '__subclasshook__',\n",
       " '__type_params__']"
      ]
     },
     "execution_count": 10,
     "metadata": {},
     "output_type": "execute_result"
    }
   ],
   "source": [
    "dir(my_func)"
   ]
  },
  {
   "cell_type": "markdown",
   "id": "ddb67788-14da-4d6a-a8be-e6e8e7f25375",
   "metadata": {},
   "source": [
    "# 모듈의 실행 vs 모듈의 import 구분   \n",
    "\n",
    "- 모듈 단독 실행시에만 호출되는 코드   \n",
    "if __name__ == '__main__' :   \n",
    "    실행함수      \n",
    "else:   \n",
    "    변수 설정    \n",
    "\n",
    "- import할때는 실행되지 않는다"
   ]
  },
  {
   "cell_type": "markdown",
   "id": "e5cfa402-6b9a-4e7b-bb0e-37820d5a8a09",
   "metadata": {},
   "source": [
    "# 패키지 : 모듈의 묶음   \n",
    "\n",
    "윈도우, 리눅스: 디렉토리/폴더   \n",
    "\n",
    "import 폴더명.모듈명\n"
   ]
  },
  {
   "cell_type": "code",
   "execution_count": 10,
   "id": "477a8435-3e7e-4111-bbaa-e6081a93a5eb",
   "metadata": {},
   "outputs": [],
   "source": [
    "import first"
   ]
  },
  {
   "cell_type": "code",
   "execution_count": null,
   "id": "35973409-c850-4e30-b98e-b173203e39c0",
   "metadata": {},
   "outputs": [],
   "source": []
  },
  {
   "cell_type": "code",
   "execution_count": null,
   "id": "506639d8-5154-4d03-8e61-83f78ffc90dc",
   "metadata": {},
   "outputs": [],
   "source": []
  }
 ],
 "metadata": {
  "kernelspec": {
   "display_name": "Python 3 (ipykernel)",
   "language": "python",
   "name": "python3"
  },
  "language_info": {
   "codemirror_mode": {
    "name": "ipython",
    "version": 3
   },
   "file_extension": ".py",
   "mimetype": "text/x-python",
   "name": "python",
   "nbconvert_exporter": "python",
   "pygments_lexer": "ipython3",
   "version": "3.12.1"
  }
 },
 "nbformat": 4,
 "nbformat_minor": 5
}
