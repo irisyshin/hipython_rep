{
 "cells": [
  {
   "cell_type": "code",
   "execution_count": 1,
   "id": "b9628faa-5d6f-43ef-9c91-bbaecea7635f",
   "metadata": {},
   "outputs": [
    {
     "name": "stdout",
     "output_type": "stream",
     "text": [
      "hello im init.py\n",
      "15\n"
     ]
    }
   ],
   "source": [
    "#방법1\n",
    "import magic_calc\n",
    "\n",
    "result_add = magic_calc.basic_ops.add(10,5)\n",
    "print(result_add)\n"
   ]
  },
  {
   "cell_type": "code",
   "execution_count": 2,
   "id": "8364dba9-3b97-47d9-b213-9cb76d1c1f9c",
   "metadata": {},
   "outputs": [
    {
     "data": {
      "text/plain": [
       "100000"
      ]
     },
     "execution_count": 2,
     "metadata": {},
     "output_type": "execute_result"
    }
   ],
   "source": [
    "import magic_calc.advanced_ops as adops\n",
    "\n",
    "adops.power(10,5)"
   ]
  },
  {
   "cell_type": "code",
   "execution_count": 5,
   "id": "a0b2534c-e514-4d8a-9631-ae54db25de62",
   "metadata": {},
   "outputs": [
    {
     "name": "stdout",
     "output_type": "stream",
     "text": [
      "70\n"
     ]
    }
   ],
   "source": [
    "#방법 2\n",
    "from magic_calc import basic_ops, advanced_ops\n",
    "result_sub = basic_ops.subtract(100,30)\n",
    "print(result_sub)"
   ]
  },
  {
   "cell_type": "code",
   "execution_count": 9,
   "id": "93e3beeb-ad8a-4f74-b3c4-cea6244e2f50",
   "metadata": {},
   "outputs": [
    {
     "name": "stdout",
     "output_type": "stream",
     "text": [
      "--- 방법 3: multipy, divide, power 직접 사용 ---\n",
      "multiply : 56, divide : 3.0, power : 8\n"
     ]
    }
   ],
   "source": [
    "#방법3\n",
    "from magic_calc.basic_ops import multiply, divide\n",
    "from magic_calc.advanced_ops import power\n",
    "\n",
    "print('--- 방법 3: multipy, divide, power 직접 사용 ---')\n",
    "result_mul = multiply(7,8)\n",
    "result_div = divide(6,2)\n",
    "result_power = power(2,3)\n",
    "print(f'multiply : {result_mul}, divide : {result_div}, power : {result_power}')"
   ]
  },
  {
   "cell_type": "code",
   "execution_count": null,
   "id": "6f3cfff1-9a93-429b-acab-bf182aabb35c",
   "metadata": {},
   "outputs": [],
   "source": []
  }
 ],
 "metadata": {
  "kernelspec": {
   "display_name": "Python 3 (ipykernel)",
   "language": "python",
   "name": "python3"
  },
  "language_info": {
   "codemirror_mode": {
    "name": "ipython",
    "version": 3
   },
   "file_extension": ".py",
   "mimetype": "text/x-python",
   "name": "python",
   "nbconvert_exporter": "python",
   "pygments_lexer": "ipython3",
   "version": "3.12.1"
  }
 },
 "nbformat": 4,
 "nbformat_minor": 5
}
