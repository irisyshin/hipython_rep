{
  "nbformat": 4,
  "nbformat_minor": 0,
  "metadata": {
    "colab": {
      "provenance": [],
      "authorship_tag": "ABX9TyMNqsgRGtScGMptJ2odx4eq",
      "include_colab_link": true
    },
    "kernelspec": {
      "name": "python3",
      "display_name": "Python 3"
    },
    "language_info": {
      "name": "python"
    }
  },
  "cells": [
    {
      "cell_type": "markdown",
      "metadata": {
        "id": "view-in-github",
        "colab_type": "text"
      },
      "source": [
        "<a href=\"https://colab.research.google.com/github/irisyshin/hipython_rep/blob/main/%EB%A8%B8%EC%8B%A0_%EB%94%A5%EB%9F%AC%EB%8B%9D.ipynb\" target=\"_parent\"><img src=\"https://colab.research.google.com/assets/colab-badge.svg\" alt=\"Open In Colab\"/></a>"
      ]
    },
    {
      "cell_type": "markdown",
      "source": [
        "#규칙 기반 프로그램 - 전통적인 방식의 AI"
      ],
      "metadata": {
        "id": "OaGP4-f0FVb3"
      }
    },
    {
      "cell_type": "code",
      "execution_count": null,
      "metadata": {
        "colab": {
          "base_uri": "https://localhost:8080/"
        },
        "id": "S_gCiAX6FLVV",
        "outputId": "9d202e47-125a-4c52-dfe9-f6a51f0c3f0e"
      },
      "outputs": [
        {
          "output_type": "stream",
          "name": "stdout",
          "text": [
            "숫자를 입력하세요 : 5\n",
            "32\n"
          ]
        }
      ],
      "source": [
        "def my_function(x):\n",
        "  return 5 * x + 7\n",
        "\n",
        "val = int(input('숫자를 입력하세요 : '))\n",
        "ret = my_function(val)\n",
        "print(ret)"
      ]
    },
    {
      "cell_type": "markdown",
      "source": [
        "# 머신러닝\n",
        "규칙이 아닌 모델을 선정\n",
        "모델: 데이터를 넣어준다 > 학습 fit()\n",
        "\n",
        "모델: 값을 넣어 결과를 확인한다 > 예측 predict()"
      ],
      "metadata": {
        "id": "HGQEcFpJFhie"
      }
    },
    {
      "cell_type": "code",
      "source": [
        "import numpy\n",
        "from sklearn import linear_model\n",
        "\n",
        "#1. 데이터, 입력 값과 결과 값\n",
        "#입력 값 - 2차원임\n",
        "X_train = numpy.array([1, 2, 3, 4, 5, 6, 7]).reshape(-1,1)\n",
        "\n",
        "#결과 값 - 정답 1차원임, 입력을 넣었을 나올 정답 (5 * x + 7임을 알아차릴까?)\n",
        "y_train = numpy.array([12, 17, 22, 27, 32, 37, 42])\n",
        "\n",
        "#2. 기계학습의 가장 큰 특징 - 어떤 모델을 사용할 것인가 알려줘야 함\n",
        "model = linear_model.LinearRegression()\n",
        "\n",
        "#3. 학습\n",
        "model.fit(X_train, y_train)\n",
        "\n",
        "#4. 예측\n",
        "predict = model.predict([[9]])\n",
        "\n",
        "#예측한 결과 값\n",
        "print(predict)"
      ],
      "metadata": {
        "colab": {
          "base_uri": "https://localhost:8080/"
        },
        "id": "FVQt_EgGFgYX",
        "outputId": "10062625-0f79-46ea-ae5d-17700de58803"
      },
      "execution_count": null,
      "outputs": [
        {
          "output_type": "stream",
          "name": "stdout",
          "text": [
            "[52.]\n"
          ]
        }
      ]
    },
    {
      "cell_type": "markdown",
      "source": [
        "# 딥러닝\n",
        "모뎅이 정해져 있다.\n",
        "계층설정 : 입력, 은닉층, 출력\n",
        "모델 생성 (계층)\n",
        "모델 설정: compile\n"
      ],
      "metadata": {
        "id": "Z4wJRQ06Hlf-"
      }
    },
    {
      "cell_type": "code",
      "source": [
        "import tensorflow as tf\n",
        "\n",
        "#1. 데이터 지정\n",
        "X_train = numpy.array([1, 2, 3, 4, 5, 6, 7]).reshape(-1,1)\n",
        "y_train = numpy.array([12, 17, 22, 27, 32, 37, 42])\n",
        "\n",
        "#2. 모델 형태 지정\n",
        "inputs = tf.keras.layers.Input(shape=(1,))  #입력층 입력되는 값이 한 개임(1 dimension)\n",
        "outputs = tf.keras.layers.Dense(units=1)(inputs)  #출력층\n",
        "\n",
        "#모델 객체를 생성(특정 모델이 없음)\n",
        "model = tf.keras.models.Model(inputs, outputs)\n",
        "\n",
        "#loss 손실함수 -> MeanSquaredError, 최적화 함수(성능이 좋아짐) -> SGD\n",
        "model.compile(\n",
        "    loss = tf.keras.losses.MeanSquaredError(),ㅣ\n",
        "    optimizer = tf.keras.optimizers.SGD()\n",
        ")\n",
        "\n",
        "#3. 데이터 넣고 학습 시키기\n",
        "model.fit(X_train, y_train, epochs=1000, verbose=0)\n",
        "\n",
        "#4. 예측 epochs = 100 : '55.xx', 1000:52.xx\n",
        "predict = model.predict(numpy.array([[9]])) #예측값을 numpy 배열 2차원으로 변환\n",
        "\n",
        "#예측한 결과 값\n",
        "print(predict)"
      ],
      "metadata": {
        "colab": {
          "base_uri": "https://localhost:8080/"
        },
        "id": "BeYyPfw6Go64",
        "outputId": "0393a8c2-39cf-4d18-c770-c6fc6afd6853"
      },
      "execution_count": null,
      "outputs": [
        {
          "output_type": "stream",
          "name": "stdout",
          "text": [
            "\u001b[1m1/1\u001b[0m \u001b[32m━━━━━━━━━━━━━━━━━━━━\u001b[0m\u001b[37m\u001b[0m \u001b[1m0s\u001b[0m 71ms/step\n",
            "[[52.101265]]\n"
          ]
        }
      ]
    },
    {
      "cell_type": "markdown",
      "source": [
        "둘의 차이: class\n"
      ],
      "metadata": {
        "id": "dOg2iE6-Lt45"
      }
    },
    {
      "cell_type": "code",
      "source": [
        "머신러닝 -> 모델을 만들고  알고리즘은 모델이 어떻게 만들어지는지,,, 알기?"
      ],
      "metadata": {
        "id": "RMn-phz2LzmR"
      },
      "execution_count": null,
      "outputs": []
    }
  ]
}