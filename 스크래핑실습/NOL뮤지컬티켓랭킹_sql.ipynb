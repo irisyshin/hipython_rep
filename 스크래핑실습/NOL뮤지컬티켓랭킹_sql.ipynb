{
 "cells": [
  {
   "cell_type": "code",
   "execution_count": 1,
   "id": "00796fc7",
   "metadata": {},
   "outputs": [],
   "source": [
    "# 뮤지컬 csv, DB에 넣기"
   ]
  },
  {
   "cell_type": "code",
   "execution_count": 3,
   "id": "24b70858",
   "metadata": {},
   "outputs": [],
   "source": [
    "import pymysql\n",
    "import pandas as pd"
   ]
  },
  {
   "cell_type": "code",
   "execution_count": 9,
   "id": "5232bbcc",
   "metadata": {},
   "outputs": [
    {
     "name": "stdout",
     "output_type": "stream",
     "text": [
      "DB 저장 완료\n"
     ]
    }
   ],
   "source": [
    "# DB 연결\n",
    "conn = pymysql.connect(host='localhost', user='root', password='1234', db='스크랩핑실습', charset='utf8')\n",
    "cursor = conn.cursor()\n",
    "\n",
    "# 테이블 생성\n",
    "create_table_sql = '''\n",
    "CREATE TABLE IF NOT EXISTS musicals (\n",
    "    id INT AUTO_INCREMENT PRIMARY KEY,\n",
    "    `rank` INT,\n",
    "    title VARCHAR(255),\n",
    "    location VARCHAR(255),\n",
    "    reservation_rate FLOAT\n",
    ")\n",
    "'''\n",
    "\n",
    "cursor.execute(create_table_sql)\n",
    "conn.commit()\n",
    "import pandas as pd\n",
    "\n",
    "# CSV 파일 불러오기\n",
    "df = pd.read_csv('musicals_cleaned.csv')\n",
    "\n",
    "# INSERT 쿼리 정의\n",
    "insert_sql = '''\n",
    "INSERT INTO musicals (`rank`, title, location, reservation_rate)\n",
    "VALUES (%s, %s, %s, %s)\n",
    "'''\n",
    "\n",
    "for _, row in df.iterrows():\n",
    "    cursor.execute(insert_sql, (int(row['Rank']), row['Title'], row['Location'], float(row['ReservationRate'])))\n",
    "\n",
    "\n",
    "conn.commit()\n",
    "print(\"DB 저장 완료\")\n",
    "\n",
    "# 연결 종료\n",
    "cursor.close()\n",
    "conn.close()\n"
   ]
  },
  {
   "cell_type": "code",
   "execution_count": 7,
   "id": "74bee915",
   "metadata": {},
   "outputs": [
    {
     "name": "stdout",
     "output_type": "stream",
     "text": [
      "Index(['Rank', 'Title', 'Location', 'ReservationRate'], dtype='object')\n"
     ]
    }
   ],
   "source": [
    "df = pd.read_csv('musicals_cleaned.csv')\n",
    "print(df.columns)"
   ]
  }
 ],
 "metadata": {
  "kernelspec": {
   "display_name": "webcrawl_env",
   "language": "python",
   "name": "python3"
  },
  "language_info": {
   "codemirror_mode": {
    "name": "ipython",
    "version": 3
   },
   "file_extension": ".py",
   "mimetype": "text/x-python",
   "name": "python",
   "nbconvert_exporter": "python",
   "pygments_lexer": "ipython3",
   "version": "3.10.18"
  }
 },
 "nbformat": 4,
 "nbformat_minor": 5
}
