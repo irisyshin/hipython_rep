{
 "cells": [
  {
   "cell_type": "code",
   "execution_count": 1,
   "id": "e289c86e",
   "metadata": {},
   "outputs": [],
   "source": [
    "# DB에 연결"
   ]
  },
  {
   "cell_type": "code",
   "execution_count": 12,
   "id": "83e0951e",
   "metadata": {},
   "outputs": [
    {
     "name": "stdout",
     "output_type": "stream",
     "text": [
      "Collecting pymysql\n",
      "  Using cached PyMySQL-1.1.1-py3-none-any.whl.metadata (4.4 kB)\n",
      "Requirement already satisfied: pandas in c:\\users\\admin\\miniconda3\\envs\\webcrawl_env\\lib\\site-packages (2.3.1)\n",
      "Requirement already satisfied: numpy>=1.22.4 in c:\\users\\admin\\miniconda3\\envs\\webcrawl_env\\lib\\site-packages (from pandas) (2.2.6)\n",
      "Requirement already satisfied: python-dateutil>=2.8.2 in c:\\users\\admin\\miniconda3\\envs\\webcrawl_env\\lib\\site-packages (from pandas) (2.9.0.post0)\n",
      "Requirement already satisfied: pytz>=2020.1 in c:\\users\\admin\\miniconda3\\envs\\webcrawl_env\\lib\\site-packages (from pandas) (2025.2)\n",
      "Requirement already satisfied: tzdata>=2022.7 in c:\\users\\admin\\miniconda3\\envs\\webcrawl_env\\lib\\site-packages (from pandas) (2025.2)\n",
      "Requirement already satisfied: six>=1.5 in c:\\users\\admin\\miniconda3\\envs\\webcrawl_env\\lib\\site-packages (from python-dateutil>=2.8.2->pandas) (1.17.0)\n",
      "Using cached PyMySQL-1.1.1-py3-none-any.whl (44 kB)\n",
      "Installing collected packages: pymysql\n",
      "Successfully installed pymysql-1.1.1\n"
     ]
    }
   ],
   "source": [
    "!pip install pymysql pandas\n"
   ]
  },
  {
   "cell_type": "code",
   "execution_count": 13,
   "id": "8fd60659",
   "metadata": {},
   "outputs": [],
   "source": [
    "import pymysql"
   ]
  },
  {
   "cell_type": "code",
   "execution_count": 15,
   "id": "a426a93f",
   "metadata": {},
   "outputs": [
    {
     "name": "stdout",
     "output_type": "stream",
     "text": [
      "✔ DB 저장 완료\n"
     ]
    }
   ],
   "source": [
    "# DB 연결\n",
    "conn = pymysql.connect(host='localhost', user='root', password='1234', db='스크랩핑실습', charset='utf8')\n",
    "cursor = conn.cursor()\n",
    "\n",
    "# 테이블 생성\n",
    "create_table_sql = '''\n",
    "CREATE TABLE IF NOT EXISTS news (\n",
    "    id INT AUTO_INCREMENT PRIMARY KEY,\n",
    "    title TEXT,\n",
    "    content TEXT\n",
    ")\n",
    "'''\n",
    "cursor.execute(create_table_sql)\n",
    "conn.commit()\n",
    "import pandas as pd\n",
    "\n",
    "# CSV 파일 불러오기\n",
    "df = pd.read_csv('news.csv')\n",
    "\n",
    "# INSERT 쿼리 정의\n",
    "insert_sql = '''\n",
    "INSERT INTO news (title, content)\n",
    "VALUES (%s, %s)\n",
    "'''\n",
    "\n",
    "# 행 단위 삽입\n",
    "for _,row in df.iterrows():\n",
    "    cursor.execute(insert_sql, (row['title'], row['content']))\n",
    "\n",
    "conn.commit()\n",
    "print(\"DB 저장 완료\")\n",
    "\n",
    "# 연결 종료\n",
    "cursor.close()\n",
    "conn.close()\n"
   ]
  },
  {
   "cell_type": "code",
   "execution_count": null,
   "id": "4e88b238",
   "metadata": {},
   "outputs": [],
   "source": []
  }
 ],
 "metadata": {
  "kernelspec": {
   "display_name": "webcrawl_env",
   "language": "python",
   "name": "python3"
  },
  "language_info": {
   "codemirror_mode": {
    "name": "ipython",
    "version": 3
   },
   "file_extension": ".py",
   "mimetype": "text/x-python",
   "name": "python",
   "nbconvert_exporter": "python",
   "pygments_lexer": "ipython3",
   "version": "3.10.18"
  }
 },
 "nbformat": 4,
 "nbformat_minor": 5
}
