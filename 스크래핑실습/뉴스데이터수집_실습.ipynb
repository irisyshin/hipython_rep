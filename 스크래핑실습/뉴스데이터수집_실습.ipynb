{
 "cells": [
  {
   "cell_type": "markdown",
   "id": "fa73e73d",
   "metadata": {},
   "source": [
    "# 실습1_뉴스데이터 수집하기\n",
    "- RSS 피드: 웹사이트에 새로 올라오는 글이나 콘텐츠의 요약 정보를 자동으로 제공하는 데이터 포멧\n",
    "- 직접 사이트에 방문하지 않아도 새 소식을 한눈에 받아볼 수 있음\n",
    "- 뉴스 -> XML 문서 형식 -> xml 파서(lxml) 필요"
   ]
  },
  {
   "cell_type": "markdown",
   "id": "61fbb732",
   "metadata": {},
   "source": [
    "## SBS 스포츠 뉴스 데이터 수집하기"
   ]
  },
  {
   "cell_type": "code",
   "execution_count": 5,
   "id": "36bad185",
   "metadata": {},
   "outputs": [
    {
     "name": "stdout",
     "output_type": "stream",
     "text": [
      "Requirement already satisfied: lxml in c:\\users\\admin\\miniconda3\\envs\\webcrawl_env\\lib\\site-packages (6.0.0)\n",
      "Requirement already satisfied: pandas in c:\\users\\admin\\miniconda3\\envs\\webcrawl_env\\lib\\site-packages (2.3.1)\n",
      "Requirement already satisfied: numpy>=1.22.4 in c:\\users\\admin\\miniconda3\\envs\\webcrawl_env\\lib\\site-packages (from pandas) (2.2.6)\n",
      "Requirement already satisfied: python-dateutil>=2.8.2 in c:\\users\\admin\\miniconda3\\envs\\webcrawl_env\\lib\\site-packages (from pandas) (2.9.0.post0)\n",
      "Requirement already satisfied: pytz>=2020.1 in c:\\users\\admin\\miniconda3\\envs\\webcrawl_env\\lib\\site-packages (from pandas) (2025.2)\n",
      "Requirement already satisfied: tzdata>=2022.7 in c:\\users\\admin\\miniconda3\\envs\\webcrawl_env\\lib\\site-packages (from pandas) (2025.2)\n",
      "Requirement already satisfied: six>=1.5 in c:\\users\\admin\\miniconda3\\envs\\webcrawl_env\\lib\\site-packages (from python-dateutil>=2.8.2->pandas) (1.17.0)\n"
     ]
    }
   ],
   "source": [
    "# 필요 라이브러리 설치\n",
    "!pip install lxml\n",
    "!pip install pandas"
   ]
  },
  {
   "cell_type": "markdown",
   "id": "b626528e",
   "metadata": {},
   "source": [
    "프로그램 소스 정리\n",
    "- <item>\n",
    "    - <title> : 기사 제목 \n",
    "    - <link> : 해당 기사의 URL"
   ]
  },
  {
   "cell_type": "markdown",
   "id": "8830477a",
   "metadata": {},
   "source": [
    "-> 이제 링크에 연결된 페이지에서 가져올 내용 \n",
    "본문: #container > div.w_inner > div.w_article > div.w_article_cont > div.w_article_left > div.article_cont_area > div.main_text > div"
   ]
  },
  {
   "cell_type": "markdown",
   "id": "398bd221",
   "metadata": {},
   "source": [
    "스크랩핑 시작"
   ]
  },
  {
   "cell_type": "code",
   "execution_count": 6,
   "id": "80450e65",
   "metadata": {},
   "outputs": [
    {
     "name": "stdout",
     "output_type": "stream",
     "text": [
      "<Response [200]>\n",
      "기사 개수:  29\n",
      "[<link>https://news.sbs.co.kr/news/endPage.do?news_id=N1008196431&amp;plink=RSSLINK&amp;cooper=RSSREADER</link>, <link>https://news.sbs.co.kr/news/endPage.do?news_id=N1008196388&amp;plink=RSSLINK&amp;cooper=RSSREADER</link>, <link>https://news.sbs.co.kr/news/endPage.do?news_id=N1008196381&amp;plink=RSSLINK&amp;cooper=RSSREADER</link>, <link>https://news.sbs.co.kr/news/endPage.do?news_id=N1008196382&amp;plink=RSSLINK&amp;cooper=RSSREADER</link>, <link>https://news.sbs.co.kr/news/endPage.do?news_id=N1008196136&amp;plink=RSSLINK&amp;cooper=RSSREADER</link>, <link>https://news.sbs.co.kr/news/endPage.do?news_id=N1008196115&amp;plink=RSSLINK&amp;cooper=RSSREADER</link>, <link>https://news.sbs.co.kr/news/endPage.do?news_id=N1008196046&amp;plink=RSSLINK&amp;cooper=RSSREADER</link>, <link>https://news.sbs.co.kr/news/endPage.do?news_id=N1008196045&amp;plink=RSSLINK&amp;cooper=RSSREADER</link>, <link>https://news.sbs.co.kr/news/endPage.do?news_id=N1008196044&amp;plink=RSSLINK&amp;cooper=RSSREADER</link>, <link>https://news.sbs.co.kr/news/endPage.do?news_id=N1008196043&amp;plink=RSSLINK&amp;cooper=RSSREADER</link>, <link>https://news.sbs.co.kr/news/endPage.do?news_id=N1008196036&amp;plink=RSSLINK&amp;cooper=RSSREADER</link>, <link>https://news.sbs.co.kr/news/endPage.do?news_id=N1008196035&amp;plink=RSSLINK&amp;cooper=RSSREADER</link>, <link>https://news.sbs.co.kr/news/endPage.do?news_id=N1008195966&amp;plink=RSSLINK&amp;cooper=RSSREADER</link>, <link>https://news.sbs.co.kr/news/endPage.do?news_id=N1008195852&amp;plink=RSSLINK&amp;cooper=RSSREADER</link>, <link>https://news.sbs.co.kr/news/endPage.do?news_id=N1008195783&amp;plink=RSSLINK&amp;cooper=RSSREADER</link>, <link>https://news.sbs.co.kr/news/endPage.do?news_id=N1008195782&amp;plink=RSSLINK&amp;cooper=RSSREADER</link>, <link>https://news.sbs.co.kr/news/endPage.do?news_id=N1008195781&amp;plink=RSSLINK&amp;cooper=RSSREADER</link>, <link>https://news.sbs.co.kr/news/endPage.do?news_id=N1008195780&amp;plink=RSSLINK&amp;cooper=RSSREADER</link>, <link>https://news.sbs.co.kr/news/endPage.do?news_id=N1008195779&amp;plink=RSSLINK&amp;cooper=RSSREADER</link>, <link>https://news.sbs.co.kr/news/endPage.do?news_id=N1008195819&amp;plink=RSSLINK&amp;cooper=RSSREADER</link>, <link>https://news.sbs.co.kr/news/endPage.do?news_id=N1008195818&amp;plink=RSSLINK&amp;cooper=RSSREADER</link>, <link>https://news.sbs.co.kr/news/endPage.do?news_id=N1008195812&amp;plink=RSSLINK&amp;cooper=RSSREADER</link>, <link>https://news.sbs.co.kr/news/endPage.do?news_id=N1008195809&amp;plink=RSSLINK&amp;cooper=RSSREADER</link>, <link>https://news.sbs.co.kr/news/endPage.do?news_id=N1008195594&amp;plink=RSSLINK&amp;cooper=RSSREADER</link>, <link>https://news.sbs.co.kr/news/endPage.do?news_id=N1008194921&amp;plink=RSSLINK&amp;cooper=RSSREADER</link>, <link>https://news.sbs.co.kr/news/endPage.do?news_id=N1008195404&amp;plink=RSSLINK&amp;cooper=RSSREADER</link>, <link>https://news.sbs.co.kr/news/endPage.do?news_id=N1008195397&amp;plink=RSSLINK&amp;cooper=RSSREADER</link>, <link>https://news.sbs.co.kr/news/endPage.do?news_id=N1008195150&amp;plink=RSSLINK&amp;cooper=RSSREADER</link>, <link>https://news.sbs.co.kr/news/endPage.do?news_id=N1008195079&amp;plink=RSSLINK&amp;cooper=RSSREADER</link>]\n",
      "title 개수:  29\n",
      "['LPGA 투어 이소미, 신한금융그룹과 후원 계약', '흥국생명 레베카 입국…메디컬 테스트 후 선수단 합류', '76세 베이커 감독, WBC 니카라과 대표팀 사령탑으로 복귀', 'MLB 마무리투수 클라세, 스포츠 도박 혐의로 출장 정지 처분', \"'이한범 풀타임' 미트윌란, 쇠네르위스케 꺾고 시즌 첫 승\", '\"LAFC, 손흥민 영입 협상에 진전…토트넘, 이적 허용 의향\"', \"콜슨 몽고메리, 그림 같은 '다이빙 캐치'…환상 수비\", '큰 부상 피한 안세영…\"세계선수권에 집중\"', '황선우 전체 2위로 결승행…4회 연속 메달 도전', \"KIA ↔ NC '3대 3 초대형 트레이드' 성사\", \"'LPGA 투어 데뷔전 우승' 로티 워드, 세계 랭킹 24위로 상승\", '한국 U-19 남자배구, 핀란드에 져 3연승 후 첫 패배', '양쪽 손가락 4개씩인 존스, 여자프로테니스 125 등급 대회 우승', '황선우, 전체 2위로 세계선수권 자유형 200ｍ 결승 진출', '잉글랜드, 승부차기 혈투 끝 우승…여자 유로 2연속 제패', '큰 부상 피한 안세영…\"세계선수권에 집중\"', \"400m 계주 '금빛 피날레'…희망의 바통 터치!\", \"'4회 연속 메달 도전' 시동 걸었다!\", \"KIA ↔ NC '3대 3 초대형 트레이드' 성사\", '대한체육회, 싱가포르 세계수영선수권 무대로 본격 스포츠 외교', '\\'슈퍼 1000 슬램 무산\\' 안세영 \"재정비 시간 헛되지 않을 것\"', 'KIA·NC, 최원준·김시훈 포함된 3대 3 대형 트레이드', '두산 오명진, 옆구리 근육 손상…1군 엔트리 말소', \"KPGA '투어 챔피언십', 5년간 제주 테디밸리서 개최\", \"마지막 순간 '우승 후보'의 뼈아픈 실수?…남자 계주 대표팀 새 역사 쓴 순간\", '프로야구 한화 홈구장서 간판 연결 부위 탈락…오늘 보강 시공', 'KBO, 체코 야구협회와 업무 협약…11월 두 차례 평가전', '황선우, 주종목서 4연속 메달 시동…15세 김승원, 배영 100m 준결승행', \"'2027년 충청에서 다시 만나요'…하계 유니버시아드 대회기 인수\"]\n"
     ]
    }
   ],
   "source": [
    "import requests\n",
    "from bs4 import BeautifulSoup\n",
    "news_rss = requests.get('https://news.sbs.co.kr/news/SectionRssFeed.do?sectionId=09&plink=RSSREADER')\n",
    "print(news_rss) # status check\n",
    "news_rss_soup = BeautifulSoup(news_rss.content, 'xml')\n",
    "# 링크 개수 확인 \n",
    "link_list = news_rss_soup.select('item > link')\n",
    "print(\"기사 개수: \", len(link_list))\n",
    "print(link_list)\n",
    "#제목 개수 확인, 제목 리스트 만들기 \n",
    "title_list = news_rss_soup.select('item > title')\n",
    "print(\"title 개수: \", len(title_list))\n",
    "title_list = [title.text for title in title_list] # save title on list \n",
    "print(title_list)"
   ]
  },
  {
   "cell_type": "markdown",
   "id": "fdf77dba",
   "metadata": {},
   "source": [
    "## 뉴스 본문 스크랩핑 "
   ]
  },
  {
   "cell_type": "markdown",
   "id": "eb112e66",
   "metadata": {},
   "source": [
    "#container > div.w_inner > div.w_article > div.w_article_cont > div.w_article_left > div.article_cont_area > div.main_text > div"
   ]
  },
  {
   "cell_type": "code",
   "execution_count": 7,
   "id": "9eae881b",
   "metadata": {},
   "outputs": [
    {
     "name": "stdout",
     "output_type": "stream",
     "text": [
      "Save complete\n"
     ]
    }
   ],
   "source": [
    "news_data = []\n",
    "for link in link_list:\n",
    "    news_response = requests.get(link.text)\n",
    "    news_content_soup = BeautifulSoup(news_response.content, 'html.parser')\n",
    "    news_content = news_content_soup.select_one('div.main_text > div')\n",
    "   \n",
    "    # 텍스트만 추출해서 저장 (None 처리 포함)\n",
    "    if news_content:\n",
    "        cleaned_text = news_content.get_text(separator=' ', strip=True)\n",
    "        cleaned_text = cleaned_text.replace('▲', '').strip()\n",
    "    else:\n",
    "        cleaned_text = \"\"\n",
    "        \n",
    "    news_data.append(cleaned_text)\n",
    "\n",
    "import pandas as pd\n",
    "news_df = pd.DataFrame(data={'title': title_list, 'content': news_data})\n",
    "news_df.to_csv(\"news.csv\", encoding=\"utf-8-sig\", index=False)\n",
    "print(\"Save complete\")"
   ]
  }
 ],
 "metadata": {
  "kernelspec": {
   "display_name": "webcrawl_env",
   "language": "python",
   "name": "python3"
  },
  "language_info": {
   "codemirror_mode": {
    "name": "ipython",
    "version": 3
   },
   "file_extension": ".py",
   "mimetype": "text/x-python",
   "name": "python",
   "nbconvert_exporter": "python",
   "pygments_lexer": "ipython3",
   "version": "3.10.18"
  }
 },
 "nbformat": 4,
 "nbformat_minor": 5
}
