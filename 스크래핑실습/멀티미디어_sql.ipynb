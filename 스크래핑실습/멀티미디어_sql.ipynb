{
 "cells": [
  {
   "cell_type": "code",
   "execution_count": 10,
   "id": "2a876d18",
   "metadata": {},
   "outputs": [
    {
     "name": "stdout",
     "output_type": "stream",
     "text": [
      "movie_images 테이블에 저장 완료\n"
     ]
    }
   ],
   "source": [
    "import pymysql\n",
    "import pandas as pd\n",
    "\n",
    "# DB 연결\n",
    "conn = pymysql.connect(\n",
    "    host='localhost',\n",
    "    user='root',\n",
    "    password='1234',\n",
    "    db='스크랩핑실습',\n",
    "    charset='utf8mb4'\n",
    ")\n",
    "\n",
    "cursor = conn.cursor()\n",
    "\n",
    "# 기존 테이블 삭제 (있으면)\n",
    "cursor.execute('DROP TABLE IF EXISTS movie_images')\n",
    "\n",
    "# 새 테이블 생성\n",
    "create_table_sql = '''\n",
    "CREATE TABLE movie_images (\n",
    "    id INT AUTO_INCREMENT PRIMARY KEY,\n",
    "    title TEXT,\n",
    "    image_url TEXT\n",
    ")\n",
    "'''\n",
    "cursor.execute(create_table_sql)\n",
    "conn.commit()\n",
    "\n",
    "# CSV 파일 읽기\n",
    "df = pd.read_csv('movie_images.csv')\n",
    "\n",
    "# INSERT 쿼리 정의\n",
    "insert_sql = '''\n",
    "INSERT INTO movie_images (title, image_url)\n",
    "VALUES (%s, %s)\n",
    "'''\n",
    "\n",
    "# CSV 행 삽입\n",
    "for _, row in df.iterrows():\n",
    "    title = row['title'] if pd.notna(row['title']) else ''\n",
    "    image_url = row['image_url'] if pd.notna(row['image_url']) else ''\n",
    "    cursor.execute(insert_sql, (title, image_url))\n",
    "\n",
    "conn.commit()\n",
    "print(\"movie_images 테이블에 저장 완료\")\n",
    "\n",
    "# 연결 종료\n",
    "cursor.close()\n",
    "conn.close()"
   ]
  },
  {
   "cell_type": "code",
   "execution_count": null,
   "id": "b6062aef",
   "metadata": {},
   "outputs": [],
   "source": []
  }
 ],
 "metadata": {
  "kernelspec": {
   "display_name": "webcrawl_env",
   "language": "python",
   "name": "python3"
  },
  "language_info": {
   "codemirror_mode": {
    "name": "ipython",
    "version": 3
   },
   "file_extension": ".py",
   "mimetype": "text/x-python",
   "name": "python",
   "nbconvert_exporter": "python",
   "pygments_lexer": "ipython3",
   "version": "3.10.18"
  }
 },
 "nbformat": 4,
 "nbformat_minor": 5
}
