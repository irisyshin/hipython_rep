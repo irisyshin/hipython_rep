{
 "cells": [
  {
   "cell_type": "code",
   "execution_count": 1,
   "id": "69db4d1a",
   "metadata": {},
   "outputs": [],
   "source": [
    "# 실습 2: 멀티미디어 데이터 수집하기 \n"
   ]
  },
  {
   "cell_type": "code",
   "execution_count": 2,
   "id": "df4c28c1",
   "metadata": {},
   "outputs": [
    {
     "name": "stdout",
     "output_type": "stream",
     "text": [
      "Requirement already satisfied: pillow in c:\\users\\admin\\miniconda3\\envs\\webcrawl_env\\lib\\site-packages (11.3.0)\n"
     ]
    }
   ],
   "source": [
    "! pip install pillow"
   ]
  },
  {
   "cell_type": "code",
   "execution_count": null,
   "id": "587b02e2",
   "metadata": {},
   "outputs": [
    {
     "name": "stdout",
     "output_type": "stream",
     "text": [
      "영화 정보를 출력합니다.\n",
      "수집한 영화 수: 20\n",
      "수집한 영화 이미지 수: 20\n",
      " movie_images.csv 저장 완료!\n"
     ]
    }
   ],
   "source": [
    "import requests\n",
    "from bs4 import BeautifulSoup\n",
    "from io import BytesIO\n",
    "from PIL import Image\n",
    "import re\n",
    "import os\n",
    "import pandas as pd\n",
    "from urllib.parse import urlparse, parse_qs, unquote\n",
    "\n",
    "headers = {'User-Agent': 'Mozilla/5.0'}\n",
    "\n",
    "#url: https://www.moviechart.co.kr/rank/realtime/index/image\n",
    "movie_ranking = requests.get('https://www.moviechart.co.kr/rank/realtime/index/image')\n",
    "\n",
    "# 이미지 저장할 폴더 생성 \n",
    "image_dir = 'images'\n",
    "if not os.path.exists(image_dir):\n",
    "    os.makedirs(image_dir)\n",
    "\n",
    "# 파일명애서 사용할 수 없는 문자빼기 \n",
    "pattern = r'[\\\\/:\"*?<>|]'\n",
    "\n",
    "if movie_ranking.status_code == 200:\n",
    "    print('영화 정보를 출력합니다.')\n",
    "    soup = BeautifulSoup(movie_ranking.content, 'html.parser')\n",
    "    title_list = soup.select('div.movie-title > h3 > a')\n",
    "    image_list = soup.select(' div.movieBox a > img') # > 잘 사용해서 쓰기 _ 직계\n",
    "    print(f\"수집한 영화 수: {len(title_list)}\")\n",
    "    print(f\"수집한 영화 이미지 수: {len(image_list)}\")\n",
    "\n",
    "    # 결과 저장용 리스트\n",
    "    movie_data = []\n",
    "    \n",
    "\n",
    "    for title, image in zip(title_list, image_list):\n",
    "        title_text = title.text.strip()\n",
    "        raw_src = image.get('src')\n",
    "\n",
    "        # 'source=' 뒤에 있는 원본 이미지 링크만 추출\n",
    "        if 'source=' in raw_src:\n",
    "            parsed = urlparse(raw_src)\n",
    "            real_image_url = parse_qs(parsed.query).get('source', [''])[0]\n",
    "            image_url = unquote(real_image_url)\n",
    "        else:\n",
    "            image_url = raw_src if raw_src.startswith('http') else 'https://www.moviechart.co.kr' + raw_src\n",
    "\n",
    "        movie_data.append({\n",
    "            'title': title_text,\n",
    "            'image_url': image_url  # 원본 이미지 주소만 CSV에 기록\n",
    "        })\n",
    "\n",
    "    # CSV 저장 (이미지 저장은 안 함)\n",
    "    df = pd.DataFrame(movie_data)\n",
    "    df.to_csv(\"movie_images.csv\", encoding=\"utf-8-sig\", index=False)\n",
    "    print(\" movie_images.csv 저장 완료!\")\n",
    "\n",
    "else:\n",
    "    print(\" 페이지 요청 실패\")"
   ]
  },
  {
   "cell_type": "code",
   "execution_count": null,
   "id": "4fce8ac7",
   "metadata": {},
   "outputs": [],
   "source": []
  }
 ],
 "metadata": {
  "kernelspec": {
   "display_name": "webcrawl_env",
   "language": "python",
   "name": "python3"
  },
  "language_info": {
   "codemirror_mode": {
    "name": "ipython",
    "version": 3
   },
   "file_extension": ".py",
   "mimetype": "text/x-python",
   "name": "python",
   "nbconvert_exporter": "python",
   "pygments_lexer": "ipython3",
   "version": "3.10.18"
  }
 },
 "nbformat": 4,
 "nbformat_minor": 5
}
